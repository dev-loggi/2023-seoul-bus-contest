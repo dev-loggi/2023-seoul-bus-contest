{
 "cells": [
  {
   "cell_type": "code",
   "execution_count": 1,
   "metadata": {
    "collapsed": true
   },
   "outputs": [],
   "source": [
    "import os\n",
    "import pandas as pd"
   ]
  },
  {
   "cell_type": "code",
   "execution_count": 20,
   "outputs": [],
   "source": [
    "def get_combined_dataframe(file_name, keys):\n",
    "    date = (('2022', '09'), ('2022', '10'), ('2022', '11'), ('2022', '12'), ('2023', '01'), ('2023', '02'))\n",
    "    df = None\n",
    "\n",
    "    for year, month in date:\n",
    "        path = f'../../data/서울교통수단이동/{year}{month}/'\n",
    "\n",
    "        for dir_ in os.listdir(path):\n",
    "            file_path = f'{path}{dir_}/{file_name}'\n",
    "            df2 = pd.read_csv(file_path, on_bad_lines='skip')\n",
    "\n",
    "            if df is None:\n",
    "                df = df2\n",
    "            else:\n",
    "                df = pd.concat([df, df2], axis=0)\n",
    "\n",
    "            df.drop_duplicates(subset=keys, keep='last', ignore_index=True, inplace=True)\n",
    "\n",
    "    return df"
   ],
   "metadata": {
    "collapsed": false
   }
  },
  {
   "cell_type": "markdown",
   "source": [
    "# 1) TBIS_MS_ROUTE 통합"
   ],
   "metadata": {
    "collapsed": false
   }
  },
  {
   "cell_type": "code",
   "execution_count": 3,
   "outputs": [
    {
     "data": {
      "text/plain": "       ROUTE_ID     ROUTE_NM ROUTE_TY  DSTNC\n0     200000289     3002예약수원       경기    0.0\n1     200000290     3007예약수원       경기    0.0\n2     200000295    M5443예약수원       경기    0.0\n3     200000296     5100예약수원       경기    0.0\n4     200000297     8800예약수원       경기    0.0\n...         ...          ...      ...    ...\n1224  241461015        김포16A       경기    0.0\n1225  222000209     M2352남양주       경기    0.0\n1226  233000355  P9110(출근)화성       경기    0.0\n1227  233000356  P9110(퇴근)화성       경기    0.0\n1228  234001709  P9243(출근)광주       경기    0.0\n\n[1229 rows x 4 columns]",
      "text/html": "<div>\n<style scoped>\n    .dataframe tbody tr th:only-of-type {\n        vertical-align: middle;\n    }\n\n    .dataframe tbody tr th {\n        vertical-align: top;\n    }\n\n    .dataframe thead th {\n        text-align: right;\n    }\n</style>\n<table border=\"1\" class=\"dataframe\">\n  <thead>\n    <tr style=\"text-align: right;\">\n      <th></th>\n      <th>ROUTE_ID</th>\n      <th>ROUTE_NM</th>\n      <th>ROUTE_TY</th>\n      <th>DSTNC</th>\n    </tr>\n  </thead>\n  <tbody>\n    <tr>\n      <th>0</th>\n      <td>200000289</td>\n      <td>3002예약수원</td>\n      <td>경기</td>\n      <td>0.0</td>\n    </tr>\n    <tr>\n      <th>1</th>\n      <td>200000290</td>\n      <td>3007예약수원</td>\n      <td>경기</td>\n      <td>0.0</td>\n    </tr>\n    <tr>\n      <th>2</th>\n      <td>200000295</td>\n      <td>M5443예약수원</td>\n      <td>경기</td>\n      <td>0.0</td>\n    </tr>\n    <tr>\n      <th>3</th>\n      <td>200000296</td>\n      <td>5100예약수원</td>\n      <td>경기</td>\n      <td>0.0</td>\n    </tr>\n    <tr>\n      <th>4</th>\n      <td>200000297</td>\n      <td>8800예약수원</td>\n      <td>경기</td>\n      <td>0.0</td>\n    </tr>\n    <tr>\n      <th>...</th>\n      <td>...</td>\n      <td>...</td>\n      <td>...</td>\n      <td>...</td>\n    </tr>\n    <tr>\n      <th>1224</th>\n      <td>241461015</td>\n      <td>김포16A</td>\n      <td>경기</td>\n      <td>0.0</td>\n    </tr>\n    <tr>\n      <th>1225</th>\n      <td>222000209</td>\n      <td>M2352남양주</td>\n      <td>경기</td>\n      <td>0.0</td>\n    </tr>\n    <tr>\n      <th>1226</th>\n      <td>233000355</td>\n      <td>P9110(출근)화성</td>\n      <td>경기</td>\n      <td>0.0</td>\n    </tr>\n    <tr>\n      <th>1227</th>\n      <td>233000356</td>\n      <td>P9110(퇴근)화성</td>\n      <td>경기</td>\n      <td>0.0</td>\n    </tr>\n    <tr>\n      <th>1228</th>\n      <td>234001709</td>\n      <td>P9243(출근)광주</td>\n      <td>경기</td>\n      <td>0.0</td>\n    </tr>\n  </tbody>\n</table>\n<p>1229 rows × 4 columns</p>\n</div>"
     },
     "execution_count": 3,
     "metadata": {},
     "output_type": "execute_result"
    }
   ],
   "source": [
    "route = pd.read_csv('../../data/서울교통수단이동/202209/TR202100010001_00/TBIS_MS_ROUTE.csv')\n",
    "route"
   ],
   "metadata": {
    "collapsed": false
   }
  },
  {
   "cell_type": "code",
   "execution_count": 29,
   "outputs": [
    {
     "data": {
      "text/plain": "       ROUTE_ID  ROUTE_NM ROUTE_TY  DSTNC\n0     219000008      55고양       경기    0.0\n1     100900004      종로07       마을    4.2\n2     123000002      6600       공항    0.0\n3     110900001      노원04       마을    9.0\n4     241003070    7500고양       경기    0.0\n...         ...       ...      ...    ...\n1247  165000215   M6405인천       인천    0.0\n1248  228000262    5006용인       경기    0.0\n1249  229000013      17파주       경기    0.0\n1250  234000324  1550-1광주       경기    0.0\n1251  213000009      39광명       경기    0.0\n\n[1252 rows x 4 columns]",
      "text/html": "<div>\n<style scoped>\n    .dataframe tbody tr th:only-of-type {\n        vertical-align: middle;\n    }\n\n    .dataframe tbody tr th {\n        vertical-align: top;\n    }\n\n    .dataframe thead th {\n        text-align: right;\n    }\n</style>\n<table border=\"1\" class=\"dataframe\">\n  <thead>\n    <tr style=\"text-align: right;\">\n      <th></th>\n      <th>ROUTE_ID</th>\n      <th>ROUTE_NM</th>\n      <th>ROUTE_TY</th>\n      <th>DSTNC</th>\n    </tr>\n  </thead>\n  <tbody>\n    <tr>\n      <th>0</th>\n      <td>219000008</td>\n      <td>55고양</td>\n      <td>경기</td>\n      <td>0.0</td>\n    </tr>\n    <tr>\n      <th>1</th>\n      <td>100900004</td>\n      <td>종로07</td>\n      <td>마을</td>\n      <td>4.2</td>\n    </tr>\n    <tr>\n      <th>2</th>\n      <td>123000002</td>\n      <td>6600</td>\n      <td>공항</td>\n      <td>0.0</td>\n    </tr>\n    <tr>\n      <th>3</th>\n      <td>110900001</td>\n      <td>노원04</td>\n      <td>마을</td>\n      <td>9.0</td>\n    </tr>\n    <tr>\n      <th>4</th>\n      <td>241003070</td>\n      <td>7500고양</td>\n      <td>경기</td>\n      <td>0.0</td>\n    </tr>\n    <tr>\n      <th>...</th>\n      <td>...</td>\n      <td>...</td>\n      <td>...</td>\n      <td>...</td>\n    </tr>\n    <tr>\n      <th>1247</th>\n      <td>165000215</td>\n      <td>M6405인천</td>\n      <td>인천</td>\n      <td>0.0</td>\n    </tr>\n    <tr>\n      <th>1248</th>\n      <td>228000262</td>\n      <td>5006용인</td>\n      <td>경기</td>\n      <td>0.0</td>\n    </tr>\n    <tr>\n      <th>1249</th>\n      <td>229000013</td>\n      <td>17파주</td>\n      <td>경기</td>\n      <td>0.0</td>\n    </tr>\n    <tr>\n      <th>1250</th>\n      <td>234000324</td>\n      <td>1550-1광주</td>\n      <td>경기</td>\n      <td>0.0</td>\n    </tr>\n    <tr>\n      <th>1251</th>\n      <td>213000009</td>\n      <td>39광명</td>\n      <td>경기</td>\n      <td>0.0</td>\n    </tr>\n  </tbody>\n</table>\n<p>1252 rows × 4 columns</p>\n</div>"
     },
     "execution_count": 29,
     "metadata": {},
     "output_type": "execute_result"
    }
   ],
   "source": [
    "route_master = get_combined_dataframe('TBIS_MS_ROUTE.csv', keys='ROUTE_ID')\n",
    "route_master"
   ],
   "metadata": {
    "collapsed": false
   }
  },
  {
   "cell_type": "code",
   "execution_count": 10,
   "outputs": [],
   "source": [
    "route_master.to_csv('bus_route_master.csv', index=False)"
   ],
   "metadata": {
    "collapsed": false
   }
  },
  {
   "cell_type": "markdown",
   "source": [
    "# 2) TBIS_MS_STTN 통합"
   ],
   "metadata": {
    "collapsed": false
   }
  },
  {
   "cell_type": "code",
   "execution_count": 5,
   "outputs": [
    {
     "name": "stderr",
     "output_type": "stream",
     "text": [
      "b'Skipping line 14424: expected 7 fields, saw 8\\nSkipping line 31842: expected 7 fields, saw 8\\n'\n"
     ]
    },
    {
     "data": {
      "text/plain": "     STTN_ID   STTN_NM STTN_TY  STTN_NO     CRDNT_X    CRDNT_Y BIT_INSTL_AT\n0  164000621    달빛축제공원    일반차로  38621.0  126.630347  37.400547          미설치\n1  164000623   e편한세상후문    일반차로  32063.0  126.618124  37.408392          미설치\n2  164000624  재능대송도캠퍼스    일반차로  38622.0  126.660781  37.367194          미설치\n3  164000625  재능대송도캠퍼스    일반차로  38623.0  126.660566  37.367038          미설치\n4  164000626  e편한세상 정문    일반차로  38624.0  126.616301  37.410865          미설치",
      "text/html": "<div>\n<style scoped>\n    .dataframe tbody tr th:only-of-type {\n        vertical-align: middle;\n    }\n\n    .dataframe tbody tr th {\n        vertical-align: top;\n    }\n\n    .dataframe thead th {\n        text-align: right;\n    }\n</style>\n<table border=\"1\" class=\"dataframe\">\n  <thead>\n    <tr style=\"text-align: right;\">\n      <th></th>\n      <th>STTN_ID</th>\n      <th>STTN_NM</th>\n      <th>STTN_TY</th>\n      <th>STTN_NO</th>\n      <th>CRDNT_X</th>\n      <th>CRDNT_Y</th>\n      <th>BIT_INSTL_AT</th>\n    </tr>\n  </thead>\n  <tbody>\n    <tr>\n      <th>0</th>\n      <td>164000621</td>\n      <td>달빛축제공원</td>\n      <td>일반차로</td>\n      <td>38621.0</td>\n      <td>126.630347</td>\n      <td>37.400547</td>\n      <td>미설치</td>\n    </tr>\n    <tr>\n      <th>1</th>\n      <td>164000623</td>\n      <td>e편한세상후문</td>\n      <td>일반차로</td>\n      <td>32063.0</td>\n      <td>126.618124</td>\n      <td>37.408392</td>\n      <td>미설치</td>\n    </tr>\n    <tr>\n      <th>2</th>\n      <td>164000624</td>\n      <td>재능대송도캠퍼스</td>\n      <td>일반차로</td>\n      <td>38622.0</td>\n      <td>126.660781</td>\n      <td>37.367194</td>\n      <td>미설치</td>\n    </tr>\n    <tr>\n      <th>3</th>\n      <td>164000625</td>\n      <td>재능대송도캠퍼스</td>\n      <td>일반차로</td>\n      <td>38623.0</td>\n      <td>126.660566</td>\n      <td>37.367038</td>\n      <td>미설치</td>\n    </tr>\n    <tr>\n      <th>4</th>\n      <td>164000626</td>\n      <td>e편한세상 정문</td>\n      <td>일반차로</td>\n      <td>38624.0</td>\n      <td>126.616301</td>\n      <td>37.410865</td>\n      <td>미설치</td>\n    </tr>\n  </tbody>\n</table>\n</div>"
     },
     "metadata": {},
     "output_type": "display_data"
    },
    {
     "data": {
      "text/plain": "(70039, 7)"
     },
     "metadata": {},
     "output_type": "display_data"
    }
   ],
   "source": [
    "station_sample = pd.read_csv('../../data/서울교통수단이동/202209/TR202100010001_00/TBIS_MS_STTN.csv', on_bad_lines='warn')\n",
    "display(station_sample.head())\n",
    "display(station_sample.shape)"
   ],
   "metadata": {
    "collapsed": false
   }
  },
  {
   "cell_type": "code",
   "execution_count": 6,
   "outputs": [
    {
     "data": {
      "text/plain": "         STTN_ID     STTN_NM STTN_TY  STTN_NO     CRDNT_X    CRDNT_Y  \\\n0      104000305     광진구보훈회관    일반차로   5298.0  127.107723  37.547735   \n1      123000598  한강공원잠실대교남단    일반차로  24509.0  127.094707  37.520004   \n2      123000308     제일은행건너편    일반차로  24399.0  127.118580  37.496389   \n3      121900285     농협하나로마트    마을버스  22341.0  127.044354  37.463921   \n4      213900244     철산우성아파트    마을버스  38076.0  126.867410  37.489826   \n...          ...         ...     ...      ...         ...        ...   \n70441  234000316    고산1리.허산리    일반차로  38209.0  127.242114  37.381224   \n70442  234000315  오포도서관.오포농협    일반차로  38178.0  127.231914  37.369356   \n70443  234000314      오포읍사무소    일반차로  38533.0  127.231729  37.366752   \n70444  234000313        풍산목재    일반차로  38163.0  127.226235  37.360592   \n70445  234000260   파라다이스아파트앞    일반차로  38908.0  127.254916  37.418612   \n\n      BIT_INSTL_AT  \n0              미설치  \n1              미설치  \n2              미설치  \n3              미설치  \n4              미설치  \n...            ...  \n70441          미설치  \n70442          미설치  \n70443          미설치  \n70444          미설치  \n70445          미설치  \n\n[70446 rows x 7 columns]",
      "text/html": "<div>\n<style scoped>\n    .dataframe tbody tr th:only-of-type {\n        vertical-align: middle;\n    }\n\n    .dataframe tbody tr th {\n        vertical-align: top;\n    }\n\n    .dataframe thead th {\n        text-align: right;\n    }\n</style>\n<table border=\"1\" class=\"dataframe\">\n  <thead>\n    <tr style=\"text-align: right;\">\n      <th></th>\n      <th>STTN_ID</th>\n      <th>STTN_NM</th>\n      <th>STTN_TY</th>\n      <th>STTN_NO</th>\n      <th>CRDNT_X</th>\n      <th>CRDNT_Y</th>\n      <th>BIT_INSTL_AT</th>\n    </tr>\n  </thead>\n  <tbody>\n    <tr>\n      <th>0</th>\n      <td>104000305</td>\n      <td>광진구보훈회관</td>\n      <td>일반차로</td>\n      <td>5298.0</td>\n      <td>127.107723</td>\n      <td>37.547735</td>\n      <td>미설치</td>\n    </tr>\n    <tr>\n      <th>1</th>\n      <td>123000598</td>\n      <td>한강공원잠실대교남단</td>\n      <td>일반차로</td>\n      <td>24509.0</td>\n      <td>127.094707</td>\n      <td>37.520004</td>\n      <td>미설치</td>\n    </tr>\n    <tr>\n      <th>2</th>\n      <td>123000308</td>\n      <td>제일은행건너편</td>\n      <td>일반차로</td>\n      <td>24399.0</td>\n      <td>127.118580</td>\n      <td>37.496389</td>\n      <td>미설치</td>\n    </tr>\n    <tr>\n      <th>3</th>\n      <td>121900285</td>\n      <td>농협하나로마트</td>\n      <td>마을버스</td>\n      <td>22341.0</td>\n      <td>127.044354</td>\n      <td>37.463921</td>\n      <td>미설치</td>\n    </tr>\n    <tr>\n      <th>4</th>\n      <td>213900244</td>\n      <td>철산우성아파트</td>\n      <td>마을버스</td>\n      <td>38076.0</td>\n      <td>126.867410</td>\n      <td>37.489826</td>\n      <td>미설치</td>\n    </tr>\n    <tr>\n      <th>...</th>\n      <td>...</td>\n      <td>...</td>\n      <td>...</td>\n      <td>...</td>\n      <td>...</td>\n      <td>...</td>\n      <td>...</td>\n    </tr>\n    <tr>\n      <th>70441</th>\n      <td>234000316</td>\n      <td>고산1리.허산리</td>\n      <td>일반차로</td>\n      <td>38209.0</td>\n      <td>127.242114</td>\n      <td>37.381224</td>\n      <td>미설치</td>\n    </tr>\n    <tr>\n      <th>70442</th>\n      <td>234000315</td>\n      <td>오포도서관.오포농협</td>\n      <td>일반차로</td>\n      <td>38178.0</td>\n      <td>127.231914</td>\n      <td>37.369356</td>\n      <td>미설치</td>\n    </tr>\n    <tr>\n      <th>70443</th>\n      <td>234000314</td>\n      <td>오포읍사무소</td>\n      <td>일반차로</td>\n      <td>38533.0</td>\n      <td>127.231729</td>\n      <td>37.366752</td>\n      <td>미설치</td>\n    </tr>\n    <tr>\n      <th>70444</th>\n      <td>234000313</td>\n      <td>풍산목재</td>\n      <td>일반차로</td>\n      <td>38163.0</td>\n      <td>127.226235</td>\n      <td>37.360592</td>\n      <td>미설치</td>\n    </tr>\n    <tr>\n      <th>70445</th>\n      <td>234000260</td>\n      <td>파라다이스아파트앞</td>\n      <td>일반차로</td>\n      <td>38908.0</td>\n      <td>127.254916</td>\n      <td>37.418612</td>\n      <td>미설치</td>\n    </tr>\n  </tbody>\n</table>\n<p>70446 rows × 7 columns</p>\n</div>"
     },
     "execution_count": 6,
     "metadata": {},
     "output_type": "execute_result"
    }
   ],
   "source": [
    "station_master = get_combined_dataframe('TBIS_MS_STTN.csv', keys='STTN_ID')\n",
    "station_master"
   ],
   "metadata": {
    "collapsed": false
   }
  },
  {
   "cell_type": "code",
   "execution_count": 13,
   "outputs": [],
   "source": [
    "station_master.to_csv('bus_station_master.csv', index=False)"
   ],
   "metadata": {
    "collapsed": false
   }
  },
  {
   "cell_type": "markdown",
   "source": [
    "# 3) TBIS_MS_ROUTE_NODE 통합"
   ],
   "metadata": {
    "collapsed": false
   }
  },
  {
   "cell_type": "code",
   "execution_count": 7,
   "outputs": [
    {
     "data": {
      "text/plain": "        ROUTE_ID    STTN_ID  LINK_DSTNC_ACMTL  STTN_SN\n0      212000003  211000277               490        6\n1      212000003  211000271               480        7\n2      212000003  211000031               550        8\n3      212000003  211000030               360        9\n4      212000003  211000029               250       10\n...          ...        ...               ...      ...\n83588  100100039  222001568               560      129\n83589  100100039  222001650               405      130\n83590  112900015  112900003                 0        1\n83591  112900015  112900170               291        2\n83592  112900015  112900168                93        3\n\n[83593 rows x 4 columns]",
      "text/html": "<div>\n<style scoped>\n    .dataframe tbody tr th:only-of-type {\n        vertical-align: middle;\n    }\n\n    .dataframe tbody tr th {\n        vertical-align: top;\n    }\n\n    .dataframe thead th {\n        text-align: right;\n    }\n</style>\n<table border=\"1\" class=\"dataframe\">\n  <thead>\n    <tr style=\"text-align: right;\">\n      <th></th>\n      <th>ROUTE_ID</th>\n      <th>STTN_ID</th>\n      <th>LINK_DSTNC_ACMTL</th>\n      <th>STTN_SN</th>\n    </tr>\n  </thead>\n  <tbody>\n    <tr>\n      <th>0</th>\n      <td>212000003</td>\n      <td>211000277</td>\n      <td>490</td>\n      <td>6</td>\n    </tr>\n    <tr>\n      <th>1</th>\n      <td>212000003</td>\n      <td>211000271</td>\n      <td>480</td>\n      <td>7</td>\n    </tr>\n    <tr>\n      <th>2</th>\n      <td>212000003</td>\n      <td>211000031</td>\n      <td>550</td>\n      <td>8</td>\n    </tr>\n    <tr>\n      <th>3</th>\n      <td>212000003</td>\n      <td>211000030</td>\n      <td>360</td>\n      <td>9</td>\n    </tr>\n    <tr>\n      <th>4</th>\n      <td>212000003</td>\n      <td>211000029</td>\n      <td>250</td>\n      <td>10</td>\n    </tr>\n    <tr>\n      <th>...</th>\n      <td>...</td>\n      <td>...</td>\n      <td>...</td>\n      <td>...</td>\n    </tr>\n    <tr>\n      <th>83588</th>\n      <td>100100039</td>\n      <td>222001568</td>\n      <td>560</td>\n      <td>129</td>\n    </tr>\n    <tr>\n      <th>83589</th>\n      <td>100100039</td>\n      <td>222001650</td>\n      <td>405</td>\n      <td>130</td>\n    </tr>\n    <tr>\n      <th>83590</th>\n      <td>112900015</td>\n      <td>112900003</td>\n      <td>0</td>\n      <td>1</td>\n    </tr>\n    <tr>\n      <th>83591</th>\n      <td>112900015</td>\n      <td>112900170</td>\n      <td>291</td>\n      <td>2</td>\n    </tr>\n    <tr>\n      <th>83592</th>\n      <td>112900015</td>\n      <td>112900168</td>\n      <td>93</td>\n      <td>3</td>\n    </tr>\n  </tbody>\n</table>\n<p>83593 rows × 4 columns</p>\n</div>"
     },
     "execution_count": 7,
     "metadata": {},
     "output_type": "execute_result"
    }
   ],
   "source": [
    "route_node = pd.read_csv('../../data/서울교통수단이동/202209/TR202100010001_00/TBIS_MS_ROUTE_NODE.csv')\n",
    "route_node"
   ],
   "metadata": {
    "collapsed": false
   }
  },
  {
   "cell_type": "code",
   "execution_count": 23,
   "outputs": [
    {
     "data": {
      "text/plain": "(1228, 24096)"
     },
     "execution_count": 23,
     "metadata": {},
     "output_type": "execute_result"
    }
   ],
   "source": [
    "len(route_node['ROUTE_ID'].unique()), len(route_node['STTN_ID'].unique())"
   ],
   "metadata": {
    "collapsed": false
   }
  },
  {
   "cell_type": "code",
   "execution_count": 8,
   "outputs": [
    {
     "data": {
      "text/plain": "        ROUTE_ID    STTN_ID  LINK_DSTNC_ACMTL  STTN_SN\n0      100100412  274109991               0.0       64\n1      100100412  274109998               0.0        3\n2      100100412  274110129               0.0        4\n3      100100412  161000376               0.0        5\n4      100100509  161000329            6897.0       26\n...          ...        ...               ...      ...\n85343  100100076  117000080             858.0       83\n85344  100100076  117000082             219.0       84\n85345  100100068  122000246               0.0        1\n85346  100100068  122000249             373.0        2\n85347  100100068  122000250             210.0        3\n\n[85348 rows x 4 columns]",
      "text/html": "<div>\n<style scoped>\n    .dataframe tbody tr th:only-of-type {\n        vertical-align: middle;\n    }\n\n    .dataframe tbody tr th {\n        vertical-align: top;\n    }\n\n    .dataframe thead th {\n        text-align: right;\n    }\n</style>\n<table border=\"1\" class=\"dataframe\">\n  <thead>\n    <tr style=\"text-align: right;\">\n      <th></th>\n      <th>ROUTE_ID</th>\n      <th>STTN_ID</th>\n      <th>LINK_DSTNC_ACMTL</th>\n      <th>STTN_SN</th>\n    </tr>\n  </thead>\n  <tbody>\n    <tr>\n      <th>0</th>\n      <td>100100412</td>\n      <td>274109991</td>\n      <td>0.0</td>\n      <td>64</td>\n    </tr>\n    <tr>\n      <th>1</th>\n      <td>100100412</td>\n      <td>274109998</td>\n      <td>0.0</td>\n      <td>3</td>\n    </tr>\n    <tr>\n      <th>2</th>\n      <td>100100412</td>\n      <td>274110129</td>\n      <td>0.0</td>\n      <td>4</td>\n    </tr>\n    <tr>\n      <th>3</th>\n      <td>100100412</td>\n      <td>161000376</td>\n      <td>0.0</td>\n      <td>5</td>\n    </tr>\n    <tr>\n      <th>4</th>\n      <td>100100509</td>\n      <td>161000329</td>\n      <td>6897.0</td>\n      <td>26</td>\n    </tr>\n    <tr>\n      <th>...</th>\n      <td>...</td>\n      <td>...</td>\n      <td>...</td>\n      <td>...</td>\n    </tr>\n    <tr>\n      <th>85343</th>\n      <td>100100076</td>\n      <td>117000080</td>\n      <td>858.0</td>\n      <td>83</td>\n    </tr>\n    <tr>\n      <th>85344</th>\n      <td>100100076</td>\n      <td>117000082</td>\n      <td>219.0</td>\n      <td>84</td>\n    </tr>\n    <tr>\n      <th>85345</th>\n      <td>100100068</td>\n      <td>122000246</td>\n      <td>0.0</td>\n      <td>1</td>\n    </tr>\n    <tr>\n      <th>85346</th>\n      <td>100100068</td>\n      <td>122000249</td>\n      <td>373.0</td>\n      <td>2</td>\n    </tr>\n    <tr>\n      <th>85347</th>\n      <td>100100068</td>\n      <td>122000250</td>\n      <td>210.0</td>\n      <td>3</td>\n    </tr>\n  </tbody>\n</table>\n<p>85348 rows × 4 columns</p>\n</div>"
     },
     "execution_count": 8,
     "metadata": {},
     "output_type": "execute_result"
    }
   ],
   "source": [
    "node_master = get_combined_dataframe('TBIS_MS_ROUTE_NODE.csv', keys=['ROUTE_ID', 'STTN_ID'])\n",
    "node_master"
   ],
   "metadata": {
    "collapsed": false
   }
  },
  {
   "cell_type": "code",
   "execution_count": 16,
   "outputs": [],
   "source": [
    "node_master.to_csv('bus_station_node_master.csv', index=False)"
   ],
   "metadata": {
    "collapsed": false
   }
  },
  {
   "cell_type": "markdown",
   "source": [
    "# 4) 통합 master"
   ],
   "metadata": {
    "collapsed": false
   }
  },
  {
   "cell_type": "code",
   "execution_count": 9,
   "outputs": [
    {
     "data": {
      "text/plain": "        ROUTE_ID ROUTE_NM ROUTE_TY  STTN_SN    STTN_ID  STTN_NO  \\\n0      100100412     6001       공항       64  274109991  35998.0   \n1      100100509     6020       공항       28  274109991  35998.0   \n2      100100506     6006       공항       33  274109991  35998.0   \n3      100100419     6012       공항       29  274109991  35998.0   \n4      100100418     6011       공항       30  274109991  35998.0   \n...          ...      ...      ...      ...        ...      ...   \n85323  100100078      503       간선       24  116000622  17221.0   \n85324  100100078      503       간선       25  116000621  17222.0   \n85325  100100155     1140       지선       48  110000242  11343.0   \n85326  108900012     강북12       마을        5  108900240   9908.0   \n85327  108900012     강북12       마을        6  108900241   9909.0   \n\n                 STTN_NM STTN_TY  LINK_DSTNC_ACMTL  DSTNC BIT_INSTL_AT  \\\n0      공항출국장4.입구장진입6(경유)   가상정류장               0.0  146.0          미설치   \n1      공항출국장4.입구장진입6(경유)   가상정류장            3174.0  143.0          미설치   \n2      공항출국장4.입구장진입6(경유)   가상정류장            3174.0  178.7          미설치   \n3      공항출국장4.입구장진입6(경유)   가상정류장            3174.0  141.0          미설치   \n4      공항출국장4.입구장진입6(경유)   가상정류장            3174.0  160.0          미설치   \n...                  ...     ...               ...    ...          ...   \n85323           우리유엔미아파트    일반차로             370.0   45.0           설치   \n85324          쌍용구로정비사업소    일반차로             311.0   45.0           설치   \n85325               장석교회    일반차로             292.0   15.9           설치   \n85326           삼성래미안아파트    마을버스             299.0    5.7          미설치   \n85327              성우아파트    마을버스             442.0    5.7          미설치   \n\n          CRDNT_X    CRDNT_Y  \n0      126.458731  37.448257  \n1      126.458731  37.448257  \n2      126.458731  37.448257  \n3      126.458731  37.448257  \n4      126.458731  37.448257  \n...           ...        ...  \n85323  126.882639  37.497047  \n85324  126.882579  37.499838  \n85325  127.050707  37.624066  \n85326  127.021055  37.614495  \n85327  127.021799  37.617410  \n\n[85328 rows x 13 columns]",
      "text/html": "<div>\n<style scoped>\n    .dataframe tbody tr th:only-of-type {\n        vertical-align: middle;\n    }\n\n    .dataframe tbody tr th {\n        vertical-align: top;\n    }\n\n    .dataframe thead th {\n        text-align: right;\n    }\n</style>\n<table border=\"1\" class=\"dataframe\">\n  <thead>\n    <tr style=\"text-align: right;\">\n      <th></th>\n      <th>ROUTE_ID</th>\n      <th>ROUTE_NM</th>\n      <th>ROUTE_TY</th>\n      <th>STTN_SN</th>\n      <th>STTN_ID</th>\n      <th>STTN_NO</th>\n      <th>STTN_NM</th>\n      <th>STTN_TY</th>\n      <th>LINK_DSTNC_ACMTL</th>\n      <th>DSTNC</th>\n      <th>BIT_INSTL_AT</th>\n      <th>CRDNT_X</th>\n      <th>CRDNT_Y</th>\n    </tr>\n  </thead>\n  <tbody>\n    <tr>\n      <th>0</th>\n      <td>100100412</td>\n      <td>6001</td>\n      <td>공항</td>\n      <td>64</td>\n      <td>274109991</td>\n      <td>35998.0</td>\n      <td>공항출국장4.입구장진입6(경유)</td>\n      <td>가상정류장</td>\n      <td>0.0</td>\n      <td>146.0</td>\n      <td>미설치</td>\n      <td>126.458731</td>\n      <td>37.448257</td>\n    </tr>\n    <tr>\n      <th>1</th>\n      <td>100100509</td>\n      <td>6020</td>\n      <td>공항</td>\n      <td>28</td>\n      <td>274109991</td>\n      <td>35998.0</td>\n      <td>공항출국장4.입구장진입6(경유)</td>\n      <td>가상정류장</td>\n      <td>3174.0</td>\n      <td>143.0</td>\n      <td>미설치</td>\n      <td>126.458731</td>\n      <td>37.448257</td>\n    </tr>\n    <tr>\n      <th>2</th>\n      <td>100100506</td>\n      <td>6006</td>\n      <td>공항</td>\n      <td>33</td>\n      <td>274109991</td>\n      <td>35998.0</td>\n      <td>공항출국장4.입구장진입6(경유)</td>\n      <td>가상정류장</td>\n      <td>3174.0</td>\n      <td>178.7</td>\n      <td>미설치</td>\n      <td>126.458731</td>\n      <td>37.448257</td>\n    </tr>\n    <tr>\n      <th>3</th>\n      <td>100100419</td>\n      <td>6012</td>\n      <td>공항</td>\n      <td>29</td>\n      <td>274109991</td>\n      <td>35998.0</td>\n      <td>공항출국장4.입구장진입6(경유)</td>\n      <td>가상정류장</td>\n      <td>3174.0</td>\n      <td>141.0</td>\n      <td>미설치</td>\n      <td>126.458731</td>\n      <td>37.448257</td>\n    </tr>\n    <tr>\n      <th>4</th>\n      <td>100100418</td>\n      <td>6011</td>\n      <td>공항</td>\n      <td>30</td>\n      <td>274109991</td>\n      <td>35998.0</td>\n      <td>공항출국장4.입구장진입6(경유)</td>\n      <td>가상정류장</td>\n      <td>3174.0</td>\n      <td>160.0</td>\n      <td>미설치</td>\n      <td>126.458731</td>\n      <td>37.448257</td>\n    </tr>\n    <tr>\n      <th>...</th>\n      <td>...</td>\n      <td>...</td>\n      <td>...</td>\n      <td>...</td>\n      <td>...</td>\n      <td>...</td>\n      <td>...</td>\n      <td>...</td>\n      <td>...</td>\n      <td>...</td>\n      <td>...</td>\n      <td>...</td>\n      <td>...</td>\n    </tr>\n    <tr>\n      <th>85323</th>\n      <td>100100078</td>\n      <td>503</td>\n      <td>간선</td>\n      <td>24</td>\n      <td>116000622</td>\n      <td>17221.0</td>\n      <td>우리유엔미아파트</td>\n      <td>일반차로</td>\n      <td>370.0</td>\n      <td>45.0</td>\n      <td>설치</td>\n      <td>126.882639</td>\n      <td>37.497047</td>\n    </tr>\n    <tr>\n      <th>85324</th>\n      <td>100100078</td>\n      <td>503</td>\n      <td>간선</td>\n      <td>25</td>\n      <td>116000621</td>\n      <td>17222.0</td>\n      <td>쌍용구로정비사업소</td>\n      <td>일반차로</td>\n      <td>311.0</td>\n      <td>45.0</td>\n      <td>설치</td>\n      <td>126.882579</td>\n      <td>37.499838</td>\n    </tr>\n    <tr>\n      <th>85325</th>\n      <td>100100155</td>\n      <td>1140</td>\n      <td>지선</td>\n      <td>48</td>\n      <td>110000242</td>\n      <td>11343.0</td>\n      <td>장석교회</td>\n      <td>일반차로</td>\n      <td>292.0</td>\n      <td>15.9</td>\n      <td>설치</td>\n      <td>127.050707</td>\n      <td>37.624066</td>\n    </tr>\n    <tr>\n      <th>85326</th>\n      <td>108900012</td>\n      <td>강북12</td>\n      <td>마을</td>\n      <td>5</td>\n      <td>108900240</td>\n      <td>9908.0</td>\n      <td>삼성래미안아파트</td>\n      <td>마을버스</td>\n      <td>299.0</td>\n      <td>5.7</td>\n      <td>미설치</td>\n      <td>127.021055</td>\n      <td>37.614495</td>\n    </tr>\n    <tr>\n      <th>85327</th>\n      <td>108900012</td>\n      <td>강북12</td>\n      <td>마을</td>\n      <td>6</td>\n      <td>108900241</td>\n      <td>9909.0</td>\n      <td>성우아파트</td>\n      <td>마을버스</td>\n      <td>442.0</td>\n      <td>5.7</td>\n      <td>미설치</td>\n      <td>127.021799</td>\n      <td>37.617410</td>\n    </tr>\n  </tbody>\n</table>\n<p>85328 rows × 13 columns</p>\n</div>"
     },
     "execution_count": 9,
     "metadata": {},
     "output_type": "execute_result"
    }
   ],
   "source": [
    "bus_master = node_master\n",
    "bus_master = pd.merge(bus_master, route_master, on='ROUTE_ID')\n",
    "bus_master = pd.merge(bus_master, station_master, on='STTN_ID')\n",
    "bus_master = bus_master.loc[:, ['ROUTE_ID', 'ROUTE_NM', 'ROUTE_TY',\n",
    "                                'STTN_SN', 'STTN_ID', 'STTN_NO', 'STTN_NM', 'STTN_TY',\n",
    "                                'LINK_DSTNC_ACMTL', 'DSTNC', 'BIT_INSTL_AT',\n",
    "                                'CRDNT_X', 'CRDNT_Y']]\n",
    "bus_master"
   ],
   "metadata": {
    "collapsed": false
   }
  },
  {
   "cell_type": "code",
   "execution_count": 18,
   "outputs": [],
   "source": [
    "bus_master.to_csv('bus_master.csv', index=False)"
   ],
   "metadata": {
    "collapsed": false
   }
  },
  {
   "cell_type": "markdown",
   "source": [
    "---"
   ],
   "metadata": {
    "collapsed": false
   }
  },
  {
   "cell_type": "markdown",
   "source": [
    "# 00) Test"
   ],
   "metadata": {
    "collapsed": false
   }
  },
  {
   "cell_type": "code",
   "execution_count": 16,
   "outputs": [
    {
     "data": {
      "text/plain": "(70446, 24485)"
     },
     "execution_count": 16,
     "metadata": {},
     "output_type": "execute_result"
    }
   ],
   "source": [
    "len(station_master['STTN_ID'].unique()), len(bus_master['STTN_ID'].unique())"
   ],
   "metadata": {
    "collapsed": false
   }
  },
  {
   "cell_type": "code",
   "execution_count": 27,
   "outputs": [
    {
     "data": {
      "text/plain": "         STTN_ID     STTN_NM STTN_TY  STTN_NO     CRDNT_X    CRDNT_Y  \\\n0      104000305     광진구보훈회관    일반차로   5298.0  127.107723  37.547735   \n1      123000598  한강공원잠실대교남단    일반차로  24509.0  127.094707  37.520004   \n2      123000308     제일은행건너편    일반차로  24399.0  127.118580  37.496389   \n3      121900285     농협하나로마트    마을버스  22341.0  127.044354  37.463921   \n4      213900244     철산우성아파트    마을버스  38076.0  126.867410  37.489826   \n...          ...         ...     ...      ...         ...        ...   \n70441  234000316    고산1리.허산리    일반차로  38209.0  127.242114  37.381224   \n70442  234000315  오포도서관.오포농협    일반차로  38178.0  127.231914  37.369356   \n70443  234000314      오포읍사무소    일반차로  38533.0  127.231729  37.366752   \n70444  234000313        풍산목재    일반차로  38163.0  127.226235  37.360592   \n70445  234000260   파라다이스아파트앞    일반차로  38908.0  127.254916  37.418612   \n\n      BIT_INSTL_AT  \n0              미설치  \n1              미설치  \n2              미설치  \n3              미설치  \n4              미설치  \n...            ...  \n70441          미설치  \n70442          미설치  \n70443          미설치  \n70444          미설치  \n70445          미설치  \n\n[70446 rows x 7 columns]",
      "text/html": "<div>\n<style scoped>\n    .dataframe tbody tr th:only-of-type {\n        vertical-align: middle;\n    }\n\n    .dataframe tbody tr th {\n        vertical-align: top;\n    }\n\n    .dataframe thead th {\n        text-align: right;\n    }\n</style>\n<table border=\"1\" class=\"dataframe\">\n  <thead>\n    <tr style=\"text-align: right;\">\n      <th></th>\n      <th>STTN_ID</th>\n      <th>STTN_NM</th>\n      <th>STTN_TY</th>\n      <th>STTN_NO</th>\n      <th>CRDNT_X</th>\n      <th>CRDNT_Y</th>\n      <th>BIT_INSTL_AT</th>\n    </tr>\n  </thead>\n  <tbody>\n    <tr>\n      <th>0</th>\n      <td>104000305</td>\n      <td>광진구보훈회관</td>\n      <td>일반차로</td>\n      <td>5298.0</td>\n      <td>127.107723</td>\n      <td>37.547735</td>\n      <td>미설치</td>\n    </tr>\n    <tr>\n      <th>1</th>\n      <td>123000598</td>\n      <td>한강공원잠실대교남단</td>\n      <td>일반차로</td>\n      <td>24509.0</td>\n      <td>127.094707</td>\n      <td>37.520004</td>\n      <td>미설치</td>\n    </tr>\n    <tr>\n      <th>2</th>\n      <td>123000308</td>\n      <td>제일은행건너편</td>\n      <td>일반차로</td>\n      <td>24399.0</td>\n      <td>127.118580</td>\n      <td>37.496389</td>\n      <td>미설치</td>\n    </tr>\n    <tr>\n      <th>3</th>\n      <td>121900285</td>\n      <td>농협하나로마트</td>\n      <td>마을버스</td>\n      <td>22341.0</td>\n      <td>127.044354</td>\n      <td>37.463921</td>\n      <td>미설치</td>\n    </tr>\n    <tr>\n      <th>4</th>\n      <td>213900244</td>\n      <td>철산우성아파트</td>\n      <td>마을버스</td>\n      <td>38076.0</td>\n      <td>126.867410</td>\n      <td>37.489826</td>\n      <td>미설치</td>\n    </tr>\n    <tr>\n      <th>...</th>\n      <td>...</td>\n      <td>...</td>\n      <td>...</td>\n      <td>...</td>\n      <td>...</td>\n      <td>...</td>\n      <td>...</td>\n    </tr>\n    <tr>\n      <th>70441</th>\n      <td>234000316</td>\n      <td>고산1리.허산리</td>\n      <td>일반차로</td>\n      <td>38209.0</td>\n      <td>127.242114</td>\n      <td>37.381224</td>\n      <td>미설치</td>\n    </tr>\n    <tr>\n      <th>70442</th>\n      <td>234000315</td>\n      <td>오포도서관.오포농협</td>\n      <td>일반차로</td>\n      <td>38178.0</td>\n      <td>127.231914</td>\n      <td>37.369356</td>\n      <td>미설치</td>\n    </tr>\n    <tr>\n      <th>70443</th>\n      <td>234000314</td>\n      <td>오포읍사무소</td>\n      <td>일반차로</td>\n      <td>38533.0</td>\n      <td>127.231729</td>\n      <td>37.366752</td>\n      <td>미설치</td>\n    </tr>\n    <tr>\n      <th>70444</th>\n      <td>234000313</td>\n      <td>풍산목재</td>\n      <td>일반차로</td>\n      <td>38163.0</td>\n      <td>127.226235</td>\n      <td>37.360592</td>\n      <td>미설치</td>\n    </tr>\n    <tr>\n      <th>70445</th>\n      <td>234000260</td>\n      <td>파라다이스아파트앞</td>\n      <td>일반차로</td>\n      <td>38908.0</td>\n      <td>127.254916</td>\n      <td>37.418612</td>\n      <td>미설치</td>\n    </tr>\n  </tbody>\n</table>\n<p>70446 rows × 7 columns</p>\n</div>"
     },
     "execution_count": 27,
     "metadata": {},
     "output_type": "execute_result"
    }
   ],
   "source": [
    "temp1 = station_master.copy()\n",
    "temp1"
   ],
   "metadata": {
    "collapsed": false
   }
  },
  {
   "cell_type": "code",
   "execution_count": 28,
   "outputs": [
    {
     "data": {
      "text/plain": "      ROUTE_ID ROUTE_NM ROUTE_TY  value\n0    100100006      101       간선     82\n1    100100007      102       간선     67\n2    100100008      103       간선     70\n3    100100009      104       간선     65\n4    100100010      105       간선     86\n..         ...      ...      ...    ...\n369  124000008     7719       지선     28\n370  124000010     8331       지선     14\n371  124000036      345       간선     86\n372  124000038      342       간선    108\n373  124000039     3323       지선     46\n\n[374 rows x 4 columns]",
      "text/html": "<div>\n<style scoped>\n    .dataframe tbody tr th:only-of-type {\n        vertical-align: middle;\n    }\n\n    .dataframe tbody tr th {\n        vertical-align: top;\n    }\n\n    .dataframe thead th {\n        text-align: right;\n    }\n</style>\n<table border=\"1\" class=\"dataframe\">\n  <thead>\n    <tr style=\"text-align: right;\">\n      <th></th>\n      <th>ROUTE_ID</th>\n      <th>ROUTE_NM</th>\n      <th>ROUTE_TY</th>\n      <th>value</th>\n    </tr>\n  </thead>\n  <tbody>\n    <tr>\n      <th>0</th>\n      <td>100100006</td>\n      <td>101</td>\n      <td>간선</td>\n      <td>82</td>\n    </tr>\n    <tr>\n      <th>1</th>\n      <td>100100007</td>\n      <td>102</td>\n      <td>간선</td>\n      <td>67</td>\n    </tr>\n    <tr>\n      <th>2</th>\n      <td>100100008</td>\n      <td>103</td>\n      <td>간선</td>\n      <td>70</td>\n    </tr>\n    <tr>\n      <th>3</th>\n      <td>100100009</td>\n      <td>104</td>\n      <td>간선</td>\n      <td>65</td>\n    </tr>\n    <tr>\n      <th>4</th>\n      <td>100100010</td>\n      <td>105</td>\n      <td>간선</td>\n      <td>86</td>\n    </tr>\n    <tr>\n      <th>...</th>\n      <td>...</td>\n      <td>...</td>\n      <td>...</td>\n      <td>...</td>\n    </tr>\n    <tr>\n      <th>369</th>\n      <td>124000008</td>\n      <td>7719</td>\n      <td>지선</td>\n      <td>28</td>\n    </tr>\n    <tr>\n      <th>370</th>\n      <td>124000010</td>\n      <td>8331</td>\n      <td>지선</td>\n      <td>14</td>\n    </tr>\n    <tr>\n      <th>371</th>\n      <td>124000036</td>\n      <td>345</td>\n      <td>간선</td>\n      <td>86</td>\n    </tr>\n    <tr>\n      <th>372</th>\n      <td>124000038</td>\n      <td>342</td>\n      <td>간선</td>\n      <td>108</td>\n    </tr>\n    <tr>\n      <th>373</th>\n      <td>124000039</td>\n      <td>3323</td>\n      <td>지선</td>\n      <td>46</td>\n    </tr>\n  </tbody>\n</table>\n<p>374 rows × 4 columns</p>\n</div>"
     },
     "execution_count": 28,
     "metadata": {},
     "output_type": "execute_result"
    }
   ],
   "source": [
    "temp2 = bus_master.copy()\n",
    "temp2 = temp2.loc[temp2['ROUTE_TY'].isin(['지선', '간선'])]\n",
    "temp2['value'] = 1\n",
    "temp2 = temp2.groupby(by=['ROUTE_ID', 'ROUTE_NM', 'ROUTE_TY'], as_index=False)['value'].sum()\n",
    "temp2"
   ],
   "metadata": {
    "collapsed": false
   }
  },
  {
   "cell_type": "code",
   "execution_count": 10,
   "outputs": [
    {
     "data": {
      "text/plain": "        ROUTE_ID ROUTE_NM ROUTE_TY  STTN_SN    STTN_ID  STTN_NO  \\\n55343  100100248     5012       지선        1  117000130  18216.0   \n55346  100100248     5012       지선        2  117000320  18101.0   \n55349  100100248     5012       지선        4  117000019  18105.0   \n55353  100100248     5012       지선        5  117000023  18109.0   \n55358  100100248     5012       지선        6  117000021  18107.0   \n...          ...      ...      ...      ...        ...      ...   \n55616  100100248     5012       지선       98  117000020  18106.0   \n55621  100100248     5012       지선       99  117000135  18223.0   \n55623  100100248     5012       지선      100  117000136  18224.0   \n55625  100100248     5012       지선      101  117000928  17159.0   \n55628  100100248     5012       지선      102  117000131  18217.0   \n\n               STTN_NM STTN_TY  LINK_DSTNC_ACMTL  DSTNC BIT_INSTL_AT  \\\n55343            가산동기점    일반차로               0.0   45.0          미설치   \n55346        한일유엔아이아파트    일반차로              79.0   45.0           설치   \n55349        디지털3단지운동장    일반차로             343.0   45.0          미설치   \n55353  디지털3단지.(주)로옴코리아    일반차로             395.0   45.0          미설치   \n55358         가산디지털단지역    일반차로             250.0   45.0           설치   \n...                ...     ...               ...    ...          ...   \n55616         가산디지털단지역    일반차로             408.0   45.0          미설치   \n55621  디지털3단지.가산비즈니스센터    일반차로             293.0   45.0           설치   \n55623        디지털3단지운동장    일반차로             408.0   45.0          미설치   \n55625        한일유앤아이아파트    일반차로             432.0   45.0          미설치   \n55628            가산동종점    일반차로             354.0   45.0          미설치   \n\n          CRDNT_X    CRDNT_Y  \n55343  126.875255  37.485227  \n55346  126.876226  37.485459  \n55349  126.877893  37.482163  \n55353  126.879973  37.479474  \n55358  126.881481  37.480804  \n...           ...        ...  \n55616  126.881081  37.481102  \n55621  126.879899  37.479626  \n55623  126.878059  37.482357  \n55625  126.876035  37.485646  \n55628  126.874971  37.485170  \n\n[101 rows x 13 columns]",
      "text/html": "<div>\n<style scoped>\n    .dataframe tbody tr th:only-of-type {\n        vertical-align: middle;\n    }\n\n    .dataframe tbody tr th {\n        vertical-align: top;\n    }\n\n    .dataframe thead th {\n        text-align: right;\n    }\n</style>\n<table border=\"1\" class=\"dataframe\">\n  <thead>\n    <tr style=\"text-align: right;\">\n      <th></th>\n      <th>ROUTE_ID</th>\n      <th>ROUTE_NM</th>\n      <th>ROUTE_TY</th>\n      <th>STTN_SN</th>\n      <th>STTN_ID</th>\n      <th>STTN_NO</th>\n      <th>STTN_NM</th>\n      <th>STTN_TY</th>\n      <th>LINK_DSTNC_ACMTL</th>\n      <th>DSTNC</th>\n      <th>BIT_INSTL_AT</th>\n      <th>CRDNT_X</th>\n      <th>CRDNT_Y</th>\n    </tr>\n  </thead>\n  <tbody>\n    <tr>\n      <th>55343</th>\n      <td>100100248</td>\n      <td>5012</td>\n      <td>지선</td>\n      <td>1</td>\n      <td>117000130</td>\n      <td>18216.0</td>\n      <td>가산동기점</td>\n      <td>일반차로</td>\n      <td>0.0</td>\n      <td>45.0</td>\n      <td>미설치</td>\n      <td>126.875255</td>\n      <td>37.485227</td>\n    </tr>\n    <tr>\n      <th>55346</th>\n      <td>100100248</td>\n      <td>5012</td>\n      <td>지선</td>\n      <td>2</td>\n      <td>117000320</td>\n      <td>18101.0</td>\n      <td>한일유엔아이아파트</td>\n      <td>일반차로</td>\n      <td>79.0</td>\n      <td>45.0</td>\n      <td>설치</td>\n      <td>126.876226</td>\n      <td>37.485459</td>\n    </tr>\n    <tr>\n      <th>55349</th>\n      <td>100100248</td>\n      <td>5012</td>\n      <td>지선</td>\n      <td>4</td>\n      <td>117000019</td>\n      <td>18105.0</td>\n      <td>디지털3단지운동장</td>\n      <td>일반차로</td>\n      <td>343.0</td>\n      <td>45.0</td>\n      <td>미설치</td>\n      <td>126.877893</td>\n      <td>37.482163</td>\n    </tr>\n    <tr>\n      <th>55353</th>\n      <td>100100248</td>\n      <td>5012</td>\n      <td>지선</td>\n      <td>5</td>\n      <td>117000023</td>\n      <td>18109.0</td>\n      <td>디지털3단지.(주)로옴코리아</td>\n      <td>일반차로</td>\n      <td>395.0</td>\n      <td>45.0</td>\n      <td>미설치</td>\n      <td>126.879973</td>\n      <td>37.479474</td>\n    </tr>\n    <tr>\n      <th>55358</th>\n      <td>100100248</td>\n      <td>5012</td>\n      <td>지선</td>\n      <td>6</td>\n      <td>117000021</td>\n      <td>18107.0</td>\n      <td>가산디지털단지역</td>\n      <td>일반차로</td>\n      <td>250.0</td>\n      <td>45.0</td>\n      <td>설치</td>\n      <td>126.881481</td>\n      <td>37.480804</td>\n    </tr>\n    <tr>\n      <th>...</th>\n      <td>...</td>\n      <td>...</td>\n      <td>...</td>\n      <td>...</td>\n      <td>...</td>\n      <td>...</td>\n      <td>...</td>\n      <td>...</td>\n      <td>...</td>\n      <td>...</td>\n      <td>...</td>\n      <td>...</td>\n      <td>...</td>\n    </tr>\n    <tr>\n      <th>55616</th>\n      <td>100100248</td>\n      <td>5012</td>\n      <td>지선</td>\n      <td>98</td>\n      <td>117000020</td>\n      <td>18106.0</td>\n      <td>가산디지털단지역</td>\n      <td>일반차로</td>\n      <td>408.0</td>\n      <td>45.0</td>\n      <td>미설치</td>\n      <td>126.881081</td>\n      <td>37.481102</td>\n    </tr>\n    <tr>\n      <th>55621</th>\n      <td>100100248</td>\n      <td>5012</td>\n      <td>지선</td>\n      <td>99</td>\n      <td>117000135</td>\n      <td>18223.0</td>\n      <td>디지털3단지.가산비즈니스센터</td>\n      <td>일반차로</td>\n      <td>293.0</td>\n      <td>45.0</td>\n      <td>설치</td>\n      <td>126.879899</td>\n      <td>37.479626</td>\n    </tr>\n    <tr>\n      <th>55623</th>\n      <td>100100248</td>\n      <td>5012</td>\n      <td>지선</td>\n      <td>100</td>\n      <td>117000136</td>\n      <td>18224.0</td>\n      <td>디지털3단지운동장</td>\n      <td>일반차로</td>\n      <td>408.0</td>\n      <td>45.0</td>\n      <td>미설치</td>\n      <td>126.878059</td>\n      <td>37.482357</td>\n    </tr>\n    <tr>\n      <th>55625</th>\n      <td>100100248</td>\n      <td>5012</td>\n      <td>지선</td>\n      <td>101</td>\n      <td>117000928</td>\n      <td>17159.0</td>\n      <td>한일유앤아이아파트</td>\n      <td>일반차로</td>\n      <td>432.0</td>\n      <td>45.0</td>\n      <td>미설치</td>\n      <td>126.876035</td>\n      <td>37.485646</td>\n    </tr>\n    <tr>\n      <th>55628</th>\n      <td>100100248</td>\n      <td>5012</td>\n      <td>지선</td>\n      <td>102</td>\n      <td>117000131</td>\n      <td>18217.0</td>\n      <td>가산동종점</td>\n      <td>일반차로</td>\n      <td>354.0</td>\n      <td>45.0</td>\n      <td>미설치</td>\n      <td>126.874971</td>\n      <td>37.485170</td>\n    </tr>\n  </tbody>\n</table>\n<p>101 rows × 13 columns</p>\n</div>"
     },
     "execution_count": 10,
     "metadata": {},
     "output_type": "execute_result"
    }
   ],
   "source": [
    "bus_master.loc[bus_master['ROUTE_NM'] == '5012'].sort_values(by='STTN_SN')"
   ],
   "metadata": {
    "collapsed": false
   }
  },
  {
   "cell_type": "code",
   "execution_count": 102,
   "outputs": [
    {
     "data": {
      "text/plain": "46946.0"
     },
     "execution_count": 102,
     "metadata": {},
     "output_type": "execute_result"
    }
   ],
   "source": [
    "bus_master.loc[bus_master['ROUTE_NM'] == '5012', 'LINK_DSTNC_ACMTL'].sum()"
   ],
   "metadata": {
    "collapsed": false
   }
  }
 ],
 "metadata": {
  "kernelspec": {
   "display_name": "Python 3",
   "language": "python",
   "name": "python3"
  },
  "language_info": {
   "codemirror_mode": {
    "name": "ipython",
    "version": 2
   },
   "file_extension": ".py",
   "mimetype": "text/x-python",
   "name": "python",
   "nbconvert_exporter": "python",
   "pygments_lexer": "ipython2",
   "version": "2.7.6"
  }
 },
 "nbformat": 4,
 "nbformat_minor": 0
}
