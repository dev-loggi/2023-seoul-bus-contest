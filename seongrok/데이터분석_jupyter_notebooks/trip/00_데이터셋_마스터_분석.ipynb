{
 "cells": [
  {
   "cell_type": "markdown",
   "source": [
    "# 데이터셋 마스터 분석\n",
    "\n",
    "- 노선마스터 ([출처](https://data.seoul.go.kr/dataList/OA-21230/S/1/datasetView.do))\n",
    "- 정류장마스터 ([출처](https://data.seoul.go.kr/dataList/OA-21231/S/1/datasetView.do))\n",
    "- 노선정류장마스터 ([출처](https://data.seoul.go.kr/dataList/OA-21233/S/1/datasetView.do))"
   ],
   "metadata": {
    "collapsed": false
   }
  },
  {
   "cell_type": "code",
   "execution_count": 1,
   "metadata": {
    "collapsed": true
   },
   "outputs": [],
   "source": [
    "import numpy as np\n",
    "import pandas as pd"
   ]
  },
  {
   "cell_type": "markdown",
   "source": [
    "# 1) 데이터 로딩"
   ],
   "metadata": {
    "collapsed": false
   }
  },
  {
   "cell_type": "code",
   "execution_count": 4,
   "outputs": [
    {
     "data": {
      "text/plain": "       노선_ID      노선_명칭 노선_유형   거리\n0  241461015      김포16A    경기  0.0\n1  241461005     김포16-1    경기  0.0\n2  241461002       김포16    경기  0.0\n3  241449011  양주15-1구파발    경기  0.0\n4  241449007   양주15-1막차    경기  0.0",
      "text/html": "<div>\n<style scoped>\n    .dataframe tbody tr th:only-of-type {\n        vertical-align: middle;\n    }\n\n    .dataframe tbody tr th {\n        vertical-align: top;\n    }\n\n    .dataframe thead th {\n        text-align: right;\n    }\n</style>\n<table border=\"1\" class=\"dataframe\">\n  <thead>\n    <tr style=\"text-align: right;\">\n      <th></th>\n      <th>노선_ID</th>\n      <th>노선_명칭</th>\n      <th>노선_유형</th>\n      <th>거리</th>\n    </tr>\n  </thead>\n  <tbody>\n    <tr>\n      <th>0</th>\n      <td>241461015</td>\n      <td>김포16A</td>\n      <td>경기</td>\n      <td>0.0</td>\n    </tr>\n    <tr>\n      <th>1</th>\n      <td>241461005</td>\n      <td>김포16-1</td>\n      <td>경기</td>\n      <td>0.0</td>\n    </tr>\n    <tr>\n      <th>2</th>\n      <td>241461002</td>\n      <td>김포16</td>\n      <td>경기</td>\n      <td>0.0</td>\n    </tr>\n    <tr>\n      <th>3</th>\n      <td>241449011</td>\n      <td>양주15-1구파발</td>\n      <td>경기</td>\n      <td>0.0</td>\n    </tr>\n    <tr>\n      <th>4</th>\n      <td>241449007</td>\n      <td>양주15-1막차</td>\n      <td>경기</td>\n      <td>0.0</td>\n    </tr>\n  </tbody>\n</table>\n</div>"
     },
     "metadata": {},
     "output_type": "display_data"
    },
    {
     "name": "stdout",
     "output_type": "stream",
     "text": [
      "shape: (1274, 4)\n",
      "유형: ['경기' '인천' '마을' '지선' '간선' '공항' '광역' '순환' '관광']\n"
     ]
    }
   ],
   "source": [
    "route_master = pd.read_csv('../../data/서울교통수단이동/master/서울시노선마스터.csv', encoding='cp949')\n",
    "display(route_master.head())\n",
    "print('shape:', route_master.shape)\n",
    "print('유형:', route_master['노선_유형'].unique())"
   ],
   "metadata": {
    "collapsed": false
   }
  },
  {
   "cell_type": "code",
   "execution_count": 7,
   "outputs": [
    {
     "data": {
      "text/plain": "      정류장_ID     정류장_명칭 정류장_유형   정류장_번호          위도         경도 버스도착정보안내기_설치_여부\n0  717104358  계수사거리(경유)  가상정류장      0.0  126.817473  37.452473           미설치  \n1  500000288      행사장입구   마을버스  25965.0  126.691556  37.321742           미설치  \n2  500000287      행사장입구   마을버스  25095.0  126.691728  37.321942           미설치  \n3  500000286      아남중전기   일반차로  25963.0  126.710485  37.319934           미설치  \n4  500000285         3Z   일반차로  25964.0  126.707130  37.320566           미설치  ",
      "text/html": "<div>\n<style scoped>\n    .dataframe tbody tr th:only-of-type {\n        vertical-align: middle;\n    }\n\n    .dataframe tbody tr th {\n        vertical-align: top;\n    }\n\n    .dataframe thead th {\n        text-align: right;\n    }\n</style>\n<table border=\"1\" class=\"dataframe\">\n  <thead>\n    <tr style=\"text-align: right;\">\n      <th></th>\n      <th>정류장_ID</th>\n      <th>정류장_명칭</th>\n      <th>정류장_유형</th>\n      <th>정류장_번호</th>\n      <th>위도</th>\n      <th>경도</th>\n      <th>버스도착정보안내기_설치_여부</th>\n    </tr>\n  </thead>\n  <tbody>\n    <tr>\n      <th>0</th>\n      <td>717104358</td>\n      <td>계수사거리(경유)</td>\n      <td>가상정류장</td>\n      <td>0.0</td>\n      <td>126.817473</td>\n      <td>37.452473</td>\n      <td>미설치</td>\n    </tr>\n    <tr>\n      <th>1</th>\n      <td>500000288</td>\n      <td>행사장입구</td>\n      <td>마을버스</td>\n      <td>25965.0</td>\n      <td>126.691556</td>\n      <td>37.321742</td>\n      <td>미설치</td>\n    </tr>\n    <tr>\n      <th>2</th>\n      <td>500000287</td>\n      <td>행사장입구</td>\n      <td>마을버스</td>\n      <td>25095.0</td>\n      <td>126.691728</td>\n      <td>37.321942</td>\n      <td>미설치</td>\n    </tr>\n    <tr>\n      <th>3</th>\n      <td>500000286</td>\n      <td>아남중전기</td>\n      <td>일반차로</td>\n      <td>25963.0</td>\n      <td>126.710485</td>\n      <td>37.319934</td>\n      <td>미설치</td>\n    </tr>\n    <tr>\n      <th>4</th>\n      <td>500000285</td>\n      <td>3Z</td>\n      <td>일반차로</td>\n      <td>25964.0</td>\n      <td>126.707130</td>\n      <td>37.320566</td>\n      <td>미설치</td>\n    </tr>\n  </tbody>\n</table>\n</div>"
     },
     "metadata": {},
     "output_type": "display_data"
    },
    {
     "name": "stdout",
     "output_type": "stream",
     "text": [
      "shape: (70855, 7)\n"
     ]
    }
   ],
   "source": [
    "station_master = pd.read_csv('../../data/서울교통수단이동/master/서울시정류장마스터.csv', encoding='cp949')\n",
    "display(station_master.head())\n",
    "print('shape:', station_master.shape)"
   ],
   "metadata": {
    "collapsed": false
   }
  },
  {
   "cell_type": "code",
   "execution_count": 10,
   "outputs": [
    {
     "data": {
      "text/plain": "       노선_ID     정류장_ID  링크_구간거리(m)  정류장_순서\n0  241461015  232000857       193.0       3\n1  241461015  232000856       203.0      18\n2  241461015  232000855       123.0       2\n3  241461015  232000854       177.0      19\n4  241461015  232000853         0.0       1",
      "text/html": "<div>\n<style scoped>\n    .dataframe tbody tr th:only-of-type {\n        vertical-align: middle;\n    }\n\n    .dataframe tbody tr th {\n        vertical-align: top;\n    }\n\n    .dataframe thead th {\n        text-align: right;\n    }\n</style>\n<table border=\"1\" class=\"dataframe\">\n  <thead>\n    <tr style=\"text-align: right;\">\n      <th></th>\n      <th>노선_ID</th>\n      <th>정류장_ID</th>\n      <th>링크_구간거리(m)</th>\n      <th>정류장_순서</th>\n    </tr>\n  </thead>\n  <tbody>\n    <tr>\n      <th>0</th>\n      <td>241461015</td>\n      <td>232000857</td>\n      <td>193.0</td>\n      <td>3</td>\n    </tr>\n    <tr>\n      <th>1</th>\n      <td>241461015</td>\n      <td>232000856</td>\n      <td>203.0</td>\n      <td>18</td>\n    </tr>\n    <tr>\n      <th>2</th>\n      <td>241461015</td>\n      <td>232000855</td>\n      <td>123.0</td>\n      <td>2</td>\n    </tr>\n    <tr>\n      <th>3</th>\n      <td>241461015</td>\n      <td>232000854</td>\n      <td>177.0</td>\n      <td>19</td>\n    </tr>\n    <tr>\n      <th>4</th>\n      <td>241461015</td>\n      <td>232000853</td>\n      <td>0.0</td>\n      <td>1</td>\n    </tr>\n  </tbody>\n</table>\n</div>"
     },
     "metadata": {},
     "output_type": "display_data"
    },
    {
     "name": "stdout",
     "output_type": "stream",
     "text": [
      "shape: (118180, 4)\n"
     ]
    }
   ],
   "source": [
    "route_station_master = pd.read_csv('../../data/서울교통수단이동/master/서울시노선정류장마스터.csv', encoding='cp949')\n",
    "display(route_station_master.head())\n",
    "print('shape:', route_station_master.shape)"
   ],
   "metadata": {
    "collapsed": false
   }
  },
  {
   "cell_type": "markdown",
   "source": [
    "# 2) 분석"
   ],
   "metadata": {
    "collapsed": false
   }
  },
  {
   "cell_type": "code",
   "execution_count": 5,
   "outputs": [
    {
     "data": {
      "text/plain": "          노선_ID 노선_명칭 노선_유형    거리\n1253  100100022   143    간선  62.2",
      "text/html": "<div>\n<style scoped>\n    .dataframe tbody tr th:only-of-type {\n        vertical-align: middle;\n    }\n\n    .dataframe tbody tr th {\n        vertical-align: top;\n    }\n\n    .dataframe thead th {\n        text-align: right;\n    }\n</style>\n<table border=\"1\" class=\"dataframe\">\n  <thead>\n    <tr style=\"text-align: right;\">\n      <th></th>\n      <th>노선_ID</th>\n      <th>노선_명칭</th>\n      <th>노선_유형</th>\n      <th>거리</th>\n    </tr>\n  </thead>\n  <tbody>\n    <tr>\n      <th>1253</th>\n      <td>100100022</td>\n      <td>143</td>\n      <td>간선</td>\n      <td>62.2</td>\n    </tr>\n  </tbody>\n</table>\n</div>"
     },
     "execution_count": 5,
     "metadata": {},
     "output_type": "execute_result"
    }
   ],
   "source": [
    "route_master.loc[route_master['노선_명칭'] == '143']"
   ],
   "metadata": {
    "collapsed": false
   }
  },
  {
   "cell_type": "code",
   "execution_count": 17,
   "outputs": [
    {
     "data": {
      "text/plain": "         노선_ID     정류장_ID  링크_구간거리(m)  정류장_순서          정류장_명칭 정류장_유형  정류장_번호  \\\n0    100100022  107000071         0.0       1         정릉산장아파트   일반차로  8161.0   \n1    100100022  107000073       532.0       2    정릉4동주민센터.경국사   일반차로  8163.0   \n2    100100022  107000518       210.0       3     북한산보국문역2번출구   일반차로  8408.0   \n3    100100022  107000075        95.0       4  성북청수도서관.정릉4동성당   일반차로  8165.0   \n4    100100022  107000077       371.0       5          정릉시장입구   일반차로  8167.0   \n..         ...        ...         ...     ...             ...    ...     ...   \n171  100100022  107000074       233.0     114    정릉4동주민센터.경국사   일반차로  8164.0   \n172  100100022  107000072       461.0     111         정릉대우아파트   일반차로  8162.0   \n173  100100022  107000072       548.0     115         정릉대우아파트   일반차로  8162.0   \n174  100100022  107000246       342.0     112         대진여객차고지   일반차로  8344.0   \n175  100100022  107000246       342.0     116         대진여객차고지   일반차로  8344.0   \n\n             위도         경도 버스도착정보안내기_설치_여부  \n0    127.002805  37.616889           미설치    \n1    127.006248  37.613523           설치     \n2    127.007986  37.612294           설치     \n3    127.008419  37.611570           설치     \n4    127.009821  37.608465           설치     \n..          ...        ...             ...  \n171  127.006451  37.613510           설치     \n172  127.003860  37.616708           설치     \n173  127.003860  37.616708           설치     \n174  127.000797  37.617689           미설치    \n175  127.000797  37.617689           미설치    \n\n[176 rows x 10 columns]",
      "text/html": "<div>\n<style scoped>\n    .dataframe tbody tr th:only-of-type {\n        vertical-align: middle;\n    }\n\n    .dataframe tbody tr th {\n        vertical-align: top;\n    }\n\n    .dataframe thead th {\n        text-align: right;\n    }\n</style>\n<table border=\"1\" class=\"dataframe\">\n  <thead>\n    <tr style=\"text-align: right;\">\n      <th></th>\n      <th>노선_ID</th>\n      <th>정류장_ID</th>\n      <th>링크_구간거리(m)</th>\n      <th>정류장_순서</th>\n      <th>정류장_명칭</th>\n      <th>정류장_유형</th>\n      <th>정류장_번호</th>\n      <th>위도</th>\n      <th>경도</th>\n      <th>버스도착정보안내기_설치_여부</th>\n    </tr>\n  </thead>\n  <tbody>\n    <tr>\n      <th>0</th>\n      <td>100100022</td>\n      <td>107000071</td>\n      <td>0.0</td>\n      <td>1</td>\n      <td>정릉산장아파트</td>\n      <td>일반차로</td>\n      <td>8161.0</td>\n      <td>127.002805</td>\n      <td>37.616889</td>\n      <td>미설치</td>\n    </tr>\n    <tr>\n      <th>1</th>\n      <td>100100022</td>\n      <td>107000073</td>\n      <td>532.0</td>\n      <td>2</td>\n      <td>정릉4동주민센터.경국사</td>\n      <td>일반차로</td>\n      <td>8163.0</td>\n      <td>127.006248</td>\n      <td>37.613523</td>\n      <td>설치</td>\n    </tr>\n    <tr>\n      <th>2</th>\n      <td>100100022</td>\n      <td>107000518</td>\n      <td>210.0</td>\n      <td>3</td>\n      <td>북한산보국문역2번출구</td>\n      <td>일반차로</td>\n      <td>8408.0</td>\n      <td>127.007986</td>\n      <td>37.612294</td>\n      <td>설치</td>\n    </tr>\n    <tr>\n      <th>3</th>\n      <td>100100022</td>\n      <td>107000075</td>\n      <td>95.0</td>\n      <td>4</td>\n      <td>성북청수도서관.정릉4동성당</td>\n      <td>일반차로</td>\n      <td>8165.0</td>\n      <td>127.008419</td>\n      <td>37.611570</td>\n      <td>설치</td>\n    </tr>\n    <tr>\n      <th>4</th>\n      <td>100100022</td>\n      <td>107000077</td>\n      <td>371.0</td>\n      <td>5</td>\n      <td>정릉시장입구</td>\n      <td>일반차로</td>\n      <td>8167.0</td>\n      <td>127.009821</td>\n      <td>37.608465</td>\n      <td>설치</td>\n    </tr>\n    <tr>\n      <th>...</th>\n      <td>...</td>\n      <td>...</td>\n      <td>...</td>\n      <td>...</td>\n      <td>...</td>\n      <td>...</td>\n      <td>...</td>\n      <td>...</td>\n      <td>...</td>\n      <td>...</td>\n    </tr>\n    <tr>\n      <th>171</th>\n      <td>100100022</td>\n      <td>107000074</td>\n      <td>233.0</td>\n      <td>114</td>\n      <td>정릉4동주민센터.경국사</td>\n      <td>일반차로</td>\n      <td>8164.0</td>\n      <td>127.006451</td>\n      <td>37.613510</td>\n      <td>설치</td>\n    </tr>\n    <tr>\n      <th>172</th>\n      <td>100100022</td>\n      <td>107000072</td>\n      <td>461.0</td>\n      <td>111</td>\n      <td>정릉대우아파트</td>\n      <td>일반차로</td>\n      <td>8162.0</td>\n      <td>127.003860</td>\n      <td>37.616708</td>\n      <td>설치</td>\n    </tr>\n    <tr>\n      <th>173</th>\n      <td>100100022</td>\n      <td>107000072</td>\n      <td>548.0</td>\n      <td>115</td>\n      <td>정릉대우아파트</td>\n      <td>일반차로</td>\n      <td>8162.0</td>\n      <td>127.003860</td>\n      <td>37.616708</td>\n      <td>설치</td>\n    </tr>\n    <tr>\n      <th>174</th>\n      <td>100100022</td>\n      <td>107000246</td>\n      <td>342.0</td>\n      <td>112</td>\n      <td>대진여객차고지</td>\n      <td>일반차로</td>\n      <td>8344.0</td>\n      <td>127.000797</td>\n      <td>37.617689</td>\n      <td>미설치</td>\n    </tr>\n    <tr>\n      <th>175</th>\n      <td>100100022</td>\n      <td>107000246</td>\n      <td>342.0</td>\n      <td>116</td>\n      <td>대진여객차고지</td>\n      <td>일반차로</td>\n      <td>8344.0</td>\n      <td>127.000797</td>\n      <td>37.617689</td>\n      <td>미설치</td>\n    </tr>\n  </tbody>\n</table>\n<p>176 rows × 10 columns</p>\n</div>"
     },
     "execution_count": 17,
     "metadata": {},
     "output_type": "execute_result"
    }
   ],
   "source": [
    "route_143 = route_master.loc[route_master['노선_명칭'] == '143']\n",
    "route_143_id = route_143['노선_ID'].values[0]\n",
    "\n",
    "route_station_143 = route_station_master.loc[route_station_master['노선_ID'] == route_143_id].copy()\n",
    "route_station_143.sort_values(by='정류장_순서', inplace=True)\n",
    "\n",
    "route_station_143 = pd.merge(route_station_143, station_master, on='정류장_ID')\n",
    "route_station_143"
   ],
   "metadata": {
    "collapsed": false
   }
  }
 ],
 "metadata": {
  "kernelspec": {
   "display_name": "Python 3",
   "language": "python",
   "name": "python3"
  },
  "language_info": {
   "codemirror_mode": {
    "name": "ipython",
    "version": 2
   },
   "file_extension": ".py",
   "mimetype": "text/x-python",
   "name": "python",
   "nbconvert_exporter": "python",
   "pygments_lexer": "ipython2",
   "version": "2.7.6"
  }
 },
 "nbformat": 4,
 "nbformat_minor": 0
}
