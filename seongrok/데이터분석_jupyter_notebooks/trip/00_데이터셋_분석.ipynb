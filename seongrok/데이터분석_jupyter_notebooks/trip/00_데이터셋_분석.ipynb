{
 "cells": [
  {
   "attachments": {},
   "cell_type": "markdown",
   "metadata": {},
   "source": [
    "# 데이터 정보\n",
    "\n",
    "- 제목: 서울 교통수단 이동데이터\n",
    "- 링크: https://www.bigdata-transportation.kr/frn/prdt/detail?prdtId=PRDTNUM_000000020000\n",
    "- 테이블 목록\n",
    "\n",
    "---\n",
    "\n",
    "| 테이블명                         | 설명                        |     |\n",
    "|------------------------------|---------------------------|-----|\n",
    "| KSCC_DX_TRIP_CHAIN_SUM       | 일자별 목적통행별 대중교통 Trip-Chain | O   |\n",
    "| KSCC_DX_PATTERN_STAT         | 일자별 사용자유형별 대중교통이용패턴       | O   |\n",
    "| TPSS_ROUTE_SECTION_SPEED_H   | 일자별 시간대별 버스노선별 구간별 운행시간   | O   |\n",
    "| TPSS_A18_ROUTE_SECTION       | 일자별 시간대별 버스노선별 구간별 승객수    | O   |\n",
    "| TPSS_STA_ROUTE_INFO_H_PASNGR | 일자별 시간대별 버스노선별 정류장별 승객수   | O   |\n",
    "| TPSS_STA_ROUTE_INFO_H_TURN   | 일자별 시간대별 버스노선별 정류장별 운행횟수  | O   |\n",
    "| KSCC_DX_TRNSF_PATH_SUM       | 일자별 정류장/역사별 사용자유형별 환승승객수  | O   |\n",
    "| KSCC_DX_RA_OD                | 일자별 시간대별 정류장/역사별 수단 OD    | O   |\n",
    "| TPSS_EMD_INFO_H_PUBLIC       | 일자별 시간대별 행정동별 대중교통 승객수    | O   |\n",
    "| TPSS_EMD_INFO_H_SUBWAY       | 일자별 시간대별 행정동별 지하철 승객수     | O   |\n",
    "| TPSS_EMD_INFO_H_BUS          | 일자별 시간대별 행정동별 버스 승객수      | O   |\n",
    "| TPSS_EMD_OD_H                | 일자별 시간대별 행정동별 목적 OD       | O   |\n",
    "| TPSS_EMD_OD_PS               | 일자별 행정동별 수단 OD            | O   |\n",
    "| TPSS_EMD_OD_TC               | 일자별 행정동별 목적 OD            | O   |\n",
    "| ~~TPSS_BCYCL_OD_STATN~~      | ~~일자별 시간대별 대여소별 따릉이 OD~~  | X   |\n",
    "| TBIS_MS_ROUTE                | 노선마스터                     | O   |\n",
    "| TBIS_MS_STTN                 | 정류장마스터                    | O   |\n",
    "| KSCC_DV_SUBWAY_STATION_GEOM  | 역사마스터                     | O   |\n",
    "| TBIS_MS_ROUTE_NODE           | 노선 정류장 마스터                | O   |\n",
    "| DISTRICT_EMD                 | 읍면동마스터                    | O   |\n",
    "| ~~TB_OPR_STATION~~           | ~~따릉이대여소마스터~~             | X   |\n",
    "\n",
    "---\n",
    "\n",
    "**KSCC_DX_TRIP_CHAIN_SUM**\n",
    "- 일자별 목적통행별 대중교통 Trip-Chain\n",
    "- 서울시, 대중교통, 통행사슬, Trip-Chain\n",
    "- 서울시 대중교통(버스, 지하철) 이용 승객의 통행사슬(Trip-Chain) 묶음 정보로써, 목적통행 O/D 및 이동수단 등을 확인할 수 있음. (단, 총 승객수 3명 이상인 이동경로 데이터만 송신)\n",
    "\n",
    "**KSCC_DX_PATTERN_STAT**\n",
    "- 서울시, 대중교통, 통행사슬, 이동패턴\n",
    "- 서울시 1일 사용자유형별(일반, 어린이, 경로, 장애인 등) 대중교통 이용패턴(버스-지하철, 버스-버스-지하철 등)을 확인할 수 있음\n",
    "\n",
    "#### TPSS_ROUTE_SECTION_SPEED_H\n",
    "- 서울시, 대중교통, 버스, 노선, 구간, 운행시간\n",
    "- 서울시 1일 1시간 단위로, 노선별 정류장-TO-정류장 구간별로 평균 운행시간을 확인할 수 있음\n",
    "\n",
    "#### TPSS_A18_ROUTE_SECTION\n",
    "- 서울시, 대중교통, 버스, 노선, 구간, 승객수\n",
    "- 서울시 1일 1시간 단위로, 노선별 정류장-TO-정류장 구간별 총 승객수를 확인할 수 있음\n",
    "\n",
    "#### TPSS_STA_ROUTE_INFO_H_PASNGR\n",
    "- 서울시, 대중교통, 버스, 노선, 정류장, 승객수\n",
    "- 서울시 1일 1시간 단위로, 노선별 정류장별로 총 승차 승객수를 확인할 수 있음\n",
    "\n",
    "#### TPSS_STA_ROUTE_INFO_H_TURN\n",
    "- 서울시, 대중교통, 버스, 노선, 정류장, 운행횟수\n",
    "- 서울시 1일 1시간 단위로, 노선별 정류장별로 총 버스 운행횟수를 확인할 수 있음\n",
    "\n",
    "#### KSCC_DX_TRNSF_PATH_SUM\n",
    "- 서울시, 대중교통, 버스, 환승, 승객수\n",
    "- 서울시 1일 정류장별 사용자유형별(일반, 어린이, 경로, 장애인 등)로 환승한 승객수 및 환승시간을 확인할 수 있음\n",
    "\n",
    "#### KSCC_DX_RA_OD\n",
    "- 서울시, 대중교통, 버스, 지하철, 수단OD\n",
    "- 서울시 1일 1시간 단위로, 정류장 혹은 역사별 수단 OD를 확인할 수 있음\n",
    "\n",
    "#### TPSS_EMD_INFO_H_PUBLIC\n",
    "- 서울시, 행정동, 대중교통, 승객수\n",
    "- 서울시 1일 1시간 단위로, 행정동별 대중교통 총 승차 승객수를 확인할 수 있음\n",
    "\n",
    "#### TPSS_EMD_INFO_H_SUBWAY\n",
    "- 서울시, 행정동, 대중교통, 지하철, 승객수\n",
    "- 서울시 1일 1시간 단위로, 행정동별 지하철 총 승차 승객수를 확인할 수 있음\n",
    "\n",
    "#### TPSS_EMD_INFO_H_BUS\n",
    "- 서울시, 행정동, 대중교통, 버스, 승객수\n",
    "- 서울시 1일 1시간 단위로, 행정동별 버스 총 승차 승객수를 확인할 수 있음\n",
    "\n",
    "#### TPSS_EMD_OD_H\n",
    "- 서울시, 행정동, 대중교통, OD, 승객수\n",
    "- 서울시 1일 1시간 단위로, 행정동 단위의 대중교통 O/D 승객수를 확인할 수 있음\n",
    "\n",
    "#### TPSS_EMD_OD_PS\n",
    "- 서울시, 행정동, 대중교통, 수단OD, 승객수\n",
    "- 서울시 1일 단위로, 행정동 단위의 대중교통 수단O/D(버스, 지하철) 승객수를 확인할 수 있음\n",
    "\n",
    "#### TPSS_EMD_OD_TC\n",
    "- 서울시, 행정동, 대중교통, 목적OD, 승객수\n",
    "- 서울시 1일 단위로, 행정동 단위의 대중교통 목적O/D 승객수를 확인할 수 있음\n",
    "\n",
    "#### TPSS_BCYCL_OD_STATN_HM\n",
    "- 서울시, 대중교통, 따릉이, OD, 승객수\n",
    "- 서울시 1일 1시간 단위로, 따릉이 대여소별 O/D 승객수를 확인할 수 있음\n",
    "\n",
    "#### TBIS_MS_ROUTE\n",
    "- 노선마스터 정보\n",
    "- 노선_ID, 노선_명칭, 노선_유형, 거리\n",
    "\n",
    "#### TBIS_MS_STTN\n",
    "- 정류장마스터 정보\n",
    "- 정류장_ID, 정류장_명칭, 정류장_유형, 정류장_번호, 좌표_X, 좌표_Y, 버스도착정보안내기_설치_여부\n",
    "\n",
    "#### KSCC_DV_SUBWAY_STATION_GEOM\n",
    "- 역사마스터 정보\n",
    "- 역사_ID, 역사명, 호선, 좌표_X, 좌표_Y\n",
    "\n",
    "#### TBIS_MS_ROUTE_NODE\n",
    "- 노선-정류장마스터 정보\n",
    "- 노선_ID, 정류장_ID, 링크_구간거리(m), 정류장_순서\n",
    "\n",
    "#### DISTRICT_EMD\n",
    "- 읍면동 마스터\n",
    "- 행정동_ID, 행정동_명칭, 자치구_명칭, 시도_명칭\n",
    "\n",
    "\n",
    "\n",
    "\n",
    "\n",
    "\n"
   ]
  },
  {
   "cell_type": "markdown",
   "source": [
    "- OUT_STN_NUM(역사ID)\n",
    "    - KSCC_DX_TRIP_CHAN_SUM -> 행정동, 자치구\n",
    "    - KSCC_DX_TRNSF_PATH_SUM -> 하차정류장/역사ID, 승차정류장/역사ID, 시간대, 환승수합, 환승시간평균\n",
    "    - KSCC_DV_SUBWAY_STATION_GEOM -> 역사ID, 역사명, 호선, 좌표(X,Y)"
   ],
   "metadata": {
    "collapsed": false
   }
  },
  {
   "cell_type": "code",
   "execution_count": 1,
   "outputs": [],
   "source": [
    "import numpy as np\n",
    "import pandas as pd"
   ],
   "metadata": {
    "collapsed": false
   }
  },
  {
   "cell_type": "code",
   "execution_count": 36,
   "metadata": {},
   "outputs": [],
   "source": [
    "import numpy as np\n",
    "import pandas as pd\n",
    "\n",
    "'''\n",
    "| KSCC_DX_TRIP_CHAIN_SUM       | 일자별 목적통행별 대중교통 Trip-Chain |\n",
    "| KSCC_DX_PATTERN_STAT         | 일자별 사용자유형별 대중교통이용패턴       |\n",
    "| TPSS_ROUTE_SECTION_SPEED_H   | 일자별 시간대별 버스노선별 구간별 운행시간   |\n",
    "| TPSS_A18_ROUTE_SECTION       | 일자별 시간대별 버스노선별 구간별 승객수    |\n",
    "| TPSS_STA_ROUTE_INFO_H_PASNGR | 일자별 시간대별 버스노선별 정류장별 승객수   |\n",
    "| TPSS_STA_ROUTE_INFO_H_TURN   | 일자별 시간대별 버스노선별 정류장별 운행횟수  |\n",
    "| KSCC_DX_TRNSF_PATH_SUM       | 일자별 정류장/역사별 사용자유형별 환승승객수  |\n",
    "| KSCC_DX_RA_OD                | 일자별 시간대별 정류장/역사별 수단 OD    |\n",
    "| TPSS_EMD_INFO_H_PUBLIC       | 일자별 시간대별 행정동별 대중교통 승객수    |\n",
    "| TPSS_EMD_INFO_H_SUBWAY       | 일자별 시간대별 행정동별 지하철 승객수     |\n",
    "| TPSS_EMD_INFO_H_BUS          | 일자별 시간대별 행정동별 버스 승객수      |\n",
    "| TPSS_EMD_OD_H                | 일자별 시간대별 행정동별 목적 OD       |\n",
    "| TPSS_EMD_OD_PS               | 일자별 행정동별 수단 OD            |\n",
    "| TPSS_EMD_OD_TC               | 일자별 행정동별 목적 OD            |\n",
    "| TPSS_BCYCL_OD_STATN          | 일자별 시간대별 대여소별 따릉이 OD      |\n",
    "| TBIS_MS_ROUTE                | 노선마스터                     |\n",
    "| TBIS_MS_STTN                 | 정류장마스터                    |\n",
    "| KSCC_DV_SUBWAY_STATION_GEOM  | 역사마스터                     |\n",
    "| TBIS_MS_ROUTE_NODE           | 노선 정류장 마스터                |\n",
    "| DISTRICT_EMD                 | 읍면동마스터                    |\n",
    "| TB_OPR_STATION               | 따릉이대여소마스터                 |\n",
    "'''\n",
    "\n",
    "class Data:\n",
    "\n",
    "    def __init__(self, year, month, day):\n",
    "        self.subway_master = self.read_csv(f'{year}{month:02d}{day:02d}/KSCC_DV_SUBWAY_STATION_GEOM.csv')\n",
    "        self.trip_chain = self.read_csv(f'{year}{month:02d}{day:02d}/KSCC_DX_TRIP_CHAIN_SUM.csv')\n",
    "        self.district = None\n",
    "        self.df = None\n",
    "\n",
    "    def merge_district(self, district):\n",
    "        self.district = district\n",
    "        pd.merge(self.trip_chain, self.district)\n",
    "\n",
    "    def zip_by(self, column):\n",
    "\n",
    "\n",
    "\n",
    "    @staticmethod\n",
    "    def read_csv(path, nrows=None, sep=',', encoding='utf-8'):\n",
    "        return pd.read_csv(path, nrows=nrows, sep=sep, encoding=encoding)\n",
    "\n",
    "\n",
    "def read_csv(path, nrows=None, sep=',', encoding='utf-8'):\n",
    "    return pd.read_csv(path, nrows=nrows, sep=sep, encoding=encoding)\n",
    "\n",
    "# on_bad_lines='skip'"
   ]
  },
  {
   "cell_type": "code",
   "execution_count": 105,
   "outputs": [
    {
     "data": {
      "text/plain": "      EMD_ID EMD_NM SGG_NM SD_NM\n0    1108058   돈암1동    성북구    서울\n1    1108065   정릉4동    성북구    서울\n2    1108072   월곡2동    성북구    서울\n3    1108081    성북동    성북구    서울\n4    1109060    번1동    강북구    서울\n..       ...    ...    ...   ...\n419  1123058   삼성1동    강남구    서울\n420  1123060   대치1동    강남구    서울\n421  1123063   대치4동    강남구    서울\n422  1123064   역삼1동    강남구    서울\n423  1123066   도곡1동    강남구    서울\n\n[424 rows x 4 columns]",
      "text/html": "<div>\n<style scoped>\n    .dataframe tbody tr th:only-of-type {\n        vertical-align: middle;\n    }\n\n    .dataframe tbody tr th {\n        vertical-align: top;\n    }\n\n    .dataframe thead th {\n        text-align: right;\n    }\n</style>\n<table border=\"1\" class=\"dataframe\">\n  <thead>\n    <tr style=\"text-align: right;\">\n      <th></th>\n      <th>EMD_ID</th>\n      <th>EMD_NM</th>\n      <th>SGG_NM</th>\n      <th>SD_NM</th>\n    </tr>\n  </thead>\n  <tbody>\n    <tr>\n      <th>0</th>\n      <td>1108058</td>\n      <td>돈암1동</td>\n      <td>성북구</td>\n      <td>서울</td>\n    </tr>\n    <tr>\n      <th>1</th>\n      <td>1108065</td>\n      <td>정릉4동</td>\n      <td>성북구</td>\n      <td>서울</td>\n    </tr>\n    <tr>\n      <th>2</th>\n      <td>1108072</td>\n      <td>월곡2동</td>\n      <td>성북구</td>\n      <td>서울</td>\n    </tr>\n    <tr>\n      <th>3</th>\n      <td>1108081</td>\n      <td>성북동</td>\n      <td>성북구</td>\n      <td>서울</td>\n    </tr>\n    <tr>\n      <th>4</th>\n      <td>1109060</td>\n      <td>번1동</td>\n      <td>강북구</td>\n      <td>서울</td>\n    </tr>\n    <tr>\n      <th>...</th>\n      <td>...</td>\n      <td>...</td>\n      <td>...</td>\n      <td>...</td>\n    </tr>\n    <tr>\n      <th>419</th>\n      <td>1123058</td>\n      <td>삼성1동</td>\n      <td>강남구</td>\n      <td>서울</td>\n    </tr>\n    <tr>\n      <th>420</th>\n      <td>1123060</td>\n      <td>대치1동</td>\n      <td>강남구</td>\n      <td>서울</td>\n    </tr>\n    <tr>\n      <th>421</th>\n      <td>1123063</td>\n      <td>대치4동</td>\n      <td>강남구</td>\n      <td>서울</td>\n    </tr>\n    <tr>\n      <th>422</th>\n      <td>1123064</td>\n      <td>역삼1동</td>\n      <td>강남구</td>\n      <td>서울</td>\n    </tr>\n    <tr>\n      <th>423</th>\n      <td>1123066</td>\n      <td>도곡1동</td>\n      <td>강남구</td>\n      <td>서울</td>\n    </tr>\n  </tbody>\n</table>\n<p>424 rows × 4 columns</p>\n</div>"
     },
     "execution_count": 105,
     "metadata": {},
     "output_type": "execute_result"
    }
   ],
   "source": [
    "district_emd = read_csv('DISTRICT_EMD.csv')\n",
    "district_emd = district_emd.loc[district_emd['SD_NM'] == '서울']\n",
    "district_emd.reset_index(drop=True, inplace=True)\n",
    "district_emd"
   ],
   "metadata": {
    "collapsed": false
   }
  },
  {
   "cell_type": "code",
   "execution_count": 27,
   "outputs": [],
   "source": [
    "data_list = [Data(2023, 2, day) for day in range(1, 2)]"
   ],
   "metadata": {
    "collapsed": false
   }
  },
  {
   "cell_type": "code",
   "execution_count": 28,
   "outputs": [
    {
     "data": {
      "text/plain": "         STDR_DE  START_PUB_STA_ID  END_PUB_STA_ID  START_EMD_ID  END_EMD_ID  \\\n0       20230127         213000492     213000197.0     3106068.0   3106054.0   \n1       20230127         100000039     112000041.0     1101055.0   1113066.0   \n2       20230127         113000019     218000636.0     1114074.0   3110169.0   \n3       20230127              2553          1804.0     1125054.0   3105252.0   \n4       20230127         118000146     114000208.0     1119073.0   1115058.0   \n...          ...               ...             ...           ...         ...   \n473284  20230127         123000622     123000639.0     1124082.0   1124081.0   \n473285  20230127              1809          2612.0     2303069.0   1112051.0   \n473286  20230127               222     116000134.0     1122052.0   1117061.0   \n473287  20230127         113000099     112000016.0     1114072.0   1113075.0   \n473288  20230127         107000010     107000078.0     1108082.0   1108065.0   \n\n        TOT_CNT   ROUTE_ID_1 RIDE_PUB_STA_ID_1 ALGH_PUB_STA_ID_1   ROUTE_ID_2  \\\n0            14  100100312.0         213000492         213000197          NaN   \n1             6  100100360.0         100000039         112000041          NaN   \n2             3  100100447.0         113000019         111000224  100100358.0   \n3             5          NaN              2553              1804          NaN   \n4             3  100100289.0         118000146         114000208          NaN   \n...         ...          ...               ...               ...          ...   \n473284       12  100100496.0         123000622         123000639          NaN   \n473285        4          NaN              1809              2612          NaN   \n473286        5          NaN              0222              0234  100100085.0   \n473287        6  100100363.0         113000099         112000016          NaN   \n473288       29  100100034.0         107000010         107000078          NaN   \n\n        ... ALGH_PUB_STA_ID_2 ROUTE_ID_3  RIDE_PUB_STA_ID_3 ALGH_PUB_STA_ID_3  \\\n0       ...                 X        NaN                  X                 X   \n1       ...                 X        NaN                  X                 X   \n2       ...         218000636        NaN                  X                 X   \n3       ...                 X        NaN                  X                 X   \n4       ...                 X        NaN                  X                 X   \n...     ...               ...        ...                ...               ...   \n473284  ...                 X        NaN                  X                 X   \n473285  ...                 X        NaN                  X                 X   \n473286  ...         116000134        NaN                  X                 X   \n473287  ...                 X        NaN                  X                 X   \n473288  ...                 X        NaN                  X                 X   \n\n       ROUTE_ID_4  RIDE_PUB_STA_ID_4 ALGH_PUB_STA_ID_4 ROUTE_ID_5  \\\n0             NaN                  X                 X        NaN   \n1             NaN                  X                 X        NaN   \n2             NaN                  X                 X        NaN   \n3             NaN                  X                 X        NaN   \n4             NaN                  X                 X        NaN   \n...           ...                ...               ...        ...   \n473284        NaN                  X                 X        NaN   \n473285        NaN                  X                 X        NaN   \n473286        NaN                  X                 X        NaN   \n473287        NaN                  X                 X        NaN   \n473288        NaN                  X                 X        NaN   \n\n        RIDE_PUB_STA_ID_5 ALGH_PUB_STA_ID_5  \n0                       X                 X  \n1                       X                 X  \n2                       X                 X  \n3                       X                 X  \n4                       X                 X  \n...                   ...               ...  \n473284                  X                 X  \n473285                  X                 X  \n473286                  X                 X  \n473287                  X                 X  \n473288                  X                 X  \n\n[473289 rows x 21 columns]",
      "text/html": "<div>\n<style scoped>\n    .dataframe tbody tr th:only-of-type {\n        vertical-align: middle;\n    }\n\n    .dataframe tbody tr th {\n        vertical-align: top;\n    }\n\n    .dataframe thead th {\n        text-align: right;\n    }\n</style>\n<table border=\"1\" class=\"dataframe\">\n  <thead>\n    <tr style=\"text-align: right;\">\n      <th></th>\n      <th>STDR_DE</th>\n      <th>START_PUB_STA_ID</th>\n      <th>END_PUB_STA_ID</th>\n      <th>START_EMD_ID</th>\n      <th>END_EMD_ID</th>\n      <th>TOT_CNT</th>\n      <th>ROUTE_ID_1</th>\n      <th>RIDE_PUB_STA_ID_1</th>\n      <th>ALGH_PUB_STA_ID_1</th>\n      <th>ROUTE_ID_2</th>\n      <th>...</th>\n      <th>ALGH_PUB_STA_ID_2</th>\n      <th>ROUTE_ID_3</th>\n      <th>RIDE_PUB_STA_ID_3</th>\n      <th>ALGH_PUB_STA_ID_3</th>\n      <th>ROUTE_ID_4</th>\n      <th>RIDE_PUB_STA_ID_4</th>\n      <th>ALGH_PUB_STA_ID_4</th>\n      <th>ROUTE_ID_5</th>\n      <th>RIDE_PUB_STA_ID_5</th>\n      <th>ALGH_PUB_STA_ID_5</th>\n    </tr>\n  </thead>\n  <tbody>\n    <tr>\n      <th>0</th>\n      <td>20230127</td>\n      <td>213000492</td>\n      <td>213000197.0</td>\n      <td>3106068.0</td>\n      <td>3106054.0</td>\n      <td>14</td>\n      <td>100100312.0</td>\n      <td>213000492</td>\n      <td>213000197</td>\n      <td>NaN</td>\n      <td>...</td>\n      <td>X</td>\n      <td>NaN</td>\n      <td>X</td>\n      <td>X</td>\n      <td>NaN</td>\n      <td>X</td>\n      <td>X</td>\n      <td>NaN</td>\n      <td>X</td>\n      <td>X</td>\n    </tr>\n    <tr>\n      <th>1</th>\n      <td>20230127</td>\n      <td>100000039</td>\n      <td>112000041.0</td>\n      <td>1101055.0</td>\n      <td>1113066.0</td>\n      <td>6</td>\n      <td>100100360.0</td>\n      <td>100000039</td>\n      <td>112000041</td>\n      <td>NaN</td>\n      <td>...</td>\n      <td>X</td>\n      <td>NaN</td>\n      <td>X</td>\n      <td>X</td>\n      <td>NaN</td>\n      <td>X</td>\n      <td>X</td>\n      <td>NaN</td>\n      <td>X</td>\n      <td>X</td>\n    </tr>\n    <tr>\n      <th>2</th>\n      <td>20230127</td>\n      <td>113000019</td>\n      <td>218000636.0</td>\n      <td>1114074.0</td>\n      <td>3110169.0</td>\n      <td>3</td>\n      <td>100100447.0</td>\n      <td>113000019</td>\n      <td>111000224</td>\n      <td>100100358.0</td>\n      <td>...</td>\n      <td>218000636</td>\n      <td>NaN</td>\n      <td>X</td>\n      <td>X</td>\n      <td>NaN</td>\n      <td>X</td>\n      <td>X</td>\n      <td>NaN</td>\n      <td>X</td>\n      <td>X</td>\n    </tr>\n    <tr>\n      <th>3</th>\n      <td>20230127</td>\n      <td>2553</td>\n      <td>1804.0</td>\n      <td>1125054.0</td>\n      <td>3105252.0</td>\n      <td>5</td>\n      <td>NaN</td>\n      <td>2553</td>\n      <td>1804</td>\n      <td>NaN</td>\n      <td>...</td>\n      <td>X</td>\n      <td>NaN</td>\n      <td>X</td>\n      <td>X</td>\n      <td>NaN</td>\n      <td>X</td>\n      <td>X</td>\n      <td>NaN</td>\n      <td>X</td>\n      <td>X</td>\n    </tr>\n    <tr>\n      <th>4</th>\n      <td>20230127</td>\n      <td>118000146</td>\n      <td>114000208.0</td>\n      <td>1119073.0</td>\n      <td>1115058.0</td>\n      <td>3</td>\n      <td>100100289.0</td>\n      <td>118000146</td>\n      <td>114000208</td>\n      <td>NaN</td>\n      <td>...</td>\n      <td>X</td>\n      <td>NaN</td>\n      <td>X</td>\n      <td>X</td>\n      <td>NaN</td>\n      <td>X</td>\n      <td>X</td>\n      <td>NaN</td>\n      <td>X</td>\n      <td>X</td>\n    </tr>\n    <tr>\n      <th>...</th>\n      <td>...</td>\n      <td>...</td>\n      <td>...</td>\n      <td>...</td>\n      <td>...</td>\n      <td>...</td>\n      <td>...</td>\n      <td>...</td>\n      <td>...</td>\n      <td>...</td>\n      <td>...</td>\n      <td>...</td>\n      <td>...</td>\n      <td>...</td>\n      <td>...</td>\n      <td>...</td>\n      <td>...</td>\n      <td>...</td>\n      <td>...</td>\n      <td>...</td>\n      <td>...</td>\n    </tr>\n    <tr>\n      <th>473284</th>\n      <td>20230127</td>\n      <td>123000622</td>\n      <td>123000639.0</td>\n      <td>1124082.0</td>\n      <td>1124081.0</td>\n      <td>12</td>\n      <td>100100496.0</td>\n      <td>123000622</td>\n      <td>123000639</td>\n      <td>NaN</td>\n      <td>...</td>\n      <td>X</td>\n      <td>NaN</td>\n      <td>X</td>\n      <td>X</td>\n      <td>NaN</td>\n      <td>X</td>\n      <td>X</td>\n      <td>NaN</td>\n      <td>X</td>\n      <td>X</td>\n    </tr>\n    <tr>\n      <th>473285</th>\n      <td>20230127</td>\n      <td>1809</td>\n      <td>2612.0</td>\n      <td>2303069.0</td>\n      <td>1112051.0</td>\n      <td>4</td>\n      <td>NaN</td>\n      <td>1809</td>\n      <td>2612</td>\n      <td>NaN</td>\n      <td>...</td>\n      <td>X</td>\n      <td>NaN</td>\n      <td>X</td>\n      <td>X</td>\n      <td>NaN</td>\n      <td>X</td>\n      <td>X</td>\n      <td>NaN</td>\n      <td>X</td>\n      <td>X</td>\n    </tr>\n    <tr>\n      <th>473286</th>\n      <td>20230127</td>\n      <td>222</td>\n      <td>116000134.0</td>\n      <td>1122052.0</td>\n      <td>1117061.0</td>\n      <td>5</td>\n      <td>NaN</td>\n      <td>0222</td>\n      <td>0234</td>\n      <td>100100085.0</td>\n      <td>...</td>\n      <td>116000134</td>\n      <td>NaN</td>\n      <td>X</td>\n      <td>X</td>\n      <td>NaN</td>\n      <td>X</td>\n      <td>X</td>\n      <td>NaN</td>\n      <td>X</td>\n      <td>X</td>\n    </tr>\n    <tr>\n      <th>473287</th>\n      <td>20230127</td>\n      <td>113000099</td>\n      <td>112000016.0</td>\n      <td>1114072.0</td>\n      <td>1113075.0</td>\n      <td>6</td>\n      <td>100100363.0</td>\n      <td>113000099</td>\n      <td>112000016</td>\n      <td>NaN</td>\n      <td>...</td>\n      <td>X</td>\n      <td>NaN</td>\n      <td>X</td>\n      <td>X</td>\n      <td>NaN</td>\n      <td>X</td>\n      <td>X</td>\n      <td>NaN</td>\n      <td>X</td>\n      <td>X</td>\n    </tr>\n    <tr>\n      <th>473288</th>\n      <td>20230127</td>\n      <td>107000010</td>\n      <td>107000078.0</td>\n      <td>1108082.0</td>\n      <td>1108065.0</td>\n      <td>29</td>\n      <td>100100034.0</td>\n      <td>107000010</td>\n      <td>107000078</td>\n      <td>NaN</td>\n      <td>...</td>\n      <td>X</td>\n      <td>NaN</td>\n      <td>X</td>\n      <td>X</td>\n      <td>NaN</td>\n      <td>X</td>\n      <td>X</td>\n      <td>NaN</td>\n      <td>X</td>\n      <td>X</td>\n    </tr>\n  </tbody>\n</table>\n<p>473289 rows × 21 columns</p>\n</div>"
     },
     "execution_count": 28,
     "metadata": {},
     "output_type": "execute_result"
    }
   ],
   "source": [
    "data_list[0].trip_chain"
   ],
   "metadata": {
    "collapsed": false
   }
  },
  {
   "cell_type": "code",
   "execution_count": 29,
   "outputs": [
    {
     "name": "stdout",
     "output_type": "stream",
     "text": [
      "<class 'pandas.core.frame.DataFrame'>\n",
      "RangeIndex: 473289 entries, 0 to 473288\n",
      "Data columns (total 21 columns):\n",
      " #   Column             Non-Null Count   Dtype  \n",
      "---  ------             --------------   -----  \n",
      " 0   STDR_DE            473289 non-null  int64  \n",
      " 1   START_PUB_STA_ID   473289 non-null  int64  \n",
      " 2   END_PUB_STA_ID     461035 non-null  float64\n",
      " 3   START_EMD_ID       470210 non-null  float64\n",
      " 4   END_EMD_ID         458447 non-null  float64\n",
      " 5   TOT_CNT            473289 non-null  int64  \n",
      " 6   ROUTE_ID_1         257808 non-null  float64\n",
      " 7   RIDE_PUB_STA_ID_1  473289 non-null  object \n",
      " 8   ALGH_PUB_STA_ID_1  473289 non-null  object \n",
      " 9   ROUTE_ID_2         35516 non-null   float64\n",
      " 10  RIDE_PUB_STA_ID_2  473289 non-null  object \n",
      " 11  ALGH_PUB_STA_ID_2  473289 non-null  object \n",
      " 12  ROUTE_ID_3         1361 non-null    float64\n",
      " 13  RIDE_PUB_STA_ID_3  473289 non-null  object \n",
      " 14  ALGH_PUB_STA_ID_3  473289 non-null  object \n",
      " 15  ROUTE_ID_4         13 non-null      float64\n",
      " 16  RIDE_PUB_STA_ID_4  473289 non-null  object \n",
      " 17  ALGH_PUB_STA_ID_4  473289 non-null  object \n",
      " 18  ROUTE_ID_5         0 non-null       float64\n",
      " 19  RIDE_PUB_STA_ID_5  473289 non-null  object \n",
      " 20  ALGH_PUB_STA_ID_5  473289 non-null  object \n",
      "dtypes: float64(8), int64(3), object(10)\n",
      "memory usage: 75.8+ MB\n"
     ]
    }
   ],
   "source": [
    "data_list[0].trip_chain.info()"
   ],
   "metadata": {
    "collapsed": false
   }
  },
  {
   "cell_type": "code",
   "execution_count": 121,
   "outputs": [
    {
     "data": {
      "text/plain": "        역사ID    행정동ID\n3       2553  1125054\n5        417  1108066\n12       313  1112051\n18      3134  2304062\n20      1026  1123080\n...      ...      ...\n351576  4602  3103055\n361091  1213  3138033\n7204    4514  3119153\n19917   4502  3119252\n448050  3227  2305065\n\n[721 rows x 2 columns]",
      "text/html": "<div>\n<style scoped>\n    .dataframe tbody tr th:only-of-type {\n        vertical-align: middle;\n    }\n\n    .dataframe tbody tr th {\n        vertical-align: top;\n    }\n\n    .dataframe thead th {\n        text-align: right;\n    }\n</style>\n<table border=\"1\" class=\"dataframe\">\n  <thead>\n    <tr style=\"text-align: right;\">\n      <th></th>\n      <th>역사ID</th>\n      <th>행정동ID</th>\n    </tr>\n  </thead>\n  <tbody>\n    <tr>\n      <th>3</th>\n      <td>2553</td>\n      <td>1125054</td>\n    </tr>\n    <tr>\n      <th>5</th>\n      <td>417</td>\n      <td>1108066</td>\n    </tr>\n    <tr>\n      <th>12</th>\n      <td>313</td>\n      <td>1112051</td>\n    </tr>\n    <tr>\n      <th>18</th>\n      <td>3134</td>\n      <td>2304062</td>\n    </tr>\n    <tr>\n      <th>20</th>\n      <td>1026</td>\n      <td>1123080</td>\n    </tr>\n    <tr>\n      <th>...</th>\n      <td>...</td>\n      <td>...</td>\n    </tr>\n    <tr>\n      <th>351576</th>\n      <td>4602</td>\n      <td>3103055</td>\n    </tr>\n    <tr>\n      <th>361091</th>\n      <td>1213</td>\n      <td>3138033</td>\n    </tr>\n    <tr>\n      <th>7204</th>\n      <td>4514</td>\n      <td>3119153</td>\n    </tr>\n    <tr>\n      <th>19917</th>\n      <td>4502</td>\n      <td>3119252</td>\n    </tr>\n    <tr>\n      <th>448050</th>\n      <td>3227</td>\n      <td>2305065</td>\n    </tr>\n  </tbody>\n</table>\n<p>721 rows × 2 columns</p>\n</div>"
     },
     "execution_count": 121,
     "metadata": {},
     "output_type": "execute_result"
    }
   ],
   "source": [
    "# 'STDR_DE', 'START_PUB_STA_ID', 'END_PUB_STA_ID', 'START_EMD_ID', 'END_EMD_ID'\n",
    "def summarize_trip_chains(dfs):\n",
    "\n",
    "    def transform(df):\n",
    "        df1 = df.trip_chain.loc[:, ['START_PUB_STA_ID', 'START_EMD_ID']]\n",
    "        df1 = df1.loc[df1['START_PUB_STA_ID'] < 10000]\n",
    "        df1.columns = ['역사ID', '행정동ID']\n",
    "\n",
    "        df2 = df.trip_chain.loc[:, ['END_PUB_STA_ID', 'END_EMD_ID']]\n",
    "        df2 = df2.loc[df2['END_PUB_STA_ID'] < 10000]\n",
    "        df2.columns = ['역사ID', '행정동ID']\n",
    "\n",
    "        result = pd.concat([df1, df2], axis=0)\n",
    "        result = result.drop_duplicates(['역사ID'])\n",
    "        result = result.dropna()\n",
    "        result = result.astype('int')\n",
    "\n",
    "        return result\n",
    "\n",
    "    merged = None\n",
    "    for df in dfs:\n",
    "        if merged is None:\n",
    "            merged = transform(df)\n",
    "        else:\n",
    "            merged = pd.merge(merged, transform(df), how='left')\n",
    "\n",
    "    return merged\n",
    "\n",
    "df = summarize_trip_chains(data_list)\n",
    "df"
   ],
   "metadata": {
    "collapsed": false
   }
  },
  {
   "cell_type": "code",
   "execution_count": 122,
   "outputs": [
    {
     "data": {
      "text/plain": "     역사ID    행정동ID 지하철역이름     호선          경도         위도   행정동  자치구 자치시\n0    2553  1125054     고덕    5호선  127.154151  37.555004  명일2동  강동구  서울\n1     417  1108066     길음    4호선  127.025053  37.603407  길음1동  성북구  서울\n2     313  1112051     녹번    3호선  126.935756  37.600927   녹번동  은평구  서울\n3    2612  1112051     역촌    6호선  126.922744  37.606021   녹번동  은평구  서울\n4    1026  1123080     구룡    분당선  127.058856  37.486839  개포2동  강남구  서울\n..    ...      ...    ...    ...         ...        ...   ...  ...  ..\n385  1267  1112068     수색  경의중앙선  126.895611  37.580842   수색동  은평구  서울\n386  1009  1103069    서빙고    경원선  126.988537  37.519594  서빙고동  용산구  서울\n387   248  1115070   양천구청    2호선  126.865819  37.512398  신정7동  양천구  서울\n388  4710  1108062     정릉  우이신설선  127.013396  37.603133  정릉1동  성북구  서울\n389  4408  1121069     신림    신림선  126.929616  37.484927   신림동  관악구  서울\n\n[390 rows x 9 columns]",
      "text/html": "<div>\n<style scoped>\n    .dataframe tbody tr th:only-of-type {\n        vertical-align: middle;\n    }\n\n    .dataframe tbody tr th {\n        vertical-align: top;\n    }\n\n    .dataframe thead th {\n        text-align: right;\n    }\n</style>\n<table border=\"1\" class=\"dataframe\">\n  <thead>\n    <tr style=\"text-align: right;\">\n      <th></th>\n      <th>역사ID</th>\n      <th>행정동ID</th>\n      <th>지하철역이름</th>\n      <th>호선</th>\n      <th>경도</th>\n      <th>위도</th>\n      <th>행정동</th>\n      <th>자치구</th>\n      <th>자치시</th>\n    </tr>\n  </thead>\n  <tbody>\n    <tr>\n      <th>0</th>\n      <td>2553</td>\n      <td>1125054</td>\n      <td>고덕</td>\n      <td>5호선</td>\n      <td>127.154151</td>\n      <td>37.555004</td>\n      <td>명일2동</td>\n      <td>강동구</td>\n      <td>서울</td>\n    </tr>\n    <tr>\n      <th>1</th>\n      <td>417</td>\n      <td>1108066</td>\n      <td>길음</td>\n      <td>4호선</td>\n      <td>127.025053</td>\n      <td>37.603407</td>\n      <td>길음1동</td>\n      <td>성북구</td>\n      <td>서울</td>\n    </tr>\n    <tr>\n      <th>2</th>\n      <td>313</td>\n      <td>1112051</td>\n      <td>녹번</td>\n      <td>3호선</td>\n      <td>126.935756</td>\n      <td>37.600927</td>\n      <td>녹번동</td>\n      <td>은평구</td>\n      <td>서울</td>\n    </tr>\n    <tr>\n      <th>3</th>\n      <td>2612</td>\n      <td>1112051</td>\n      <td>역촌</td>\n      <td>6호선</td>\n      <td>126.922744</td>\n      <td>37.606021</td>\n      <td>녹번동</td>\n      <td>은평구</td>\n      <td>서울</td>\n    </tr>\n    <tr>\n      <th>4</th>\n      <td>1026</td>\n      <td>1123080</td>\n      <td>구룡</td>\n      <td>분당선</td>\n      <td>127.058856</td>\n      <td>37.486839</td>\n      <td>개포2동</td>\n      <td>강남구</td>\n      <td>서울</td>\n    </tr>\n    <tr>\n      <th>...</th>\n      <td>...</td>\n      <td>...</td>\n      <td>...</td>\n      <td>...</td>\n      <td>...</td>\n      <td>...</td>\n      <td>...</td>\n      <td>...</td>\n      <td>...</td>\n    </tr>\n    <tr>\n      <th>385</th>\n      <td>1267</td>\n      <td>1112068</td>\n      <td>수색</td>\n      <td>경의중앙선</td>\n      <td>126.895611</td>\n      <td>37.580842</td>\n      <td>수색동</td>\n      <td>은평구</td>\n      <td>서울</td>\n    </tr>\n    <tr>\n      <th>386</th>\n      <td>1009</td>\n      <td>1103069</td>\n      <td>서빙고</td>\n      <td>경원선</td>\n      <td>126.988537</td>\n      <td>37.519594</td>\n      <td>서빙고동</td>\n      <td>용산구</td>\n      <td>서울</td>\n    </tr>\n    <tr>\n      <th>387</th>\n      <td>248</td>\n      <td>1115070</td>\n      <td>양천구청</td>\n      <td>2호선</td>\n      <td>126.865819</td>\n      <td>37.512398</td>\n      <td>신정7동</td>\n      <td>양천구</td>\n      <td>서울</td>\n    </tr>\n    <tr>\n      <th>388</th>\n      <td>4710</td>\n      <td>1108062</td>\n      <td>정릉</td>\n      <td>우이신설선</td>\n      <td>127.013396</td>\n      <td>37.603133</td>\n      <td>정릉1동</td>\n      <td>성북구</td>\n      <td>서울</td>\n    </tr>\n    <tr>\n      <th>389</th>\n      <td>4408</td>\n      <td>1121069</td>\n      <td>신림</td>\n      <td>신림선</td>\n      <td>126.929616</td>\n      <td>37.484927</td>\n      <td>신림동</td>\n      <td>관악구</td>\n      <td>서울</td>\n    </tr>\n  </tbody>\n</table>\n<p>390 rows × 9 columns</p>\n</div>"
     },
     "execution_count": 122,
     "metadata": {},
     "output_type": "execute_result"
    }
   ],
   "source": [
    "subway = data_list[0].subway_master\n",
    "subway.columns = ['역사ID', '지하철역이름', '호선', '경도', '위도']\n",
    "\n",
    "district = district_emd.copy()\n",
    "district.columns = ['행정동ID', '행정동', '자치구', '자치시']\n",
    "\n",
    "merged = pd.merge(df, subway, on='역사ID')\n",
    "merged = pd.merge(merged, district, on='행정동ID')\n",
    "merged"
   ],
   "metadata": {
    "collapsed": false
   }
  },
  {
   "cell_type": "markdown",
   "source": [
    "---"
   ],
   "metadata": {
    "collapsed": false
   }
  },
  {
   "cell_type": "markdown",
   "source": [
    "# 2. 개별 테이블"
   ],
   "metadata": {
    "collapsed": false
   }
  },
  {
   "cell_type": "markdown",
   "source": [
    "## a. 노선마스터 - TBIS_MS_ROUTE.csv"
   ],
   "metadata": {
    "collapsed": false
   }
  },
  {
   "cell_type": "code",
   "execution_count": 8,
   "outputs": [
    {
     "data": {
      "text/plain": "    ROUTE_ID ROUTE_NM ROUTE_TY  DSTNC\n0  241002600   9335고양       경기    0.0\n1  241004320   8805고양       경기    0.0\n2  241005920   5300고양       경기    0.0\n3  100100507     6009       공항  187.6\n4  241006340   8851고양       경기    0.0",
      "text/html": "<div>\n<style scoped>\n    .dataframe tbody tr th:only-of-type {\n        vertical-align: middle;\n    }\n\n    .dataframe tbody tr th {\n        vertical-align: top;\n    }\n\n    .dataframe thead th {\n        text-align: right;\n    }\n</style>\n<table border=\"1\" class=\"dataframe\">\n  <thead>\n    <tr style=\"text-align: right;\">\n      <th></th>\n      <th>ROUTE_ID</th>\n      <th>ROUTE_NM</th>\n      <th>ROUTE_TY</th>\n      <th>DSTNC</th>\n    </tr>\n  </thead>\n  <tbody>\n    <tr>\n      <th>0</th>\n      <td>241002600</td>\n      <td>9335고양</td>\n      <td>경기</td>\n      <td>0.0</td>\n    </tr>\n    <tr>\n      <th>1</th>\n      <td>241004320</td>\n      <td>8805고양</td>\n      <td>경기</td>\n      <td>0.0</td>\n    </tr>\n    <tr>\n      <th>2</th>\n      <td>241005920</td>\n      <td>5300고양</td>\n      <td>경기</td>\n      <td>0.0</td>\n    </tr>\n    <tr>\n      <th>3</th>\n      <td>100100507</td>\n      <td>6009</td>\n      <td>공항</td>\n      <td>187.6</td>\n    </tr>\n    <tr>\n      <th>4</th>\n      <td>241006340</td>\n      <td>8851고양</td>\n      <td>경기</td>\n      <td>0.0</td>\n    </tr>\n  </tbody>\n</table>\n</div>"
     },
     "metadata": {},
     "output_type": "display_data"
    },
    {
     "data": {
      "text/plain": "(1200, 4)"
     },
     "metadata": {},
     "output_type": "display_data"
    }
   ],
   "source": [
    "route = pd.read_csv('../../data/서울교통수단이동/202301/TR202100010001 (0)/TBIS_MS_ROUTE.csv')\n",
    "display(route.head())\n",
    "display(route.shape)"
   ],
   "metadata": {
    "collapsed": false
   }
  },
  {
   "cell_type": "code",
   "execution_count": 7,
   "outputs": [
    {
     "name": "stdout",
     "output_type": "stream",
     "text": [
      "ROUTE_TY: ['경기' '공항' '마을' '지선' '간선' '관광' '광역' '순환']\n"
     ]
    }
   ],
   "source": [
    "print('ROUTE_TY:', route['ROUTE_TY'].unique())"
   ],
   "metadata": {
    "collapsed": false
   }
  },
  {
   "cell_type": "code",
   "execution_count": 16,
   "outputs": [
    {
     "data": {
      "text/plain": "      ROUTE_ID      ROUTE_NM ROUTE_TY  DSTNC\n422  100100001            01       순환   16.0\n832  100000020  청와대A01(자율주행)       순환    2.6",
      "text/html": "<div>\n<style scoped>\n    .dataframe tbody tr th:only-of-type {\n        vertical-align: middle;\n    }\n\n    .dataframe tbody tr th {\n        vertical-align: top;\n    }\n\n    .dataframe thead th {\n        text-align: right;\n    }\n</style>\n<table border=\"1\" class=\"dataframe\">\n  <thead>\n    <tr style=\"text-align: right;\">\n      <th></th>\n      <th>ROUTE_ID</th>\n      <th>ROUTE_NM</th>\n      <th>ROUTE_TY</th>\n      <th>DSTNC</th>\n    </tr>\n  </thead>\n  <tbody>\n    <tr>\n      <th>422</th>\n      <td>100100001</td>\n      <td>01</td>\n      <td>순환</td>\n      <td>16.0</td>\n    </tr>\n    <tr>\n      <th>832</th>\n      <td>100000020</td>\n      <td>청와대A01(자율주행)</td>\n      <td>순환</td>\n      <td>2.6</td>\n    </tr>\n  </tbody>\n</table>\n</div>"
     },
     "execution_count": 16,
     "metadata": {},
     "output_type": "execute_result"
    }
   ],
   "source": [
    "route.loc[route['ROUTE_TY'] == '순환']"
   ],
   "metadata": {
    "collapsed": false
   }
  },
  {
   "cell_type": "markdown",
   "source": [
    "## a. 정류장마스터 - TBIS_MS_STTN.csv"
   ],
   "metadata": {
    "collapsed": false
   }
  },
  {
   "cell_type": "code",
   "execution_count": 20,
   "outputs": [
    {
     "name": "stderr",
     "output_type": "stream",
     "text": [
      "b'Skipping line 14424: expected 7 fields, saw 8\\nSkipping line 31842: expected 7 fields, saw 8\\n'\n"
     ]
    },
    {
     "data": {
      "text/plain": "         STTN_ID          STTN_NM STTN_TY  STTN_NO     CRDNT_X    CRDNT_Y  \\\n0      164000621           달빛축제공원    일반차로  38621.0  126.630347  37.400547   \n1      164000623          e편한세상후문    일반차로  32063.0  126.618124  37.408392   \n2      164000624         재능대송도캠퍼스    일반차로  38622.0  126.660781  37.367194   \n3      164000625         재능대송도캠퍼스    일반차로  38623.0  126.660566  37.367038   \n4      164000626         e편한세상 정문    일반차로  38624.0  126.616301  37.410865   \n...          ...              ...     ...      ...         ...        ...   \n70034  212000442        성곡어린이공원입구    마을버스  13195.0  126.817185  37.518591   \n70035  212000443        여월휴먼시아1단지    마을버스  13167.0  126.800033  37.514662   \n70036  212000444           까치울중학교    마을버스  13345.0  126.801448  37.515999   \n70037  212000445         라이프동주아파트    마을버스  13354.0  126.787635  37.523817   \n70038  236001076  포천행복주택.용정산업단지입구    마을버스  40541.0  127.201456  37.882622   \n\n      BIT_INSTL_AT  \n0              미설치  \n1              미설치  \n2              미설치  \n3              미설치  \n4              미설치  \n...            ...  \n70034          미설치  \n70035          미설치  \n70036          미설치  \n70037          미설치  \n70038          미설치  \n\n[70039 rows x 7 columns]",
      "text/html": "<div>\n<style scoped>\n    .dataframe tbody tr th:only-of-type {\n        vertical-align: middle;\n    }\n\n    .dataframe tbody tr th {\n        vertical-align: top;\n    }\n\n    .dataframe thead th {\n        text-align: right;\n    }\n</style>\n<table border=\"1\" class=\"dataframe\">\n  <thead>\n    <tr style=\"text-align: right;\">\n      <th></th>\n      <th>STTN_ID</th>\n      <th>STTN_NM</th>\n      <th>STTN_TY</th>\n      <th>STTN_NO</th>\n      <th>CRDNT_X</th>\n      <th>CRDNT_Y</th>\n      <th>BIT_INSTL_AT</th>\n    </tr>\n  </thead>\n  <tbody>\n    <tr>\n      <th>0</th>\n      <td>164000621</td>\n      <td>달빛축제공원</td>\n      <td>일반차로</td>\n      <td>38621.0</td>\n      <td>126.630347</td>\n      <td>37.400547</td>\n      <td>미설치</td>\n    </tr>\n    <tr>\n      <th>1</th>\n      <td>164000623</td>\n      <td>e편한세상후문</td>\n      <td>일반차로</td>\n      <td>32063.0</td>\n      <td>126.618124</td>\n      <td>37.408392</td>\n      <td>미설치</td>\n    </tr>\n    <tr>\n      <th>2</th>\n      <td>164000624</td>\n      <td>재능대송도캠퍼스</td>\n      <td>일반차로</td>\n      <td>38622.0</td>\n      <td>126.660781</td>\n      <td>37.367194</td>\n      <td>미설치</td>\n    </tr>\n    <tr>\n      <th>3</th>\n      <td>164000625</td>\n      <td>재능대송도캠퍼스</td>\n      <td>일반차로</td>\n      <td>38623.0</td>\n      <td>126.660566</td>\n      <td>37.367038</td>\n      <td>미설치</td>\n    </tr>\n    <tr>\n      <th>4</th>\n      <td>164000626</td>\n      <td>e편한세상 정문</td>\n      <td>일반차로</td>\n      <td>38624.0</td>\n      <td>126.616301</td>\n      <td>37.410865</td>\n      <td>미설치</td>\n    </tr>\n    <tr>\n      <th>...</th>\n      <td>...</td>\n      <td>...</td>\n      <td>...</td>\n      <td>...</td>\n      <td>...</td>\n      <td>...</td>\n      <td>...</td>\n    </tr>\n    <tr>\n      <th>70034</th>\n      <td>212000442</td>\n      <td>성곡어린이공원입구</td>\n      <td>마을버스</td>\n      <td>13195.0</td>\n      <td>126.817185</td>\n      <td>37.518591</td>\n      <td>미설치</td>\n    </tr>\n    <tr>\n      <th>70035</th>\n      <td>212000443</td>\n      <td>여월휴먼시아1단지</td>\n      <td>마을버스</td>\n      <td>13167.0</td>\n      <td>126.800033</td>\n      <td>37.514662</td>\n      <td>미설치</td>\n    </tr>\n    <tr>\n      <th>70036</th>\n      <td>212000444</td>\n      <td>까치울중학교</td>\n      <td>마을버스</td>\n      <td>13345.0</td>\n      <td>126.801448</td>\n      <td>37.515999</td>\n      <td>미설치</td>\n    </tr>\n    <tr>\n      <th>70037</th>\n      <td>212000445</td>\n      <td>라이프동주아파트</td>\n      <td>마을버스</td>\n      <td>13354.0</td>\n      <td>126.787635</td>\n      <td>37.523817</td>\n      <td>미설치</td>\n    </tr>\n    <tr>\n      <th>70038</th>\n      <td>236001076</td>\n      <td>포천행복주택.용정산업단지입구</td>\n      <td>마을버스</td>\n      <td>40541.0</td>\n      <td>127.201456</td>\n      <td>37.882622</td>\n      <td>미설치</td>\n    </tr>\n  </tbody>\n</table>\n<p>70039 rows × 7 columns</p>\n</div>"
     },
     "execution_count": 20,
     "metadata": {},
     "output_type": "execute_result"
    }
   ],
   "source": [
    "station = pd.read_csv('../../data/서울교통수단이동/202209/TR202100010001_00/TBIS_MS_STTN.csv', on_bad_lines='warn')\n",
    "station"
   ],
   "metadata": {
    "collapsed": false
   }
  },
  {
   "cell_type": "code",
   "execution_count": null,
   "outputs": [],
   "source": [
    "station"
   ],
   "metadata": {
    "collapsed": false
   }
  },
  {
   "cell_type": "code",
   "execution_count": null,
   "outputs": [],
   "source": [],
   "metadata": {
    "collapsed": false
   }
  },
  {
   "cell_type": "markdown",
   "source": [
    "## a. 노선정류장노드마스터 - TBIS_MS_ROUTE_NODE.csv"
   ],
   "metadata": {
    "collapsed": false
   }
  },
  {
   "cell_type": "code",
   "execution_count": 18,
   "outputs": [
    {
     "data": {
      "text/plain": "        ROUTE_ID    STTN_ID  LINK_DSTNC_ACMTL  STTN_SN\n0      241002430  163000514              2195       30\n1      241002430  165000290              2498       31\n2      241002430  165000586               656       32\n3      241002430  165000385              1643       33\n4      241002430  165000391              1894       34\n...          ...        ...               ...      ...\n84565  100100033  116000004              1035       71\n84566  100100033  116000002               625       72\n84567  100100033  118000001               551       73\n84568  100100033  118000003               722       74\n84569  100100033  118000005               426       75\n\n[84570 rows x 4 columns]",
      "text/html": "<div>\n<style scoped>\n    .dataframe tbody tr th:only-of-type {\n        vertical-align: middle;\n    }\n\n    .dataframe tbody tr th {\n        vertical-align: top;\n    }\n\n    .dataframe thead th {\n        text-align: right;\n    }\n</style>\n<table border=\"1\" class=\"dataframe\">\n  <thead>\n    <tr style=\"text-align: right;\">\n      <th></th>\n      <th>ROUTE_ID</th>\n      <th>STTN_ID</th>\n      <th>LINK_DSTNC_ACMTL</th>\n      <th>STTN_SN</th>\n    </tr>\n  </thead>\n  <tbody>\n    <tr>\n      <th>0</th>\n      <td>241002430</td>\n      <td>163000514</td>\n      <td>2195</td>\n      <td>30</td>\n    </tr>\n    <tr>\n      <th>1</th>\n      <td>241002430</td>\n      <td>165000290</td>\n      <td>2498</td>\n      <td>31</td>\n    </tr>\n    <tr>\n      <th>2</th>\n      <td>241002430</td>\n      <td>165000586</td>\n      <td>656</td>\n      <td>32</td>\n    </tr>\n    <tr>\n      <th>3</th>\n      <td>241002430</td>\n      <td>165000385</td>\n      <td>1643</td>\n      <td>33</td>\n    </tr>\n    <tr>\n      <th>4</th>\n      <td>241002430</td>\n      <td>165000391</td>\n      <td>1894</td>\n      <td>34</td>\n    </tr>\n    <tr>\n      <th>...</th>\n      <td>...</td>\n      <td>...</td>\n      <td>...</td>\n      <td>...</td>\n    </tr>\n    <tr>\n      <th>84565</th>\n      <td>100100033</td>\n      <td>116000004</td>\n      <td>1035</td>\n      <td>71</td>\n    </tr>\n    <tr>\n      <th>84566</th>\n      <td>100100033</td>\n      <td>116000002</td>\n      <td>625</td>\n      <td>72</td>\n    </tr>\n    <tr>\n      <th>84567</th>\n      <td>100100033</td>\n      <td>118000001</td>\n      <td>551</td>\n      <td>73</td>\n    </tr>\n    <tr>\n      <th>84568</th>\n      <td>100100033</td>\n      <td>118000003</td>\n      <td>722</td>\n      <td>74</td>\n    </tr>\n    <tr>\n      <th>84569</th>\n      <td>100100033</td>\n      <td>118000005</td>\n      <td>426</td>\n      <td>75</td>\n    </tr>\n  </tbody>\n</table>\n<p>84570 rows × 4 columns</p>\n</div>"
     },
     "execution_count": 18,
     "metadata": {},
     "output_type": "execute_result"
    }
   ],
   "source": [
    "station_node = pd.read_csv('../../data/서울교통수단이동/202301/TR202100010001_00/TBIS_MS_ROUTE_NODE.csv')\n",
    "station_node"
   ],
   "metadata": {
    "collapsed": false
   }
  },
  {
   "cell_type": "code",
   "execution_count": 23,
   "outputs": [
    {
     "data": {
      "text/plain": "        ROUTE_ID    STTN_ID  LINK_DSTNC_ACMTL  STTN_SN ROUTE_NM ROUTE_TY  \\\n0      241002570  165000808                 0        1   8830고양       경기   \n1      241002600  165000808                 0        1   9335고양       경기   \n2      241002400  165000808                 0        1   8806고양       경기   \n3      241002570  277103046              1403        2   8830고양       경기   \n4      241002600  277103046              1403        2   9335고양       경기   \n...          ...        ...               ...      ...      ...      ...   \n81777  100100159  110000685               123        8     1144       지선   \n81778  100100159  110000686               273       55     1144       지선   \n81779  100100159  110000684               141       56     1144       지선   \n81780  100100159  110000269                97       57     1144       지선   \n81781  100100159  110000267               396       58     1144       지선   \n\n       DSTNC     STTN_NM STTN_TY  STTN_NO     CRDNT_X    CRDNT_Y BIT_INSTL_AT  \n0       0.00       인천터미널    중앙차로  39808.0  126.701027  37.439839          미설치  \n1       0.00       인천터미널    중앙차로  39808.0  126.701027  37.439839          미설치  \n2       0.00       인천터미널    중앙차로  39808.0  126.701027  37.439839          미설치  \n3       0.00  남동IC진입(경유)   가상정류장      0.0  126.711872  37.430610          미설치  \n4       0.00  남동IC진입(경유)   가상정류장      0.0  126.711872  37.430610          미설치  \n...      ...         ...     ...      ...         ...        ...          ...  \n81777  19.89  그린아파트101동앞    일반차로  11432.0  127.061918  37.644305           설치  \n81778  19.89  그린아파트101동앞    일반차로  11460.0  127.061642  37.644343           설치  \n81779  19.89   북부여성발전센터앞    일반차로  11461.0  127.062174  37.643175           설치  \n81780  19.89   서울아이티고등학교    일반차로  11370.0  127.062523  37.642374           설치  \n81781  19.89     건영옴니백화점    일반차로  11368.0  127.064042  37.639024           설치  \n\n[81782 rows x 13 columns]",
      "text/html": "<div>\n<style scoped>\n    .dataframe tbody tr th:only-of-type {\n        vertical-align: middle;\n    }\n\n    .dataframe tbody tr th {\n        vertical-align: top;\n    }\n\n    .dataframe thead th {\n        text-align: right;\n    }\n</style>\n<table border=\"1\" class=\"dataframe\">\n  <thead>\n    <tr style=\"text-align: right;\">\n      <th></th>\n      <th>ROUTE_ID</th>\n      <th>STTN_ID</th>\n      <th>LINK_DSTNC_ACMTL</th>\n      <th>STTN_SN</th>\n      <th>ROUTE_NM</th>\n      <th>ROUTE_TY</th>\n      <th>DSTNC</th>\n      <th>STTN_NM</th>\n      <th>STTN_TY</th>\n      <th>STTN_NO</th>\n      <th>CRDNT_X</th>\n      <th>CRDNT_Y</th>\n      <th>BIT_INSTL_AT</th>\n    </tr>\n  </thead>\n  <tbody>\n    <tr>\n      <th>0</th>\n      <td>241002570</td>\n      <td>165000808</td>\n      <td>0</td>\n      <td>1</td>\n      <td>8830고양</td>\n      <td>경기</td>\n      <td>0.00</td>\n      <td>인천터미널</td>\n      <td>중앙차로</td>\n      <td>39808.0</td>\n      <td>126.701027</td>\n      <td>37.439839</td>\n      <td>미설치</td>\n    </tr>\n    <tr>\n      <th>1</th>\n      <td>241002600</td>\n      <td>165000808</td>\n      <td>0</td>\n      <td>1</td>\n      <td>9335고양</td>\n      <td>경기</td>\n      <td>0.00</td>\n      <td>인천터미널</td>\n      <td>중앙차로</td>\n      <td>39808.0</td>\n      <td>126.701027</td>\n      <td>37.439839</td>\n      <td>미설치</td>\n    </tr>\n    <tr>\n      <th>2</th>\n      <td>241002400</td>\n      <td>165000808</td>\n      <td>0</td>\n      <td>1</td>\n      <td>8806고양</td>\n      <td>경기</td>\n      <td>0.00</td>\n      <td>인천터미널</td>\n      <td>중앙차로</td>\n      <td>39808.0</td>\n      <td>126.701027</td>\n      <td>37.439839</td>\n      <td>미설치</td>\n    </tr>\n    <tr>\n      <th>3</th>\n      <td>241002570</td>\n      <td>277103046</td>\n      <td>1403</td>\n      <td>2</td>\n      <td>8830고양</td>\n      <td>경기</td>\n      <td>0.00</td>\n      <td>남동IC진입(경유)</td>\n      <td>가상정류장</td>\n      <td>0.0</td>\n      <td>126.711872</td>\n      <td>37.430610</td>\n      <td>미설치</td>\n    </tr>\n    <tr>\n      <th>4</th>\n      <td>241002600</td>\n      <td>277103046</td>\n      <td>1403</td>\n      <td>2</td>\n      <td>9335고양</td>\n      <td>경기</td>\n      <td>0.00</td>\n      <td>남동IC진입(경유)</td>\n      <td>가상정류장</td>\n      <td>0.0</td>\n      <td>126.711872</td>\n      <td>37.430610</td>\n      <td>미설치</td>\n    </tr>\n    <tr>\n      <th>...</th>\n      <td>...</td>\n      <td>...</td>\n      <td>...</td>\n      <td>...</td>\n      <td>...</td>\n      <td>...</td>\n      <td>...</td>\n      <td>...</td>\n      <td>...</td>\n      <td>...</td>\n      <td>...</td>\n      <td>...</td>\n      <td>...</td>\n    </tr>\n    <tr>\n      <th>81777</th>\n      <td>100100159</td>\n      <td>110000685</td>\n      <td>123</td>\n      <td>8</td>\n      <td>1144</td>\n      <td>지선</td>\n      <td>19.89</td>\n      <td>그린아파트101동앞</td>\n      <td>일반차로</td>\n      <td>11432.0</td>\n      <td>127.061918</td>\n      <td>37.644305</td>\n      <td>설치</td>\n    </tr>\n    <tr>\n      <th>81778</th>\n      <td>100100159</td>\n      <td>110000686</td>\n      <td>273</td>\n      <td>55</td>\n      <td>1144</td>\n      <td>지선</td>\n      <td>19.89</td>\n      <td>그린아파트101동앞</td>\n      <td>일반차로</td>\n      <td>11460.0</td>\n      <td>127.061642</td>\n      <td>37.644343</td>\n      <td>설치</td>\n    </tr>\n    <tr>\n      <th>81779</th>\n      <td>100100159</td>\n      <td>110000684</td>\n      <td>141</td>\n      <td>56</td>\n      <td>1144</td>\n      <td>지선</td>\n      <td>19.89</td>\n      <td>북부여성발전센터앞</td>\n      <td>일반차로</td>\n      <td>11461.0</td>\n      <td>127.062174</td>\n      <td>37.643175</td>\n      <td>설치</td>\n    </tr>\n    <tr>\n      <th>81780</th>\n      <td>100100159</td>\n      <td>110000269</td>\n      <td>97</td>\n      <td>57</td>\n      <td>1144</td>\n      <td>지선</td>\n      <td>19.89</td>\n      <td>서울아이티고등학교</td>\n      <td>일반차로</td>\n      <td>11370.0</td>\n      <td>127.062523</td>\n      <td>37.642374</td>\n      <td>설치</td>\n    </tr>\n    <tr>\n      <th>81781</th>\n      <td>100100159</td>\n      <td>110000267</td>\n      <td>396</td>\n      <td>58</td>\n      <td>1144</td>\n      <td>지선</td>\n      <td>19.89</td>\n      <td>건영옴니백화점</td>\n      <td>일반차로</td>\n      <td>11368.0</td>\n      <td>127.064042</td>\n      <td>37.639024</td>\n      <td>설치</td>\n    </tr>\n  </tbody>\n</table>\n<p>81782 rows × 13 columns</p>\n</div>"
     },
     "execution_count": 23,
     "metadata": {},
     "output_type": "execute_result"
    }
   ],
   "source": [
    "bus_master = station_node\n",
    "bus_master = pd.merge(bus_master, route, on='ROUTE_ID')\n",
    "bus_master = pd.merge(bus_master, station, on='STTN_ID')\n",
    "bus_master"
   ],
   "metadata": {
    "collapsed": false
   }
  },
  {
   "cell_type": "code",
   "execution_count": 24,
   "outputs": [
    {
     "data": {
      "text/plain": "        ROUTE_ID    STTN_ID  LINK_DSTNC_ACMTL  STTN_SN ROUTE_NM ROUTE_TY  \\\n10493  100100085  118000076              1394       24      600       간선   \n10524  100100085  118000199               549       26      600       간선   \n10532  100100085  113000001              2429       27      600       간선   \n10547  100100085  113000003               403       28      600       간선   \n10560  100100085  113000005               358       29      600       간선   \n...          ...        ...               ...      ...      ...      ...   \n47378  100100085  116000287               215       60      600       간선   \n47380  100100085  116000611               163       61      600       간선   \n47382  100100085  116000445               187       62      600       간선   \n47384  100100085  116000447               490       63      600       간선   \n47385  100100085  116000194               261       69      600       간선   \n\n       DSTNC       STTN_NM STTN_TY  STTN_NO     CRDNT_X    CRDNT_Y  \\\n10493   38.0         전경련회관    일반차로  19161.0  126.918884  37.521891   \n10524   38.0  파크원타워.LG트윈타워    일반차로  19284.0  126.927025  37.526956   \n10532   38.0     마포역서울가든호텔    중앙차로  14001.0  126.947962  37.540900   \n10547   38.0     공덕역롯데시티호텔    중앙차로  14003.0  126.950905  37.543605   \n10560   38.0       아현동주민센터    중앙차로  14005.0  126.952907  37.546365   \n...      ...           ...     ...      ...         ...        ...   \n47378   38.0      거성푸르뫼아파트    일반차로  17306.0  126.843679  37.500606   \n47380   38.0     동부골든아파트후문    일반차로  17314.0  126.842048  37.499917   \n47382   38.0       동부골든아파트    일반차로  17304.0  126.840437  37.498821   \n47384   38.0        오류동삼거리    일반차로  17308.0  126.840366  37.495785   \n47385   38.0         온수동종점    일반차로  17289.0  126.821273  37.491642   \n\n      BIT_INSTL_AT  \n10493          미설치  \n10524          미설치  \n10532           설치  \n10547           설치  \n10560           설치  \n...            ...  \n47378           설치  \n47380          미설치  \n47382           설치  \n47384           설치  \n47385          미설치  \n\n[69 rows x 13 columns]",
      "text/html": "<div>\n<style scoped>\n    .dataframe tbody tr th:only-of-type {\n        vertical-align: middle;\n    }\n\n    .dataframe tbody tr th {\n        vertical-align: top;\n    }\n\n    .dataframe thead th {\n        text-align: right;\n    }\n</style>\n<table border=\"1\" class=\"dataframe\">\n  <thead>\n    <tr style=\"text-align: right;\">\n      <th></th>\n      <th>ROUTE_ID</th>\n      <th>STTN_ID</th>\n      <th>LINK_DSTNC_ACMTL</th>\n      <th>STTN_SN</th>\n      <th>ROUTE_NM</th>\n      <th>ROUTE_TY</th>\n      <th>DSTNC</th>\n      <th>STTN_NM</th>\n      <th>STTN_TY</th>\n      <th>STTN_NO</th>\n      <th>CRDNT_X</th>\n      <th>CRDNT_Y</th>\n      <th>BIT_INSTL_AT</th>\n    </tr>\n  </thead>\n  <tbody>\n    <tr>\n      <th>10493</th>\n      <td>100100085</td>\n      <td>118000076</td>\n      <td>1394</td>\n      <td>24</td>\n      <td>600</td>\n      <td>간선</td>\n      <td>38.0</td>\n      <td>전경련회관</td>\n      <td>일반차로</td>\n      <td>19161.0</td>\n      <td>126.918884</td>\n      <td>37.521891</td>\n      <td>미설치</td>\n    </tr>\n    <tr>\n      <th>10524</th>\n      <td>100100085</td>\n      <td>118000199</td>\n      <td>549</td>\n      <td>26</td>\n      <td>600</td>\n      <td>간선</td>\n      <td>38.0</td>\n      <td>파크원타워.LG트윈타워</td>\n      <td>일반차로</td>\n      <td>19284.0</td>\n      <td>126.927025</td>\n      <td>37.526956</td>\n      <td>미설치</td>\n    </tr>\n    <tr>\n      <th>10532</th>\n      <td>100100085</td>\n      <td>113000001</td>\n      <td>2429</td>\n      <td>27</td>\n      <td>600</td>\n      <td>간선</td>\n      <td>38.0</td>\n      <td>마포역서울가든호텔</td>\n      <td>중앙차로</td>\n      <td>14001.0</td>\n      <td>126.947962</td>\n      <td>37.540900</td>\n      <td>설치</td>\n    </tr>\n    <tr>\n      <th>10547</th>\n      <td>100100085</td>\n      <td>113000003</td>\n      <td>403</td>\n      <td>28</td>\n      <td>600</td>\n      <td>간선</td>\n      <td>38.0</td>\n      <td>공덕역롯데시티호텔</td>\n      <td>중앙차로</td>\n      <td>14003.0</td>\n      <td>126.950905</td>\n      <td>37.543605</td>\n      <td>설치</td>\n    </tr>\n    <tr>\n      <th>10560</th>\n      <td>100100085</td>\n      <td>113000005</td>\n      <td>358</td>\n      <td>29</td>\n      <td>600</td>\n      <td>간선</td>\n      <td>38.0</td>\n      <td>아현동주민센터</td>\n      <td>중앙차로</td>\n      <td>14005.0</td>\n      <td>126.952907</td>\n      <td>37.546365</td>\n      <td>설치</td>\n    </tr>\n    <tr>\n      <th>...</th>\n      <td>...</td>\n      <td>...</td>\n      <td>...</td>\n      <td>...</td>\n      <td>...</td>\n      <td>...</td>\n      <td>...</td>\n      <td>...</td>\n      <td>...</td>\n      <td>...</td>\n      <td>...</td>\n      <td>...</td>\n      <td>...</td>\n    </tr>\n    <tr>\n      <th>47378</th>\n      <td>100100085</td>\n      <td>116000287</td>\n      <td>215</td>\n      <td>60</td>\n      <td>600</td>\n      <td>간선</td>\n      <td>38.0</td>\n      <td>거성푸르뫼아파트</td>\n      <td>일반차로</td>\n      <td>17306.0</td>\n      <td>126.843679</td>\n      <td>37.500606</td>\n      <td>설치</td>\n    </tr>\n    <tr>\n      <th>47380</th>\n      <td>100100085</td>\n      <td>116000611</td>\n      <td>163</td>\n      <td>61</td>\n      <td>600</td>\n      <td>간선</td>\n      <td>38.0</td>\n      <td>동부골든아파트후문</td>\n      <td>일반차로</td>\n      <td>17314.0</td>\n      <td>126.842048</td>\n      <td>37.499917</td>\n      <td>미설치</td>\n    </tr>\n    <tr>\n      <th>47382</th>\n      <td>100100085</td>\n      <td>116000445</td>\n      <td>187</td>\n      <td>62</td>\n      <td>600</td>\n      <td>간선</td>\n      <td>38.0</td>\n      <td>동부골든아파트</td>\n      <td>일반차로</td>\n      <td>17304.0</td>\n      <td>126.840437</td>\n      <td>37.498821</td>\n      <td>설치</td>\n    </tr>\n    <tr>\n      <th>47384</th>\n      <td>100100085</td>\n      <td>116000447</td>\n      <td>490</td>\n      <td>63</td>\n      <td>600</td>\n      <td>간선</td>\n      <td>38.0</td>\n      <td>오류동삼거리</td>\n      <td>일반차로</td>\n      <td>17308.0</td>\n      <td>126.840366</td>\n      <td>37.495785</td>\n      <td>설치</td>\n    </tr>\n    <tr>\n      <th>47385</th>\n      <td>100100085</td>\n      <td>116000194</td>\n      <td>261</td>\n      <td>69</td>\n      <td>600</td>\n      <td>간선</td>\n      <td>38.0</td>\n      <td>온수동종점</td>\n      <td>일반차로</td>\n      <td>17289.0</td>\n      <td>126.821273</td>\n      <td>37.491642</td>\n      <td>미설치</td>\n    </tr>\n  </tbody>\n</table>\n<p>69 rows × 13 columns</p>\n</div>"
     },
     "execution_count": 24,
     "metadata": {},
     "output_type": "execute_result"
    }
   ],
   "source": [
    "bus_600 = bus_master.loc[bus_master['ROUTE_NM'] == '600']\n",
    "bus_600"
   ],
   "metadata": {
    "collapsed": false
   }
  },
  {
   "cell_type": "markdown",
   "source": [
    "## a. 일자별 시간대별 버스노선별 정류장별 운행횟수 - TPSS_STA_ROUTE_INFO_H_TURN.csv"
   ],
   "metadata": {
    "collapsed": false
   }
  },
  {
   "cell_type": "code",
   "execution_count": 4,
   "outputs": [
    {
     "data": {
      "text/plain": "    STDR_DE   ROUTE_ID      STTN_ID    CNT  CNT_00H  CNT_01H  CNT_02H  \\\n0  20220922  111000014  111000925.0  109.0      NaN      NaN      NaN   \n1  20220922  111000012  218000625.0   73.0      4.0      NaN      NaN   \n2  20220922  111000012  218000653.0   74.0      4.0      1.0      NaN   \n3  20220922  111000012  111000013.0   74.0      5.0      3.0      NaN   \n4  20220922  111000014  111000213.0  109.0      NaN      NaN      NaN   \n\n   CNT_03H  CNT_04H  CNT_05H  ...  CNT_15H  CNT_16H  CNT_17H  CNT_18H  \\\n0      NaN      5.0      6.0  ...      6.0      5.0      5.0      5.0   \n1      NaN      2.0      2.0  ...      4.0      4.0      3.0      3.0   \n2      NaN      1.0      2.0  ...      4.0      4.0      5.0      2.0   \n3      NaN      NaN      2.0  ...      4.0      4.0      4.0      3.0   \n4      NaN      4.0      5.0  ...      5.0      6.0      5.0      5.0   \n\n   CNT_19H  CNT_20H  CNT_21H  CNT_22H  CNT_23H  STTN_SN  \n0      5.0      5.0      6.0      5.0      3.0      6.0  \n1      3.0      5.0      4.0      5.0      4.0    124.0  \n2      3.0      5.0      5.0      4.0      5.0    143.0  \n3      3.0      4.0      5.0      5.0      4.0    163.0  \n4      5.0      5.0      6.0      5.0      4.0     12.0  \n\n[5 rows x 29 columns]",
      "text/html": "<div>\n<style scoped>\n    .dataframe tbody tr th:only-of-type {\n        vertical-align: middle;\n    }\n\n    .dataframe tbody tr th {\n        vertical-align: top;\n    }\n\n    .dataframe thead th {\n        text-align: right;\n    }\n</style>\n<table border=\"1\" class=\"dataframe\">\n  <thead>\n    <tr style=\"text-align: right;\">\n      <th></th>\n      <th>STDR_DE</th>\n      <th>ROUTE_ID</th>\n      <th>STTN_ID</th>\n      <th>CNT</th>\n      <th>CNT_00H</th>\n      <th>CNT_01H</th>\n      <th>CNT_02H</th>\n      <th>CNT_03H</th>\n      <th>CNT_04H</th>\n      <th>CNT_05H</th>\n      <th>...</th>\n      <th>CNT_15H</th>\n      <th>CNT_16H</th>\n      <th>CNT_17H</th>\n      <th>CNT_18H</th>\n      <th>CNT_19H</th>\n      <th>CNT_20H</th>\n      <th>CNT_21H</th>\n      <th>CNT_22H</th>\n      <th>CNT_23H</th>\n      <th>STTN_SN</th>\n    </tr>\n  </thead>\n  <tbody>\n    <tr>\n      <th>0</th>\n      <td>20220922</td>\n      <td>111000014</td>\n      <td>111000925.0</td>\n      <td>109.0</td>\n      <td>NaN</td>\n      <td>NaN</td>\n      <td>NaN</td>\n      <td>NaN</td>\n      <td>5.0</td>\n      <td>6.0</td>\n      <td>...</td>\n      <td>6.0</td>\n      <td>5.0</td>\n      <td>5.0</td>\n      <td>5.0</td>\n      <td>5.0</td>\n      <td>5.0</td>\n      <td>6.0</td>\n      <td>5.0</td>\n      <td>3.0</td>\n      <td>6.0</td>\n    </tr>\n    <tr>\n      <th>1</th>\n      <td>20220922</td>\n      <td>111000012</td>\n      <td>218000625.0</td>\n      <td>73.0</td>\n      <td>4.0</td>\n      <td>NaN</td>\n      <td>NaN</td>\n      <td>NaN</td>\n      <td>2.0</td>\n      <td>2.0</td>\n      <td>...</td>\n      <td>4.0</td>\n      <td>4.0</td>\n      <td>3.0</td>\n      <td>3.0</td>\n      <td>3.0</td>\n      <td>5.0</td>\n      <td>4.0</td>\n      <td>5.0</td>\n      <td>4.0</td>\n      <td>124.0</td>\n    </tr>\n    <tr>\n      <th>2</th>\n      <td>20220922</td>\n      <td>111000012</td>\n      <td>218000653.0</td>\n      <td>74.0</td>\n      <td>4.0</td>\n      <td>1.0</td>\n      <td>NaN</td>\n      <td>NaN</td>\n      <td>1.0</td>\n      <td>2.0</td>\n      <td>...</td>\n      <td>4.0</td>\n      <td>4.0</td>\n      <td>5.0</td>\n      <td>2.0</td>\n      <td>3.0</td>\n      <td>5.0</td>\n      <td>5.0</td>\n      <td>4.0</td>\n      <td>5.0</td>\n      <td>143.0</td>\n    </tr>\n    <tr>\n      <th>3</th>\n      <td>20220922</td>\n      <td>111000012</td>\n      <td>111000013.0</td>\n      <td>74.0</td>\n      <td>5.0</td>\n      <td>3.0</td>\n      <td>NaN</td>\n      <td>NaN</td>\n      <td>NaN</td>\n      <td>2.0</td>\n      <td>...</td>\n      <td>4.0</td>\n      <td>4.0</td>\n      <td>4.0</td>\n      <td>3.0</td>\n      <td>3.0</td>\n      <td>4.0</td>\n      <td>5.0</td>\n      <td>5.0</td>\n      <td>4.0</td>\n      <td>163.0</td>\n    </tr>\n    <tr>\n      <th>4</th>\n      <td>20220922</td>\n      <td>111000014</td>\n      <td>111000213.0</td>\n      <td>109.0</td>\n      <td>NaN</td>\n      <td>NaN</td>\n      <td>NaN</td>\n      <td>NaN</td>\n      <td>4.0</td>\n      <td>5.0</td>\n      <td>...</td>\n      <td>5.0</td>\n      <td>6.0</td>\n      <td>5.0</td>\n      <td>5.0</td>\n      <td>5.0</td>\n      <td>5.0</td>\n      <td>6.0</td>\n      <td>5.0</td>\n      <td>4.0</td>\n      <td>12.0</td>\n    </tr>\n  </tbody>\n</table>\n<p>5 rows × 29 columns</p>\n</div>"
     },
     "metadata": {},
     "output_type": "display_data"
    },
    {
     "data": {
      "text/plain": "(83062, 29)"
     },
     "metadata": {},
     "output_type": "display_data"
    }
   ],
   "source": [
    "turn = pd.read_csv('../../data/서울교통수단이동/202209/TR202100010001_00/TPSS_STA_ROUTE_INFO_H_TURN.csv')\n",
    "display(turn.head())\n",
    "display(turn.shape)"
   ],
   "metadata": {
    "collapsed": false
   }
  },
  {
   "cell_type": "code",
   "execution_count": 21,
   "outputs": [
    {
     "data": {
      "text/plain": "        STDR_DE   ROUTE_ID      STTN_ID    CNT  CNT_00H  CNT_01H  CNT_02H  \\\n8855   20220922  100100085  116000121.0  162.0      0.0      0.0      0.0   \n8856   20220922  100100085  116000137.0  162.0      0.0      0.0      0.0   \n8857   20220922  100100085  100000380.0  162.0      5.0      0.0      0.0   \n8859   20220922  100100085  116000125.0  162.0      0.0      0.0      0.0   \n8860   20220922  100100085  113000007.0  162.0      4.0      0.0      0.0   \n...         ...        ...          ...    ...      ...      ...      ...   \n78732  20220922  100100085  116000122.0  162.0      9.0      3.0      0.0   \n78733  20220922  100100085  116000124.0  162.0      9.0      3.0      0.0   \n78734  20220922  100100085  116000445.0  162.0      9.0      4.0      0.0   \n78735  20220922  100100085  116000448.0  162.0      0.0      0.0      0.0   \n78736  20220922  100100085  118000076.0  162.0      3.0      0.0      0.0   \n\n       CNT_03H  CNT_04H  CNT_05H  ...  CNT_16H  CNT_17H  CNT_18H  CNT_19H  \\\n8855       0.0      8.0      8.0  ...      8.0      7.0      8.0      8.0   \n8856       0.0      7.0      9.0  ...      7.0      8.0      8.0      8.0   \n8857       0.0      0.0     10.0  ...      9.0      7.0      6.0     10.0   \n8859       0.0      8.0      9.0  ...      8.0      7.0      7.0      9.0   \n8860       0.0      1.0     10.0  ...      8.0      7.0      7.0      9.0   \n...        ...      ...      ...  ...      ...      ...      ...      ...   \n78732      0.0      0.0      2.0  ...      9.0      9.0      6.0      7.0   \n78733      0.0      0.0      2.0  ...      9.0      9.0      5.0      8.0   \n78734      0.0      0.0      1.0  ...      9.0      8.0      7.0      7.0   \n78735      0.0      9.0      9.0  ...      8.0      7.0      7.0      9.0   \n78736      0.0      4.0      9.0  ...      7.0      8.0      7.0      8.0   \n\n       CNT_20H  CNT_21H  CNT_22H  CNT_23H  STTN_SN    sum  \n8855       9.0      8.0      9.0      7.0     14.0  162.0  \n8856       9.0      8.0      9.0      7.0     16.0  162.0  \n8857       8.0      8.0     10.0      8.0     35.0  162.0  \n8859       8.0      9.0      9.0      6.0     12.0  162.0  \n8860       8.0      9.0      9.0      8.0     30.0  162.0  \n...        ...      ...      ...      ...      ...    ...  \n78732     10.0      8.0      8.0     10.0     55.0  162.0  \n78733     10.0      8.0      8.0     10.0     56.0  162.0  \n78734     10.0      8.0      8.0     10.0     62.0  162.0  \n78735      8.0      9.0      9.0      5.0      6.0  162.0  \n78736      8.0      9.0      9.0      7.0     24.0  162.0  \n\n[70 rows x 30 columns]",
      "text/html": "<div>\n<style scoped>\n    .dataframe tbody tr th:only-of-type {\n        vertical-align: middle;\n    }\n\n    .dataframe tbody tr th {\n        vertical-align: top;\n    }\n\n    .dataframe thead th {\n        text-align: right;\n    }\n</style>\n<table border=\"1\" class=\"dataframe\">\n  <thead>\n    <tr style=\"text-align: right;\">\n      <th></th>\n      <th>STDR_DE</th>\n      <th>ROUTE_ID</th>\n      <th>STTN_ID</th>\n      <th>CNT</th>\n      <th>CNT_00H</th>\n      <th>CNT_01H</th>\n      <th>CNT_02H</th>\n      <th>CNT_03H</th>\n      <th>CNT_04H</th>\n      <th>CNT_05H</th>\n      <th>...</th>\n      <th>CNT_16H</th>\n      <th>CNT_17H</th>\n      <th>CNT_18H</th>\n      <th>CNT_19H</th>\n      <th>CNT_20H</th>\n      <th>CNT_21H</th>\n      <th>CNT_22H</th>\n      <th>CNT_23H</th>\n      <th>STTN_SN</th>\n      <th>sum</th>\n    </tr>\n  </thead>\n  <tbody>\n    <tr>\n      <th>8855</th>\n      <td>20220922</td>\n      <td>100100085</td>\n      <td>116000121.0</td>\n      <td>162.0</td>\n      <td>0.0</td>\n      <td>0.0</td>\n      <td>0.0</td>\n      <td>0.0</td>\n      <td>8.0</td>\n      <td>8.0</td>\n      <td>...</td>\n      <td>8.0</td>\n      <td>7.0</td>\n      <td>8.0</td>\n      <td>8.0</td>\n      <td>9.0</td>\n      <td>8.0</td>\n      <td>9.0</td>\n      <td>7.0</td>\n      <td>14.0</td>\n      <td>162.0</td>\n    </tr>\n    <tr>\n      <th>8856</th>\n      <td>20220922</td>\n      <td>100100085</td>\n      <td>116000137.0</td>\n      <td>162.0</td>\n      <td>0.0</td>\n      <td>0.0</td>\n      <td>0.0</td>\n      <td>0.0</td>\n      <td>7.0</td>\n      <td>9.0</td>\n      <td>...</td>\n      <td>7.0</td>\n      <td>8.0</td>\n      <td>8.0</td>\n      <td>8.0</td>\n      <td>9.0</td>\n      <td>8.0</td>\n      <td>9.0</td>\n      <td>7.0</td>\n      <td>16.0</td>\n      <td>162.0</td>\n    </tr>\n    <tr>\n      <th>8857</th>\n      <td>20220922</td>\n      <td>100100085</td>\n      <td>100000380.0</td>\n      <td>162.0</td>\n      <td>5.0</td>\n      <td>0.0</td>\n      <td>0.0</td>\n      <td>0.0</td>\n      <td>0.0</td>\n      <td>10.0</td>\n      <td>...</td>\n      <td>9.0</td>\n      <td>7.0</td>\n      <td>6.0</td>\n      <td>10.0</td>\n      <td>8.0</td>\n      <td>8.0</td>\n      <td>10.0</td>\n      <td>8.0</td>\n      <td>35.0</td>\n      <td>162.0</td>\n    </tr>\n    <tr>\n      <th>8859</th>\n      <td>20220922</td>\n      <td>100100085</td>\n      <td>116000125.0</td>\n      <td>162.0</td>\n      <td>0.0</td>\n      <td>0.0</td>\n      <td>0.0</td>\n      <td>0.0</td>\n      <td>8.0</td>\n      <td>9.0</td>\n      <td>...</td>\n      <td>8.0</td>\n      <td>7.0</td>\n      <td>7.0</td>\n      <td>9.0</td>\n      <td>8.0</td>\n      <td>9.0</td>\n      <td>9.0</td>\n      <td>6.0</td>\n      <td>12.0</td>\n      <td>162.0</td>\n    </tr>\n    <tr>\n      <th>8860</th>\n      <td>20220922</td>\n      <td>100100085</td>\n      <td>113000007.0</td>\n      <td>162.0</td>\n      <td>4.0</td>\n      <td>0.0</td>\n      <td>0.0</td>\n      <td>0.0</td>\n      <td>1.0</td>\n      <td>10.0</td>\n      <td>...</td>\n      <td>8.0</td>\n      <td>7.0</td>\n      <td>7.0</td>\n      <td>9.0</td>\n      <td>8.0</td>\n      <td>9.0</td>\n      <td>9.0</td>\n      <td>8.0</td>\n      <td>30.0</td>\n      <td>162.0</td>\n    </tr>\n    <tr>\n      <th>...</th>\n      <td>...</td>\n      <td>...</td>\n      <td>...</td>\n      <td>...</td>\n      <td>...</td>\n      <td>...</td>\n      <td>...</td>\n      <td>...</td>\n      <td>...</td>\n      <td>...</td>\n      <td>...</td>\n      <td>...</td>\n      <td>...</td>\n      <td>...</td>\n      <td>...</td>\n      <td>...</td>\n      <td>...</td>\n      <td>...</td>\n      <td>...</td>\n      <td>...</td>\n      <td>...</td>\n    </tr>\n    <tr>\n      <th>78732</th>\n      <td>20220922</td>\n      <td>100100085</td>\n      <td>116000122.0</td>\n      <td>162.0</td>\n      <td>9.0</td>\n      <td>3.0</td>\n      <td>0.0</td>\n      <td>0.0</td>\n      <td>0.0</td>\n      <td>2.0</td>\n      <td>...</td>\n      <td>9.0</td>\n      <td>9.0</td>\n      <td>6.0</td>\n      <td>7.0</td>\n      <td>10.0</td>\n      <td>8.0</td>\n      <td>8.0</td>\n      <td>10.0</td>\n      <td>55.0</td>\n      <td>162.0</td>\n    </tr>\n    <tr>\n      <th>78733</th>\n      <td>20220922</td>\n      <td>100100085</td>\n      <td>116000124.0</td>\n      <td>162.0</td>\n      <td>9.0</td>\n      <td>3.0</td>\n      <td>0.0</td>\n      <td>0.0</td>\n      <td>0.0</td>\n      <td>2.0</td>\n      <td>...</td>\n      <td>9.0</td>\n      <td>9.0</td>\n      <td>5.0</td>\n      <td>8.0</td>\n      <td>10.0</td>\n      <td>8.0</td>\n      <td>8.0</td>\n      <td>10.0</td>\n      <td>56.0</td>\n      <td>162.0</td>\n    </tr>\n    <tr>\n      <th>78734</th>\n      <td>20220922</td>\n      <td>100100085</td>\n      <td>116000445.0</td>\n      <td>162.0</td>\n      <td>9.0</td>\n      <td>4.0</td>\n      <td>0.0</td>\n      <td>0.0</td>\n      <td>0.0</td>\n      <td>1.0</td>\n      <td>...</td>\n      <td>9.0</td>\n      <td>8.0</td>\n      <td>7.0</td>\n      <td>7.0</td>\n      <td>10.0</td>\n      <td>8.0</td>\n      <td>8.0</td>\n      <td>10.0</td>\n      <td>62.0</td>\n      <td>162.0</td>\n    </tr>\n    <tr>\n      <th>78735</th>\n      <td>20220922</td>\n      <td>100100085</td>\n      <td>116000448.0</td>\n      <td>162.0</td>\n      <td>0.0</td>\n      <td>0.0</td>\n      <td>0.0</td>\n      <td>0.0</td>\n      <td>9.0</td>\n      <td>9.0</td>\n      <td>...</td>\n      <td>8.0</td>\n      <td>7.0</td>\n      <td>7.0</td>\n      <td>9.0</td>\n      <td>8.0</td>\n      <td>9.0</td>\n      <td>9.0</td>\n      <td>5.0</td>\n      <td>6.0</td>\n      <td>162.0</td>\n    </tr>\n    <tr>\n      <th>78736</th>\n      <td>20220922</td>\n      <td>100100085</td>\n      <td>118000076.0</td>\n      <td>162.0</td>\n      <td>3.0</td>\n      <td>0.0</td>\n      <td>0.0</td>\n      <td>0.0</td>\n      <td>4.0</td>\n      <td>9.0</td>\n      <td>...</td>\n      <td>7.0</td>\n      <td>8.0</td>\n      <td>7.0</td>\n      <td>8.0</td>\n      <td>8.0</td>\n      <td>9.0</td>\n      <td>9.0</td>\n      <td>7.0</td>\n      <td>24.0</td>\n      <td>162.0</td>\n    </tr>\n  </tbody>\n</table>\n<p>70 rows × 30 columns</p>\n</div>"
     },
     "execution_count": 21,
     "metadata": {},
     "output_type": "execute_result"
    }
   ],
   "source": [
    "bus_600_id = 100100085\n",
    "\n",
    "df = turn.loc[turn['ROUTE_ID'] == bus_600_id].copy()\n",
    "df.fillna(0.0, inplace=True)\n",
    "df['sum'] = df.iloc[:, 4:-1].sum(axis=1)\n",
    "df"
   ],
   "metadata": {
    "collapsed": false
   }
  }
 ],
 "metadata": {
  "kernelspec": {
   "display_name": "base",
   "language": "python",
   "name": "python3"
  },
  "language_info": {
   "codemirror_mode": {
    "name": "ipython",
    "version": 3
   },
   "file_extension": ".py",
   "mimetype": "text/x-python",
   "name": "python",
   "nbconvert_exporter": "python",
   "pygments_lexer": "ipython3",
   "version": "3.9.13"
  },
  "orig_nbformat": 4,
  "vscode": {
   "interpreter": {
    "hash": "f08154012ddadd8e950e6e9e035c7a7b32c136e7647e9b7c77e02eb723a8bedb"
   }
  }
 },
 "nbformat": 4,
 "nbformat_minor": 2
}
