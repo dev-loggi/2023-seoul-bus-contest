{
 "cells": [
  {
   "cell_type": "code",
   "execution_count": 5,
   "metadata": {
    "collapsed": true
   },
   "outputs": [],
   "source": [
    "import pandas as pd"
   ]
  },
  {
   "cell_type": "code",
   "execution_count": 6,
   "outputs": [
    {
     "data": {
      "text/plain": "         STTN_ID     STTN_NM STTN_TY  STTN_NO     CRDNT_X    CRDNT_Y  \\\n0      104000305     광진구보훈회관    일반차로   5298.0  127.107723  37.547735   \n1      123000598  한강공원잠실대교남단    일반차로  24509.0  127.094707  37.520004   \n2      123000308     제일은행건너편    일반차로  24399.0  127.118580  37.496389   \n3      121900285     농협하나로마트    마을버스  22341.0  127.044354  37.463921   \n4      213900244     철산우성아파트    마을버스  38076.0  126.867410  37.489826   \n...          ...         ...     ...      ...         ...        ...   \n70441  234000316    고산1리.허산리    일반차로  38209.0  127.242114  37.381224   \n70442  234000315  오포도서관.오포농협    일반차로  38178.0  127.231914  37.369356   \n70443  234000314      오포읍사무소    일반차로  38533.0  127.231729  37.366752   \n70444  234000313        풍산목재    일반차로  38163.0  127.226235  37.360592   \n70445  234000260   파라다이스아파트앞    일반차로  38908.0  127.254916  37.418612   \n\n      BIT_INSTL_AT  \n0              미설치  \n1              미설치  \n2              미설치  \n3              미설치  \n4              미설치  \n...            ...  \n70441          미설치  \n70442          미설치  \n70443          미설치  \n70444          미설치  \n70445          미설치  \n\n[70446 rows x 7 columns]",
      "text/html": "<div>\n<style scoped>\n    .dataframe tbody tr th:only-of-type {\n        vertical-align: middle;\n    }\n\n    .dataframe tbody tr th {\n        vertical-align: top;\n    }\n\n    .dataframe thead th {\n        text-align: right;\n    }\n</style>\n<table border=\"1\" class=\"dataframe\">\n  <thead>\n    <tr style=\"text-align: right;\">\n      <th></th>\n      <th>STTN_ID</th>\n      <th>STTN_NM</th>\n      <th>STTN_TY</th>\n      <th>STTN_NO</th>\n      <th>CRDNT_X</th>\n      <th>CRDNT_Y</th>\n      <th>BIT_INSTL_AT</th>\n    </tr>\n  </thead>\n  <tbody>\n    <tr>\n      <th>0</th>\n      <td>104000305</td>\n      <td>광진구보훈회관</td>\n      <td>일반차로</td>\n      <td>5298.0</td>\n      <td>127.107723</td>\n      <td>37.547735</td>\n      <td>미설치</td>\n    </tr>\n    <tr>\n      <th>1</th>\n      <td>123000598</td>\n      <td>한강공원잠실대교남단</td>\n      <td>일반차로</td>\n      <td>24509.0</td>\n      <td>127.094707</td>\n      <td>37.520004</td>\n      <td>미설치</td>\n    </tr>\n    <tr>\n      <th>2</th>\n      <td>123000308</td>\n      <td>제일은행건너편</td>\n      <td>일반차로</td>\n      <td>24399.0</td>\n      <td>127.118580</td>\n      <td>37.496389</td>\n      <td>미설치</td>\n    </tr>\n    <tr>\n      <th>3</th>\n      <td>121900285</td>\n      <td>농협하나로마트</td>\n      <td>마을버스</td>\n      <td>22341.0</td>\n      <td>127.044354</td>\n      <td>37.463921</td>\n      <td>미설치</td>\n    </tr>\n    <tr>\n      <th>4</th>\n      <td>213900244</td>\n      <td>철산우성아파트</td>\n      <td>마을버스</td>\n      <td>38076.0</td>\n      <td>126.867410</td>\n      <td>37.489826</td>\n      <td>미설치</td>\n    </tr>\n    <tr>\n      <th>...</th>\n      <td>...</td>\n      <td>...</td>\n      <td>...</td>\n      <td>...</td>\n      <td>...</td>\n      <td>...</td>\n      <td>...</td>\n    </tr>\n    <tr>\n      <th>70441</th>\n      <td>234000316</td>\n      <td>고산1리.허산리</td>\n      <td>일반차로</td>\n      <td>38209.0</td>\n      <td>127.242114</td>\n      <td>37.381224</td>\n      <td>미설치</td>\n    </tr>\n    <tr>\n      <th>70442</th>\n      <td>234000315</td>\n      <td>오포도서관.오포농협</td>\n      <td>일반차로</td>\n      <td>38178.0</td>\n      <td>127.231914</td>\n      <td>37.369356</td>\n      <td>미설치</td>\n    </tr>\n    <tr>\n      <th>70443</th>\n      <td>234000314</td>\n      <td>오포읍사무소</td>\n      <td>일반차로</td>\n      <td>38533.0</td>\n      <td>127.231729</td>\n      <td>37.366752</td>\n      <td>미설치</td>\n    </tr>\n    <tr>\n      <th>70444</th>\n      <td>234000313</td>\n      <td>풍산목재</td>\n      <td>일반차로</td>\n      <td>38163.0</td>\n      <td>127.226235</td>\n      <td>37.360592</td>\n      <td>미설치</td>\n    </tr>\n    <tr>\n      <th>70445</th>\n      <td>234000260</td>\n      <td>파라다이스아파트앞</td>\n      <td>일반차로</td>\n      <td>38908.0</td>\n      <td>127.254916</td>\n      <td>37.418612</td>\n      <td>미설치</td>\n    </tr>\n  </tbody>\n</table>\n<p>70446 rows × 7 columns</p>\n</div>"
     },
     "execution_count": 6,
     "metadata": {},
     "output_type": "execute_result"
    }
   ],
   "source": [
    "station = pd.read_csv('../../data/서울교통수단이동/master/bus_station_master.csv')\n",
    "station"
   ],
   "metadata": {
    "collapsed": false
   }
  },
  {
   "cell_type": "code",
   "execution_count": 7,
   "outputs": [
    {
     "data": {
      "text/plain": "        ROUTE_ID    STTN_ID  LINK_DSTNC_ACMTL  STTN_SN\n0      100100412  274109991               0.0       64\n1      100100412  274109998               0.0        3\n2      100100412  274110129               0.0        4\n3      100100412  161000376               0.0        5\n4      100100509  161000329            6897.0       26\n...          ...        ...               ...      ...\n85343  100100076  117000080             858.0       83\n85344  100100076  117000082             219.0       84\n85345  100100068  122000246               0.0        1\n85346  100100068  122000249             373.0        2\n85347  100100068  122000250             210.0        3\n\n[85348 rows x 4 columns]",
      "text/html": "<div>\n<style scoped>\n    .dataframe tbody tr th:only-of-type {\n        vertical-align: middle;\n    }\n\n    .dataframe tbody tr th {\n        vertical-align: top;\n    }\n\n    .dataframe thead th {\n        text-align: right;\n    }\n</style>\n<table border=\"1\" class=\"dataframe\">\n  <thead>\n    <tr style=\"text-align: right;\">\n      <th></th>\n      <th>ROUTE_ID</th>\n      <th>STTN_ID</th>\n      <th>LINK_DSTNC_ACMTL</th>\n      <th>STTN_SN</th>\n    </tr>\n  </thead>\n  <tbody>\n    <tr>\n      <th>0</th>\n      <td>100100412</td>\n      <td>274109991</td>\n      <td>0.0</td>\n      <td>64</td>\n    </tr>\n    <tr>\n      <th>1</th>\n      <td>100100412</td>\n      <td>274109998</td>\n      <td>0.0</td>\n      <td>3</td>\n    </tr>\n    <tr>\n      <th>2</th>\n      <td>100100412</td>\n      <td>274110129</td>\n      <td>0.0</td>\n      <td>4</td>\n    </tr>\n    <tr>\n      <th>3</th>\n      <td>100100412</td>\n      <td>161000376</td>\n      <td>0.0</td>\n      <td>5</td>\n    </tr>\n    <tr>\n      <th>4</th>\n      <td>100100509</td>\n      <td>161000329</td>\n      <td>6897.0</td>\n      <td>26</td>\n    </tr>\n    <tr>\n      <th>...</th>\n      <td>...</td>\n      <td>...</td>\n      <td>...</td>\n      <td>...</td>\n    </tr>\n    <tr>\n      <th>85343</th>\n      <td>100100076</td>\n      <td>117000080</td>\n      <td>858.0</td>\n      <td>83</td>\n    </tr>\n    <tr>\n      <th>85344</th>\n      <td>100100076</td>\n      <td>117000082</td>\n      <td>219.0</td>\n      <td>84</td>\n    </tr>\n    <tr>\n      <th>85345</th>\n      <td>100100068</td>\n      <td>122000246</td>\n      <td>0.0</td>\n      <td>1</td>\n    </tr>\n    <tr>\n      <th>85346</th>\n      <td>100100068</td>\n      <td>122000249</td>\n      <td>373.0</td>\n      <td>2</td>\n    </tr>\n    <tr>\n      <th>85347</th>\n      <td>100100068</td>\n      <td>122000250</td>\n      <td>210.0</td>\n      <td>3</td>\n    </tr>\n  </tbody>\n</table>\n<p>85348 rows × 4 columns</p>\n</div>"
     },
     "execution_count": 7,
     "metadata": {},
     "output_type": "execute_result"
    }
   ],
   "source": [
    "station_node = pd.read_csv('../../data/서울교통수단이동/master/bus_station_node_master.csv')\n",
    "station_node"
   ],
   "metadata": {
    "collapsed": false
   }
  },
  {
   "cell_type": "code",
   "execution_count": 8,
   "outputs": [
    {
     "data": {
      "text/plain": "70446"
     },
     "execution_count": 8,
     "metadata": {},
     "output_type": "execute_result"
    }
   ],
   "source": [
    "len(station['STTN_ID'].unique())"
   ],
   "metadata": {
    "collapsed": false
   }
  },
  {
   "cell_type": "code",
   "execution_count": 9,
   "outputs": [
    {
     "data": {
      "text/plain": "24487"
     },
     "execution_count": 9,
     "metadata": {},
     "output_type": "execute_result"
    }
   ],
   "source": [
    "len(station_node['STTN_ID'].unique())"
   ],
   "metadata": {
    "collapsed": false
   }
  },
  {
   "cell_type": "code",
   "execution_count": null,
   "outputs": [],
   "source": [],
   "metadata": {
    "collapsed": false
   }
  },
  {
   "cell_type": "code",
   "execution_count": null,
   "outputs": [],
   "source": [],
   "metadata": {
    "collapsed": false
   }
  },
  {
   "cell_type": "code",
   "execution_count": 13,
   "outputs": [
    {
     "data": {
      "text/plain": "        STDR_DE   ROUTE_ID  FROM_STTN_ID  TO_STTN_ID  TRIP_TIME  \\\n0      20230111  222000078     222000325   222000749         74   \n1      20230111  222000030     222000150   222001599         87   \n2      20230111  213000006     224000383   224000382         69   \n3      20230111  213000011     213000227   213000137        131   \n4      20230111  216000046     216000227   216000290        167   \n...         ...        ...           ...         ...        ...   \n80003  20230111  234000040     104000299   104000007         51   \n80004  20230111  234000003     222000317   222000141         52   \n80005  20230111  234000042     228000336   228000335         28   \n80006  20230111  100100247     122000240   122000239         95   \n80007  20230111  100100216     104000141   104000157        135   \n\n       TRIP_TIME_00H  TRIP_TIME_01H  TRIP_TIME_02H  TRIP_TIME_03H  \\\n0                 35              0              0              0   \n1                  0              0              0              0   \n2                  0              0              0              0   \n3                  0              0              0              0   \n4                209            149              0              0   \n...              ...            ...            ...            ...   \n80003              0              0              0              0   \n80004              0              0              0              0   \n80005             29             27              0              0   \n80006              0              0              0              0   \n80007             72              0              0              0   \n\n       TRIP_TIME_04H  ...  TRIP_TIME_16H  TRIP_TIME_17H  TRIP_TIME_18H  \\\n0                  0  ...             27            135             97   \n1                  0  ...              0            104            131   \n2                  0  ...             68             75             74   \n3                  0  ...            111            116            117   \n4                  0  ...            124            185            199   \n...              ...  ...            ...            ...            ...   \n80003              0  ...              0             47              0   \n80004             57  ...             65             48             48   \n80005              0  ...             27             33             32   \n80006              0  ...             91            101             99   \n80007              0  ...            107            158            215   \n\n       TRIP_TIME_19H  TRIP_TIME_20H  TRIP_TIME_21H  TRIP_TIME_22H  \\\n0                129             69             60             32   \n1                  0            102             76              0   \n2                 76             59             71             65   \n3                 99            134             91            120   \n4                188            192            218            189   \n...              ...            ...            ...            ...   \n80003              0             94              0             39   \n80004             52              0             47             48   \n80005             31             28             31             25   \n80006            111            113            105            102   \n80007            110            123            107            115   \n\n       TRIP_TIME_23H  FROM_STTN_SN  TO_STTN_SN  \n0                 43            79          80  \n1                  0            15          16  \n2                 55            51          52  \n3                 68             3           4  \n4                 98            59          60  \n...              ...           ...         ...  \n80003              0            61          62  \n80004             50            39          40  \n80005             28           114         115  \n80006             68             6           7  \n80007            115            43          44  \n\n[80008 rows x 31 columns]",
      "text/html": "<div>\n<style scoped>\n    .dataframe tbody tr th:only-of-type {\n        vertical-align: middle;\n    }\n\n    .dataframe tbody tr th {\n        vertical-align: top;\n    }\n\n    .dataframe thead th {\n        text-align: right;\n    }\n</style>\n<table border=\"1\" class=\"dataframe\">\n  <thead>\n    <tr style=\"text-align: right;\">\n      <th></th>\n      <th>STDR_DE</th>\n      <th>ROUTE_ID</th>\n      <th>FROM_STTN_ID</th>\n      <th>TO_STTN_ID</th>\n      <th>TRIP_TIME</th>\n      <th>TRIP_TIME_00H</th>\n      <th>TRIP_TIME_01H</th>\n      <th>TRIP_TIME_02H</th>\n      <th>TRIP_TIME_03H</th>\n      <th>TRIP_TIME_04H</th>\n      <th>...</th>\n      <th>TRIP_TIME_16H</th>\n      <th>TRIP_TIME_17H</th>\n      <th>TRIP_TIME_18H</th>\n      <th>TRIP_TIME_19H</th>\n      <th>TRIP_TIME_20H</th>\n      <th>TRIP_TIME_21H</th>\n      <th>TRIP_TIME_22H</th>\n      <th>TRIP_TIME_23H</th>\n      <th>FROM_STTN_SN</th>\n      <th>TO_STTN_SN</th>\n    </tr>\n  </thead>\n  <tbody>\n    <tr>\n      <th>0</th>\n      <td>20230111</td>\n      <td>222000078</td>\n      <td>222000325</td>\n      <td>222000749</td>\n      <td>74</td>\n      <td>35</td>\n      <td>0</td>\n      <td>0</td>\n      <td>0</td>\n      <td>0</td>\n      <td>...</td>\n      <td>27</td>\n      <td>135</td>\n      <td>97</td>\n      <td>129</td>\n      <td>69</td>\n      <td>60</td>\n      <td>32</td>\n      <td>43</td>\n      <td>79</td>\n      <td>80</td>\n    </tr>\n    <tr>\n      <th>1</th>\n      <td>20230111</td>\n      <td>222000030</td>\n      <td>222000150</td>\n      <td>222001599</td>\n      <td>87</td>\n      <td>0</td>\n      <td>0</td>\n      <td>0</td>\n      <td>0</td>\n      <td>0</td>\n      <td>...</td>\n      <td>0</td>\n      <td>104</td>\n      <td>131</td>\n      <td>0</td>\n      <td>102</td>\n      <td>76</td>\n      <td>0</td>\n      <td>0</td>\n      <td>15</td>\n      <td>16</td>\n    </tr>\n    <tr>\n      <th>2</th>\n      <td>20230111</td>\n      <td>213000006</td>\n      <td>224000383</td>\n      <td>224000382</td>\n      <td>69</td>\n      <td>0</td>\n      <td>0</td>\n      <td>0</td>\n      <td>0</td>\n      <td>0</td>\n      <td>...</td>\n      <td>68</td>\n      <td>75</td>\n      <td>74</td>\n      <td>76</td>\n      <td>59</td>\n      <td>71</td>\n      <td>65</td>\n      <td>55</td>\n      <td>51</td>\n      <td>52</td>\n    </tr>\n    <tr>\n      <th>3</th>\n      <td>20230111</td>\n      <td>213000011</td>\n      <td>213000227</td>\n      <td>213000137</td>\n      <td>131</td>\n      <td>0</td>\n      <td>0</td>\n      <td>0</td>\n      <td>0</td>\n      <td>0</td>\n      <td>...</td>\n      <td>111</td>\n      <td>116</td>\n      <td>117</td>\n      <td>99</td>\n      <td>134</td>\n      <td>91</td>\n      <td>120</td>\n      <td>68</td>\n      <td>3</td>\n      <td>4</td>\n    </tr>\n    <tr>\n      <th>4</th>\n      <td>20230111</td>\n      <td>216000046</td>\n      <td>216000227</td>\n      <td>216000290</td>\n      <td>167</td>\n      <td>209</td>\n      <td>149</td>\n      <td>0</td>\n      <td>0</td>\n      <td>0</td>\n      <td>...</td>\n      <td>124</td>\n      <td>185</td>\n      <td>199</td>\n      <td>188</td>\n      <td>192</td>\n      <td>218</td>\n      <td>189</td>\n      <td>98</td>\n      <td>59</td>\n      <td>60</td>\n    </tr>\n    <tr>\n      <th>...</th>\n      <td>...</td>\n      <td>...</td>\n      <td>...</td>\n      <td>...</td>\n      <td>...</td>\n      <td>...</td>\n      <td>...</td>\n      <td>...</td>\n      <td>...</td>\n      <td>...</td>\n      <td>...</td>\n      <td>...</td>\n      <td>...</td>\n      <td>...</td>\n      <td>...</td>\n      <td>...</td>\n      <td>...</td>\n      <td>...</td>\n      <td>...</td>\n      <td>...</td>\n      <td>...</td>\n    </tr>\n    <tr>\n      <th>80003</th>\n      <td>20230111</td>\n      <td>234000040</td>\n      <td>104000299</td>\n      <td>104000007</td>\n      <td>51</td>\n      <td>0</td>\n      <td>0</td>\n      <td>0</td>\n      <td>0</td>\n      <td>0</td>\n      <td>...</td>\n      <td>0</td>\n      <td>47</td>\n      <td>0</td>\n      <td>0</td>\n      <td>94</td>\n      <td>0</td>\n      <td>39</td>\n      <td>0</td>\n      <td>61</td>\n      <td>62</td>\n    </tr>\n    <tr>\n      <th>80004</th>\n      <td>20230111</td>\n      <td>234000003</td>\n      <td>222000317</td>\n      <td>222000141</td>\n      <td>52</td>\n      <td>0</td>\n      <td>0</td>\n      <td>0</td>\n      <td>0</td>\n      <td>57</td>\n      <td>...</td>\n      <td>65</td>\n      <td>48</td>\n      <td>48</td>\n      <td>52</td>\n      <td>0</td>\n      <td>47</td>\n      <td>48</td>\n      <td>50</td>\n      <td>39</td>\n      <td>40</td>\n    </tr>\n    <tr>\n      <th>80005</th>\n      <td>20230111</td>\n      <td>234000042</td>\n      <td>228000336</td>\n      <td>228000335</td>\n      <td>28</td>\n      <td>29</td>\n      <td>27</td>\n      <td>0</td>\n      <td>0</td>\n      <td>0</td>\n      <td>...</td>\n      <td>27</td>\n      <td>33</td>\n      <td>32</td>\n      <td>31</td>\n      <td>28</td>\n      <td>31</td>\n      <td>25</td>\n      <td>28</td>\n      <td>114</td>\n      <td>115</td>\n    </tr>\n    <tr>\n      <th>80006</th>\n      <td>20230111</td>\n      <td>100100247</td>\n      <td>122000240</td>\n      <td>122000239</td>\n      <td>95</td>\n      <td>0</td>\n      <td>0</td>\n      <td>0</td>\n      <td>0</td>\n      <td>0</td>\n      <td>...</td>\n      <td>91</td>\n      <td>101</td>\n      <td>99</td>\n      <td>111</td>\n      <td>113</td>\n      <td>105</td>\n      <td>102</td>\n      <td>68</td>\n      <td>6</td>\n      <td>7</td>\n    </tr>\n    <tr>\n      <th>80007</th>\n      <td>20230111</td>\n      <td>100100216</td>\n      <td>104000141</td>\n      <td>104000157</td>\n      <td>135</td>\n      <td>72</td>\n      <td>0</td>\n      <td>0</td>\n      <td>0</td>\n      <td>0</td>\n      <td>...</td>\n      <td>107</td>\n      <td>158</td>\n      <td>215</td>\n      <td>110</td>\n      <td>123</td>\n      <td>107</td>\n      <td>115</td>\n      <td>115</td>\n      <td>43</td>\n      <td>44</td>\n    </tr>\n  </tbody>\n</table>\n<p>80008 rows × 31 columns</p>\n</div>"
     },
     "execution_count": 13,
     "metadata": {},
     "output_type": "execute_result"
    }
   ],
   "source": [
    "speed = pd.read_csv('../../data/서울교통수단이동/202301/TR202100010001_00/TPSS_ROUTE_SECTION_SPEED_H.csv')\n",
    "speed"
   ],
   "metadata": {
    "collapsed": false
   }
  },
  {
   "cell_type": "code",
   "execution_count": 15,
   "outputs": [
    {
     "data": {
      "text/plain": "        ROUTE_ID    STTN_ID  LINK_DSTNC_ACMTL  STTN_SN\n0      241002430  163000514              2195       30\n1      241002430  165000290              2498       31\n2      241002430  165000586               656       32\n3      241002430  165000385              1643       33\n4      241002430  165000391              1894       34\n...          ...        ...               ...      ...\n84565  100100033  116000004              1035       71\n84566  100100033  116000002               625       72\n84567  100100033  118000001               551       73\n84568  100100033  118000003               722       74\n84569  100100033  118000005               426       75\n\n[84570 rows x 4 columns]",
      "text/html": "<div>\n<style scoped>\n    .dataframe tbody tr th:only-of-type {\n        vertical-align: middle;\n    }\n\n    .dataframe tbody tr th {\n        vertical-align: top;\n    }\n\n    .dataframe thead th {\n        text-align: right;\n    }\n</style>\n<table border=\"1\" class=\"dataframe\">\n  <thead>\n    <tr style=\"text-align: right;\">\n      <th></th>\n      <th>ROUTE_ID</th>\n      <th>STTN_ID</th>\n      <th>LINK_DSTNC_ACMTL</th>\n      <th>STTN_SN</th>\n    </tr>\n  </thead>\n  <tbody>\n    <tr>\n      <th>0</th>\n      <td>241002430</td>\n      <td>163000514</td>\n      <td>2195</td>\n      <td>30</td>\n    </tr>\n    <tr>\n      <th>1</th>\n      <td>241002430</td>\n      <td>165000290</td>\n      <td>2498</td>\n      <td>31</td>\n    </tr>\n    <tr>\n      <th>2</th>\n      <td>241002430</td>\n      <td>165000586</td>\n      <td>656</td>\n      <td>32</td>\n    </tr>\n    <tr>\n      <th>3</th>\n      <td>241002430</td>\n      <td>165000385</td>\n      <td>1643</td>\n      <td>33</td>\n    </tr>\n    <tr>\n      <th>4</th>\n      <td>241002430</td>\n      <td>165000391</td>\n      <td>1894</td>\n      <td>34</td>\n    </tr>\n    <tr>\n      <th>...</th>\n      <td>...</td>\n      <td>...</td>\n      <td>...</td>\n      <td>...</td>\n    </tr>\n    <tr>\n      <th>84565</th>\n      <td>100100033</td>\n      <td>116000004</td>\n      <td>1035</td>\n      <td>71</td>\n    </tr>\n    <tr>\n      <th>84566</th>\n      <td>100100033</td>\n      <td>116000002</td>\n      <td>625</td>\n      <td>72</td>\n    </tr>\n    <tr>\n      <th>84567</th>\n      <td>100100033</td>\n      <td>118000001</td>\n      <td>551</td>\n      <td>73</td>\n    </tr>\n    <tr>\n      <th>84568</th>\n      <td>100100033</td>\n      <td>118000003</td>\n      <td>722</td>\n      <td>74</td>\n    </tr>\n    <tr>\n      <th>84569</th>\n      <td>100100033</td>\n      <td>118000005</td>\n      <td>426</td>\n      <td>75</td>\n    </tr>\n  </tbody>\n</table>\n<p>84570 rows × 4 columns</p>\n</div>"
     },
     "execution_count": 15,
     "metadata": {},
     "output_type": "execute_result"
    }
   ],
   "source": [
    "route_node = pd.read_csv('../../data/서울교통수단이동/202301/TR202100010001_00/TBIS_MS_ROUTE_NODE.csv')\n",
    "route_node"
   ],
   "metadata": {
    "collapsed": false
   }
  },
  {
   "cell_type": "code",
   "execution_count": 16,
   "outputs": [
    {
     "data": {
      "text/plain": "            기준_날짜      노선_ID  출발_정류장_ID  도착_정류장_ID   운행시간  운행시간_00시  운행시간_01시  \\\n0        20230314  241461015  115000320  115000321  378.0       0.0       0.0   \n1        20230314  241461015  232000857  232000852   38.0       0.0       0.0   \n2        20230314  241461015  232000852  232000294   63.0       0.0       0.0   \n3        20230314  241461015  232000841  232000842   35.0       0.0       0.0   \n4        20230314  241461015  115000321  232000433   41.0       0.0       0.0   \n...           ...        ...        ...        ...    ...       ...       ...   \n2138439  20230216  100100001  100000104  100000413  349.0       0.0       0.0   \n2138440  20230216  100000020  100000417  100000418  117.0       0.0       0.0   \n2138441  20230216  100000020  100000416  100000417  177.0       0.0       0.0   \n2138442  20230216  100000020  100000415  100000416  132.0       0.0       0.0   \n2138443  20230216  100000020  100000419  100000415  227.0       0.0       0.0   \n\n         운행시간_02시  운행시간_03시  운행시간_04시  ...  운행시간_16시  운행시간_17시  운행시간_18시  \\\n0             0.0       0.0       0.0  ...       0.0       0.0       0.0   \n1             0.0       0.0       0.0  ...       0.0       0.0       0.0   \n2             0.0       0.0       0.0  ...       0.0       0.0       0.0   \n3             0.0       0.0       0.0  ...       0.0       0.0       0.0   \n4             0.0       0.0       0.0  ...       0.0       0.0       0.0   \n...           ...       ...       ...  ...       ...       ...       ...   \n2138439       0.0       0.0       0.0  ...     268.0     299.0     240.0   \n2138440       0.0       0.0       0.0  ...     154.0       0.0       0.0   \n2138441       0.0       0.0       0.0  ...     218.0       0.0       0.0   \n2138442       0.0       0.0       0.0  ...     126.0       0.0       0.0   \n2138443       0.0       0.0       0.0  ...      73.0      93.0       0.0   \n\n         운행시간_19시  운행시간_20시  운행시간_21시  운행시간_22시  운행시간_23시  출발_정류장_순서  \\\n0             0.0       0.0       0.0       0.0       0.0         10   \n1             0.0       0.0       0.0       0.0       0.0          3   \n2             0.0       0.0       0.0       0.0       0.0          4   \n3             0.0       0.0       0.0       0.0       0.0          6   \n4             0.0       0.0       0.0       0.0       0.0         11   \n...           ...       ...       ...       ...       ...        ...   \n2138439     193.0     236.0     198.0     190.0     215.0         21   \n2138440       0.0       0.0       0.0       0.0       0.0          4   \n2138441       0.0       0.0       0.0       0.0       0.0          3   \n2138442       0.0       0.0       0.0       0.0       0.0          2   \n2138443       0.0       0.0       0.0       0.0       0.0          1   \n\n         도착_정류장_순서  \n0               11  \n1                4  \n2                5  \n3                7  \n4               12  \n...            ...  \n2138439         22  \n2138440          5  \n2138441          4  \n2138442          3  \n2138443          2  \n\n[2138444 rows x 31 columns]",
      "text/html": "<div>\n<style scoped>\n    .dataframe tbody tr th:only-of-type {\n        vertical-align: middle;\n    }\n\n    .dataframe tbody tr th {\n        vertical-align: top;\n    }\n\n    .dataframe thead th {\n        text-align: right;\n    }\n</style>\n<table border=\"1\" class=\"dataframe\">\n  <thead>\n    <tr style=\"text-align: right;\">\n      <th></th>\n      <th>기준_날짜</th>\n      <th>노선_ID</th>\n      <th>출발_정류장_ID</th>\n      <th>도착_정류장_ID</th>\n      <th>운행시간</th>\n      <th>운행시간_00시</th>\n      <th>운행시간_01시</th>\n      <th>운행시간_02시</th>\n      <th>운행시간_03시</th>\n      <th>운행시간_04시</th>\n      <th>...</th>\n      <th>운행시간_16시</th>\n      <th>운행시간_17시</th>\n      <th>운행시간_18시</th>\n      <th>운행시간_19시</th>\n      <th>운행시간_20시</th>\n      <th>운행시간_21시</th>\n      <th>운행시간_22시</th>\n      <th>운행시간_23시</th>\n      <th>출발_정류장_순서</th>\n      <th>도착_정류장_순서</th>\n    </tr>\n  </thead>\n  <tbody>\n    <tr>\n      <th>0</th>\n      <td>20230314</td>\n      <td>241461015</td>\n      <td>115000320</td>\n      <td>115000321</td>\n      <td>378.0</td>\n      <td>0.0</td>\n      <td>0.0</td>\n      <td>0.0</td>\n      <td>0.0</td>\n      <td>0.0</td>\n      <td>...</td>\n      <td>0.0</td>\n      <td>0.0</td>\n      <td>0.0</td>\n      <td>0.0</td>\n      <td>0.0</td>\n      <td>0.0</td>\n      <td>0.0</td>\n      <td>0.0</td>\n      <td>10</td>\n      <td>11</td>\n    </tr>\n    <tr>\n      <th>1</th>\n      <td>20230314</td>\n      <td>241461015</td>\n      <td>232000857</td>\n      <td>232000852</td>\n      <td>38.0</td>\n      <td>0.0</td>\n      <td>0.0</td>\n      <td>0.0</td>\n      <td>0.0</td>\n      <td>0.0</td>\n      <td>...</td>\n      <td>0.0</td>\n      <td>0.0</td>\n      <td>0.0</td>\n      <td>0.0</td>\n      <td>0.0</td>\n      <td>0.0</td>\n      <td>0.0</td>\n      <td>0.0</td>\n      <td>3</td>\n      <td>4</td>\n    </tr>\n    <tr>\n      <th>2</th>\n      <td>20230314</td>\n      <td>241461015</td>\n      <td>232000852</td>\n      <td>232000294</td>\n      <td>63.0</td>\n      <td>0.0</td>\n      <td>0.0</td>\n      <td>0.0</td>\n      <td>0.0</td>\n      <td>0.0</td>\n      <td>...</td>\n      <td>0.0</td>\n      <td>0.0</td>\n      <td>0.0</td>\n      <td>0.0</td>\n      <td>0.0</td>\n      <td>0.0</td>\n      <td>0.0</td>\n      <td>0.0</td>\n      <td>4</td>\n      <td>5</td>\n    </tr>\n    <tr>\n      <th>3</th>\n      <td>20230314</td>\n      <td>241461015</td>\n      <td>232000841</td>\n      <td>232000842</td>\n      <td>35.0</td>\n      <td>0.0</td>\n      <td>0.0</td>\n      <td>0.0</td>\n      <td>0.0</td>\n      <td>0.0</td>\n      <td>...</td>\n      <td>0.0</td>\n      <td>0.0</td>\n      <td>0.0</td>\n      <td>0.0</td>\n      <td>0.0</td>\n      <td>0.0</td>\n      <td>0.0</td>\n      <td>0.0</td>\n      <td>6</td>\n      <td>7</td>\n    </tr>\n    <tr>\n      <th>4</th>\n      <td>20230314</td>\n      <td>241461015</td>\n      <td>115000321</td>\n      <td>232000433</td>\n      <td>41.0</td>\n      <td>0.0</td>\n      <td>0.0</td>\n      <td>0.0</td>\n      <td>0.0</td>\n      <td>0.0</td>\n      <td>...</td>\n      <td>0.0</td>\n      <td>0.0</td>\n      <td>0.0</td>\n      <td>0.0</td>\n      <td>0.0</td>\n      <td>0.0</td>\n      <td>0.0</td>\n      <td>0.0</td>\n      <td>11</td>\n      <td>12</td>\n    </tr>\n    <tr>\n      <th>...</th>\n      <td>...</td>\n      <td>...</td>\n      <td>...</td>\n      <td>...</td>\n      <td>...</td>\n      <td>...</td>\n      <td>...</td>\n      <td>...</td>\n      <td>...</td>\n      <td>...</td>\n      <td>...</td>\n      <td>...</td>\n      <td>...</td>\n      <td>...</td>\n      <td>...</td>\n      <td>...</td>\n      <td>...</td>\n      <td>...</td>\n      <td>...</td>\n      <td>...</td>\n      <td>...</td>\n    </tr>\n    <tr>\n      <th>2138439</th>\n      <td>20230216</td>\n      <td>100100001</td>\n      <td>100000104</td>\n      <td>100000413</td>\n      <td>349.0</td>\n      <td>0.0</td>\n      <td>0.0</td>\n      <td>0.0</td>\n      <td>0.0</td>\n      <td>0.0</td>\n      <td>...</td>\n      <td>268.0</td>\n      <td>299.0</td>\n      <td>240.0</td>\n      <td>193.0</td>\n      <td>236.0</td>\n      <td>198.0</td>\n      <td>190.0</td>\n      <td>215.0</td>\n      <td>21</td>\n      <td>22</td>\n    </tr>\n    <tr>\n      <th>2138440</th>\n      <td>20230216</td>\n      <td>100000020</td>\n      <td>100000417</td>\n      <td>100000418</td>\n      <td>117.0</td>\n      <td>0.0</td>\n      <td>0.0</td>\n      <td>0.0</td>\n      <td>0.0</td>\n      <td>0.0</td>\n      <td>...</td>\n      <td>154.0</td>\n      <td>0.0</td>\n      <td>0.0</td>\n      <td>0.0</td>\n      <td>0.0</td>\n      <td>0.0</td>\n      <td>0.0</td>\n      <td>0.0</td>\n      <td>4</td>\n      <td>5</td>\n    </tr>\n    <tr>\n      <th>2138441</th>\n      <td>20230216</td>\n      <td>100000020</td>\n      <td>100000416</td>\n      <td>100000417</td>\n      <td>177.0</td>\n      <td>0.0</td>\n      <td>0.0</td>\n      <td>0.0</td>\n      <td>0.0</td>\n      <td>0.0</td>\n      <td>...</td>\n      <td>218.0</td>\n      <td>0.0</td>\n      <td>0.0</td>\n      <td>0.0</td>\n      <td>0.0</td>\n      <td>0.0</td>\n      <td>0.0</td>\n      <td>0.0</td>\n      <td>3</td>\n      <td>4</td>\n    </tr>\n    <tr>\n      <th>2138442</th>\n      <td>20230216</td>\n      <td>100000020</td>\n      <td>100000415</td>\n      <td>100000416</td>\n      <td>132.0</td>\n      <td>0.0</td>\n      <td>0.0</td>\n      <td>0.0</td>\n      <td>0.0</td>\n      <td>0.0</td>\n      <td>...</td>\n      <td>126.0</td>\n      <td>0.0</td>\n      <td>0.0</td>\n      <td>0.0</td>\n      <td>0.0</td>\n      <td>0.0</td>\n      <td>0.0</td>\n      <td>0.0</td>\n      <td>2</td>\n      <td>3</td>\n    </tr>\n    <tr>\n      <th>2138443</th>\n      <td>20230216</td>\n      <td>100000020</td>\n      <td>100000419</td>\n      <td>100000415</td>\n      <td>227.0</td>\n      <td>0.0</td>\n      <td>0.0</td>\n      <td>0.0</td>\n      <td>0.0</td>\n      <td>0.0</td>\n      <td>...</td>\n      <td>73.0</td>\n      <td>93.0</td>\n      <td>0.0</td>\n      <td>0.0</td>\n      <td>0.0</td>\n      <td>0.0</td>\n      <td>0.0</td>\n      <td>0.0</td>\n      <td>1</td>\n      <td>2</td>\n    </tr>\n  </tbody>\n</table>\n<p>2138444 rows × 31 columns</p>\n</div>"
     },
     "execution_count": 16,
     "metadata": {},
     "output_type": "execute_result"
    }
   ],
   "source": [
    "od_time = pd.read_csv('../../data/기타/서울시 노선별 정류장 구간별 평균 운행시간 정보.csv', encoding='cp949')\n",
    "od_time"
   ],
   "metadata": {
    "collapsed": false
   }
  },
  {
   "cell_type": "code",
   "execution_count": 17,
   "outputs": [
    {
     "data": {
      "text/plain": "            기준_날짜      노선_ID  출발_정류장_ID  도착_정류장_ID   운행시간  운행시간_00시  운행시간_01시  \\\n2138439  20230216  100100001  100000104  100000413  349.0       0.0       0.0   \n2138440  20230216  100000020  100000417  100000418  117.0       0.0       0.0   \n2138441  20230216  100000020  100000416  100000417  177.0       0.0       0.0   \n2138442  20230216  100000020  100000415  100000416  132.0       0.0       0.0   \n2138443  20230216  100000020  100000419  100000415  227.0       0.0       0.0   \n\n         운행시간_02시  운행시간_03시  운행시간_04시  ...  운행시간_16시  운행시간_17시  운행시간_18시  \\\n2138439       0.0       0.0       0.0  ...     268.0     299.0     240.0   \n2138440       0.0       0.0       0.0  ...     154.0       0.0       0.0   \n2138441       0.0       0.0       0.0  ...     218.0       0.0       0.0   \n2138442       0.0       0.0       0.0  ...     126.0       0.0       0.0   \n2138443       0.0       0.0       0.0  ...      73.0      93.0       0.0   \n\n         운행시간_19시  운행시간_20시  운행시간_21시  운행시간_22시  운행시간_23시  출발_정류장_순서  \\\n2138439     193.0     236.0     198.0     190.0     215.0         21   \n2138440       0.0       0.0       0.0       0.0       0.0          4   \n2138441       0.0       0.0       0.0       0.0       0.0          3   \n2138442       0.0       0.0       0.0       0.0       0.0          2   \n2138443       0.0       0.0       0.0       0.0       0.0          1   \n\n         도착_정류장_순서  \n2138439         22  \n2138440          5  \n2138441          4  \n2138442          3  \n2138443          2  \n\n[5 rows x 31 columns]",
      "text/html": "<div>\n<style scoped>\n    .dataframe tbody tr th:only-of-type {\n        vertical-align: middle;\n    }\n\n    .dataframe tbody tr th {\n        vertical-align: top;\n    }\n\n    .dataframe thead th {\n        text-align: right;\n    }\n</style>\n<table border=\"1\" class=\"dataframe\">\n  <thead>\n    <tr style=\"text-align: right;\">\n      <th></th>\n      <th>기준_날짜</th>\n      <th>노선_ID</th>\n      <th>출발_정류장_ID</th>\n      <th>도착_정류장_ID</th>\n      <th>운행시간</th>\n      <th>운행시간_00시</th>\n      <th>운행시간_01시</th>\n      <th>운행시간_02시</th>\n      <th>운행시간_03시</th>\n      <th>운행시간_04시</th>\n      <th>...</th>\n      <th>운행시간_16시</th>\n      <th>운행시간_17시</th>\n      <th>운행시간_18시</th>\n      <th>운행시간_19시</th>\n      <th>운행시간_20시</th>\n      <th>운행시간_21시</th>\n      <th>운행시간_22시</th>\n      <th>운행시간_23시</th>\n      <th>출발_정류장_순서</th>\n      <th>도착_정류장_순서</th>\n    </tr>\n  </thead>\n  <tbody>\n    <tr>\n      <th>2138439</th>\n      <td>20230216</td>\n      <td>100100001</td>\n      <td>100000104</td>\n      <td>100000413</td>\n      <td>349.0</td>\n      <td>0.0</td>\n      <td>0.0</td>\n      <td>0.0</td>\n      <td>0.0</td>\n      <td>0.0</td>\n      <td>...</td>\n      <td>268.0</td>\n      <td>299.0</td>\n      <td>240.0</td>\n      <td>193.0</td>\n      <td>236.0</td>\n      <td>198.0</td>\n      <td>190.0</td>\n      <td>215.0</td>\n      <td>21</td>\n      <td>22</td>\n    </tr>\n    <tr>\n      <th>2138440</th>\n      <td>20230216</td>\n      <td>100000020</td>\n      <td>100000417</td>\n      <td>100000418</td>\n      <td>117.0</td>\n      <td>0.0</td>\n      <td>0.0</td>\n      <td>0.0</td>\n      <td>0.0</td>\n      <td>0.0</td>\n      <td>...</td>\n      <td>154.0</td>\n      <td>0.0</td>\n      <td>0.0</td>\n      <td>0.0</td>\n      <td>0.0</td>\n      <td>0.0</td>\n      <td>0.0</td>\n      <td>0.0</td>\n      <td>4</td>\n      <td>5</td>\n    </tr>\n    <tr>\n      <th>2138441</th>\n      <td>20230216</td>\n      <td>100000020</td>\n      <td>100000416</td>\n      <td>100000417</td>\n      <td>177.0</td>\n      <td>0.0</td>\n      <td>0.0</td>\n      <td>0.0</td>\n      <td>0.0</td>\n      <td>0.0</td>\n      <td>...</td>\n      <td>218.0</td>\n      <td>0.0</td>\n      <td>0.0</td>\n      <td>0.0</td>\n      <td>0.0</td>\n      <td>0.0</td>\n      <td>0.0</td>\n      <td>0.0</td>\n      <td>3</td>\n      <td>4</td>\n    </tr>\n    <tr>\n      <th>2138442</th>\n      <td>20230216</td>\n      <td>100000020</td>\n      <td>100000415</td>\n      <td>100000416</td>\n      <td>132.0</td>\n      <td>0.0</td>\n      <td>0.0</td>\n      <td>0.0</td>\n      <td>0.0</td>\n      <td>0.0</td>\n      <td>...</td>\n      <td>126.0</td>\n      <td>0.0</td>\n      <td>0.0</td>\n      <td>0.0</td>\n      <td>0.0</td>\n      <td>0.0</td>\n      <td>0.0</td>\n      <td>0.0</td>\n      <td>2</td>\n      <td>3</td>\n    </tr>\n    <tr>\n      <th>2138443</th>\n      <td>20230216</td>\n      <td>100000020</td>\n      <td>100000419</td>\n      <td>100000415</td>\n      <td>227.0</td>\n      <td>0.0</td>\n      <td>0.0</td>\n      <td>0.0</td>\n      <td>0.0</td>\n      <td>0.0</td>\n      <td>...</td>\n      <td>73.0</td>\n      <td>93.0</td>\n      <td>0.0</td>\n      <td>0.0</td>\n      <td>0.0</td>\n      <td>0.0</td>\n      <td>0.0</td>\n      <td>0.0</td>\n      <td>1</td>\n      <td>2</td>\n    </tr>\n  </tbody>\n</table>\n<p>5 rows × 31 columns</p>\n</div>"
     },
     "execution_count": 17,
     "metadata": {},
     "output_type": "execute_result"
    }
   ],
   "source": [
    "od_time.tail()"
   ],
   "metadata": {
    "collapsed": false
   }
  },
  {
   "cell_type": "code",
   "execution_count": 18,
   "outputs": [
    {
     "data": {
      "text/plain": "(1205, 23199)"
     },
     "execution_count": 18,
     "metadata": {},
     "output_type": "execute_result"
    }
   ],
   "source": [
    "len(od_time['노선_ID'].unique()), len(od_time['출발_정류장_ID'].unique())"
   ],
   "metadata": {
    "collapsed": false
   }
  },
  {
   "cell_type": "code",
   "execution_count": null,
   "outputs": [],
   "source": [
    "od_time"
   ],
   "metadata": {
    "collapsed": false
   }
  }
 ],
 "metadata": {
  "kernelspec": {
   "display_name": "Python 3",
   "language": "python",
   "name": "python3"
  },
  "language_info": {
   "codemirror_mode": {
    "name": "ipython",
    "version": 2
   },
   "file_extension": ".py",
   "mimetype": "text/x-python",
   "name": "python",
   "nbconvert_exporter": "python",
   "pygments_lexer": "ipython2",
   "version": "2.7.6"
  }
 },
 "nbformat": 4,
 "nbformat_minor": 0
}
