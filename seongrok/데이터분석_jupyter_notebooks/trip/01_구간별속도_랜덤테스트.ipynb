{
 "cells": [
  {
   "cell_type": "code",
   "execution_count": 4,
   "metadata": {
    "collapsed": true
   },
   "outputs": [],
   "source": [
    "import os\n",
    "import random\n",
    "\n",
    "import numpy as np\n",
    "import pandas\n",
    "import pandas as pd\n",
    "\n",
    "import matplotlib.pyplot as plt\n",
    "import seaborn as sns\n",
    "\n",
    "plt.rc('font', family='Malgun Gothic')\n",
    "sns.set(font=\"Malgun Gothic\", #\"NanumGothicCoding\",\n",
    "        rc={\"axes.unicode_minus\":False}, # 마이너스 부호 깨짐 현상 해결\n",
    "        style='darkgrid')\n",
    "\n",
    "import warnings\n",
    "warnings.filterwarnings(action='ignore')"
   ]
  },
  {
   "cell_type": "code",
   "execution_count": 7,
   "outputs": [
    {
     "data": {
      "text/plain": "    업체명 노선번호  유형           기점           종점  인가대수  운행대수  예비대수   인가거리  운행시간  \\\n0  북부운수    1  순환  남산예장버스환승주차장  남산예장버스환승주차장    12    10     2  16.00    60   \n1  한성여객  100  간선          하계동         용산구청    30    28     2  57.09   231   \n2  동아운수  101  간선          우이동          서소문    23    22     1  37.81   170   \n3  한성운수  101  간선          우이동          서소문     9     8     1  37.81   165   \n4  삼화상운  102  간선      상계주공7단지          동대문     2     2     0  30.20   126   \n\n   총운행횟수  최소  최대  첫차시간  막차시간  \n0    120   7  10  0630  2300  \n1    112   8  12  0400  2230  \n2    119   5  11  0400  2300  \n3     41   6  12  0400  2300  \n4     14   8  12  0400  2310  ",
      "text/html": "<div>\n<style scoped>\n    .dataframe tbody tr th:only-of-type {\n        vertical-align: middle;\n    }\n\n    .dataframe tbody tr th {\n        vertical-align: top;\n    }\n\n    .dataframe thead th {\n        text-align: right;\n    }\n</style>\n<table border=\"1\" class=\"dataframe\">\n  <thead>\n    <tr style=\"text-align: right;\">\n      <th></th>\n      <th>업체명</th>\n      <th>노선번호</th>\n      <th>유형</th>\n      <th>기점</th>\n      <th>종점</th>\n      <th>인가대수</th>\n      <th>운행대수</th>\n      <th>예비대수</th>\n      <th>인가거리</th>\n      <th>운행시간</th>\n      <th>총운행횟수</th>\n      <th>최소</th>\n      <th>최대</th>\n      <th>첫차시간</th>\n      <th>막차시간</th>\n    </tr>\n  </thead>\n  <tbody>\n    <tr>\n      <th>0</th>\n      <td>북부운수</td>\n      <td>1</td>\n      <td>순환</td>\n      <td>남산예장버스환승주차장</td>\n      <td>남산예장버스환승주차장</td>\n      <td>12</td>\n      <td>10</td>\n      <td>2</td>\n      <td>16.00</td>\n      <td>60</td>\n      <td>120</td>\n      <td>7</td>\n      <td>10</td>\n      <td>0630</td>\n      <td>2300</td>\n    </tr>\n    <tr>\n      <th>1</th>\n      <td>한성여객</td>\n      <td>100</td>\n      <td>간선</td>\n      <td>하계동</td>\n      <td>용산구청</td>\n      <td>30</td>\n      <td>28</td>\n      <td>2</td>\n      <td>57.09</td>\n      <td>231</td>\n      <td>112</td>\n      <td>8</td>\n      <td>12</td>\n      <td>0400</td>\n      <td>2230</td>\n    </tr>\n    <tr>\n      <th>2</th>\n      <td>동아운수</td>\n      <td>101</td>\n      <td>간선</td>\n      <td>우이동</td>\n      <td>서소문</td>\n      <td>23</td>\n      <td>22</td>\n      <td>1</td>\n      <td>37.81</td>\n      <td>170</td>\n      <td>119</td>\n      <td>5</td>\n      <td>11</td>\n      <td>0400</td>\n      <td>2300</td>\n    </tr>\n    <tr>\n      <th>3</th>\n      <td>한성운수</td>\n      <td>101</td>\n      <td>간선</td>\n      <td>우이동</td>\n      <td>서소문</td>\n      <td>9</td>\n      <td>8</td>\n      <td>1</td>\n      <td>37.81</td>\n      <td>165</td>\n      <td>41</td>\n      <td>6</td>\n      <td>12</td>\n      <td>0400</td>\n      <td>2300</td>\n    </tr>\n    <tr>\n      <th>4</th>\n      <td>삼화상운</td>\n      <td>102</td>\n      <td>간선</td>\n      <td>상계주공7단지</td>\n      <td>동대문</td>\n      <td>2</td>\n      <td>2</td>\n      <td>0</td>\n      <td>30.20</td>\n      <td>126</td>\n      <td>14</td>\n      <td>8</td>\n      <td>12</td>\n      <td>0400</td>\n      <td>2310</td>\n    </tr>\n  </tbody>\n</table>\n</div>"
     },
     "metadata": {},
     "output_type": "display_data"
    },
    {
     "name": "stdout",
     "output_type": "stream",
     "text": [
      "shape: (436, 15)\n",
      "유형: ['순환' '간선' '지선' '맞춤' '광역' '심야']\n",
      "순환: [1]\n",
      "광역: [9401 9403 9404 9408 9409 9701 9703 9707 9711 9714]\n",
      "맞춤: [8002 8003 8112 8221 8331 8441 8541 8551 8552 8761 8771 8772 8774 8777]\n",
      "심야: ['N13상계' 'N13송파' 'N15사당' 'N15우이' 'N16도봉' 'N16온수' 'N26강서' 'N26중랑' 'N30'\n",
      " 'N32' 'N34' 'N37송파' 'N37진관' 'N51시흥' 'N51하계' 'N61상계' 'N61양천' 'N62면목'\n",
      " 'N62양천' 'N64강서' 'N64염곡' 'N72' 'N75신림' 'N75진관']\n"
     ]
    }
   ],
   "source": [
    "bus_info = pd.read_excel('../../data/서울교통수단이동/master/시내버스 2022.11월 인가현황.xlsx')\n",
    "bus_info.columns = list(map(lambda x: x.replace('\\n', ''), bus_info.columns))\n",
    "\n",
    "display(bus_info.head())\n",
    "print('shape:', bus_info.shape)\n",
    "print('유형:', bus_info['유형'].unique())\n",
    "\n",
    "for bus_type in ['순환', '광역', '맞춤', '심야']:\n",
    "    print(f'{bus_type}:', bus_info.loc[bus_info['유형'] == bus_type, '노선번호'].unique())\n",
    "\n",
    "# 맞춤버스\n",
    "bus_fit = set(map(str, bus_info.loc[bus_info['유형'] == '맞춤', '노선번호']))"
   ],
   "metadata": {
    "collapsed": false
   }
  },
  {
   "cell_type": "code",
   "execution_count": 2,
   "outputs": [],
   "source": [
    "def to_trip_velo(route_master, route_node_master, bus_fit, trip_time, trip_turn):\n",
    "    trip_time = trip_time.loc[:, ['ROUTE_ID', 'FROM_STTN_SN', 'TO_STTN_SN', 'FROM_STTN_ID', 'TO_STTN_ID', 'TRIP_TIME_18H', 'TRIP_TIME_19H', 'TRIP_TIME_20H', 'TRIP_TIME_21H']]\n",
    "    trip_time = trip_time.loc[~((trip_time['TRIP_TIME_18H'] == 0) & (trip_time['TRIP_TIME_19H'] == 0) & (trip_time['TRIP_TIME_20H'] == 0) & (trip_time['TRIP_TIME_21H'] == 0))]\n",
    "\n",
    "    trip_turn = trip_turn.loc[:, ['ROUTE_ID', 'STTN_SN', 'STTN_ID', 'CNT_18H', 'CNT_19H', 'CNT_20H', 'CNT_21H']]\n",
    "    trip_turn.fillna(0.0, inplace=True)\n",
    "\n",
    "    # 노선마스터와 합치기\n",
    "    trip_time = pd.merge(trip_time, route_master, on='ROUTE_ID')\n",
    "    trip_time.drop(columns=['DSTNC'], inplace=True)\n",
    "\n",
    "    # 필요 없는 버스 제거\n",
    "    trip_time = trip_time.loc[trip_time['ROUTE_TY'].isin(['간선', '지선'])]  # 간선, 지선 버스만\n",
    "    trip_time = trip_time.loc[trip_time['ROUTE_NM'].str[0] != 'N']         # 야간버스 제거\n",
    "    trip_time = trip_time.loc[~trip_time['ROUTE_NM'].isin(bus_fit)]        # 맞춤버스 제거\n",
    "\n",
    "    # merge trip_time, trip_trun\n",
    "    trip_speed = pd.merge(trip_time, trip_turn, left_on=['ROUTE_ID', 'TO_STTN_ID', 'TO_STTN_SN'], right_on=['ROUTE_ID', 'STTN_ID', 'STTN_SN'])\n",
    "    trip_speed.drop(columns=['STTN_ID', 'STTN_SN'], inplace=True)\n",
    "\n",
    "    # merge trip_speed, route_node_master\n",
    "    trip_speed = pd.merge(trip_speed, route_node_master, left_on=['ROUTE_ID', 'TO_STTN_ID', 'TO_STTN_SN'], right_on=['ROUTE_ID', 'STTN_ID', 'STTN_SN'])\n",
    "    trip_speed.drop(columns=['STTN_ID', 'STTN_SN'], inplace=True)\n",
    "\n",
    "    # 총합 = 평균 * cnt\n",
    "    avg = trip_speed.loc[:, ['TRIP_TIME_18H', 'TRIP_TIME_19H', 'TRIP_TIME_20H', 'TRIP_TIME_21H']].values\n",
    "    count = trip_speed.loc[:, ['CNT_18H', 'CNT_19H', 'CNT_20H', 'CNT_21H']].values\n",
    "\n",
    "    time_sum = avg * count\n",
    "\n",
    "    # 18 ~ 21시 평균속도\n",
    "    trip_speed['TRIP_TIME_18_21'] = time_sum.sum(axis=1) / count.sum(axis=1)\n",
    "    trip_speed['TRIP_VELO_18_21'] = trip_speed['LINK_DSTNC_ACMTL'] / trip_speed['TRIP_TIME_18_21'] * 3600 / 1000\n",
    "    trip_speed.dropna(inplace=True)\n",
    "\n",
    "    return trip_speed.loc[:, ['ROUTE_ID', 'FROM_STTN_SN', 'TO_STTN_SN', 'FROM_STTN_ID', 'TO_STTN_ID', 'TRIP_VELO_18_21']]"
   ],
   "metadata": {
    "collapsed": false
   }
  },
  {
   "cell_type": "code",
   "execution_count": 46,
   "outputs": [
    {
     "name": "stdout",
     "output_type": "stream",
     "text": [
      "2022 10 TR202100010001_15\n"
     ]
    },
    {
     "data": {
      "text/plain": "       ROUTE_ID  FROM_STTN_SN  TO_STTN_SN  FROM_STTN_ID  TO_STTN_ID  \\\n8865  100100022             1           2     107000071   107000073   \n8905  100100022             2           3     107000073   107000518   \n8862  100100022             3           4     107000518   107000075   \n8874  100100022             4           5     107000075   107000077   \n8860  100100022             5           6     107000077   107000079   \n...         ...           ...         ...           ...         ...   \n8864  100100022           111         112     107000078   107000076   \n8875  100100022           112         113     107000076   107000519   \n8913  100100022           113         114     107000519   107000074   \n8877  100100022           114         115     107000074   107000072   \n8906  100100022           115         116     107000072   107000246   \n\n      TRIP_VELO_18_21  \n8865        21.728363  \n8905         9.648131  \n8862         8.565295  \n8874        18.494955  \n8860        12.864671  \n...               ...  \n8864        14.212072  \n8875         5.461165  \n8913        10.716983  \n8877        19.946930  \n8906        36.082345  \n\n[115 rows x 6 columns]",
      "text/html": "<div>\n<style scoped>\n    .dataframe tbody tr th:only-of-type {\n        vertical-align: middle;\n    }\n\n    .dataframe tbody tr th {\n        vertical-align: top;\n    }\n\n    .dataframe thead th {\n        text-align: right;\n    }\n</style>\n<table border=\"1\" class=\"dataframe\">\n  <thead>\n    <tr style=\"text-align: right;\">\n      <th></th>\n      <th>ROUTE_ID</th>\n      <th>FROM_STTN_SN</th>\n      <th>TO_STTN_SN</th>\n      <th>FROM_STTN_ID</th>\n      <th>TO_STTN_ID</th>\n      <th>TRIP_VELO_18_21</th>\n    </tr>\n  </thead>\n  <tbody>\n    <tr>\n      <th>8865</th>\n      <td>100100022</td>\n      <td>1</td>\n      <td>2</td>\n      <td>107000071</td>\n      <td>107000073</td>\n      <td>21.728363</td>\n    </tr>\n    <tr>\n      <th>8905</th>\n      <td>100100022</td>\n      <td>2</td>\n      <td>3</td>\n      <td>107000073</td>\n      <td>107000518</td>\n      <td>9.648131</td>\n    </tr>\n    <tr>\n      <th>8862</th>\n      <td>100100022</td>\n      <td>3</td>\n      <td>4</td>\n      <td>107000518</td>\n      <td>107000075</td>\n      <td>8.565295</td>\n    </tr>\n    <tr>\n      <th>8874</th>\n      <td>100100022</td>\n      <td>4</td>\n      <td>5</td>\n      <td>107000075</td>\n      <td>107000077</td>\n      <td>18.494955</td>\n    </tr>\n    <tr>\n      <th>8860</th>\n      <td>100100022</td>\n      <td>5</td>\n      <td>6</td>\n      <td>107000077</td>\n      <td>107000079</td>\n      <td>12.864671</td>\n    </tr>\n    <tr>\n      <th>...</th>\n      <td>...</td>\n      <td>...</td>\n      <td>...</td>\n      <td>...</td>\n      <td>...</td>\n      <td>...</td>\n    </tr>\n    <tr>\n      <th>8864</th>\n      <td>100100022</td>\n      <td>111</td>\n      <td>112</td>\n      <td>107000078</td>\n      <td>107000076</td>\n      <td>14.212072</td>\n    </tr>\n    <tr>\n      <th>8875</th>\n      <td>100100022</td>\n      <td>112</td>\n      <td>113</td>\n      <td>107000076</td>\n      <td>107000519</td>\n      <td>5.461165</td>\n    </tr>\n    <tr>\n      <th>8913</th>\n      <td>100100022</td>\n      <td>113</td>\n      <td>114</td>\n      <td>107000519</td>\n      <td>107000074</td>\n      <td>10.716983</td>\n    </tr>\n    <tr>\n      <th>8877</th>\n      <td>100100022</td>\n      <td>114</td>\n      <td>115</td>\n      <td>107000074</td>\n      <td>107000072</td>\n      <td>19.946930</td>\n    </tr>\n    <tr>\n      <th>8906</th>\n      <td>100100022</td>\n      <td>115</td>\n      <td>116</td>\n      <td>107000072</td>\n      <td>107000246</td>\n      <td>36.082345</td>\n    </tr>\n  </tbody>\n</table>\n<p>115 rows × 6 columns</p>\n</div>"
     },
     "execution_count": 46,
     "metadata": {},
     "output_type": "execute_result"
    }
   ],
   "source": [
    "date = (('2022', '09'), ('2022', '10'), ('2022', '11'), ('2022', '12'), ('2023', '01'), ('2023', '02'))\n",
    "year, month = date[random.randint(0, 5)]\n",
    "path = f'../../data/서울교통수단이동/{year}{month}'\n",
    "dirs = os.listdir(path)\n",
    "dir_ = dirs[random.randint(0, len(dirs)-1)]\n",
    "\n",
    "print(year, month, dir_)\n",
    "\n",
    "route_master = pd.read_csv(f'{path}/{dir_}/TBIS_MS_ROUTE.csv')\n",
    "route_node_master = pd.read_csv(f'{path}/{dir_}/TBIS_MS_ROUTE_NODE.csv')\n",
    "trip_time = pd.read_csv(f'{path}/{dir_}/TPSS_ROUTE_SECTION_SPEED_H.csv')\n",
    "trip_turn = pd.read_csv(f'{path}/{dir_}/TPSS_STA_ROUTE_INFO_H_TURN.csv')\n",
    "\n",
    "trip_velo = to_trip_velo(route_master, route_node_master, bus_fit, trip_time, trip_turn)\n",
    "\n",
    "target_nm = '143'\n",
    "target_id = route_master.loc[route_master['ROUTE_NM'] == target_nm, 'ROUTE_ID'].values[0]\n",
    "\n",
    "trip_velo_target = trip_velo.loc[trip_velo['ROUTE_ID'] == target_id]\n",
    "trip_velo_target.sort_values(by='TO_STTN_SN', inplace=True)\n",
    "trip_velo_target"
   ],
   "metadata": {
    "collapsed": false
   }
  },
  {
   "cell_type": "code",
   "execution_count": null,
   "outputs": [],
   "source": [],
   "metadata": {
    "collapsed": false
   }
  }
 ],
 "metadata": {
  "kernelspec": {
   "display_name": "Python 3",
   "language": "python",
   "name": "python3"
  },
  "language_info": {
   "codemirror_mode": {
    "name": "ipython",
    "version": 2
   },
   "file_extension": ".py",
   "mimetype": "text/x-python",
   "name": "python",
   "nbconvert_exporter": "python",
   "pygments_lexer": "ipython2",
   "version": "2.7.6"
  }
 },
 "nbformat": 4,
 "nbformat_minor": 0
}
