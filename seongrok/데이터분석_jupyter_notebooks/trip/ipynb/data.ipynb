{
 "cells": [
  {
   "attachments": {},
   "cell_type": "markdown",
   "metadata": {},
   "source": [
    "# 데이터 정보\n",
    "\n",
    "- 제목: 서울 교통수단 이동데이터\n",
    "- 링크: https://www.bigdata-transportation.kr/frn/prdt/detail?prdtId=PRDTNUM_000000020000\n",
    "- 테이블 목록\n",
    "\n",
    "---\n",
    "\n",
    "| 테이블명                         | 설명                        |     |\n",
    "|------------------------------|---------------------------|-----|\n",
    "| KSCC_DX_TRIP_CHAIN_SUM       | 일자별 목적통행별 대중교통 Trip-Chain | O   |\n",
    "| KSCC_DX_PATTERN_STAT         | 일자별 사용자유형별 대중교통이용패턴       | O   |\n",
    "| TPSS_ROUTE_SECTION_SPEED_H   | 일자별 시간대별 버스노선별 구간별 운행시간   | O   |\n",
    "| TPSS_A18_ROUTE_SECTION       | 일자별 시간대별 버스노선별 구간별 승객수    | O   |\n",
    "| TPSS_STA_ROUTE_INFO_H_PASNGR | 일자별 시간대별 버스노선별 정류장별 승객수   | O   |\n",
    "| TPSS_STA_ROUTE_INFO_H_TURN   | 일자별 시간대별 버스노선별 정류장별 운행횟수  | O   |\n",
    "| KSCC_DX_TRNSF_PATH_SUM       | 일자별 정류장/역사별 사용자유형별 환승승객수  | O   |\n",
    "| KSCC_DX_RA_OD                | 일자별 시간대별 정류장/역사별 수단 OD    | O   |\n",
    "| TPSS_EMD_INFO_H_PUBLIC       | 일자별 시간대별 행정동별 대중교통 승객수    | O   |\n",
    "| TPSS_EMD_INFO_H_SUBWAY       | 일자별 시간대별 행정동별 지하철 승객수     | O   |\n",
    "| TPSS_EMD_INFO_H_BUS          | 일자별 시간대별 행정동별 버스 승객수      | O   |\n",
    "| TPSS_EMD_OD_H                | 일자별 시간대별 행정동별 목적 OD       | O   |\n",
    "| TPSS_EMD_OD_PS               | 일자별 행정동별 수단 OD            | O   |\n",
    "| TPSS_EMD_OD_TC               | 일자별 행정동별 목적 OD            | O   |\n",
    "| ~~TPSS_BCYCL_OD_STATN~~      | ~~일자별 시간대별 대여소별 따릉이 OD~~  | X   |\n",
    "| TBIS_MS_ROUTE                | 노선마스터                     | O   |\n",
    "| TBIS_MS_STTN                 | 정류장마스터                    | O   |\n",
    "| KSCC_DV_SUBWAY_STATION_GEOM  | 역사마스터                     | O   |\n",
    "| TBIS_MS_ROUTE_NODE           | 노선 정류장 마스터                | O   |\n",
    "| DISTRICT_EMD                 | 읍면동마스터                    | O   |\n",
    "| ~~TB_OPR_STATION~~           | ~~따릉이대여소마스터~~             | X   |\n",
    "\n",
    "---\n",
    "\n",
    "**KSCC_DX_TRIP_CHAIN_SUM**\n",
    "- 일자별 목적통행별 대중교통 Trip-Chain\n",
    "- 서울시, 대중교통, 통행사슬, Trip-Chain\n",
    "- 서울시 대중교통(버스, 지하철) 이용 승객의 통행사슬(Trip-Chain) 묶음 정보로써, 목적통행 O/D 및 이동수단 등을 확인할 수 있음. (단, 총 승객수 3명 이상인 이동경로 데이터만 송신)\n",
    "\n",
    "**KSCC_DX_PATTERN_STAT**\n",
    "- 서울시, 대중교통, 통행사슬, 이동패턴\n",
    "- 서울시 1일 사용자유형별(일반, 어린이, 경로, 장애인 등) 대중교통 이용패턴(버스-지하철, 버스-버스-지하철 등)을 확인할 수 있음\n",
    "\n",
    "#### TPSS_ROUTE_SECTION_SPEED_H\n",
    "- 서울시, 대중교통, 버스, 노선, 구간, 운행시간\n",
    "- 서울시 1일 1시간 단위로, 노선별 정류장-TO-정류장 구간별로 평균 운행시간을 확인할 수 있음\n",
    "\n",
    "#### TPSS_A18_ROUTE_SECTION\n",
    "- 서울시, 대중교통, 버스, 노선, 구간, 승객수\n",
    "- 서울시 1일 1시간 단위로, 노선별 정류장-TO-정류장 구간별 총 승객수를 확인할 수 있음\n",
    "\n",
    "#### TPSS_STA_ROUTE_INFO_H_PASNGR\n",
    "- 서울시, 대중교통, 버스, 노선, 정류장, 승객수\n",
    "- 서울시 1일 1시간 단위로, 노선별 정류장별로 총 승차 승객수를 확인할 수 있음\n",
    "\n",
    "#### TPSS_STA_ROUTE_INFO_H_TURN\n",
    "- 서울시, 대중교통, 버스, 노선, 정류장, 운행횟수\n",
    "- 서울시 1일 1시간 단위로, 노선별 정류장별로 총 버스 운행횟수를 확인할 수 있음\n",
    "\n",
    "#### KSCC_DX_TRNSF_PATH_SUM\n",
    "- 서울시, 대중교통, 버스, 환승, 승객수\n",
    "- 서울시 1일 정류장별 사용자유형별(일반, 어린이, 경로, 장애인 등)로 환승한 승객수 및 환승시간을 확인할 수 있음\n",
    "\n",
    "#### KSCC_DX_RA_OD\n",
    "- 서울시, 대중교통, 버스, 지하철, 수단OD\n",
    "- 서울시 1일 1시간 단위로, 정류장 혹은 역사별 수단 OD를 확인할 수 있음\n",
    "\n",
    "#### TPSS_EMD_INFO_H_PUBLIC\n",
    "- 서울시, 행정동, 대중교통, 승객수\n",
    "- 서울시 1일 1시간 단위로, 행정동별 대중교통 총 승차 승객수를 확인할 수 있음\n",
    "\n",
    "#### TPSS_EMD_INFO_H_SUBWAY\n",
    "- 서울시, 행정동, 대중교통, 지하철, 승객수\n",
    "- 서울시 1일 1시간 단위로, 행정동별 지하철 총 승차 승객수를 확인할 수 있음\n",
    "\n",
    "#### TPSS_EMD_INFO_H_BUS\n",
    "- 서울시, 행정동, 대중교통, 버스, 승객수\n",
    "- 서울시 1일 1시간 단위로, 행정동별 버스 총 승차 승객수를 확인할 수 있음\n",
    "\n",
    "#### TPSS_EMD_OD_H\n",
    "- 서울시, 행정동, 대중교통, OD, 승객수\n",
    "- 서울시 1일 1시간 단위로, 행정동 단위의 대중교통 O/D 승객수를 확인할 수 있음\n",
    "\n",
    "#### TPSS_EMD_OD_PS\n",
    "- 서울시, 행정동, 대중교통, 수단OD, 승객수\n",
    "- 서울시 1일 단위로, 행정동 단위의 대중교통 수단O/D(버스, 지하철) 승객수를 확인할 수 있음\n",
    "\n",
    "#### TPSS_EMD_OD_TC\n",
    "- 서울시, 행정동, 대중교통, 목적OD, 승객수\n",
    "- 서울시 1일 단위로, 행정동 단위의 대중교통 목적O/D 승객수를 확인할 수 있음\n",
    "\n",
    "#### TPSS_BCYCL_OD_STATN_HM\n",
    "- 서울시, 대중교통, 따릉이, OD, 승객수\n",
    "- 서울시 1일 1시간 단위로, 따릉이 대여소별 O/D 승객수를 확인할 수 있음\n",
    "\n",
    "#### TBIS_MS_ROUTE\n",
    "- 노선마스터 정보\n",
    "- 노선_ID, 노선_명칭, 노선_유형, 거리\n",
    "\n",
    "#### TBIS_MS_STTN\n",
    "- 정류장마스터 정보\n",
    "- 정류장_ID, 정류장_명칭, 정류장_유형, 정류장_번호, 좌표_X, 좌표_Y, 버스도착정보안내기_설치_여부\n",
    "\n",
    "#### KSCC_DV_SUBWAY_STATION_GEOM\n",
    "- 역사마스터 정보\n",
    "- 역사_ID, 역사명, 호선, 좌표_X, 좌표_Y\n",
    "\n",
    "#### TBIS_MS_ROUTE_NODE\n",
    "- 노선-정류장마스터 정보\n",
    "- 노선_ID, 정류장_ID, 링크_구간거리(m), 정류장_순서\n",
    "\n",
    "#### DISTRICT_EMD\n",
    "- 읍면동 마스터\n",
    "- 행정동_ID, 행정동_명칭, 자치구_명칭, 시도_명칭\n",
    "\n",
    "\n",
    "\n",
    "\n",
    "\n",
    "\n"
   ]
  },
  {
   "cell_type": "markdown",
   "source": [
    "- OUT_STN_NUM(역사ID)\n",
    "    - KSCC_DX_TRIP_CHAN_SUM -> 행정동, 자치구\n",
    "    - KSCC_DX_TRNSF_PATH_SUM -> 하차정류장/역사ID, 승차정류장/역사ID, 시간대, 환승수합, 환승시간평균\n",
    "    - KSCC_DV_SUBWAY_STATION_GEOM -> 역사ID, 역사명, 호선, 좌표(X,Y)"
   ],
   "metadata": {
    "collapsed": false
   }
  },
  {
   "cell_type": "code",
   "execution_count": 36,
   "metadata": {},
   "outputs": [],
   "source": [
    "import numpy as np\n",
    "import pandas as pd\n",
    "\n",
    "'''\n",
    "| KSCC_DX_TRIP_CHAIN_SUM       | 일자별 목적통행별 대중교통 Trip-Chain |\n",
    "| KSCC_DX_PATTERN_STAT         | 일자별 사용자유형별 대중교통이용패턴       |\n",
    "| TPSS_ROUTE_SECTION_SPEED_H   | 일자별 시간대별 버스노선별 구간별 운행시간   |\n",
    "| TPSS_A18_ROUTE_SECTION       | 일자별 시간대별 버스노선별 구간별 승객수    |\n",
    "| TPSS_STA_ROUTE_INFO_H_PASNGR | 일자별 시간대별 버스노선별 정류장별 승객수   |\n",
    "| TPSS_STA_ROUTE_INFO_H_TURN   | 일자별 시간대별 버스노선별 정류장별 운행횟수  |\n",
    "| KSCC_DX_TRNSF_PATH_SUM       | 일자별 정류장/역사별 사용자유형별 환승승객수  |\n",
    "| KSCC_DX_RA_OD                | 일자별 시간대별 정류장/역사별 수단 OD    |\n",
    "| TPSS_EMD_INFO_H_PUBLIC       | 일자별 시간대별 행정동별 대중교통 승객수    |\n",
    "| TPSS_EMD_INFO_H_SUBWAY       | 일자별 시간대별 행정동별 지하철 승객수     |\n",
    "| TPSS_EMD_INFO_H_BUS          | 일자별 시간대별 행정동별 버스 승객수      |\n",
    "| TPSS_EMD_OD_H                | 일자별 시간대별 행정동별 목적 OD       |\n",
    "| TPSS_EMD_OD_PS               | 일자별 행정동별 수단 OD            |\n",
    "| TPSS_EMD_OD_TC               | 일자별 행정동별 목적 OD            |\n",
    "| TPSS_BCYCL_OD_STATN          | 일자별 시간대별 대여소별 따릉이 OD      |\n",
    "| TBIS_MS_ROUTE                | 노선마스터                     |\n",
    "| TBIS_MS_STTN                 | 정류장마스터                    |\n",
    "| KSCC_DV_SUBWAY_STATION_GEOM  | 역사마스터                     |\n",
    "| TBIS_MS_ROUTE_NODE           | 노선 정류장 마스터                |\n",
    "| DISTRICT_EMD                 | 읍면동마스터                    |\n",
    "| TB_OPR_STATION               | 따릉이대여소마스터                 |\n",
    "'''\n",
    "\n",
    "class Data:\n",
    "\n",
    "    def __init__(self, year, month, day):\n",
    "        self.subway_master = self.read_csv(f'{year}{month:02d}{day:02d}/KSCC_DV_SUBWAY_STATION_GEOM.csv')\n",
    "        self.trip_chain = self.read_csv(f'{year}{month:02d}{day:02d}/KSCC_DX_TRIP_CHAIN_SUM.csv')\n",
    "        self.district = None\n",
    "        self.df = None\n",
    "\n",
    "    def merge_district(self, district):\n",
    "        self.district = district\n",
    "        pd.merge(self.trip_chain, self.district)\n",
    "\n",
    "    def zip_by(self, column):\n",
    "\n",
    "\n",
    "\n",
    "    @staticmethod\n",
    "    def read_csv(path, nrows=None, sep=',', encoding='utf-8'):\n",
    "        return pd.read_csv(path, nrows=nrows, sep=sep, encoding=encoding)\n",
    "\n",
    "\n",
    "def read_csv(path, nrows=None, sep=',', encoding='utf-8'):\n",
    "    return pd.read_csv(path, nrows=nrows, sep=sep, encoding=encoding)\n",
    "\n",
    "# on_bad_lines='skip'"
   ]
  },
  {
   "cell_type": "code",
   "execution_count": 105,
   "outputs": [
    {
     "data": {
      "text/plain": "      EMD_ID EMD_NM SGG_NM SD_NM\n0    1108058   돈암1동    성북구    서울\n1    1108065   정릉4동    성북구    서울\n2    1108072   월곡2동    성북구    서울\n3    1108081    성북동    성북구    서울\n4    1109060    번1동    강북구    서울\n..       ...    ...    ...   ...\n419  1123058   삼성1동    강남구    서울\n420  1123060   대치1동    강남구    서울\n421  1123063   대치4동    강남구    서울\n422  1123064   역삼1동    강남구    서울\n423  1123066   도곡1동    강남구    서울\n\n[424 rows x 4 columns]",
      "text/html": "<div>\n<style scoped>\n    .dataframe tbody tr th:only-of-type {\n        vertical-align: middle;\n    }\n\n    .dataframe tbody tr th {\n        vertical-align: top;\n    }\n\n    .dataframe thead th {\n        text-align: right;\n    }\n</style>\n<table border=\"1\" class=\"dataframe\">\n  <thead>\n    <tr style=\"text-align: right;\">\n      <th></th>\n      <th>EMD_ID</th>\n      <th>EMD_NM</th>\n      <th>SGG_NM</th>\n      <th>SD_NM</th>\n    </tr>\n  </thead>\n  <tbody>\n    <tr>\n      <th>0</th>\n      <td>1108058</td>\n      <td>돈암1동</td>\n      <td>성북구</td>\n      <td>서울</td>\n    </tr>\n    <tr>\n      <th>1</th>\n      <td>1108065</td>\n      <td>정릉4동</td>\n      <td>성북구</td>\n      <td>서울</td>\n    </tr>\n    <tr>\n      <th>2</th>\n      <td>1108072</td>\n      <td>월곡2동</td>\n      <td>성북구</td>\n      <td>서울</td>\n    </tr>\n    <tr>\n      <th>3</th>\n      <td>1108081</td>\n      <td>성북동</td>\n      <td>성북구</td>\n      <td>서울</td>\n    </tr>\n    <tr>\n      <th>4</th>\n      <td>1109060</td>\n      <td>번1동</td>\n      <td>강북구</td>\n      <td>서울</td>\n    </tr>\n    <tr>\n      <th>...</th>\n      <td>...</td>\n      <td>...</td>\n      <td>...</td>\n      <td>...</td>\n    </tr>\n    <tr>\n      <th>419</th>\n      <td>1123058</td>\n      <td>삼성1동</td>\n      <td>강남구</td>\n      <td>서울</td>\n    </tr>\n    <tr>\n      <th>420</th>\n      <td>1123060</td>\n      <td>대치1동</td>\n      <td>강남구</td>\n      <td>서울</td>\n    </tr>\n    <tr>\n      <th>421</th>\n      <td>1123063</td>\n      <td>대치4동</td>\n      <td>강남구</td>\n      <td>서울</td>\n    </tr>\n    <tr>\n      <th>422</th>\n      <td>1123064</td>\n      <td>역삼1동</td>\n      <td>강남구</td>\n      <td>서울</td>\n    </tr>\n    <tr>\n      <th>423</th>\n      <td>1123066</td>\n      <td>도곡1동</td>\n      <td>강남구</td>\n      <td>서울</td>\n    </tr>\n  </tbody>\n</table>\n<p>424 rows × 4 columns</p>\n</div>"
     },
     "execution_count": 105,
     "metadata": {},
     "output_type": "execute_result"
    }
   ],
   "source": [
    "district_emd = read_csv('DISTRICT_EMD.csv')\n",
    "district_emd = district_emd.loc[district_emd['SD_NM'] == '서울']\n",
    "district_emd.reset_index(drop=True, inplace=True)\n",
    "district_emd"
   ],
   "metadata": {
    "collapsed": false
   }
  },
  {
   "cell_type": "code",
   "execution_count": 27,
   "outputs": [],
   "source": [
    "data_list = [Data(2023, 2, day) for day in range(1, 2)]"
   ],
   "metadata": {
    "collapsed": false
   }
  },
  {
   "cell_type": "code",
   "execution_count": 28,
   "outputs": [
    {
     "data": {
      "text/plain": "         STDR_DE  START_PUB_STA_ID  END_PUB_STA_ID  START_EMD_ID  END_EMD_ID  \\\n0       20230127         213000492     213000197.0     3106068.0   3106054.0   \n1       20230127         100000039     112000041.0     1101055.0   1113066.0   \n2       20230127         113000019     218000636.0     1114074.0   3110169.0   \n3       20230127              2553          1804.0     1125054.0   3105252.0   \n4       20230127         118000146     114000208.0     1119073.0   1115058.0   \n...          ...               ...             ...           ...         ...   \n473284  20230127         123000622     123000639.0     1124082.0   1124081.0   \n473285  20230127              1809          2612.0     2303069.0   1112051.0   \n473286  20230127               222     116000134.0     1122052.0   1117061.0   \n473287  20230127         113000099     112000016.0     1114072.0   1113075.0   \n473288  20230127         107000010     107000078.0     1108082.0   1108065.0   \n\n        TOT_CNT   ROUTE_ID_1 RIDE_PUB_STA_ID_1 ALGH_PUB_STA_ID_1   ROUTE_ID_2  \\\n0            14  100100312.0         213000492         213000197          NaN   \n1             6  100100360.0         100000039         112000041          NaN   \n2             3  100100447.0         113000019         111000224  100100358.0   \n3             5          NaN              2553              1804          NaN   \n4             3  100100289.0         118000146         114000208          NaN   \n...         ...          ...               ...               ...          ...   \n473284       12  100100496.0         123000622         123000639          NaN   \n473285        4          NaN              1809              2612          NaN   \n473286        5          NaN              0222              0234  100100085.0   \n473287        6  100100363.0         113000099         112000016          NaN   \n473288       29  100100034.0         107000010         107000078          NaN   \n\n        ... ALGH_PUB_STA_ID_2 ROUTE_ID_3  RIDE_PUB_STA_ID_3 ALGH_PUB_STA_ID_3  \\\n0       ...                 X        NaN                  X                 X   \n1       ...                 X        NaN                  X                 X   \n2       ...         218000636        NaN                  X                 X   \n3       ...                 X        NaN                  X                 X   \n4       ...                 X        NaN                  X                 X   \n...     ...               ...        ...                ...               ...   \n473284  ...                 X        NaN                  X                 X   \n473285  ...                 X        NaN                  X                 X   \n473286  ...         116000134        NaN                  X                 X   \n473287  ...                 X        NaN                  X                 X   \n473288  ...                 X        NaN                  X                 X   \n\n       ROUTE_ID_4  RIDE_PUB_STA_ID_4 ALGH_PUB_STA_ID_4 ROUTE_ID_5  \\\n0             NaN                  X                 X        NaN   \n1             NaN                  X                 X        NaN   \n2             NaN                  X                 X        NaN   \n3             NaN                  X                 X        NaN   \n4             NaN                  X                 X        NaN   \n...           ...                ...               ...        ...   \n473284        NaN                  X                 X        NaN   \n473285        NaN                  X                 X        NaN   \n473286        NaN                  X                 X        NaN   \n473287        NaN                  X                 X        NaN   \n473288        NaN                  X                 X        NaN   \n\n        RIDE_PUB_STA_ID_5 ALGH_PUB_STA_ID_5  \n0                       X                 X  \n1                       X                 X  \n2                       X                 X  \n3                       X                 X  \n4                       X                 X  \n...                   ...               ...  \n473284                  X                 X  \n473285                  X                 X  \n473286                  X                 X  \n473287                  X                 X  \n473288                  X                 X  \n\n[473289 rows x 21 columns]",
      "text/html": "<div>\n<style scoped>\n    .dataframe tbody tr th:only-of-type {\n        vertical-align: middle;\n    }\n\n    .dataframe tbody tr th {\n        vertical-align: top;\n    }\n\n    .dataframe thead th {\n        text-align: right;\n    }\n</style>\n<table border=\"1\" class=\"dataframe\">\n  <thead>\n    <tr style=\"text-align: right;\">\n      <th></th>\n      <th>STDR_DE</th>\n      <th>START_PUB_STA_ID</th>\n      <th>END_PUB_STA_ID</th>\n      <th>START_EMD_ID</th>\n      <th>END_EMD_ID</th>\n      <th>TOT_CNT</th>\n      <th>ROUTE_ID_1</th>\n      <th>RIDE_PUB_STA_ID_1</th>\n      <th>ALGH_PUB_STA_ID_1</th>\n      <th>ROUTE_ID_2</th>\n      <th>...</th>\n      <th>ALGH_PUB_STA_ID_2</th>\n      <th>ROUTE_ID_3</th>\n      <th>RIDE_PUB_STA_ID_3</th>\n      <th>ALGH_PUB_STA_ID_3</th>\n      <th>ROUTE_ID_4</th>\n      <th>RIDE_PUB_STA_ID_4</th>\n      <th>ALGH_PUB_STA_ID_4</th>\n      <th>ROUTE_ID_5</th>\n      <th>RIDE_PUB_STA_ID_5</th>\n      <th>ALGH_PUB_STA_ID_5</th>\n    </tr>\n  </thead>\n  <tbody>\n    <tr>\n      <th>0</th>\n      <td>20230127</td>\n      <td>213000492</td>\n      <td>213000197.0</td>\n      <td>3106068.0</td>\n      <td>3106054.0</td>\n      <td>14</td>\n      <td>100100312.0</td>\n      <td>213000492</td>\n      <td>213000197</td>\n      <td>NaN</td>\n      <td>...</td>\n      <td>X</td>\n      <td>NaN</td>\n      <td>X</td>\n      <td>X</td>\n      <td>NaN</td>\n      <td>X</td>\n      <td>X</td>\n      <td>NaN</td>\n      <td>X</td>\n      <td>X</td>\n    </tr>\n    <tr>\n      <th>1</th>\n      <td>20230127</td>\n      <td>100000039</td>\n      <td>112000041.0</td>\n      <td>1101055.0</td>\n      <td>1113066.0</td>\n      <td>6</td>\n      <td>100100360.0</td>\n      <td>100000039</td>\n      <td>112000041</td>\n      <td>NaN</td>\n      <td>...</td>\n      <td>X</td>\n      <td>NaN</td>\n      <td>X</td>\n      <td>X</td>\n      <td>NaN</td>\n      <td>X</td>\n      <td>X</td>\n      <td>NaN</td>\n      <td>X</td>\n      <td>X</td>\n    </tr>\n    <tr>\n      <th>2</th>\n      <td>20230127</td>\n      <td>113000019</td>\n      <td>218000636.0</td>\n      <td>1114074.0</td>\n      <td>3110169.0</td>\n      <td>3</td>\n      <td>100100447.0</td>\n      <td>113000019</td>\n      <td>111000224</td>\n      <td>100100358.0</td>\n      <td>...</td>\n      <td>218000636</td>\n      <td>NaN</td>\n      <td>X</td>\n      <td>X</td>\n      <td>NaN</td>\n      <td>X</td>\n      <td>X</td>\n      <td>NaN</td>\n      <td>X</td>\n      <td>X</td>\n    </tr>\n    <tr>\n      <th>3</th>\n      <td>20230127</td>\n      <td>2553</td>\n      <td>1804.0</td>\n      <td>1125054.0</td>\n      <td>3105252.0</td>\n      <td>5</td>\n      <td>NaN</td>\n      <td>2553</td>\n      <td>1804</td>\n      <td>NaN</td>\n      <td>...</td>\n      <td>X</td>\n      <td>NaN</td>\n      <td>X</td>\n      <td>X</td>\n      <td>NaN</td>\n      <td>X</td>\n      <td>X</td>\n      <td>NaN</td>\n      <td>X</td>\n      <td>X</td>\n    </tr>\n    <tr>\n      <th>4</th>\n      <td>20230127</td>\n      <td>118000146</td>\n      <td>114000208.0</td>\n      <td>1119073.0</td>\n      <td>1115058.0</td>\n      <td>3</td>\n      <td>100100289.0</td>\n      <td>118000146</td>\n      <td>114000208</td>\n      <td>NaN</td>\n      <td>...</td>\n      <td>X</td>\n      <td>NaN</td>\n      <td>X</td>\n      <td>X</td>\n      <td>NaN</td>\n      <td>X</td>\n      <td>X</td>\n      <td>NaN</td>\n      <td>X</td>\n      <td>X</td>\n    </tr>\n    <tr>\n      <th>...</th>\n      <td>...</td>\n      <td>...</td>\n      <td>...</td>\n      <td>...</td>\n      <td>...</td>\n      <td>...</td>\n      <td>...</td>\n      <td>...</td>\n      <td>...</td>\n      <td>...</td>\n      <td>...</td>\n      <td>...</td>\n      <td>...</td>\n      <td>...</td>\n      <td>...</td>\n      <td>...</td>\n      <td>...</td>\n      <td>...</td>\n      <td>...</td>\n      <td>...</td>\n      <td>...</td>\n    </tr>\n    <tr>\n      <th>473284</th>\n      <td>20230127</td>\n      <td>123000622</td>\n      <td>123000639.0</td>\n      <td>1124082.0</td>\n      <td>1124081.0</td>\n      <td>12</td>\n      <td>100100496.0</td>\n      <td>123000622</td>\n      <td>123000639</td>\n      <td>NaN</td>\n      <td>...</td>\n      <td>X</td>\n      <td>NaN</td>\n      <td>X</td>\n      <td>X</td>\n      <td>NaN</td>\n      <td>X</td>\n      <td>X</td>\n      <td>NaN</td>\n      <td>X</td>\n      <td>X</td>\n    </tr>\n    <tr>\n      <th>473285</th>\n      <td>20230127</td>\n      <td>1809</td>\n      <td>2612.0</td>\n      <td>2303069.0</td>\n      <td>1112051.0</td>\n      <td>4</td>\n      <td>NaN</td>\n      <td>1809</td>\n      <td>2612</td>\n      <td>NaN</td>\n      <td>...</td>\n      <td>X</td>\n      <td>NaN</td>\n      <td>X</td>\n      <td>X</td>\n      <td>NaN</td>\n      <td>X</td>\n      <td>X</td>\n      <td>NaN</td>\n      <td>X</td>\n      <td>X</td>\n    </tr>\n    <tr>\n      <th>473286</th>\n      <td>20230127</td>\n      <td>222</td>\n      <td>116000134.0</td>\n      <td>1122052.0</td>\n      <td>1117061.0</td>\n      <td>5</td>\n      <td>NaN</td>\n      <td>0222</td>\n      <td>0234</td>\n      <td>100100085.0</td>\n      <td>...</td>\n      <td>116000134</td>\n      <td>NaN</td>\n      <td>X</td>\n      <td>X</td>\n      <td>NaN</td>\n      <td>X</td>\n      <td>X</td>\n      <td>NaN</td>\n      <td>X</td>\n      <td>X</td>\n    </tr>\n    <tr>\n      <th>473287</th>\n      <td>20230127</td>\n      <td>113000099</td>\n      <td>112000016.0</td>\n      <td>1114072.0</td>\n      <td>1113075.0</td>\n      <td>6</td>\n      <td>100100363.0</td>\n      <td>113000099</td>\n      <td>112000016</td>\n      <td>NaN</td>\n      <td>...</td>\n      <td>X</td>\n      <td>NaN</td>\n      <td>X</td>\n      <td>X</td>\n      <td>NaN</td>\n      <td>X</td>\n      <td>X</td>\n      <td>NaN</td>\n      <td>X</td>\n      <td>X</td>\n    </tr>\n    <tr>\n      <th>473288</th>\n      <td>20230127</td>\n      <td>107000010</td>\n      <td>107000078.0</td>\n      <td>1108082.0</td>\n      <td>1108065.0</td>\n      <td>29</td>\n      <td>100100034.0</td>\n      <td>107000010</td>\n      <td>107000078</td>\n      <td>NaN</td>\n      <td>...</td>\n      <td>X</td>\n      <td>NaN</td>\n      <td>X</td>\n      <td>X</td>\n      <td>NaN</td>\n      <td>X</td>\n      <td>X</td>\n      <td>NaN</td>\n      <td>X</td>\n      <td>X</td>\n    </tr>\n  </tbody>\n</table>\n<p>473289 rows × 21 columns</p>\n</div>"
     },
     "execution_count": 28,
     "metadata": {},
     "output_type": "execute_result"
    }
   ],
   "source": [
    "data_list[0].trip_chain"
   ],
   "metadata": {
    "collapsed": false
   }
  },
  {
   "cell_type": "code",
   "execution_count": 29,
   "outputs": [
    {
     "name": "stdout",
     "output_type": "stream",
     "text": [
      "<class 'pandas.core.frame.DataFrame'>\n",
      "RangeIndex: 473289 entries, 0 to 473288\n",
      "Data columns (total 21 columns):\n",
      " #   Column             Non-Null Count   Dtype  \n",
      "---  ------             --------------   -----  \n",
      " 0   STDR_DE            473289 non-null  int64  \n",
      " 1   START_PUB_STA_ID   473289 non-null  int64  \n",
      " 2   END_PUB_STA_ID     461035 non-null  float64\n",
      " 3   START_EMD_ID       470210 non-null  float64\n",
      " 4   END_EMD_ID         458447 non-null  float64\n",
      " 5   TOT_CNT            473289 non-null  int64  \n",
      " 6   ROUTE_ID_1         257808 non-null  float64\n",
      " 7   RIDE_PUB_STA_ID_1  473289 non-null  object \n",
      " 8   ALGH_PUB_STA_ID_1  473289 non-null  object \n",
      " 9   ROUTE_ID_2         35516 non-null   float64\n",
      " 10  RIDE_PUB_STA_ID_2  473289 non-null  object \n",
      " 11  ALGH_PUB_STA_ID_2  473289 non-null  object \n",
      " 12  ROUTE_ID_3         1361 non-null    float64\n",
      " 13  RIDE_PUB_STA_ID_3  473289 non-null  object \n",
      " 14  ALGH_PUB_STA_ID_3  473289 non-null  object \n",
      " 15  ROUTE_ID_4         13 non-null      float64\n",
      " 16  RIDE_PUB_STA_ID_4  473289 non-null  object \n",
      " 17  ALGH_PUB_STA_ID_4  473289 non-null  object \n",
      " 18  ROUTE_ID_5         0 non-null       float64\n",
      " 19  RIDE_PUB_STA_ID_5  473289 non-null  object \n",
      " 20  ALGH_PUB_STA_ID_5  473289 non-null  object \n",
      "dtypes: float64(8), int64(3), object(10)\n",
      "memory usage: 75.8+ MB\n"
     ]
    }
   ],
   "source": [
    "data_list[0].trip_chain.info()"
   ],
   "metadata": {
    "collapsed": false
   }
  },
  {
   "cell_type": "code",
   "execution_count": 67,
   "outputs": [
    {
     "data": {
      "text/plain": "Index(['STDR_DE', 'START_PUB_STA_ID', 'END_PUB_STA_ID', 'START_EMD_ID',\n       'END_EMD_ID', 'TOT_CNT', 'ROUTE_ID_1', 'RIDE_PUB_STA_ID_1',\n       'ALGH_PUB_STA_ID_1', 'ROUTE_ID_2', 'RIDE_PUB_STA_ID_2',\n       'ALGH_PUB_STA_ID_2', 'ROUTE_ID_3', 'RIDE_PUB_STA_ID_3',\n       'ALGH_PUB_STA_ID_3', 'ROUTE_ID_4', 'RIDE_PUB_STA_ID_4',\n       'ALGH_PUB_STA_ID_4', 'ROUTE_ID_5', 'RIDE_PUB_STA_ID_5',\n       'ALGH_PUB_STA_ID_5'],\n      dtype='object')"
     },
     "execution_count": 67,
     "metadata": {},
     "output_type": "execute_result"
    }
   ],
   "source": [
    "data_list[0].trip_chain.columns"
   ],
   "metadata": {
    "collapsed": false
   }
  },
  {
   "cell_type": "code",
   "execution_count": 121,
   "outputs": [
    {
     "data": {
      "text/plain": "        역사ID    행정동ID\n3       2553  1125054\n5        417  1108066\n12       313  1112051\n18      3134  2304062\n20      1026  1123080\n...      ...      ...\n351576  4602  3103055\n361091  1213  3138033\n7204    4514  3119153\n19917   4502  3119252\n448050  3227  2305065\n\n[721 rows x 2 columns]",
      "text/html": "<div>\n<style scoped>\n    .dataframe tbody tr th:only-of-type {\n        vertical-align: middle;\n    }\n\n    .dataframe tbody tr th {\n        vertical-align: top;\n    }\n\n    .dataframe thead th {\n        text-align: right;\n    }\n</style>\n<table border=\"1\" class=\"dataframe\">\n  <thead>\n    <tr style=\"text-align: right;\">\n      <th></th>\n      <th>역사ID</th>\n      <th>행정동ID</th>\n    </tr>\n  </thead>\n  <tbody>\n    <tr>\n      <th>3</th>\n      <td>2553</td>\n      <td>1125054</td>\n    </tr>\n    <tr>\n      <th>5</th>\n      <td>417</td>\n      <td>1108066</td>\n    </tr>\n    <tr>\n      <th>12</th>\n      <td>313</td>\n      <td>1112051</td>\n    </tr>\n    <tr>\n      <th>18</th>\n      <td>3134</td>\n      <td>2304062</td>\n    </tr>\n    <tr>\n      <th>20</th>\n      <td>1026</td>\n      <td>1123080</td>\n    </tr>\n    <tr>\n      <th>...</th>\n      <td>...</td>\n      <td>...</td>\n    </tr>\n    <tr>\n      <th>351576</th>\n      <td>4602</td>\n      <td>3103055</td>\n    </tr>\n    <tr>\n      <th>361091</th>\n      <td>1213</td>\n      <td>3138033</td>\n    </tr>\n    <tr>\n      <th>7204</th>\n      <td>4514</td>\n      <td>3119153</td>\n    </tr>\n    <tr>\n      <th>19917</th>\n      <td>4502</td>\n      <td>3119252</td>\n    </tr>\n    <tr>\n      <th>448050</th>\n      <td>3227</td>\n      <td>2305065</td>\n    </tr>\n  </tbody>\n</table>\n<p>721 rows × 2 columns</p>\n</div>"
     },
     "execution_count": 121,
     "metadata": {},
     "output_type": "execute_result"
    }
   ],
   "source": [
    "# 'STDR_DE', 'START_PUB_STA_ID', 'END_PUB_STA_ID', 'START_EMD_ID', 'END_EMD_ID'\n",
    "def summarize_trip_chains(dfs):\n",
    "\n",
    "    def transform(df):\n",
    "        df1 = df.trip_chain.loc[:, ['START_PUB_STA_ID', 'START_EMD_ID']]\n",
    "        df1 = df1.loc[df1['START_PUB_STA_ID'] < 10000]\n",
    "        df1.columns = ['역사ID', '행정동ID']\n",
    "\n",
    "        df2 = df.trip_chain.loc[:, ['END_PUB_STA_ID', 'END_EMD_ID']]\n",
    "        df2 = df2.loc[df2['END_PUB_STA_ID'] < 10000]\n",
    "        df2.columns = ['역사ID', '행정동ID']\n",
    "\n",
    "        result = pd.concat([df1, df2], axis=0)\n",
    "        result = result.drop_duplicates(['역사ID'])\n",
    "        result = result.dropna()\n",
    "        result = result.astype('int')\n",
    "\n",
    "        return result\n",
    "\n",
    "    merged = None\n",
    "    for df in dfs:\n",
    "        if merged is None:\n",
    "            merged = transform(df)\n",
    "        else:\n",
    "            merged = pd.merge(merged, transform(df), how='left')\n",
    "\n",
    "    return merged\n",
    "\n",
    "df = summarize_trip_chains(data_list)\n",
    "df"
   ],
   "metadata": {
    "collapsed": false
   }
  },
  {
   "cell_type": "code",
   "execution_count": 122,
   "outputs": [
    {
     "data": {
      "text/plain": "     역사ID    행정동ID 지하철역이름     호선          경도         위도   행정동  자치구 자치시\n0    2553  1125054     고덕    5호선  127.154151  37.555004  명일2동  강동구  서울\n1     417  1108066     길음    4호선  127.025053  37.603407  길음1동  성북구  서울\n2     313  1112051     녹번    3호선  126.935756  37.600927   녹번동  은평구  서울\n3    2612  1112051     역촌    6호선  126.922744  37.606021   녹번동  은평구  서울\n4    1026  1123080     구룡    분당선  127.058856  37.486839  개포2동  강남구  서울\n..    ...      ...    ...    ...         ...        ...   ...  ...  ..\n385  1267  1112068     수색  경의중앙선  126.895611  37.580842   수색동  은평구  서울\n386  1009  1103069    서빙고    경원선  126.988537  37.519594  서빙고동  용산구  서울\n387   248  1115070   양천구청    2호선  126.865819  37.512398  신정7동  양천구  서울\n388  4710  1108062     정릉  우이신설선  127.013396  37.603133  정릉1동  성북구  서울\n389  4408  1121069     신림    신림선  126.929616  37.484927   신림동  관악구  서울\n\n[390 rows x 9 columns]",
      "text/html": "<div>\n<style scoped>\n    .dataframe tbody tr th:only-of-type {\n        vertical-align: middle;\n    }\n\n    .dataframe tbody tr th {\n        vertical-align: top;\n    }\n\n    .dataframe thead th {\n        text-align: right;\n    }\n</style>\n<table border=\"1\" class=\"dataframe\">\n  <thead>\n    <tr style=\"text-align: right;\">\n      <th></th>\n      <th>역사ID</th>\n      <th>행정동ID</th>\n      <th>지하철역이름</th>\n      <th>호선</th>\n      <th>경도</th>\n      <th>위도</th>\n      <th>행정동</th>\n      <th>자치구</th>\n      <th>자치시</th>\n    </tr>\n  </thead>\n  <tbody>\n    <tr>\n      <th>0</th>\n      <td>2553</td>\n      <td>1125054</td>\n      <td>고덕</td>\n      <td>5호선</td>\n      <td>127.154151</td>\n      <td>37.555004</td>\n      <td>명일2동</td>\n      <td>강동구</td>\n      <td>서울</td>\n    </tr>\n    <tr>\n      <th>1</th>\n      <td>417</td>\n      <td>1108066</td>\n      <td>길음</td>\n      <td>4호선</td>\n      <td>127.025053</td>\n      <td>37.603407</td>\n      <td>길음1동</td>\n      <td>성북구</td>\n      <td>서울</td>\n    </tr>\n    <tr>\n      <th>2</th>\n      <td>313</td>\n      <td>1112051</td>\n      <td>녹번</td>\n      <td>3호선</td>\n      <td>126.935756</td>\n      <td>37.600927</td>\n      <td>녹번동</td>\n      <td>은평구</td>\n      <td>서울</td>\n    </tr>\n    <tr>\n      <th>3</th>\n      <td>2612</td>\n      <td>1112051</td>\n      <td>역촌</td>\n      <td>6호선</td>\n      <td>126.922744</td>\n      <td>37.606021</td>\n      <td>녹번동</td>\n      <td>은평구</td>\n      <td>서울</td>\n    </tr>\n    <tr>\n      <th>4</th>\n      <td>1026</td>\n      <td>1123080</td>\n      <td>구룡</td>\n      <td>분당선</td>\n      <td>127.058856</td>\n      <td>37.486839</td>\n      <td>개포2동</td>\n      <td>강남구</td>\n      <td>서울</td>\n    </tr>\n    <tr>\n      <th>...</th>\n      <td>...</td>\n      <td>...</td>\n      <td>...</td>\n      <td>...</td>\n      <td>...</td>\n      <td>...</td>\n      <td>...</td>\n      <td>...</td>\n      <td>...</td>\n    </tr>\n    <tr>\n      <th>385</th>\n      <td>1267</td>\n      <td>1112068</td>\n      <td>수색</td>\n      <td>경의중앙선</td>\n      <td>126.895611</td>\n      <td>37.580842</td>\n      <td>수색동</td>\n      <td>은평구</td>\n      <td>서울</td>\n    </tr>\n    <tr>\n      <th>386</th>\n      <td>1009</td>\n      <td>1103069</td>\n      <td>서빙고</td>\n      <td>경원선</td>\n      <td>126.988537</td>\n      <td>37.519594</td>\n      <td>서빙고동</td>\n      <td>용산구</td>\n      <td>서울</td>\n    </tr>\n    <tr>\n      <th>387</th>\n      <td>248</td>\n      <td>1115070</td>\n      <td>양천구청</td>\n      <td>2호선</td>\n      <td>126.865819</td>\n      <td>37.512398</td>\n      <td>신정7동</td>\n      <td>양천구</td>\n      <td>서울</td>\n    </tr>\n    <tr>\n      <th>388</th>\n      <td>4710</td>\n      <td>1108062</td>\n      <td>정릉</td>\n      <td>우이신설선</td>\n      <td>127.013396</td>\n      <td>37.603133</td>\n      <td>정릉1동</td>\n      <td>성북구</td>\n      <td>서울</td>\n    </tr>\n    <tr>\n      <th>389</th>\n      <td>4408</td>\n      <td>1121069</td>\n      <td>신림</td>\n      <td>신림선</td>\n      <td>126.929616</td>\n      <td>37.484927</td>\n      <td>신림동</td>\n      <td>관악구</td>\n      <td>서울</td>\n    </tr>\n  </tbody>\n</table>\n<p>390 rows × 9 columns</p>\n</div>"
     },
     "execution_count": 122,
     "metadata": {},
     "output_type": "execute_result"
    }
   ],
   "source": [
    "subway = data_list[0].subway_master\n",
    "subway.columns = ['역사ID', '지하철역이름', '호선', '경도', '위도']\n",
    "\n",
    "district = district_emd.copy()\n",
    "district.columns = ['행정동ID', '행정동', '자치구', '자치시']\n",
    "\n",
    "merged = pd.merge(df, subway, on='역사ID')\n",
    "merged = pd.merge(merged, district, on='행정동ID')\n",
    "merged"
   ],
   "metadata": {
    "collapsed": false
   }
  },
  {
   "cell_type": "code",
   "execution_count": 92,
   "outputs": [
    {
     "data": {
      "text/plain": "      EMD_ID EMD_NM SGG_NM SD_NM\n0    1108058   돈암1동    성북구    서울\n1    1108065   정릉4동    성북구    서울\n2    1108072   월곡2동    성북구    서울\n3    1108081    성북동    성북구    서울\n4    1109060    번1동    강북구    서울\n..       ...    ...    ...   ...\n419  1123058   삼성1동    강남구    서울\n420  1123060   대치1동    강남구    서울\n421  1123063   대치4동    강남구    서울\n422  1123064   역삼1동    강남구    서울\n423  1123066   도곡1동    강남구    서울\n\n[424 rows x 4 columns]",
      "text/html": "<div>\n<style scoped>\n    .dataframe tbody tr th:only-of-type {\n        vertical-align: middle;\n    }\n\n    .dataframe tbody tr th {\n        vertical-align: top;\n    }\n\n    .dataframe thead th {\n        text-align: right;\n    }\n</style>\n<table border=\"1\" class=\"dataframe\">\n  <thead>\n    <tr style=\"text-align: right;\">\n      <th></th>\n      <th>EMD_ID</th>\n      <th>EMD_NM</th>\n      <th>SGG_NM</th>\n      <th>SD_NM</th>\n    </tr>\n  </thead>\n  <tbody>\n    <tr>\n      <th>0</th>\n      <td>1108058</td>\n      <td>돈암1동</td>\n      <td>성북구</td>\n      <td>서울</td>\n    </tr>\n    <tr>\n      <th>1</th>\n      <td>1108065</td>\n      <td>정릉4동</td>\n      <td>성북구</td>\n      <td>서울</td>\n    </tr>\n    <tr>\n      <th>2</th>\n      <td>1108072</td>\n      <td>월곡2동</td>\n      <td>성북구</td>\n      <td>서울</td>\n    </tr>\n    <tr>\n      <th>3</th>\n      <td>1108081</td>\n      <td>성북동</td>\n      <td>성북구</td>\n      <td>서울</td>\n    </tr>\n    <tr>\n      <th>4</th>\n      <td>1109060</td>\n      <td>번1동</td>\n      <td>강북구</td>\n      <td>서울</td>\n    </tr>\n    <tr>\n      <th>...</th>\n      <td>...</td>\n      <td>...</td>\n      <td>...</td>\n      <td>...</td>\n    </tr>\n    <tr>\n      <th>419</th>\n      <td>1123058</td>\n      <td>삼성1동</td>\n      <td>강남구</td>\n      <td>서울</td>\n    </tr>\n    <tr>\n      <th>420</th>\n      <td>1123060</td>\n      <td>대치1동</td>\n      <td>강남구</td>\n      <td>서울</td>\n    </tr>\n    <tr>\n      <th>421</th>\n      <td>1123063</td>\n      <td>대치4동</td>\n      <td>강남구</td>\n      <td>서울</td>\n    </tr>\n    <tr>\n      <th>422</th>\n      <td>1123064</td>\n      <td>역삼1동</td>\n      <td>강남구</td>\n      <td>서울</td>\n    </tr>\n    <tr>\n      <th>423</th>\n      <td>1123066</td>\n      <td>도곡1동</td>\n      <td>강남구</td>\n      <td>서울</td>\n    </tr>\n  </tbody>\n</table>\n<p>424 rows × 4 columns</p>\n</div>"
     },
     "execution_count": 92,
     "metadata": {},
     "output_type": "execute_result"
    }
   ],
   "source": [
    "district_emd"
   ],
   "metadata": {
    "collapsed": false
   }
  }
 ],
 "metadata": {
  "kernelspec": {
   "display_name": "base",
   "language": "python",
   "name": "python3"
  },
  "language_info": {
   "codemirror_mode": {
    "name": "ipython",
    "version": 3
   },
   "file_extension": ".py",
   "mimetype": "text/x-python",
   "name": "python",
   "nbconvert_exporter": "python",
   "pygments_lexer": "ipython3",
   "version": "3.9.13"
  },
  "orig_nbformat": 4,
  "vscode": {
   "interpreter": {
    "hash": "f08154012ddadd8e950e6e9e035c7a7b32c136e7647e9b7c77e02eb723a8bedb"
   }
  }
 },
 "nbformat": 4,
 "nbformat_minor": 2
}
