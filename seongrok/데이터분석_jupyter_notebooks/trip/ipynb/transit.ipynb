{
 "cells": [
  {
   "cell_type": "markdown",
   "source": [
    "# Trip Chain"
   ],
   "metadata": {
    "collapsed": false
   }
  },
  {
   "cell_type": "code",
   "execution_count": 1,
   "metadata": {
    "collapsed": true
   },
   "outputs": [],
   "source": [
    "import numpy as np\n",
    "import pandas as pd"
   ]
  },
  {
   "cell_type": "code",
   "execution_count": 9,
   "outputs": [],
   "source": [
    "class Data:\n",
    "\n",
    "    def __init__(self, year, month, day):\n",
    "        date = (year, month, day)\n",
    "        self.transit = self.read_csv(date, 'KSCC_DX_TRNSF_PATH_SUM')      # 환승 합\n",
    "        self.trip_chain = self.read_csv(date, 'KSCC_DX_TRIP_CHAIN_SUM')   # 환승 체인\n",
    "        self.tbis_station = self.read_csv(date, 'TBIS_MS_STTN')           # 버스 정류장 마스터\n",
    "        self.tbis_route = self.read_csv(date, 'TBIS_MS_ROUTE')            # 버스 노선 마스터\n",
    "        self.subway = self.read_csv(date, 'KSCC_DV_SUBWAY_STATION_GEOM')  # 지하철 역사 마스터\n",
    "        self.district = self.read_csv(date, 'DISTRICT_EMD')               # 읍면동 마스터\n",
    "\n",
    "        self._preproccessing()\n",
    "\n",
    "    def _preproccessing(self):\n",
    "        self._drop_na()\n",
    "        # self._pre_trip_chain()\n",
    "\n",
    "    def _drop_na(self):\n",
    "        self.tbis_station.dropna(inplace=True)\n",
    "        self.tbis_route.dropna(inplace=True)\n",
    "\n",
    "    def _pre_transit(self):\n",
    "        # type : 버스-버스=0, 버스-지하철or지하철-버스=1, 지하철-지하철=2\n",
    "        df = self.transit\n",
    "        type_a = df['RIDE_PUB_STA_ID'] < 10000  # 승차\n",
    "        type_b = df['ALGH_PUB_STA_ID'] < 10000  # 하차\n",
    "        df['type'] = df['ALGH_PUB_STA_ID']\n",
    "        self.transit['type'] = self.transit['ALGH_PUB_STA_ID']\n",
    "\n",
    "    def _pre_trip_chain(self):\n",
    "        chain, district = self.trip_chain, self.district\n",
    "        chain = chain.loc[chain['RIDE_PUB_STA_ID_3'] == 'X']  # 1회 환승 체인만 취급\n",
    "        chain = chain.loc[chain['ROUTE_ID_1'].notnull() & chain['ROUTE_ID_2'].notnull()]  # 버스-버스\n",
    "        chain = chain.loc[(chain['RIDE_PUB_STA_ID_1'] != 'X') & (chain['ALGH_PUB_STA_ID_1'] != 'X') & (chain['RIDE_PUB_STA_ID_2'] != 'X') & (chain['ALGH_PUB_STA_ID_2'] != 'X')]\n",
    "        chain = chain.iloc[:, :12]\n",
    "        chain = chain.astype({\n",
    "            'RIDE_PUB_STA_ID_1':'int',\n",
    "            'ALGH_PUB_STA_ID_1':'int',\n",
    "            'RIDE_PUB_STA_ID_2':'int',\n",
    "            'ALGH_PUB_STA_ID_2':'int',\n",
    "        })\n",
    "\n",
    "        # chain = pd.merge(chain, district, left_on='ALGH_PUB_STA_ID_1', right_on='EMD_ID')\n",
    "        self.trip_chain = chain\n",
    "\n",
    "    @staticmethod\n",
    "    def read_csv(date, table_name):\n",
    "        year, month, day = date\n",
    "        path = f'data/{year}{month:02d}{day:02d}/{table_name}.csv'\n",
    "        return pd.read_csv(path, nrows=None, sep=',', on_bad_lines='skip', encoding='utf-8')"
   ],
   "metadata": {
    "collapsed": false
   }
  },
  {
   "cell_type": "code",
   "execution_count": 12,
   "outputs": [],
   "source": [
    "# data = Data(2023, 2, 1)\n",
    "data = [Data(2023, 2, day) for day in range(1, 7)]"
   ],
   "metadata": {
    "collapsed": false
   }
  },
  {
   "cell_type": "code",
   "execution_count": 27,
   "outputs": [
    {
     "name": "stdout",
     "output_type": "stream",
     "text": [
      "<class 'pandas.core.frame.DataFrame'>\n",
      "RangeIndex: 467482 entries, 0 to 467481\n",
      "Data columns (total 21 columns):\n",
      " #   Column             Non-Null Count   Dtype  \n",
      "---  ------             --------------   -----  \n",
      " 0   STDR_DE            467482 non-null  int64  \n",
      " 1   START_PUB_STA_ID   467482 non-null  int64  \n",
      " 2   END_PUB_STA_ID     455431 non-null  float64\n",
      " 3   START_EMD_ID       464509 non-null  float64\n",
      " 4   END_EMD_ID         452971 non-null  float64\n",
      " 5   TOT_CNT            467482 non-null  int64  \n",
      " 6   ROUTE_ID_1         254643 non-null  float64\n",
      " 7   RIDE_PUB_STA_ID_1  467482 non-null  object \n",
      " 8   ALGH_PUB_STA_ID_1  467482 non-null  object \n",
      " 9   ROUTE_ID_2         35166 non-null   float64\n",
      " 10  RIDE_PUB_STA_ID_2  467482 non-null  object \n",
      " 11  ALGH_PUB_STA_ID_2  467482 non-null  object \n",
      " 12  ROUTE_ID_3         1384 non-null    float64\n",
      " 13  RIDE_PUB_STA_ID_3  467482 non-null  object \n",
      " 14  ALGH_PUB_STA_ID_3  467482 non-null  object \n",
      " 15  ROUTE_ID_4         15 non-null      float64\n",
      " 16  RIDE_PUB_STA_ID_4  467482 non-null  object \n",
      " 17  ALGH_PUB_STA_ID_4  467482 non-null  object \n",
      " 18  ROUTE_ID_5         2 non-null       float64\n",
      " 19  RIDE_PUB_STA_ID_5  467482 non-null  object \n",
      " 20  ALGH_PUB_STA_ID_5  467482 non-null  object \n",
      "dtypes: float64(8), int64(3), object(10)\n",
      "memory usage: 74.9+ MB\n"
     ]
    }
   ],
   "source": [
    "data[4].trip_chain.info()"
   ],
   "metadata": {
    "collapsed": false
   }
  },
  {
   "cell_type": "code",
   "execution_count": 26,
   "outputs": [
    {
     "data": {
      "text/plain": "         STDR_DE  START_PUB_STA_ID  END_PUB_STA_ID  START_EMD_ID  END_EMD_ID  \\\n0       20230131         112000136     111000180.0     1113068.0   1112059.0   \n1       20230131         218000636          1950.0     3110169.0   3110157.0   \n2       20230131         116000583     213000451.0     1117068.0   3106053.0   \n3       20230131         210000259     210000362.0           NaN         NaN   \n4       20230131         100000365     100000385.0     1101067.0   1101061.0   \n...          ...               ...             ...           ...         ...   \n467477  20230131         110000253          2729.0     1111061.0   1105053.0   \n467478  20230131               326          2647.0     1123077.0   1111056.0   \n467479  20230131               223     120900112.0     1122051.0   1121062.0   \n467480  20230131         120000674     117000098.0     1121072.0   1118053.0   \n467481  20230131         103000051     103000055.0     1104072.0   1104072.0   \n\n        TOT_CNT   ROUTE_ID_1 RIDE_PUB_STA_ID_1 ALGH_PUB_STA_ID_1   ROUTE_ID_2  \\\n0             8  111000010.0         112000136         111000180          NaN   \n1             3  100100358.0         218000636         218000320          NaN   \n2             4  116900011.0         116000583         213000451          NaN   \n3             5  100100091.0         210000259         210000362          NaN   \n4             8  100100061.0         100000365         100000385          NaN   \n...         ...          ...               ...               ...          ...   \n467477        3  100100181.0         110000253         110000325          NaN   \n467478       74          NaN              0326              2647          NaN   \n467479        8          NaN              0223              0227  120900009.0   \n467480       65  100100278.0         120000674         117000098          NaN   \n467481        5  100100204.0         103000051         103000055          NaN   \n\n        ... ALGH_PUB_STA_ID_2 ROUTE_ID_3  RIDE_PUB_STA_ID_3 ALGH_PUB_STA_ID_3  \\\n0       ...                 X        NaN                  X                 X   \n1       ...              1950        NaN                  X                 X   \n2       ...                 X        NaN                  X                 X   \n3       ...                 X        NaN                  X                 X   \n4       ...                 X        NaN                  X                 X   \n...     ...               ...        ...                ...               ...   \n467477  ...              2729        NaN                  X                 X   \n467478  ...                 X        NaN                  X                 X   \n467479  ...         120900112        NaN                  X                 X   \n467480  ...                 X        NaN                  X                 X   \n467481  ...                 X        NaN                  X                 X   \n\n       ROUTE_ID_4  RIDE_PUB_STA_ID_4 ALGH_PUB_STA_ID_4 ROUTE_ID_5  \\\n0             NaN                  X                 X        NaN   \n1             NaN                  X                 X        NaN   \n2             NaN                  X                 X        NaN   \n3             NaN                  X                 X        NaN   \n4             NaN                  X                 X        NaN   \n...           ...                ...               ...        ...   \n467477        NaN                  X                 X        NaN   \n467478        NaN                  X                 X        NaN   \n467479        NaN                  X                 X        NaN   \n467480        NaN                  X                 X        NaN   \n467481        NaN                  X                 X        NaN   \n\n        RIDE_PUB_STA_ID_5 ALGH_PUB_STA_ID_5  \n0                       X                 X  \n1                       X                 X  \n2                       X                 X  \n3                       X                 X  \n4                       X                 X  \n...                   ...               ...  \n467477                  X                 X  \n467478                  X                 X  \n467479                  X                 X  \n467480                  X                 X  \n467481                  X                 X  \n\n[467482 rows x 21 columns]",
      "text/html": "<div>\n<style scoped>\n    .dataframe tbody tr th:only-of-type {\n        vertical-align: middle;\n    }\n\n    .dataframe tbody tr th {\n        vertical-align: top;\n    }\n\n    .dataframe thead th {\n        text-align: right;\n    }\n</style>\n<table border=\"1\" class=\"dataframe\">\n  <thead>\n    <tr style=\"text-align: right;\">\n      <th></th>\n      <th>STDR_DE</th>\n      <th>START_PUB_STA_ID</th>\n      <th>END_PUB_STA_ID</th>\n      <th>START_EMD_ID</th>\n      <th>END_EMD_ID</th>\n      <th>TOT_CNT</th>\n      <th>ROUTE_ID_1</th>\n      <th>RIDE_PUB_STA_ID_1</th>\n      <th>ALGH_PUB_STA_ID_1</th>\n      <th>ROUTE_ID_2</th>\n      <th>...</th>\n      <th>ALGH_PUB_STA_ID_2</th>\n      <th>ROUTE_ID_3</th>\n      <th>RIDE_PUB_STA_ID_3</th>\n      <th>ALGH_PUB_STA_ID_3</th>\n      <th>ROUTE_ID_4</th>\n      <th>RIDE_PUB_STA_ID_4</th>\n      <th>ALGH_PUB_STA_ID_4</th>\n      <th>ROUTE_ID_5</th>\n      <th>RIDE_PUB_STA_ID_5</th>\n      <th>ALGH_PUB_STA_ID_5</th>\n    </tr>\n  </thead>\n  <tbody>\n    <tr>\n      <th>0</th>\n      <td>20230131</td>\n      <td>112000136</td>\n      <td>111000180.0</td>\n      <td>1113068.0</td>\n      <td>1112059.0</td>\n      <td>8</td>\n      <td>111000010.0</td>\n      <td>112000136</td>\n      <td>111000180</td>\n      <td>NaN</td>\n      <td>...</td>\n      <td>X</td>\n      <td>NaN</td>\n      <td>X</td>\n      <td>X</td>\n      <td>NaN</td>\n      <td>X</td>\n      <td>X</td>\n      <td>NaN</td>\n      <td>X</td>\n      <td>X</td>\n    </tr>\n    <tr>\n      <th>1</th>\n      <td>20230131</td>\n      <td>218000636</td>\n      <td>1950.0</td>\n      <td>3110169.0</td>\n      <td>3110157.0</td>\n      <td>3</td>\n      <td>100100358.0</td>\n      <td>218000636</td>\n      <td>218000320</td>\n      <td>NaN</td>\n      <td>...</td>\n      <td>1950</td>\n      <td>NaN</td>\n      <td>X</td>\n      <td>X</td>\n      <td>NaN</td>\n      <td>X</td>\n      <td>X</td>\n      <td>NaN</td>\n      <td>X</td>\n      <td>X</td>\n    </tr>\n    <tr>\n      <th>2</th>\n      <td>20230131</td>\n      <td>116000583</td>\n      <td>213000451.0</td>\n      <td>1117068.0</td>\n      <td>3106053.0</td>\n      <td>4</td>\n      <td>116900011.0</td>\n      <td>116000583</td>\n      <td>213000451</td>\n      <td>NaN</td>\n      <td>...</td>\n      <td>X</td>\n      <td>NaN</td>\n      <td>X</td>\n      <td>X</td>\n      <td>NaN</td>\n      <td>X</td>\n      <td>X</td>\n      <td>NaN</td>\n      <td>X</td>\n      <td>X</td>\n    </tr>\n    <tr>\n      <th>3</th>\n      <td>20230131</td>\n      <td>210000259</td>\n      <td>210000362.0</td>\n      <td>NaN</td>\n      <td>NaN</td>\n      <td>5</td>\n      <td>100100091.0</td>\n      <td>210000259</td>\n      <td>210000362</td>\n      <td>NaN</td>\n      <td>...</td>\n      <td>X</td>\n      <td>NaN</td>\n      <td>X</td>\n      <td>X</td>\n      <td>NaN</td>\n      <td>X</td>\n      <td>X</td>\n      <td>NaN</td>\n      <td>X</td>\n      <td>X</td>\n    </tr>\n    <tr>\n      <th>4</th>\n      <td>20230131</td>\n      <td>100000365</td>\n      <td>100000385.0</td>\n      <td>1101067.0</td>\n      <td>1101061.0</td>\n      <td>8</td>\n      <td>100100061.0</td>\n      <td>100000365</td>\n      <td>100000385</td>\n      <td>NaN</td>\n      <td>...</td>\n      <td>X</td>\n      <td>NaN</td>\n      <td>X</td>\n      <td>X</td>\n      <td>NaN</td>\n      <td>X</td>\n      <td>X</td>\n      <td>NaN</td>\n      <td>X</td>\n      <td>X</td>\n    </tr>\n    <tr>\n      <th>...</th>\n      <td>...</td>\n      <td>...</td>\n      <td>...</td>\n      <td>...</td>\n      <td>...</td>\n      <td>...</td>\n      <td>...</td>\n      <td>...</td>\n      <td>...</td>\n      <td>...</td>\n      <td>...</td>\n      <td>...</td>\n      <td>...</td>\n      <td>...</td>\n      <td>...</td>\n      <td>...</td>\n      <td>...</td>\n      <td>...</td>\n      <td>...</td>\n      <td>...</td>\n      <td>...</td>\n    </tr>\n    <tr>\n      <th>467477</th>\n      <td>20230131</td>\n      <td>110000253</td>\n      <td>2729.0</td>\n      <td>1111061.0</td>\n      <td>1105053.0</td>\n      <td>3</td>\n      <td>100100181.0</td>\n      <td>110000253</td>\n      <td>110000325</td>\n      <td>NaN</td>\n      <td>...</td>\n      <td>2729</td>\n      <td>NaN</td>\n      <td>X</td>\n      <td>X</td>\n      <td>NaN</td>\n      <td>X</td>\n      <td>X</td>\n      <td>NaN</td>\n      <td>X</td>\n      <td>X</td>\n    </tr>\n    <tr>\n      <th>467478</th>\n      <td>20230131</td>\n      <td>326</td>\n      <td>2647.0</td>\n      <td>1123077.0</td>\n      <td>1111056.0</td>\n      <td>74</td>\n      <td>NaN</td>\n      <td>0326</td>\n      <td>2647</td>\n      <td>NaN</td>\n      <td>...</td>\n      <td>X</td>\n      <td>NaN</td>\n      <td>X</td>\n      <td>X</td>\n      <td>NaN</td>\n      <td>X</td>\n      <td>X</td>\n      <td>NaN</td>\n      <td>X</td>\n      <td>X</td>\n    </tr>\n    <tr>\n      <th>467479</th>\n      <td>20230131</td>\n      <td>223</td>\n      <td>120900112.0</td>\n      <td>1122051.0</td>\n      <td>1121062.0</td>\n      <td>8</td>\n      <td>NaN</td>\n      <td>0223</td>\n      <td>0227</td>\n      <td>120900009.0</td>\n      <td>...</td>\n      <td>120900112</td>\n      <td>NaN</td>\n      <td>X</td>\n      <td>X</td>\n      <td>NaN</td>\n      <td>X</td>\n      <td>X</td>\n      <td>NaN</td>\n      <td>X</td>\n      <td>X</td>\n    </tr>\n    <tr>\n      <th>467480</th>\n      <td>20230131</td>\n      <td>120000674</td>\n      <td>117000098.0</td>\n      <td>1121072.0</td>\n      <td>1118053.0</td>\n      <td>65</td>\n      <td>100100278.0</td>\n      <td>120000674</td>\n      <td>117000098</td>\n      <td>NaN</td>\n      <td>...</td>\n      <td>X</td>\n      <td>NaN</td>\n      <td>X</td>\n      <td>X</td>\n      <td>NaN</td>\n      <td>X</td>\n      <td>X</td>\n      <td>NaN</td>\n      <td>X</td>\n      <td>X</td>\n    </tr>\n    <tr>\n      <th>467481</th>\n      <td>20230131</td>\n      <td>103000051</td>\n      <td>103000055.0</td>\n      <td>1104072.0</td>\n      <td>1104072.0</td>\n      <td>5</td>\n      <td>100100204.0</td>\n      <td>103000051</td>\n      <td>103000055</td>\n      <td>NaN</td>\n      <td>...</td>\n      <td>X</td>\n      <td>NaN</td>\n      <td>X</td>\n      <td>X</td>\n      <td>NaN</td>\n      <td>X</td>\n      <td>X</td>\n      <td>NaN</td>\n      <td>X</td>\n      <td>X</td>\n    </tr>\n  </tbody>\n</table>\n<p>467482 rows × 21 columns</p>\n</div>"
     },
     "execution_count": 26,
     "metadata": {},
     "output_type": "execute_result"
    }
   ],
   "source": [
    "data[4].trip_chain"
   ],
   "metadata": {
    "collapsed": false
   }
  },
  {
   "cell_type": "code",
   "execution_count": 106,
   "outputs": [],
   "source": [
    "bus_station = pd.read_csv('bus-station-master.csv')"
   ],
   "metadata": {
    "collapsed": false
   }
  },
  {
   "cell_type": "code",
   "execution_count": 107,
   "outputs": [
    {
     "data": {
      "text/plain": "         STTN_ID  ARS_ID          정류소명  행정구          행정동          경도  \\\n0      100000379    1008  서울역사박물관.경희궁앞  종로구          사직동  126.970442   \n1      100000380    1007  서울역사박물관.경희궁앞  종로구          사직동  126.970420   \n2      100000384    1009           광화문  종로구          사직동  126.975241   \n3      100000018    1113    사직단.어린이도서관  종로구          사직동  126.968021   \n4      100000019    1114       사직동주민센터  종로구          사직동  126.971318   \n...          ...     ...           ...  ...          ...         ...   \n10360  117000906   18129      독산주공14단지  광명시  하안3동         126.887041   \n10361  117000907   18128      독산주공14단지  광명시  하안3동         126.886996   \n10362  117900165   18993        안양천로입구  광명시  소하1동         126.893035   \n10363  124000369   25003           초이동  하남시  초이동          127.161382   \n10364  124000370   25004           초이동  하남시  초이동          127.161148   \n\n              위도  \n0      37.569336  \n1      37.569098  \n2      37.570051  \n3      37.575113  \n4      37.576090  \n...          ...  \n10360  37.461346  \n10361  37.461206  \n10362  37.452452  \n10363  37.541971  \n10364  37.541750  \n\n[10365 rows x 7 columns]",
      "text/html": "<div>\n<style scoped>\n    .dataframe tbody tr th:only-of-type {\n        vertical-align: middle;\n    }\n\n    .dataframe tbody tr th {\n        vertical-align: top;\n    }\n\n    .dataframe thead th {\n        text-align: right;\n    }\n</style>\n<table border=\"1\" class=\"dataframe\">\n  <thead>\n    <tr style=\"text-align: right;\">\n      <th></th>\n      <th>STTN_ID</th>\n      <th>ARS_ID</th>\n      <th>정류소명</th>\n      <th>행정구</th>\n      <th>행정동</th>\n      <th>경도</th>\n      <th>위도</th>\n    </tr>\n  </thead>\n  <tbody>\n    <tr>\n      <th>0</th>\n      <td>100000379</td>\n      <td>1008</td>\n      <td>서울역사박물관.경희궁앞</td>\n      <td>종로구</td>\n      <td>사직동</td>\n      <td>126.970442</td>\n      <td>37.569336</td>\n    </tr>\n    <tr>\n      <th>1</th>\n      <td>100000380</td>\n      <td>1007</td>\n      <td>서울역사박물관.경희궁앞</td>\n      <td>종로구</td>\n      <td>사직동</td>\n      <td>126.970420</td>\n      <td>37.569098</td>\n    </tr>\n    <tr>\n      <th>2</th>\n      <td>100000384</td>\n      <td>1009</td>\n      <td>광화문</td>\n      <td>종로구</td>\n      <td>사직동</td>\n      <td>126.975241</td>\n      <td>37.570051</td>\n    </tr>\n    <tr>\n      <th>3</th>\n      <td>100000018</td>\n      <td>1113</td>\n      <td>사직단.어린이도서관</td>\n      <td>종로구</td>\n      <td>사직동</td>\n      <td>126.968021</td>\n      <td>37.575113</td>\n    </tr>\n    <tr>\n      <th>4</th>\n      <td>100000019</td>\n      <td>1114</td>\n      <td>사직동주민센터</td>\n      <td>종로구</td>\n      <td>사직동</td>\n      <td>126.971318</td>\n      <td>37.576090</td>\n    </tr>\n    <tr>\n      <th>...</th>\n      <td>...</td>\n      <td>...</td>\n      <td>...</td>\n      <td>...</td>\n      <td>...</td>\n      <td>...</td>\n      <td>...</td>\n    </tr>\n    <tr>\n      <th>10360</th>\n      <td>117000906</td>\n      <td>18129</td>\n      <td>독산주공14단지</td>\n      <td>광명시</td>\n      <td>하안3동</td>\n      <td>126.887041</td>\n      <td>37.461346</td>\n    </tr>\n    <tr>\n      <th>10361</th>\n      <td>117000907</td>\n      <td>18128</td>\n      <td>독산주공14단지</td>\n      <td>광명시</td>\n      <td>하안3동</td>\n      <td>126.886996</td>\n      <td>37.461206</td>\n    </tr>\n    <tr>\n      <th>10362</th>\n      <td>117900165</td>\n      <td>18993</td>\n      <td>안양천로입구</td>\n      <td>광명시</td>\n      <td>소하1동</td>\n      <td>126.893035</td>\n      <td>37.452452</td>\n    </tr>\n    <tr>\n      <th>10363</th>\n      <td>124000369</td>\n      <td>25003</td>\n      <td>초이동</td>\n      <td>하남시</td>\n      <td>초이동</td>\n      <td>127.161382</td>\n      <td>37.541971</td>\n    </tr>\n    <tr>\n      <th>10364</th>\n      <td>124000370</td>\n      <td>25004</td>\n      <td>초이동</td>\n      <td>하남시</td>\n      <td>초이동</td>\n      <td>127.161148</td>\n      <td>37.541750</td>\n    </tr>\n  </tbody>\n</table>\n<p>10365 rows × 7 columns</p>\n</div>"
     },
     "execution_count": 107,
     "metadata": {},
     "output_type": "execute_result"
    }
   ],
   "source": [
    "bus_station"
   ],
   "metadata": {
    "collapsed": false
   }
  },
  {
   "cell_type": "markdown",
   "source": [
    "### 환승 합 테이블 - `KSCC_DX_TRNSF_PATH_SUM`"
   ],
   "metadata": {
    "collapsed": false
   }
  },
  {
   "cell_type": "code",
   "execution_count": 6,
   "outputs": [
    {
     "data": {
      "text/plain": "         STDR_DE  ALGH_PUB_STA_ID  RIDE_PUB_STA_ID  TMZON  CNT  CNT_01  \\\n0       20230127              156        105000008     18    1       0   \n1       20230127        124000137        123000153      7    1       1   \n2       20230127        119000009        119000011     12    1       0   \n3       20230127        114000111        114000199     13    2       1   \n4       20230127        110000184        110000356     13    1       1   \n...          ...              ...              ...    ...  ...     ...   \n516416  20230127        118000005             1713     17    1       1   \n516417  20230127        119000052        119000093     11    1       1   \n516418  20230127        121900011        121000141     13    2       0   \n516419  20230127             4132        123000090     15    1       1   \n516420  20230127        102000129        102000130     16    1       1   \n\n        CNT_02  CNT_04  CNT_06  CNT_07  TRNSF_TIME  TRNSF_TIME_01  \\\n0            0       0       1       0         234              0   \n1            0       0       0       0         180            180   \n2            1       0       0       0         319              0   \n3            0       0       1       0         584            412   \n4            0       0       0       0         194            194   \n...        ...     ...     ...     ...         ...            ...   \n516416       0       0       0       0        1817           1817   \n516417       0       0       0       0         958            958   \n516418       0       2       0       0         826              0   \n516419       0       0       0       0         350            350   \n516420       0       0       0       0        1056           1056   \n\n        TRNSF_TIME_02  TRNSF_TIME_04  TRNSF_TIME_06  TRNSF_TIME_07  \n0                   0              0            234              0  \n1                   0              0              0              0  \n2                 319              0              0              0  \n3                   0              0            755              0  \n4                   0              0              0              0  \n...               ...            ...            ...            ...  \n516416              0              0              0              0  \n516417              0              0              0              0  \n516418              0            826              0              0  \n516419              0              0              0              0  \n516420              0              0              0              0  \n\n[516421 rows x 16 columns]",
      "text/html": "<div>\n<style scoped>\n    .dataframe tbody tr th:only-of-type {\n        vertical-align: middle;\n    }\n\n    .dataframe tbody tr th {\n        vertical-align: top;\n    }\n\n    .dataframe thead th {\n        text-align: right;\n    }\n</style>\n<table border=\"1\" class=\"dataframe\">\n  <thead>\n    <tr style=\"text-align: right;\">\n      <th></th>\n      <th>STDR_DE</th>\n      <th>ALGH_PUB_STA_ID</th>\n      <th>RIDE_PUB_STA_ID</th>\n      <th>TMZON</th>\n      <th>CNT</th>\n      <th>CNT_01</th>\n      <th>CNT_02</th>\n      <th>CNT_04</th>\n      <th>CNT_06</th>\n      <th>CNT_07</th>\n      <th>TRNSF_TIME</th>\n      <th>TRNSF_TIME_01</th>\n      <th>TRNSF_TIME_02</th>\n      <th>TRNSF_TIME_04</th>\n      <th>TRNSF_TIME_06</th>\n      <th>TRNSF_TIME_07</th>\n    </tr>\n  </thead>\n  <tbody>\n    <tr>\n      <th>0</th>\n      <td>20230127</td>\n      <td>156</td>\n      <td>105000008</td>\n      <td>18</td>\n      <td>1</td>\n      <td>0</td>\n      <td>0</td>\n      <td>0</td>\n      <td>1</td>\n      <td>0</td>\n      <td>234</td>\n      <td>0</td>\n      <td>0</td>\n      <td>0</td>\n      <td>234</td>\n      <td>0</td>\n    </tr>\n    <tr>\n      <th>1</th>\n      <td>20230127</td>\n      <td>124000137</td>\n      <td>123000153</td>\n      <td>7</td>\n      <td>1</td>\n      <td>1</td>\n      <td>0</td>\n      <td>0</td>\n      <td>0</td>\n      <td>0</td>\n      <td>180</td>\n      <td>180</td>\n      <td>0</td>\n      <td>0</td>\n      <td>0</td>\n      <td>0</td>\n    </tr>\n    <tr>\n      <th>2</th>\n      <td>20230127</td>\n      <td>119000009</td>\n      <td>119000011</td>\n      <td>12</td>\n      <td>1</td>\n      <td>0</td>\n      <td>1</td>\n      <td>0</td>\n      <td>0</td>\n      <td>0</td>\n      <td>319</td>\n      <td>0</td>\n      <td>319</td>\n      <td>0</td>\n      <td>0</td>\n      <td>0</td>\n    </tr>\n    <tr>\n      <th>3</th>\n      <td>20230127</td>\n      <td>114000111</td>\n      <td>114000199</td>\n      <td>13</td>\n      <td>2</td>\n      <td>1</td>\n      <td>0</td>\n      <td>0</td>\n      <td>1</td>\n      <td>0</td>\n      <td>584</td>\n      <td>412</td>\n      <td>0</td>\n      <td>0</td>\n      <td>755</td>\n      <td>0</td>\n    </tr>\n    <tr>\n      <th>4</th>\n      <td>20230127</td>\n      <td>110000184</td>\n      <td>110000356</td>\n      <td>13</td>\n      <td>1</td>\n      <td>1</td>\n      <td>0</td>\n      <td>0</td>\n      <td>0</td>\n      <td>0</td>\n      <td>194</td>\n      <td>194</td>\n      <td>0</td>\n      <td>0</td>\n      <td>0</td>\n      <td>0</td>\n    </tr>\n    <tr>\n      <th>...</th>\n      <td>...</td>\n      <td>...</td>\n      <td>...</td>\n      <td>...</td>\n      <td>...</td>\n      <td>...</td>\n      <td>...</td>\n      <td>...</td>\n      <td>...</td>\n      <td>...</td>\n      <td>...</td>\n      <td>...</td>\n      <td>...</td>\n      <td>...</td>\n      <td>...</td>\n      <td>...</td>\n    </tr>\n    <tr>\n      <th>516416</th>\n      <td>20230127</td>\n      <td>118000005</td>\n      <td>1713</td>\n      <td>17</td>\n      <td>1</td>\n      <td>1</td>\n      <td>0</td>\n      <td>0</td>\n      <td>0</td>\n      <td>0</td>\n      <td>1817</td>\n      <td>1817</td>\n      <td>0</td>\n      <td>0</td>\n      <td>0</td>\n      <td>0</td>\n    </tr>\n    <tr>\n      <th>516417</th>\n      <td>20230127</td>\n      <td>119000052</td>\n      <td>119000093</td>\n      <td>11</td>\n      <td>1</td>\n      <td>1</td>\n      <td>0</td>\n      <td>0</td>\n      <td>0</td>\n      <td>0</td>\n      <td>958</td>\n      <td>958</td>\n      <td>0</td>\n      <td>0</td>\n      <td>0</td>\n      <td>0</td>\n    </tr>\n    <tr>\n      <th>516418</th>\n      <td>20230127</td>\n      <td>121900011</td>\n      <td>121000141</td>\n      <td>13</td>\n      <td>2</td>\n      <td>0</td>\n      <td>0</td>\n      <td>2</td>\n      <td>0</td>\n      <td>0</td>\n      <td>826</td>\n      <td>0</td>\n      <td>0</td>\n      <td>826</td>\n      <td>0</td>\n      <td>0</td>\n    </tr>\n    <tr>\n      <th>516419</th>\n      <td>20230127</td>\n      <td>4132</td>\n      <td>123000090</td>\n      <td>15</td>\n      <td>1</td>\n      <td>1</td>\n      <td>0</td>\n      <td>0</td>\n      <td>0</td>\n      <td>0</td>\n      <td>350</td>\n      <td>350</td>\n      <td>0</td>\n      <td>0</td>\n      <td>0</td>\n      <td>0</td>\n    </tr>\n    <tr>\n      <th>516420</th>\n      <td>20230127</td>\n      <td>102000129</td>\n      <td>102000130</td>\n      <td>16</td>\n      <td>1</td>\n      <td>1</td>\n      <td>0</td>\n      <td>0</td>\n      <td>0</td>\n      <td>0</td>\n      <td>1056</td>\n      <td>1056</td>\n      <td>0</td>\n      <td>0</td>\n      <td>0</td>\n      <td>0</td>\n    </tr>\n  </tbody>\n</table>\n<p>516421 rows × 16 columns</p>\n</div>"
     },
     "execution_count": 6,
     "metadata": {},
     "output_type": "execute_result"
    }
   ],
   "source": [
    "data.transit"
   ],
   "metadata": {
    "collapsed": false
   }
  },
  {
   "cell_type": "code",
   "execution_count": 55,
   "outputs": [
    {
     "data": {
      "text/plain": "         STDR_DE  ALGH_PUB_STA_ID  RIDE_PUB_STA_ID  TMZON  CNT  CNT_01  \\\n0       20230127              156        105000008     18    1       0   \n9       20230127             2519        115900063     21    1       1   \n11      20230127              204        100900009      8    1       0   \n17      20230127             4119        119900033     19    8       7   \n19      20230127             2714        110900136     18    1       1   \n...          ...              ...              ...    ...  ...     ...   \n516397  20230127             2728        104000153     21    1       1   \n516398  20230127             2716        110900025      8    2       2   \n516409  20230127              332        122900029     18  103     102   \n516413  20230127             4709        107000074     17    3       2   \n516419  20230127             4132        123000090     15    1       1   \n\n        CNT_02  CNT_04  CNT_06  CNT_07  TRNSF_TIME  TRNSF_TIME_01  \\\n0            0       0       1       0         234              0   \n9            0       0       0       0         303            303   \n11           0       0       1       0        1624              0   \n17           0       1       0       0         609            596   \n19           0       0       0       0         229            229   \n...        ...     ...     ...     ...         ...            ...   \n516397       0       0       0       0        1110           1110   \n516398       0       0       0       0        1008           1008   \n516409       0       0       1       0         499            499   \n516413       0       0       1       0         429            389   \n516419       0       0       0       0         350            350   \n\n        TRNSF_TIME_02  TRNSF_TIME_04  TRNSF_TIME_06  TRNSF_TIME_07  \n0                   0              0            234              0  \n9                   0              0              0              0  \n11                  0              0           1624              0  \n17                  0            695              0              0  \n19                  0              0              0              0  \n...               ...            ...            ...            ...  \n516397              0              0              0              0  \n516398              0              0              0              0  \n516409              0              0            464              0  \n516413              0              0            511              0  \n516419              0              0              0              0  \n\n[73992 rows x 16 columns]",
      "text/html": "<div>\n<style scoped>\n    .dataframe tbody tr th:only-of-type {\n        vertical-align: middle;\n    }\n\n    .dataframe tbody tr th {\n        vertical-align: top;\n    }\n\n    .dataframe thead th {\n        text-align: right;\n    }\n</style>\n<table border=\"1\" class=\"dataframe\">\n  <thead>\n    <tr style=\"text-align: right;\">\n      <th></th>\n      <th>STDR_DE</th>\n      <th>ALGH_PUB_STA_ID</th>\n      <th>RIDE_PUB_STA_ID</th>\n      <th>TMZON</th>\n      <th>CNT</th>\n      <th>CNT_01</th>\n      <th>CNT_02</th>\n      <th>CNT_04</th>\n      <th>CNT_06</th>\n      <th>CNT_07</th>\n      <th>TRNSF_TIME</th>\n      <th>TRNSF_TIME_01</th>\n      <th>TRNSF_TIME_02</th>\n      <th>TRNSF_TIME_04</th>\n      <th>TRNSF_TIME_06</th>\n      <th>TRNSF_TIME_07</th>\n    </tr>\n  </thead>\n  <tbody>\n    <tr>\n      <th>0</th>\n      <td>20230127</td>\n      <td>156</td>\n      <td>105000008</td>\n      <td>18</td>\n      <td>1</td>\n      <td>0</td>\n      <td>0</td>\n      <td>0</td>\n      <td>1</td>\n      <td>0</td>\n      <td>234</td>\n      <td>0</td>\n      <td>0</td>\n      <td>0</td>\n      <td>234</td>\n      <td>0</td>\n    </tr>\n    <tr>\n      <th>9</th>\n      <td>20230127</td>\n      <td>2519</td>\n      <td>115900063</td>\n      <td>21</td>\n      <td>1</td>\n      <td>1</td>\n      <td>0</td>\n      <td>0</td>\n      <td>0</td>\n      <td>0</td>\n      <td>303</td>\n      <td>303</td>\n      <td>0</td>\n      <td>0</td>\n      <td>0</td>\n      <td>0</td>\n    </tr>\n    <tr>\n      <th>11</th>\n      <td>20230127</td>\n      <td>204</td>\n      <td>100900009</td>\n      <td>8</td>\n      <td>1</td>\n      <td>0</td>\n      <td>0</td>\n      <td>0</td>\n      <td>1</td>\n      <td>0</td>\n      <td>1624</td>\n      <td>0</td>\n      <td>0</td>\n      <td>0</td>\n      <td>1624</td>\n      <td>0</td>\n    </tr>\n    <tr>\n      <th>17</th>\n      <td>20230127</td>\n      <td>4119</td>\n      <td>119900033</td>\n      <td>19</td>\n      <td>8</td>\n      <td>7</td>\n      <td>0</td>\n      <td>1</td>\n      <td>0</td>\n      <td>0</td>\n      <td>609</td>\n      <td>596</td>\n      <td>0</td>\n      <td>695</td>\n      <td>0</td>\n      <td>0</td>\n    </tr>\n    <tr>\n      <th>19</th>\n      <td>20230127</td>\n      <td>2714</td>\n      <td>110900136</td>\n      <td>18</td>\n      <td>1</td>\n      <td>1</td>\n      <td>0</td>\n      <td>0</td>\n      <td>0</td>\n      <td>0</td>\n      <td>229</td>\n      <td>229</td>\n      <td>0</td>\n      <td>0</td>\n      <td>0</td>\n      <td>0</td>\n    </tr>\n    <tr>\n      <th>...</th>\n      <td>...</td>\n      <td>...</td>\n      <td>...</td>\n      <td>...</td>\n      <td>...</td>\n      <td>...</td>\n      <td>...</td>\n      <td>...</td>\n      <td>...</td>\n      <td>...</td>\n      <td>...</td>\n      <td>...</td>\n      <td>...</td>\n      <td>...</td>\n      <td>...</td>\n      <td>...</td>\n    </tr>\n    <tr>\n      <th>516397</th>\n      <td>20230127</td>\n      <td>2728</td>\n      <td>104000153</td>\n      <td>21</td>\n      <td>1</td>\n      <td>1</td>\n      <td>0</td>\n      <td>0</td>\n      <td>0</td>\n      <td>0</td>\n      <td>1110</td>\n      <td>1110</td>\n      <td>0</td>\n      <td>0</td>\n      <td>0</td>\n      <td>0</td>\n    </tr>\n    <tr>\n      <th>516398</th>\n      <td>20230127</td>\n      <td>2716</td>\n      <td>110900025</td>\n      <td>8</td>\n      <td>2</td>\n      <td>2</td>\n      <td>0</td>\n      <td>0</td>\n      <td>0</td>\n      <td>0</td>\n      <td>1008</td>\n      <td>1008</td>\n      <td>0</td>\n      <td>0</td>\n      <td>0</td>\n      <td>0</td>\n    </tr>\n    <tr>\n      <th>516409</th>\n      <td>20230127</td>\n      <td>332</td>\n      <td>122900029</td>\n      <td>18</td>\n      <td>103</td>\n      <td>102</td>\n      <td>0</td>\n      <td>0</td>\n      <td>1</td>\n      <td>0</td>\n      <td>499</td>\n      <td>499</td>\n      <td>0</td>\n      <td>0</td>\n      <td>464</td>\n      <td>0</td>\n    </tr>\n    <tr>\n      <th>516413</th>\n      <td>20230127</td>\n      <td>4709</td>\n      <td>107000074</td>\n      <td>17</td>\n      <td>3</td>\n      <td>2</td>\n      <td>0</td>\n      <td>0</td>\n      <td>1</td>\n      <td>0</td>\n      <td>429</td>\n      <td>389</td>\n      <td>0</td>\n      <td>0</td>\n      <td>511</td>\n      <td>0</td>\n    </tr>\n    <tr>\n      <th>516419</th>\n      <td>20230127</td>\n      <td>4132</td>\n      <td>123000090</td>\n      <td>15</td>\n      <td>1</td>\n      <td>1</td>\n      <td>0</td>\n      <td>0</td>\n      <td>0</td>\n      <td>0</td>\n      <td>350</td>\n      <td>350</td>\n      <td>0</td>\n      <td>0</td>\n      <td>0</td>\n      <td>0</td>\n    </tr>\n  </tbody>\n</table>\n<p>73992 rows × 16 columns</p>\n</div>"
     },
     "execution_count": 55,
     "metadata": {},
     "output_type": "execute_result"
    }
   ],
   "source": [
    "df = data.transit\n",
    "# type_a = df['RIDE_PUB_STA_ID'] < 10000  # 승차\n",
    "# type_b = df['ALGH_PUB_STA_ID'] < 10000  # 하차\n",
    "# df['type'] = df['ALGH_PUB_STA_ID']\n",
    "\n",
    "# df.loc[df['RIDE_PUB_STA_ID'] < 10000]\n",
    "df.loc[df['ALGH_PUB_STA_ID'] < 10000]\n",
    "\n",
    "# df.loc[(df['RIDE_PUB_STA_ID'] < 10000) & (df['ALGH_PUB_STA_ID'] < 10000) & (df['RIDE_PUB_STA_ID'] == df['ALGH_PUB_STA_ID'])]\n",
    "# temp = df.loc[(df['RIDE_PUB_STA_ID'] == df['ALGH_PUB_STA_ID'])]\n",
    "# temp.loc[df['RIDE_PUB_STA_ID'] < 10000]"
   ],
   "metadata": {
    "collapsed": false
   }
  },
  {
   "cell_type": "code",
   "execution_count": 50,
   "outputs": [
    {
     "name": "stdout",
     "output_type": "stream",
     "text": [
      "<class 'pandas.core.frame.DataFrame'>\n",
      "RangeIndex: 516421 entries, 0 to 516420\n",
      "Data columns (total 16 columns):\n",
      " #   Column           Non-Null Count   Dtype\n",
      "---  ------           --------------   -----\n",
      " 0   STDR_DE          516421 non-null  int64\n",
      " 1   ALGH_PUB_STA_ID  516421 non-null  int64\n",
      " 2   RIDE_PUB_STA_ID  516421 non-null  int64\n",
      " 3   TMZON            516421 non-null  int64\n",
      " 4   CNT              516421 non-null  int64\n",
      " 5   CNT_01           516421 non-null  int64\n",
      " 6   CNT_02           516421 non-null  int64\n",
      " 7   CNT_04           516421 non-null  int64\n",
      " 8   CNT_06           516421 non-null  int64\n",
      " 9   CNT_07           516421 non-null  int64\n",
      " 10  TRNSF_TIME       516421 non-null  int64\n",
      " 11  TRNSF_TIME_01    516421 non-null  int64\n",
      " 12  TRNSF_TIME_02    516421 non-null  int64\n",
      " 13  TRNSF_TIME_04    516421 non-null  int64\n",
      " 14  TRNSF_TIME_06    516421 non-null  int64\n",
      " 15  TRNSF_TIME_07    516421 non-null  int64\n",
      "dtypes: int64(16)\n",
      "memory usage: 63.0 MB\n"
     ]
    }
   ],
   "source": [
    "data.transit.info()"
   ],
   "metadata": {
    "collapsed": false
   }
  },
  {
   "cell_type": "code",
   "execution_count": 39,
   "outputs": [
    {
     "data": {
      "text/plain": "         STDR_DE  START_PUB_STA_ID  END_PUB_STA_ID  START_EMD_ID  END_EMD_ID  \\\n3       20230127              2553          1804.0     1125054.0   3105252.0   \n5       20230127               417          1869.0     1108066.0   3101458.0   \n12      20230127               313     121900293.0     1112051.0   1122067.0   \n18      20230127              3134           230.0     2304062.0   1121064.0   \n20      20230127              1026          2720.0     1123080.0   1107065.0   \n...          ...               ...             ...           ...         ...   \n473270  20230127              1003     105900027.0     1103073.0   1106072.0   \n473279  20230127              2619          2747.0     1114074.0   1117054.0   \n473283  20230127              4113          2738.0     1119056.0   1120073.0   \n473285  20230127              1809          2612.0     2303069.0   1112051.0   \n473286  20230127               222     116000134.0     1122052.0   1117061.0   \n\n        TOT_CNT  ROUTE_ID_1 RIDE_PUB_STA_ID_1 ALGH_PUB_STA_ID_1   ROUTE_ID_2  \\\n3             5         NaN              2553              1804          NaN   \n5             4         NaN              0417              1869          NaN   \n12            4         NaN              0313              0332  121900001.0   \n18            5         NaN              3134              0230          NaN   \n20            3         NaN              1026              2720          NaN   \n...         ...         ...               ...               ...          ...   \n473270        7         NaN              1003              1015  105900003.0   \n473279        5         NaN              2619              2747          NaN   \n473283       18         NaN              4113              2738          NaN   \n473285        4         NaN              1809              2612          NaN   \n473286        5         NaN              0222              0234  100100085.0   \n\n        ... ALGH_PUB_STA_ID_2 ROUTE_ID_3  RIDE_PUB_STA_ID_3 ALGH_PUB_STA_ID_3  \\\n3       ...                 X        NaN                  X                 X   \n5       ...                 X        NaN                  X                 X   \n12      ...         121900293        NaN                  X                 X   \n18      ...                 X        NaN                  X                 X   \n20      ...                 X        NaN                  X                 X   \n...     ...               ...        ...                ...               ...   \n473270  ...         105900027        NaN                  X                 X   \n473279  ...                 X        NaN                  X                 X   \n473283  ...                 X        NaN                  X                 X   \n473285  ...                 X        NaN                  X                 X   \n473286  ...         116000134        NaN                  X                 X   \n\n       ROUTE_ID_4  RIDE_PUB_STA_ID_4 ALGH_PUB_STA_ID_4 ROUTE_ID_5  \\\n3             NaN                  X                 X        NaN   \n5             NaN                  X                 X        NaN   \n12            NaN                  X                 X        NaN   \n18            NaN                  X                 X        NaN   \n20            NaN                  X                 X        NaN   \n...           ...                ...               ...        ...   \n473270        NaN                  X                 X        NaN   \n473279        NaN                  X                 X        NaN   \n473283        NaN                  X                 X        NaN   \n473285        NaN                  X                 X        NaN   \n473286        NaN                  X                 X        NaN   \n\n        RIDE_PUB_STA_ID_5 ALGH_PUB_STA_ID_5  \n3                       X                 X  \n5                       X                 X  \n12                      X                 X  \n18                      X                 X  \n20                      X                 X  \n...                   ...               ...  \n473270                  X                 X  \n473279                  X                 X  \n473283                  X                 X  \n473285                  X                 X  \n473286                  X                 X  \n\n[215481 rows x 21 columns]",
      "text/html": "<div>\n<style scoped>\n    .dataframe tbody tr th:only-of-type {\n        vertical-align: middle;\n    }\n\n    .dataframe tbody tr th {\n        vertical-align: top;\n    }\n\n    .dataframe thead th {\n        text-align: right;\n    }\n</style>\n<table border=\"1\" class=\"dataframe\">\n  <thead>\n    <tr style=\"text-align: right;\">\n      <th></th>\n      <th>STDR_DE</th>\n      <th>START_PUB_STA_ID</th>\n      <th>END_PUB_STA_ID</th>\n      <th>START_EMD_ID</th>\n      <th>END_EMD_ID</th>\n      <th>TOT_CNT</th>\n      <th>ROUTE_ID_1</th>\n      <th>RIDE_PUB_STA_ID_1</th>\n      <th>ALGH_PUB_STA_ID_1</th>\n      <th>ROUTE_ID_2</th>\n      <th>...</th>\n      <th>ALGH_PUB_STA_ID_2</th>\n      <th>ROUTE_ID_3</th>\n      <th>RIDE_PUB_STA_ID_3</th>\n      <th>ALGH_PUB_STA_ID_3</th>\n      <th>ROUTE_ID_4</th>\n      <th>RIDE_PUB_STA_ID_4</th>\n      <th>ALGH_PUB_STA_ID_4</th>\n      <th>ROUTE_ID_5</th>\n      <th>RIDE_PUB_STA_ID_5</th>\n      <th>ALGH_PUB_STA_ID_5</th>\n    </tr>\n  </thead>\n  <tbody>\n    <tr>\n      <th>3</th>\n      <td>20230127</td>\n      <td>2553</td>\n      <td>1804.0</td>\n      <td>1125054.0</td>\n      <td>3105252.0</td>\n      <td>5</td>\n      <td>NaN</td>\n      <td>2553</td>\n      <td>1804</td>\n      <td>NaN</td>\n      <td>...</td>\n      <td>X</td>\n      <td>NaN</td>\n      <td>X</td>\n      <td>X</td>\n      <td>NaN</td>\n      <td>X</td>\n      <td>X</td>\n      <td>NaN</td>\n      <td>X</td>\n      <td>X</td>\n    </tr>\n    <tr>\n      <th>5</th>\n      <td>20230127</td>\n      <td>417</td>\n      <td>1869.0</td>\n      <td>1108066.0</td>\n      <td>3101458.0</td>\n      <td>4</td>\n      <td>NaN</td>\n      <td>0417</td>\n      <td>1869</td>\n      <td>NaN</td>\n      <td>...</td>\n      <td>X</td>\n      <td>NaN</td>\n      <td>X</td>\n      <td>X</td>\n      <td>NaN</td>\n      <td>X</td>\n      <td>X</td>\n      <td>NaN</td>\n      <td>X</td>\n      <td>X</td>\n    </tr>\n    <tr>\n      <th>12</th>\n      <td>20230127</td>\n      <td>313</td>\n      <td>121900293.0</td>\n      <td>1112051.0</td>\n      <td>1122067.0</td>\n      <td>4</td>\n      <td>NaN</td>\n      <td>0313</td>\n      <td>0332</td>\n      <td>121900001.0</td>\n      <td>...</td>\n      <td>121900293</td>\n      <td>NaN</td>\n      <td>X</td>\n      <td>X</td>\n      <td>NaN</td>\n      <td>X</td>\n      <td>X</td>\n      <td>NaN</td>\n      <td>X</td>\n      <td>X</td>\n    </tr>\n    <tr>\n      <th>18</th>\n      <td>20230127</td>\n      <td>3134</td>\n      <td>230.0</td>\n      <td>2304062.0</td>\n      <td>1121064.0</td>\n      <td>5</td>\n      <td>NaN</td>\n      <td>3134</td>\n      <td>0230</td>\n      <td>NaN</td>\n      <td>...</td>\n      <td>X</td>\n      <td>NaN</td>\n      <td>X</td>\n      <td>X</td>\n      <td>NaN</td>\n      <td>X</td>\n      <td>X</td>\n      <td>NaN</td>\n      <td>X</td>\n      <td>X</td>\n    </tr>\n    <tr>\n      <th>20</th>\n      <td>20230127</td>\n      <td>1026</td>\n      <td>2720.0</td>\n      <td>1123080.0</td>\n      <td>1107065.0</td>\n      <td>3</td>\n      <td>NaN</td>\n      <td>1026</td>\n      <td>2720</td>\n      <td>NaN</td>\n      <td>...</td>\n      <td>X</td>\n      <td>NaN</td>\n      <td>X</td>\n      <td>X</td>\n      <td>NaN</td>\n      <td>X</td>\n      <td>X</td>\n      <td>NaN</td>\n      <td>X</td>\n      <td>X</td>\n    </tr>\n    <tr>\n      <th>...</th>\n      <td>...</td>\n      <td>...</td>\n      <td>...</td>\n      <td>...</td>\n      <td>...</td>\n      <td>...</td>\n      <td>...</td>\n      <td>...</td>\n      <td>...</td>\n      <td>...</td>\n      <td>...</td>\n      <td>...</td>\n      <td>...</td>\n      <td>...</td>\n      <td>...</td>\n      <td>...</td>\n      <td>...</td>\n      <td>...</td>\n      <td>...</td>\n      <td>...</td>\n      <td>...</td>\n    </tr>\n    <tr>\n      <th>473270</th>\n      <td>20230127</td>\n      <td>1003</td>\n      <td>105900027.0</td>\n      <td>1103073.0</td>\n      <td>1106072.0</td>\n      <td>7</td>\n      <td>NaN</td>\n      <td>1003</td>\n      <td>1015</td>\n      <td>105900003.0</td>\n      <td>...</td>\n      <td>105900027</td>\n      <td>NaN</td>\n      <td>X</td>\n      <td>X</td>\n      <td>NaN</td>\n      <td>X</td>\n      <td>X</td>\n      <td>NaN</td>\n      <td>X</td>\n      <td>X</td>\n    </tr>\n    <tr>\n      <th>473279</th>\n      <td>20230127</td>\n      <td>2619</td>\n      <td>2747.0</td>\n      <td>1114074.0</td>\n      <td>1117054.0</td>\n      <td>5</td>\n      <td>NaN</td>\n      <td>2619</td>\n      <td>2747</td>\n      <td>NaN</td>\n      <td>...</td>\n      <td>X</td>\n      <td>NaN</td>\n      <td>X</td>\n      <td>X</td>\n      <td>NaN</td>\n      <td>X</td>\n      <td>X</td>\n      <td>NaN</td>\n      <td>X</td>\n      <td>X</td>\n    </tr>\n    <tr>\n      <th>473283</th>\n      <td>20230127</td>\n      <td>4113</td>\n      <td>2738.0</td>\n      <td>1119056.0</td>\n      <td>1120073.0</td>\n      <td>18</td>\n      <td>NaN</td>\n      <td>4113</td>\n      <td>2738</td>\n      <td>NaN</td>\n      <td>...</td>\n      <td>X</td>\n      <td>NaN</td>\n      <td>X</td>\n      <td>X</td>\n      <td>NaN</td>\n      <td>X</td>\n      <td>X</td>\n      <td>NaN</td>\n      <td>X</td>\n      <td>X</td>\n    </tr>\n    <tr>\n      <th>473285</th>\n      <td>20230127</td>\n      <td>1809</td>\n      <td>2612.0</td>\n      <td>2303069.0</td>\n      <td>1112051.0</td>\n      <td>4</td>\n      <td>NaN</td>\n      <td>1809</td>\n      <td>2612</td>\n      <td>NaN</td>\n      <td>...</td>\n      <td>X</td>\n      <td>NaN</td>\n      <td>X</td>\n      <td>X</td>\n      <td>NaN</td>\n      <td>X</td>\n      <td>X</td>\n      <td>NaN</td>\n      <td>X</td>\n      <td>X</td>\n    </tr>\n    <tr>\n      <th>473286</th>\n      <td>20230127</td>\n      <td>222</td>\n      <td>116000134.0</td>\n      <td>1122052.0</td>\n      <td>1117061.0</td>\n      <td>5</td>\n      <td>NaN</td>\n      <td>0222</td>\n      <td>0234</td>\n      <td>100100085.0</td>\n      <td>...</td>\n      <td>116000134</td>\n      <td>NaN</td>\n      <td>X</td>\n      <td>X</td>\n      <td>NaN</td>\n      <td>X</td>\n      <td>X</td>\n      <td>NaN</td>\n      <td>X</td>\n      <td>X</td>\n    </tr>\n  </tbody>\n</table>\n<p>215481 rows × 21 columns</p>\n</div>"
     },
     "execution_count": 39,
     "metadata": {},
     "output_type": "execute_result"
    }
   ],
   "source": [
    "df = data.trip_chain\n",
    "df.loc[df['ROUTE_ID_1'].isna()]"
   ],
   "metadata": {
    "collapsed": false
   }
  },
  {
   "cell_type": "markdown",
   "source": [
    "### 통행 사슬 - `KSCC_DX_TRIP_CHAIN_SUM`"
   ],
   "metadata": {
    "collapsed": false
   }
  },
  {
   "cell_type": "code",
   "execution_count": 73,
   "outputs": [],
   "source": [
    "chain, district = data.trip_chain, data.district"
   ],
   "metadata": {
    "collapsed": false
   }
  },
  {
   "cell_type": "code",
   "execution_count": 39,
   "outputs": [
    {
     "data": {
      "text/plain": "         STDR_DE  START_PUB_STA_ID  END_PUB_STA_ID  START_EMD_ID  END_EMD_ID  \\\n2       20230127         113000019     218000636.0     1114074.0   3110169.0   \n17      20230127         122900066     122900087.0     1123074.0   1123071.0   \n342     20230127         122000148     123000077.0     1123079.0   1124064.0   \n408     20230127         104000112     104000006.0     1105066.0   1105061.0   \n530     20230127         122000642     123000579.0     1123073.0   1124077.0   \n...          ...               ...             ...           ...         ...   \n471934  20230127         116000613     116000054.0     1117072.0   1117071.0   \n471987  20230127         111000232     112000012.0     1112066.0   1113075.0   \n472110  20230127         116900256     116900116.0     1117052.0   1117054.0   \n472749  20230127         108000154     109000241.0     1109071.0   1110061.0   \n472975  20230127         118000048     119000050.0     1119054.0   1120068.0   \n\n        TOT_CNT   ROUTE_ID_1 RIDE_PUB_STA_ID_1 ALGH_PUB_STA_ID_1   ROUTE_ID_2  \\\n2             3  100100447.0         113000019         111000224  100100358.0   \n17            3  122900002.0         122900066         122000260  122900006.0   \n342           3  100100057.0         122000148         123000065  100100220.0   \n408           3  100100218.0         104000112         104000055  100100053.0   \n530           5  122900002.0         122000642         123900002  100100564.0   \n...         ...          ...               ...               ...          ...   \n471934        3  100100085.0         116000613         116000008  100100286.0   \n471987        3  100100462.0         111000232         111000229  100100565.0   \n472110        4  116900001.0         116900256         116900210  116900007.0   \n472749        3  100100139.0         108000154         108000089  109900011.0   \n472975        3  100100032.0         118000048         118000070  100100071.0   \n\n       RIDE_PUB_STA_ID_2 ALGH_PUB_STA_ID_2  \n2              111000002         218000636  \n17             122000260         122900087  \n342            123000065         123000077  \n408            104000055         104000006  \n530            123000007         123000579  \n...                  ...               ...  \n471934         116000008         116000054  \n471987         111000007         112000012  \n472110         116900210         116900116  \n472749         108000089         109000241  \n472975         118000070         119000050  \n\n[4112 rows x 12 columns]",
      "text/html": "<div>\n<style scoped>\n    .dataframe tbody tr th:only-of-type {\n        vertical-align: middle;\n    }\n\n    .dataframe tbody tr th {\n        vertical-align: top;\n    }\n\n    .dataframe thead th {\n        text-align: right;\n    }\n</style>\n<table border=\"1\" class=\"dataframe\">\n  <thead>\n    <tr style=\"text-align: right;\">\n      <th></th>\n      <th>STDR_DE</th>\n      <th>START_PUB_STA_ID</th>\n      <th>END_PUB_STA_ID</th>\n      <th>START_EMD_ID</th>\n      <th>END_EMD_ID</th>\n      <th>TOT_CNT</th>\n      <th>ROUTE_ID_1</th>\n      <th>RIDE_PUB_STA_ID_1</th>\n      <th>ALGH_PUB_STA_ID_1</th>\n      <th>ROUTE_ID_2</th>\n      <th>RIDE_PUB_STA_ID_2</th>\n      <th>ALGH_PUB_STA_ID_2</th>\n    </tr>\n  </thead>\n  <tbody>\n    <tr>\n      <th>2</th>\n      <td>20230127</td>\n      <td>113000019</td>\n      <td>218000636.0</td>\n      <td>1114074.0</td>\n      <td>3110169.0</td>\n      <td>3</td>\n      <td>100100447.0</td>\n      <td>113000019</td>\n      <td>111000224</td>\n      <td>100100358.0</td>\n      <td>111000002</td>\n      <td>218000636</td>\n    </tr>\n    <tr>\n      <th>17</th>\n      <td>20230127</td>\n      <td>122900066</td>\n      <td>122900087.0</td>\n      <td>1123074.0</td>\n      <td>1123071.0</td>\n      <td>3</td>\n      <td>122900002.0</td>\n      <td>122900066</td>\n      <td>122000260</td>\n      <td>122900006.0</td>\n      <td>122000260</td>\n      <td>122900087</td>\n    </tr>\n    <tr>\n      <th>342</th>\n      <td>20230127</td>\n      <td>122000148</td>\n      <td>123000077.0</td>\n      <td>1123079.0</td>\n      <td>1124064.0</td>\n      <td>3</td>\n      <td>100100057.0</td>\n      <td>122000148</td>\n      <td>123000065</td>\n      <td>100100220.0</td>\n      <td>123000065</td>\n      <td>123000077</td>\n    </tr>\n    <tr>\n      <th>408</th>\n      <td>20230127</td>\n      <td>104000112</td>\n      <td>104000006.0</td>\n      <td>1105066.0</td>\n      <td>1105061.0</td>\n      <td>3</td>\n      <td>100100218.0</td>\n      <td>104000112</td>\n      <td>104000055</td>\n      <td>100100053.0</td>\n      <td>104000055</td>\n      <td>104000006</td>\n    </tr>\n    <tr>\n      <th>530</th>\n      <td>20230127</td>\n      <td>122000642</td>\n      <td>123000579.0</td>\n      <td>1123073.0</td>\n      <td>1124077.0</td>\n      <td>5</td>\n      <td>122900002.0</td>\n      <td>122000642</td>\n      <td>123900002</td>\n      <td>100100564.0</td>\n      <td>123000007</td>\n      <td>123000579</td>\n    </tr>\n    <tr>\n      <th>...</th>\n      <td>...</td>\n      <td>...</td>\n      <td>...</td>\n      <td>...</td>\n      <td>...</td>\n      <td>...</td>\n      <td>...</td>\n      <td>...</td>\n      <td>...</td>\n      <td>...</td>\n      <td>...</td>\n      <td>...</td>\n    </tr>\n    <tr>\n      <th>471934</th>\n      <td>20230127</td>\n      <td>116000613</td>\n      <td>116000054.0</td>\n      <td>1117072.0</td>\n      <td>1117071.0</td>\n      <td>3</td>\n      <td>100100085.0</td>\n      <td>116000613</td>\n      <td>116000008</td>\n      <td>100100286.0</td>\n      <td>116000008</td>\n      <td>116000054</td>\n    </tr>\n    <tr>\n      <th>471987</th>\n      <td>20230127</td>\n      <td>111000232</td>\n      <td>112000012.0</td>\n      <td>1112066.0</td>\n      <td>1113075.0</td>\n      <td>3</td>\n      <td>100100462.0</td>\n      <td>111000232</td>\n      <td>111000229</td>\n      <td>100100565.0</td>\n      <td>111000007</td>\n      <td>112000012</td>\n    </tr>\n    <tr>\n      <th>472110</th>\n      <td>20230127</td>\n      <td>116900256</td>\n      <td>116900116.0</td>\n      <td>1117052.0</td>\n      <td>1117054.0</td>\n      <td>4</td>\n      <td>116900001.0</td>\n      <td>116900256</td>\n      <td>116900210</td>\n      <td>116900007.0</td>\n      <td>116900210</td>\n      <td>116900116</td>\n    </tr>\n    <tr>\n      <th>472749</th>\n      <td>20230127</td>\n      <td>108000154</td>\n      <td>109000241.0</td>\n      <td>1109071.0</td>\n      <td>1110061.0</td>\n      <td>3</td>\n      <td>100100139.0</td>\n      <td>108000154</td>\n      <td>108000089</td>\n      <td>109900011.0</td>\n      <td>108000089</td>\n      <td>109000241</td>\n    </tr>\n    <tr>\n      <th>472975</th>\n      <td>20230127</td>\n      <td>118000048</td>\n      <td>119000050.0</td>\n      <td>1119054.0</td>\n      <td>1120068.0</td>\n      <td>3</td>\n      <td>100100032.0</td>\n      <td>118000048</td>\n      <td>118000070</td>\n      <td>100100071.0</td>\n      <td>118000070</td>\n      <td>119000050</td>\n    </tr>\n  </tbody>\n</table>\n<p>4112 rows × 12 columns</p>\n</div>"
     },
     "execution_count": 39,
     "metadata": {},
     "output_type": "execute_result"
    }
   ],
   "source": [
    "chain = chain.loc[chain['RIDE_PUB_STA_ID_3'] == 'X']\n",
    "chain = chain.loc[chain['ROUTE_ID_1'].notnull() & chain['ROUTE_ID_2'].notnull()]\n",
    "chain = chain.iloc[:, :12]\n",
    "chain"
   ],
   "metadata": {
    "collapsed": false
   }
  },
  {
   "cell_type": "code",
   "execution_count": 74,
   "outputs": [
    {
     "data": {
      "text/plain": "         STDR_DE  START_PUB_STA_ID  END_PUB_STA_ID  START_EMD_ID  END_EMD_ID  \\\n0       20230127         213000492     213000197.0     3106068.0   3106054.0   \n1       20230127         100000039     112000041.0     1101055.0   1113066.0   \n2       20230127         113000019     218000636.0     1114074.0   3110169.0   \n3       20230127              2553          1804.0     1125054.0   3105252.0   \n4       20230127         118000146     114000208.0     1119073.0   1115058.0   \n...          ...               ...             ...           ...         ...   \n473284  20230127         123000622     123000639.0     1124082.0   1124081.0   \n473285  20230127              1809          2612.0     2303069.0   1112051.0   \n473286  20230127               222     116000134.0     1122052.0   1117061.0   \n473287  20230127         113000099     112000016.0     1114072.0   1113075.0   \n473288  20230127         107000010     107000078.0     1108082.0   1108065.0   \n\n        TOT_CNT   ROUTE_ID_1 RIDE_PUB_STA_ID_1 ALGH_PUB_STA_ID_1   ROUTE_ID_2  \\\n0            14  100100312.0         213000492         213000197          NaN   \n1             6  100100360.0         100000039         112000041          NaN   \n2             3  100100447.0         113000019         111000224  100100358.0   \n3             5          NaN              2553              1804          NaN   \n4             3  100100289.0         118000146         114000208          NaN   \n...         ...          ...               ...               ...          ...   \n473284       12  100100496.0         123000622         123000639          NaN   \n473285        4          NaN              1809              2612          NaN   \n473286        5          NaN              0222              0234  100100085.0   \n473287        6  100100363.0         113000099         112000016          NaN   \n473288       29  100100034.0         107000010         107000078          NaN   \n\n        ... ALGH_PUB_STA_ID_2 ROUTE_ID_3  RIDE_PUB_STA_ID_3 ALGH_PUB_STA_ID_3  \\\n0       ...                 X        NaN                  X                 X   \n1       ...                 X        NaN                  X                 X   \n2       ...         218000636        NaN                  X                 X   \n3       ...                 X        NaN                  X                 X   \n4       ...                 X        NaN                  X                 X   \n...     ...               ...        ...                ...               ...   \n473284  ...                 X        NaN                  X                 X   \n473285  ...                 X        NaN                  X                 X   \n473286  ...         116000134        NaN                  X                 X   \n473287  ...                 X        NaN                  X                 X   \n473288  ...                 X        NaN                  X                 X   \n\n       ROUTE_ID_4  RIDE_PUB_STA_ID_4 ALGH_PUB_STA_ID_4 ROUTE_ID_5  \\\n0             NaN                  X                 X        NaN   \n1             NaN                  X                 X        NaN   \n2             NaN                  X                 X        NaN   \n3             NaN                  X                 X        NaN   \n4             NaN                  X                 X        NaN   \n...           ...                ...               ...        ...   \n473284        NaN                  X                 X        NaN   \n473285        NaN                  X                 X        NaN   \n473286        NaN                  X                 X        NaN   \n473287        NaN                  X                 X        NaN   \n473288        NaN                  X                 X        NaN   \n\n        RIDE_PUB_STA_ID_5 ALGH_PUB_STA_ID_5  \n0                       X                 X  \n1                       X                 X  \n2                       X                 X  \n3                       X                 X  \n4                       X                 X  \n...                   ...               ...  \n473284                  X                 X  \n473285                  X                 X  \n473286                  X                 X  \n473287                  X                 X  \n473288                  X                 X  \n\n[458447 rows x 21 columns]",
      "text/html": "<div>\n<style scoped>\n    .dataframe tbody tr th:only-of-type {\n        vertical-align: middle;\n    }\n\n    .dataframe tbody tr th {\n        vertical-align: top;\n    }\n\n    .dataframe thead th {\n        text-align: right;\n    }\n</style>\n<table border=\"1\" class=\"dataframe\">\n  <thead>\n    <tr style=\"text-align: right;\">\n      <th></th>\n      <th>STDR_DE</th>\n      <th>START_PUB_STA_ID</th>\n      <th>END_PUB_STA_ID</th>\n      <th>START_EMD_ID</th>\n      <th>END_EMD_ID</th>\n      <th>TOT_CNT</th>\n      <th>ROUTE_ID_1</th>\n      <th>RIDE_PUB_STA_ID_1</th>\n      <th>ALGH_PUB_STA_ID_1</th>\n      <th>ROUTE_ID_2</th>\n      <th>...</th>\n      <th>ALGH_PUB_STA_ID_2</th>\n      <th>ROUTE_ID_3</th>\n      <th>RIDE_PUB_STA_ID_3</th>\n      <th>ALGH_PUB_STA_ID_3</th>\n      <th>ROUTE_ID_4</th>\n      <th>RIDE_PUB_STA_ID_4</th>\n      <th>ALGH_PUB_STA_ID_4</th>\n      <th>ROUTE_ID_5</th>\n      <th>RIDE_PUB_STA_ID_5</th>\n      <th>ALGH_PUB_STA_ID_5</th>\n    </tr>\n  </thead>\n  <tbody>\n    <tr>\n      <th>0</th>\n      <td>20230127</td>\n      <td>213000492</td>\n      <td>213000197.0</td>\n      <td>3106068.0</td>\n      <td>3106054.0</td>\n      <td>14</td>\n      <td>100100312.0</td>\n      <td>213000492</td>\n      <td>213000197</td>\n      <td>NaN</td>\n      <td>...</td>\n      <td>X</td>\n      <td>NaN</td>\n      <td>X</td>\n      <td>X</td>\n      <td>NaN</td>\n      <td>X</td>\n      <td>X</td>\n      <td>NaN</td>\n      <td>X</td>\n      <td>X</td>\n    </tr>\n    <tr>\n      <th>1</th>\n      <td>20230127</td>\n      <td>100000039</td>\n      <td>112000041.0</td>\n      <td>1101055.0</td>\n      <td>1113066.0</td>\n      <td>6</td>\n      <td>100100360.0</td>\n      <td>100000039</td>\n      <td>112000041</td>\n      <td>NaN</td>\n      <td>...</td>\n      <td>X</td>\n      <td>NaN</td>\n      <td>X</td>\n      <td>X</td>\n      <td>NaN</td>\n      <td>X</td>\n      <td>X</td>\n      <td>NaN</td>\n      <td>X</td>\n      <td>X</td>\n    </tr>\n    <tr>\n      <th>2</th>\n      <td>20230127</td>\n      <td>113000019</td>\n      <td>218000636.0</td>\n      <td>1114074.0</td>\n      <td>3110169.0</td>\n      <td>3</td>\n      <td>100100447.0</td>\n      <td>113000019</td>\n      <td>111000224</td>\n      <td>100100358.0</td>\n      <td>...</td>\n      <td>218000636</td>\n      <td>NaN</td>\n      <td>X</td>\n      <td>X</td>\n      <td>NaN</td>\n      <td>X</td>\n      <td>X</td>\n      <td>NaN</td>\n      <td>X</td>\n      <td>X</td>\n    </tr>\n    <tr>\n      <th>3</th>\n      <td>20230127</td>\n      <td>2553</td>\n      <td>1804.0</td>\n      <td>1125054.0</td>\n      <td>3105252.0</td>\n      <td>5</td>\n      <td>NaN</td>\n      <td>2553</td>\n      <td>1804</td>\n      <td>NaN</td>\n      <td>...</td>\n      <td>X</td>\n      <td>NaN</td>\n      <td>X</td>\n      <td>X</td>\n      <td>NaN</td>\n      <td>X</td>\n      <td>X</td>\n      <td>NaN</td>\n      <td>X</td>\n      <td>X</td>\n    </tr>\n    <tr>\n      <th>4</th>\n      <td>20230127</td>\n      <td>118000146</td>\n      <td>114000208.0</td>\n      <td>1119073.0</td>\n      <td>1115058.0</td>\n      <td>3</td>\n      <td>100100289.0</td>\n      <td>118000146</td>\n      <td>114000208</td>\n      <td>NaN</td>\n      <td>...</td>\n      <td>X</td>\n      <td>NaN</td>\n      <td>X</td>\n      <td>X</td>\n      <td>NaN</td>\n      <td>X</td>\n      <td>X</td>\n      <td>NaN</td>\n      <td>X</td>\n      <td>X</td>\n    </tr>\n    <tr>\n      <th>...</th>\n      <td>...</td>\n      <td>...</td>\n      <td>...</td>\n      <td>...</td>\n      <td>...</td>\n      <td>...</td>\n      <td>...</td>\n      <td>...</td>\n      <td>...</td>\n      <td>...</td>\n      <td>...</td>\n      <td>...</td>\n      <td>...</td>\n      <td>...</td>\n      <td>...</td>\n      <td>...</td>\n      <td>...</td>\n      <td>...</td>\n      <td>...</td>\n      <td>...</td>\n      <td>...</td>\n    </tr>\n    <tr>\n      <th>473284</th>\n      <td>20230127</td>\n      <td>123000622</td>\n      <td>123000639.0</td>\n      <td>1124082.0</td>\n      <td>1124081.0</td>\n      <td>12</td>\n      <td>100100496.0</td>\n      <td>123000622</td>\n      <td>123000639</td>\n      <td>NaN</td>\n      <td>...</td>\n      <td>X</td>\n      <td>NaN</td>\n      <td>X</td>\n      <td>X</td>\n      <td>NaN</td>\n      <td>X</td>\n      <td>X</td>\n      <td>NaN</td>\n      <td>X</td>\n      <td>X</td>\n    </tr>\n    <tr>\n      <th>473285</th>\n      <td>20230127</td>\n      <td>1809</td>\n      <td>2612.0</td>\n      <td>2303069.0</td>\n      <td>1112051.0</td>\n      <td>4</td>\n      <td>NaN</td>\n      <td>1809</td>\n      <td>2612</td>\n      <td>NaN</td>\n      <td>...</td>\n      <td>X</td>\n      <td>NaN</td>\n      <td>X</td>\n      <td>X</td>\n      <td>NaN</td>\n      <td>X</td>\n      <td>X</td>\n      <td>NaN</td>\n      <td>X</td>\n      <td>X</td>\n    </tr>\n    <tr>\n      <th>473286</th>\n      <td>20230127</td>\n      <td>222</td>\n      <td>116000134.0</td>\n      <td>1122052.0</td>\n      <td>1117061.0</td>\n      <td>5</td>\n      <td>NaN</td>\n      <td>0222</td>\n      <td>0234</td>\n      <td>100100085.0</td>\n      <td>...</td>\n      <td>116000134</td>\n      <td>NaN</td>\n      <td>X</td>\n      <td>X</td>\n      <td>NaN</td>\n      <td>X</td>\n      <td>X</td>\n      <td>NaN</td>\n      <td>X</td>\n      <td>X</td>\n    </tr>\n    <tr>\n      <th>473287</th>\n      <td>20230127</td>\n      <td>113000099</td>\n      <td>112000016.0</td>\n      <td>1114072.0</td>\n      <td>1113075.0</td>\n      <td>6</td>\n      <td>100100363.0</td>\n      <td>113000099</td>\n      <td>112000016</td>\n      <td>NaN</td>\n      <td>...</td>\n      <td>X</td>\n      <td>NaN</td>\n      <td>X</td>\n      <td>X</td>\n      <td>NaN</td>\n      <td>X</td>\n      <td>X</td>\n      <td>NaN</td>\n      <td>X</td>\n      <td>X</td>\n    </tr>\n    <tr>\n      <th>473288</th>\n      <td>20230127</td>\n      <td>107000010</td>\n      <td>107000078.0</td>\n      <td>1108082.0</td>\n      <td>1108065.0</td>\n      <td>29</td>\n      <td>100100034.0</td>\n      <td>107000010</td>\n      <td>107000078</td>\n      <td>NaN</td>\n      <td>...</td>\n      <td>X</td>\n      <td>NaN</td>\n      <td>X</td>\n      <td>X</td>\n      <td>NaN</td>\n      <td>X</td>\n      <td>X</td>\n      <td>NaN</td>\n      <td>X</td>\n      <td>X</td>\n    </tr>\n  </tbody>\n</table>\n<p>458447 rows × 21 columns</p>\n</div>"
     },
     "execution_count": 74,
     "metadata": {},
     "output_type": "execute_result"
    }
   ],
   "source": [
    "# chain['END_EMD_ID'].isna().value_counts()\n",
    "chain.loc[~chain['END_EMD_ID'].isna()]"
   ],
   "metadata": {
    "collapsed": false
   }
  },
  {
   "cell_type": "code",
   "execution_count": 100,
   "outputs": [
    {
     "data": {
      "text/plain": "         STDR_DE  START_PUB_STA_ID  END_PUB_STA_ID  START_EMD_ID  END_EMD_ID  \\\n2       20230127         113000019     218000636.0     1114074.0   3110169.0   \n17      20230127         122900066     122900087.0     1123074.0   1123071.0   \n342     20230127         122000148     123000077.0     1123079.0   1124064.0   \n408     20230127         104000112     104000006.0     1105066.0   1105061.0   \n530     20230127         122000642     123000579.0     1123073.0   1124077.0   \n...          ...               ...             ...           ...         ...   \n471934  20230127         116000613     116000054.0     1117072.0   1117071.0   \n471987  20230127         111000232     112000012.0     1112066.0   1113075.0   \n472110  20230127         116900256     116900116.0     1117052.0   1117054.0   \n472749  20230127         108000154     109000241.0     1109071.0   1110061.0   \n472975  20230127         118000048     119000050.0     1119054.0   1120068.0   \n\n        TOT_CNT   ROUTE_ID_1 RIDE_PUB_STA_ID_1 ALGH_PUB_STA_ID_1   ROUTE_ID_2  \\\n2             3  100100447.0         113000019         111000224  100100358.0   \n17            3  122900002.0         122900066         122000260  122900006.0   \n342           3  100100057.0         122000148         123000065  100100220.0   \n408           3  100100218.0         104000112         104000055  100100053.0   \n530           5  122900002.0         122000642         123900002  100100564.0   \n...         ...          ...               ...               ...          ...   \n471934        3  100100085.0         116000613         116000008  100100286.0   \n471987        3  100100462.0         111000232         111000229  100100565.0   \n472110        4  116900001.0         116900256         116900210  116900007.0   \n472749        3  100100139.0         108000154         108000089  109900011.0   \n472975        3  100100032.0         118000048         118000070  100100071.0   \n\n       RIDE_PUB_STA_ID_2 ALGH_PUB_STA_ID_2  \n2              111000002         218000636  \n17             122000260         122900087  \n342            123000065         123000077  \n408            104000055         104000006  \n530            123000007         123000579  \n...                  ...               ...  \n471934         116000008         116000054  \n471987         111000007         112000012  \n472110         116900210         116900116  \n472749         108000089         109000241  \n472975         118000070         119000050  \n\n[4112 rows x 12 columns]",
      "text/html": "<div>\n<style scoped>\n    .dataframe tbody tr th:only-of-type {\n        vertical-align: middle;\n    }\n\n    .dataframe tbody tr th {\n        vertical-align: top;\n    }\n\n    .dataframe thead th {\n        text-align: right;\n    }\n</style>\n<table border=\"1\" class=\"dataframe\">\n  <thead>\n    <tr style=\"text-align: right;\">\n      <th></th>\n      <th>STDR_DE</th>\n      <th>START_PUB_STA_ID</th>\n      <th>END_PUB_STA_ID</th>\n      <th>START_EMD_ID</th>\n      <th>END_EMD_ID</th>\n      <th>TOT_CNT</th>\n      <th>ROUTE_ID_1</th>\n      <th>RIDE_PUB_STA_ID_1</th>\n      <th>ALGH_PUB_STA_ID_1</th>\n      <th>ROUTE_ID_2</th>\n      <th>RIDE_PUB_STA_ID_2</th>\n      <th>ALGH_PUB_STA_ID_2</th>\n    </tr>\n  </thead>\n  <tbody>\n    <tr>\n      <th>2</th>\n      <td>20230127</td>\n      <td>113000019</td>\n      <td>218000636.0</td>\n      <td>1114074.0</td>\n      <td>3110169.0</td>\n      <td>3</td>\n      <td>100100447.0</td>\n      <td>113000019</td>\n      <td>111000224</td>\n      <td>100100358.0</td>\n      <td>111000002</td>\n      <td>218000636</td>\n    </tr>\n    <tr>\n      <th>17</th>\n      <td>20230127</td>\n      <td>122900066</td>\n      <td>122900087.0</td>\n      <td>1123074.0</td>\n      <td>1123071.0</td>\n      <td>3</td>\n      <td>122900002.0</td>\n      <td>122900066</td>\n      <td>122000260</td>\n      <td>122900006.0</td>\n      <td>122000260</td>\n      <td>122900087</td>\n    </tr>\n    <tr>\n      <th>342</th>\n      <td>20230127</td>\n      <td>122000148</td>\n      <td>123000077.0</td>\n      <td>1123079.0</td>\n      <td>1124064.0</td>\n      <td>3</td>\n      <td>100100057.0</td>\n      <td>122000148</td>\n      <td>123000065</td>\n      <td>100100220.0</td>\n      <td>123000065</td>\n      <td>123000077</td>\n    </tr>\n    <tr>\n      <th>408</th>\n      <td>20230127</td>\n      <td>104000112</td>\n      <td>104000006.0</td>\n      <td>1105066.0</td>\n      <td>1105061.0</td>\n      <td>3</td>\n      <td>100100218.0</td>\n      <td>104000112</td>\n      <td>104000055</td>\n      <td>100100053.0</td>\n      <td>104000055</td>\n      <td>104000006</td>\n    </tr>\n    <tr>\n      <th>530</th>\n      <td>20230127</td>\n      <td>122000642</td>\n      <td>123000579.0</td>\n      <td>1123073.0</td>\n      <td>1124077.0</td>\n      <td>5</td>\n      <td>122900002.0</td>\n      <td>122000642</td>\n      <td>123900002</td>\n      <td>100100564.0</td>\n      <td>123000007</td>\n      <td>123000579</td>\n    </tr>\n    <tr>\n      <th>...</th>\n      <td>...</td>\n      <td>...</td>\n      <td>...</td>\n      <td>...</td>\n      <td>...</td>\n      <td>...</td>\n      <td>...</td>\n      <td>...</td>\n      <td>...</td>\n      <td>...</td>\n      <td>...</td>\n      <td>...</td>\n    </tr>\n    <tr>\n      <th>471934</th>\n      <td>20230127</td>\n      <td>116000613</td>\n      <td>116000054.0</td>\n      <td>1117072.0</td>\n      <td>1117071.0</td>\n      <td>3</td>\n      <td>100100085.0</td>\n      <td>116000613</td>\n      <td>116000008</td>\n      <td>100100286.0</td>\n      <td>116000008</td>\n      <td>116000054</td>\n    </tr>\n    <tr>\n      <th>471987</th>\n      <td>20230127</td>\n      <td>111000232</td>\n      <td>112000012.0</td>\n      <td>1112066.0</td>\n      <td>1113075.0</td>\n      <td>3</td>\n      <td>100100462.0</td>\n      <td>111000232</td>\n      <td>111000229</td>\n      <td>100100565.0</td>\n      <td>111000007</td>\n      <td>112000012</td>\n    </tr>\n    <tr>\n      <th>472110</th>\n      <td>20230127</td>\n      <td>116900256</td>\n      <td>116900116.0</td>\n      <td>1117052.0</td>\n      <td>1117054.0</td>\n      <td>4</td>\n      <td>116900001.0</td>\n      <td>116900256</td>\n      <td>116900210</td>\n      <td>116900007.0</td>\n      <td>116900210</td>\n      <td>116900116</td>\n    </tr>\n    <tr>\n      <th>472749</th>\n      <td>20230127</td>\n      <td>108000154</td>\n      <td>109000241.0</td>\n      <td>1109071.0</td>\n      <td>1110061.0</td>\n      <td>3</td>\n      <td>100100139.0</td>\n      <td>108000154</td>\n      <td>108000089</td>\n      <td>109900011.0</td>\n      <td>108000089</td>\n      <td>109000241</td>\n    </tr>\n    <tr>\n      <th>472975</th>\n      <td>20230127</td>\n      <td>118000048</td>\n      <td>119000050.0</td>\n      <td>1119054.0</td>\n      <td>1120068.0</td>\n      <td>3</td>\n      <td>100100032.0</td>\n      <td>118000048</td>\n      <td>118000070</td>\n      <td>100100071.0</td>\n      <td>118000070</td>\n      <td>119000050</td>\n    </tr>\n  </tbody>\n</table>\n<p>4112 rows × 12 columns</p>\n</div>"
     },
     "execution_count": 100,
     "metadata": {},
     "output_type": "execute_result"
    }
   ],
   "source": [
    "chain, district = data.trip_chain, data.district\n",
    "chain = chain.loc[chain['RIDE_PUB_STA_ID_3'] == 'X']  # 1회 환승 체인만 취급\n",
    "chain = chain.loc[chain['ROUTE_ID_1'].notnull() & chain['ROUTE_ID_2'].notnull()]  # 버스-버스\n",
    "# chain = chain.loc[chain['START_EMD_ID'].notna() & chain['END_EMD_ID'].notna()]\n",
    "# chain['START_EMD_ID'] = chain['START_EMD_ID'].astype('int')\n",
    "# chain['END_EMD_ID'] = chain['END_EMD_ID'].astype('int')\n",
    "chain = chain.iloc[:, :12]\n",
    "\n",
    "# chain = pd.merge(chain, district, left_on='ALGH_PUB_STA_ID_1', right_on='EMD_ID')\n",
    "chain"
   ],
   "metadata": {
    "collapsed": false
   }
  },
  {
   "cell_type": "code",
   "execution_count": 104,
   "outputs": [
    {
     "data": {
      "text/plain": "         STDR_DE  START_PUB_STA_ID  END_PUB_STA_ID  START_EMD_ID  END_EMD_ID  \\\n2       20230127         113000019     218000636.0     1114074.0   3110169.0   \n17      20230127         122900066     122900087.0     1123074.0   1123071.0   \n342     20230127         122000148     123000077.0     1123079.0   1124064.0   \n408     20230127         104000112     104000006.0     1105066.0   1105061.0   \n530     20230127         122000642     123000579.0     1123073.0   1124077.0   \n...          ...               ...             ...           ...         ...   \n471934  20230127         116000613     116000054.0     1117072.0   1117071.0   \n471987  20230127         111000232     112000012.0     1112066.0   1113075.0   \n472110  20230127         116900256     116900116.0     1117052.0   1117054.0   \n472749  20230127         108000154     109000241.0     1109071.0   1110061.0   \n472975  20230127         118000048     119000050.0     1119054.0   1120068.0   \n\n        TOT_CNT   ROUTE_ID_1 RIDE_PUB_STA_ID_1 ALGH_PUB_STA_ID_1   ROUTE_ID_2  \\\n2             3  100100447.0         113000019         111000224  100100358.0   \n17            3  122900002.0         122900066         122000260  122900006.0   \n342           3  100100057.0         122000148         123000065  100100220.0   \n408           3  100100218.0         104000112         104000055  100100053.0   \n530           5  122900002.0         122000642         123900002  100100564.0   \n...         ...          ...               ...               ...          ...   \n471934        3  100100085.0         116000613         116000008  100100286.0   \n471987        3  100100462.0         111000232         111000229  100100565.0   \n472110        4  116900001.0         116900256         116900210  116900007.0   \n472749        3  100100139.0         108000154         108000089  109900011.0   \n472975        3  100100032.0         118000048         118000070  100100071.0   \n\n       RIDE_PUB_STA_ID_2 ALGH_PUB_STA_ID_2  \n2              111000002         218000636  \n17             122000260         122900087  \n342            123000065         123000077  \n408            104000055         104000006  \n530            123000007         123000579  \n...                  ...               ...  \n471934         116000008         116000054  \n471987         111000007         112000012  \n472110         116900210         116900116  \n472749         108000089         109000241  \n472975         118000070         119000050  \n\n[4112 rows x 12 columns]",
      "text/html": "<div>\n<style scoped>\n    .dataframe tbody tr th:only-of-type {\n        vertical-align: middle;\n    }\n\n    .dataframe tbody tr th {\n        vertical-align: top;\n    }\n\n    .dataframe thead th {\n        text-align: right;\n    }\n</style>\n<table border=\"1\" class=\"dataframe\">\n  <thead>\n    <tr style=\"text-align: right;\">\n      <th></th>\n      <th>STDR_DE</th>\n      <th>START_PUB_STA_ID</th>\n      <th>END_PUB_STA_ID</th>\n      <th>START_EMD_ID</th>\n      <th>END_EMD_ID</th>\n      <th>TOT_CNT</th>\n      <th>ROUTE_ID_1</th>\n      <th>RIDE_PUB_STA_ID_1</th>\n      <th>ALGH_PUB_STA_ID_1</th>\n      <th>ROUTE_ID_2</th>\n      <th>RIDE_PUB_STA_ID_2</th>\n      <th>ALGH_PUB_STA_ID_2</th>\n    </tr>\n  </thead>\n  <tbody>\n    <tr>\n      <th>2</th>\n      <td>20230127</td>\n      <td>113000019</td>\n      <td>218000636.0</td>\n      <td>1114074.0</td>\n      <td>3110169.0</td>\n      <td>3</td>\n      <td>100100447.0</td>\n      <td>113000019</td>\n      <td>111000224</td>\n      <td>100100358.0</td>\n      <td>111000002</td>\n      <td>218000636</td>\n    </tr>\n    <tr>\n      <th>17</th>\n      <td>20230127</td>\n      <td>122900066</td>\n      <td>122900087.0</td>\n      <td>1123074.0</td>\n      <td>1123071.0</td>\n      <td>3</td>\n      <td>122900002.0</td>\n      <td>122900066</td>\n      <td>122000260</td>\n      <td>122900006.0</td>\n      <td>122000260</td>\n      <td>122900087</td>\n    </tr>\n    <tr>\n      <th>342</th>\n      <td>20230127</td>\n      <td>122000148</td>\n      <td>123000077.0</td>\n      <td>1123079.0</td>\n      <td>1124064.0</td>\n      <td>3</td>\n      <td>100100057.0</td>\n      <td>122000148</td>\n      <td>123000065</td>\n      <td>100100220.0</td>\n      <td>123000065</td>\n      <td>123000077</td>\n    </tr>\n    <tr>\n      <th>408</th>\n      <td>20230127</td>\n      <td>104000112</td>\n      <td>104000006.0</td>\n      <td>1105066.0</td>\n      <td>1105061.0</td>\n      <td>3</td>\n      <td>100100218.0</td>\n      <td>104000112</td>\n      <td>104000055</td>\n      <td>100100053.0</td>\n      <td>104000055</td>\n      <td>104000006</td>\n    </tr>\n    <tr>\n      <th>530</th>\n      <td>20230127</td>\n      <td>122000642</td>\n      <td>123000579.0</td>\n      <td>1123073.0</td>\n      <td>1124077.0</td>\n      <td>5</td>\n      <td>122900002.0</td>\n      <td>122000642</td>\n      <td>123900002</td>\n      <td>100100564.0</td>\n      <td>123000007</td>\n      <td>123000579</td>\n    </tr>\n    <tr>\n      <th>...</th>\n      <td>...</td>\n      <td>...</td>\n      <td>...</td>\n      <td>...</td>\n      <td>...</td>\n      <td>...</td>\n      <td>...</td>\n      <td>...</td>\n      <td>...</td>\n      <td>...</td>\n      <td>...</td>\n      <td>...</td>\n    </tr>\n    <tr>\n      <th>471934</th>\n      <td>20230127</td>\n      <td>116000613</td>\n      <td>116000054.0</td>\n      <td>1117072.0</td>\n      <td>1117071.0</td>\n      <td>3</td>\n      <td>100100085.0</td>\n      <td>116000613</td>\n      <td>116000008</td>\n      <td>100100286.0</td>\n      <td>116000008</td>\n      <td>116000054</td>\n    </tr>\n    <tr>\n      <th>471987</th>\n      <td>20230127</td>\n      <td>111000232</td>\n      <td>112000012.0</td>\n      <td>1112066.0</td>\n      <td>1113075.0</td>\n      <td>3</td>\n      <td>100100462.0</td>\n      <td>111000232</td>\n      <td>111000229</td>\n      <td>100100565.0</td>\n      <td>111000007</td>\n      <td>112000012</td>\n    </tr>\n    <tr>\n      <th>472110</th>\n      <td>20230127</td>\n      <td>116900256</td>\n      <td>116900116.0</td>\n      <td>1117052.0</td>\n      <td>1117054.0</td>\n      <td>4</td>\n      <td>116900001.0</td>\n      <td>116900256</td>\n      <td>116900210</td>\n      <td>116900007.0</td>\n      <td>116900210</td>\n      <td>116900116</td>\n    </tr>\n    <tr>\n      <th>472749</th>\n      <td>20230127</td>\n      <td>108000154</td>\n      <td>109000241.0</td>\n      <td>1109071.0</td>\n      <td>1110061.0</td>\n      <td>3</td>\n      <td>100100139.0</td>\n      <td>108000154</td>\n      <td>108000089</td>\n      <td>109900011.0</td>\n      <td>108000089</td>\n      <td>109000241</td>\n    </tr>\n    <tr>\n      <th>472975</th>\n      <td>20230127</td>\n      <td>118000048</td>\n      <td>119000050.0</td>\n      <td>1119054.0</td>\n      <td>1120068.0</td>\n      <td>3</td>\n      <td>100100032.0</td>\n      <td>118000048</td>\n      <td>118000070</td>\n      <td>100100071.0</td>\n      <td>118000070</td>\n      <td>119000050</td>\n    </tr>\n  </tbody>\n</table>\n<p>4112 rows × 12 columns</p>\n</div>"
     },
     "execution_count": 104,
     "metadata": {},
     "output_type": "execute_result"
    }
   ],
   "source": [
    "data.trip_chain"
   ],
   "metadata": {
    "collapsed": false
   }
  },
  {
   "cell_type": "markdown",
   "source": [
    "### Merge"
   ],
   "metadata": {
    "collapsed": false
   }
  },
  {
   "cell_type": "code",
   "execution_count": 133,
   "outputs": [],
   "source": [
    "chain = data.trip_chain"
   ],
   "metadata": {
    "collapsed": false
   }
  },
  {
   "cell_type": "code",
   "execution_count": 134,
   "outputs": [
    {
     "data": {
      "text/plain": "         STTN_ID  ARS_ID          정류소명  행정구          행정동          경도  \\\n0      100000379    1008  서울역사박물관.경희궁앞  종로구          사직동  126.970442   \n1      100000380    1007  서울역사박물관.경희궁앞  종로구          사직동  126.970420   \n2      100000384    1009           광화문  종로구          사직동  126.975241   \n3      100000018    1113    사직단.어린이도서관  종로구          사직동  126.968021   \n4      100000019    1114       사직동주민센터  종로구          사직동  126.971318   \n...          ...     ...           ...  ...          ...         ...   \n10360  117000906   18129      독산주공14단지  광명시  하안3동         126.887041   \n10361  117000907   18128      독산주공14단지  광명시  하안3동         126.886996   \n10362  117900165   18993        안양천로입구  광명시  소하1동         126.893035   \n10363  124000369   25003           초이동  하남시  초이동          127.161382   \n10364  124000370   25004           초이동  하남시  초이동          127.161148   \n\n              위도  \n0      37.569336  \n1      37.569098  \n2      37.570051  \n3      37.575113  \n4      37.576090  \n...          ...  \n10360  37.461346  \n10361  37.461206  \n10362  37.452452  \n10363  37.541971  \n10364  37.541750  \n\n[10365 rows x 7 columns]",
      "text/html": "<div>\n<style scoped>\n    .dataframe tbody tr th:only-of-type {\n        vertical-align: middle;\n    }\n\n    .dataframe tbody tr th {\n        vertical-align: top;\n    }\n\n    .dataframe thead th {\n        text-align: right;\n    }\n</style>\n<table border=\"1\" class=\"dataframe\">\n  <thead>\n    <tr style=\"text-align: right;\">\n      <th></th>\n      <th>STTN_ID</th>\n      <th>ARS_ID</th>\n      <th>정류소명</th>\n      <th>행정구</th>\n      <th>행정동</th>\n      <th>경도</th>\n      <th>위도</th>\n    </tr>\n  </thead>\n  <tbody>\n    <tr>\n      <th>0</th>\n      <td>100000379</td>\n      <td>1008</td>\n      <td>서울역사박물관.경희궁앞</td>\n      <td>종로구</td>\n      <td>사직동</td>\n      <td>126.970442</td>\n      <td>37.569336</td>\n    </tr>\n    <tr>\n      <th>1</th>\n      <td>100000380</td>\n      <td>1007</td>\n      <td>서울역사박물관.경희궁앞</td>\n      <td>종로구</td>\n      <td>사직동</td>\n      <td>126.970420</td>\n      <td>37.569098</td>\n    </tr>\n    <tr>\n      <th>2</th>\n      <td>100000384</td>\n      <td>1009</td>\n      <td>광화문</td>\n      <td>종로구</td>\n      <td>사직동</td>\n      <td>126.975241</td>\n      <td>37.570051</td>\n    </tr>\n    <tr>\n      <th>3</th>\n      <td>100000018</td>\n      <td>1113</td>\n      <td>사직단.어린이도서관</td>\n      <td>종로구</td>\n      <td>사직동</td>\n      <td>126.968021</td>\n      <td>37.575113</td>\n    </tr>\n    <tr>\n      <th>4</th>\n      <td>100000019</td>\n      <td>1114</td>\n      <td>사직동주민센터</td>\n      <td>종로구</td>\n      <td>사직동</td>\n      <td>126.971318</td>\n      <td>37.576090</td>\n    </tr>\n    <tr>\n      <th>...</th>\n      <td>...</td>\n      <td>...</td>\n      <td>...</td>\n      <td>...</td>\n      <td>...</td>\n      <td>...</td>\n      <td>...</td>\n    </tr>\n    <tr>\n      <th>10360</th>\n      <td>117000906</td>\n      <td>18129</td>\n      <td>독산주공14단지</td>\n      <td>광명시</td>\n      <td>하안3동</td>\n      <td>126.887041</td>\n      <td>37.461346</td>\n    </tr>\n    <tr>\n      <th>10361</th>\n      <td>117000907</td>\n      <td>18128</td>\n      <td>독산주공14단지</td>\n      <td>광명시</td>\n      <td>하안3동</td>\n      <td>126.886996</td>\n      <td>37.461206</td>\n    </tr>\n    <tr>\n      <th>10362</th>\n      <td>117900165</td>\n      <td>18993</td>\n      <td>안양천로입구</td>\n      <td>광명시</td>\n      <td>소하1동</td>\n      <td>126.893035</td>\n      <td>37.452452</td>\n    </tr>\n    <tr>\n      <th>10363</th>\n      <td>124000369</td>\n      <td>25003</td>\n      <td>초이동</td>\n      <td>하남시</td>\n      <td>초이동</td>\n      <td>127.161382</td>\n      <td>37.541971</td>\n    </tr>\n    <tr>\n      <th>10364</th>\n      <td>124000370</td>\n      <td>25004</td>\n      <td>초이동</td>\n      <td>하남시</td>\n      <td>초이동</td>\n      <td>127.161148</td>\n      <td>37.541750</td>\n    </tr>\n  </tbody>\n</table>\n<p>10365 rows × 7 columns</p>\n</div>"
     },
     "execution_count": 134,
     "metadata": {},
     "output_type": "execute_result"
    }
   ],
   "source": [
    "bus_station"
   ],
   "metadata": {
    "collapsed": false
   }
  },
  {
   "cell_type": "code",
   "execution_count": 135,
   "outputs": [],
   "source": [
    "merge = pd.merge(chain, bus_station, left_on='ALGH_PUB_STA_ID_1', right_on='STTN_ID')"
   ],
   "metadata": {
    "collapsed": false
   }
  },
  {
   "cell_type": "code",
   "execution_count": 136,
   "outputs": [
    {
     "data": {
      "text/plain": "       STDR_DE  START_PUB_STA_ID  END_PUB_STA_ID  START_EMD_ID  END_EMD_ID  \\\n0     20230127         113000019     218000636.0     1114074.0   3110169.0   \n1     20230127         122900066     122900087.0     1123074.0   1123071.0   \n2     20230127         122900065     122900087.0     1123074.0   1123071.0   \n3     20230127         122900066     121000299.0     1123074.0   1122068.0   \n4     20230127         122900022     122900087.0     1123073.0   1123071.0   \n...        ...               ...             ...           ...         ...   \n4025  20230127         113900067     118000008.0     1114061.0   1119054.0   \n4026  20230127         111900111     111000096.0     1112057.0   1112058.0   \n4027  20230127         119900175     101000033.0     1120072.0   1102052.0   \n4028  20230127         100000036     113000415.0     1101054.0   1114066.0   \n4029  20230127         100000107     100000394.0     1101061.0   1101061.0   \n\n      TOT_CNT   ROUTE_ID_1  RIDE_PUB_STA_ID_1  ALGH_PUB_STA_ID_1   ROUTE_ID_2  \\\n0           3  100100447.0          113000019          111000224  100100358.0   \n1           3  122900002.0          122900066          122000260  122900006.0   \n2           3  122900002.0          122900065          122000260  122900006.0   \n3           3  122900002.0          122900066          122000260  100100020.0   \n4           3  122900002.0          122900022          122000260  122900006.0   \n...       ...          ...                ...                ...          ...   \n4025        3  113900008.0          113900067          113900221  100100033.0   \n4026        5  111900004.0          111900111          111000093  100100084.0   \n4027        3  119900011.0          119900175          119900226  100100029.0   \n4028        5  100100048.0          100000036          112000036  100100363.0   \n4029        6  100100034.0          100000107          101000042  100100044.0   \n\n      RIDE_PUB_STA_ID_2  ALGH_PUB_STA_ID_2    STTN_ID  ARS_ID          정류소명  \\\n0             111000002          218000636  111000224   12314    덕은교.은평차고지앞   \n1             122000260          122900087  122000260   23364     개포래미안포레스트   \n2             122000260          122900087  122000260   23364     개포래미안포레스트   \n3             122000260          121000299  122000260   23364     개포래미안포레스트   \n4             122000260          122900087  122000260   23364     개포래미안포레스트   \n...                 ...                ...        ...     ...           ...   \n4025          113000006          118000008  113900221   14760       아현동주민센터   \n4026          111000093          111000096  111000093   12181  구산역2번출구.예일여고   \n4027          119000011          101000033  119900226   20942    노량진한국법학교육원   \n4028          112000017          113000415  112000036   13119          이대부중   \n4029          101000043          100000394  101000042    2141   해운센터.롯데영프라자   \n\n       행정구    행정동          경도         위도  \n0      은평구    수색동  126.885533  37.588518  \n1      강남구   개포4동  127.054420  37.480199  \n2      강남구   개포4동  127.054420  37.480199  \n3      강남구   개포4동  127.054420  37.480199  \n4      강남구   개포4동  127.054420  37.480199  \n...    ...    ...         ...        ...  \n4025   마포구    아현동  126.953117  37.547114  \n4026   은평구    역촌동  126.916762  37.610015  \n4027   동작구  노량진1동  126.944304  37.512354  \n4028  서대문구    신촌동  126.944262  37.563564  \n4029    중구    소공동  126.981665  37.562859  \n\n[4030 rows x 19 columns]",
      "text/html": "<div>\n<style scoped>\n    .dataframe tbody tr th:only-of-type {\n        vertical-align: middle;\n    }\n\n    .dataframe tbody tr th {\n        vertical-align: top;\n    }\n\n    .dataframe thead th {\n        text-align: right;\n    }\n</style>\n<table border=\"1\" class=\"dataframe\">\n  <thead>\n    <tr style=\"text-align: right;\">\n      <th></th>\n      <th>STDR_DE</th>\n      <th>START_PUB_STA_ID</th>\n      <th>END_PUB_STA_ID</th>\n      <th>START_EMD_ID</th>\n      <th>END_EMD_ID</th>\n      <th>TOT_CNT</th>\n      <th>ROUTE_ID_1</th>\n      <th>RIDE_PUB_STA_ID_1</th>\n      <th>ALGH_PUB_STA_ID_1</th>\n      <th>ROUTE_ID_2</th>\n      <th>RIDE_PUB_STA_ID_2</th>\n      <th>ALGH_PUB_STA_ID_2</th>\n      <th>STTN_ID</th>\n      <th>ARS_ID</th>\n      <th>정류소명</th>\n      <th>행정구</th>\n      <th>행정동</th>\n      <th>경도</th>\n      <th>위도</th>\n    </tr>\n  </thead>\n  <tbody>\n    <tr>\n      <th>0</th>\n      <td>20230127</td>\n      <td>113000019</td>\n      <td>218000636.0</td>\n      <td>1114074.0</td>\n      <td>3110169.0</td>\n      <td>3</td>\n      <td>100100447.0</td>\n      <td>113000019</td>\n      <td>111000224</td>\n      <td>100100358.0</td>\n      <td>111000002</td>\n      <td>218000636</td>\n      <td>111000224</td>\n      <td>12314</td>\n      <td>덕은교.은평차고지앞</td>\n      <td>은평구</td>\n      <td>수색동</td>\n      <td>126.885533</td>\n      <td>37.588518</td>\n    </tr>\n    <tr>\n      <th>1</th>\n      <td>20230127</td>\n      <td>122900066</td>\n      <td>122900087.0</td>\n      <td>1123074.0</td>\n      <td>1123071.0</td>\n      <td>3</td>\n      <td>122900002.0</td>\n      <td>122900066</td>\n      <td>122000260</td>\n      <td>122900006.0</td>\n      <td>122000260</td>\n      <td>122900087</td>\n      <td>122000260</td>\n      <td>23364</td>\n      <td>개포래미안포레스트</td>\n      <td>강남구</td>\n      <td>개포4동</td>\n      <td>127.054420</td>\n      <td>37.480199</td>\n    </tr>\n    <tr>\n      <th>2</th>\n      <td>20230127</td>\n      <td>122900065</td>\n      <td>122900087.0</td>\n      <td>1123074.0</td>\n      <td>1123071.0</td>\n      <td>3</td>\n      <td>122900002.0</td>\n      <td>122900065</td>\n      <td>122000260</td>\n      <td>122900006.0</td>\n      <td>122000260</td>\n      <td>122900087</td>\n      <td>122000260</td>\n      <td>23364</td>\n      <td>개포래미안포레스트</td>\n      <td>강남구</td>\n      <td>개포4동</td>\n      <td>127.054420</td>\n      <td>37.480199</td>\n    </tr>\n    <tr>\n      <th>3</th>\n      <td>20230127</td>\n      <td>122900066</td>\n      <td>121000299.0</td>\n      <td>1123074.0</td>\n      <td>1122068.0</td>\n      <td>3</td>\n      <td>122900002.0</td>\n      <td>122900066</td>\n      <td>122000260</td>\n      <td>100100020.0</td>\n      <td>122000260</td>\n      <td>121000299</td>\n      <td>122000260</td>\n      <td>23364</td>\n      <td>개포래미안포레스트</td>\n      <td>강남구</td>\n      <td>개포4동</td>\n      <td>127.054420</td>\n      <td>37.480199</td>\n    </tr>\n    <tr>\n      <th>4</th>\n      <td>20230127</td>\n      <td>122900022</td>\n      <td>122900087.0</td>\n      <td>1123073.0</td>\n      <td>1123071.0</td>\n      <td>3</td>\n      <td>122900002.0</td>\n      <td>122900022</td>\n      <td>122000260</td>\n      <td>122900006.0</td>\n      <td>122000260</td>\n      <td>122900087</td>\n      <td>122000260</td>\n      <td>23364</td>\n      <td>개포래미안포레스트</td>\n      <td>강남구</td>\n      <td>개포4동</td>\n      <td>127.054420</td>\n      <td>37.480199</td>\n    </tr>\n    <tr>\n      <th>...</th>\n      <td>...</td>\n      <td>...</td>\n      <td>...</td>\n      <td>...</td>\n      <td>...</td>\n      <td>...</td>\n      <td>...</td>\n      <td>...</td>\n      <td>...</td>\n      <td>...</td>\n      <td>...</td>\n      <td>...</td>\n      <td>...</td>\n      <td>...</td>\n      <td>...</td>\n      <td>...</td>\n      <td>...</td>\n      <td>...</td>\n      <td>...</td>\n    </tr>\n    <tr>\n      <th>4025</th>\n      <td>20230127</td>\n      <td>113900067</td>\n      <td>118000008.0</td>\n      <td>1114061.0</td>\n      <td>1119054.0</td>\n      <td>3</td>\n      <td>113900008.0</td>\n      <td>113900067</td>\n      <td>113900221</td>\n      <td>100100033.0</td>\n      <td>113000006</td>\n      <td>118000008</td>\n      <td>113900221</td>\n      <td>14760</td>\n      <td>아현동주민센터</td>\n      <td>마포구</td>\n      <td>아현동</td>\n      <td>126.953117</td>\n      <td>37.547114</td>\n    </tr>\n    <tr>\n      <th>4026</th>\n      <td>20230127</td>\n      <td>111900111</td>\n      <td>111000096.0</td>\n      <td>1112057.0</td>\n      <td>1112058.0</td>\n      <td>5</td>\n      <td>111900004.0</td>\n      <td>111900111</td>\n      <td>111000093</td>\n      <td>100100084.0</td>\n      <td>111000093</td>\n      <td>111000096</td>\n      <td>111000093</td>\n      <td>12181</td>\n      <td>구산역2번출구.예일여고</td>\n      <td>은평구</td>\n      <td>역촌동</td>\n      <td>126.916762</td>\n      <td>37.610015</td>\n    </tr>\n    <tr>\n      <th>4027</th>\n      <td>20230127</td>\n      <td>119900175</td>\n      <td>101000033.0</td>\n      <td>1120072.0</td>\n      <td>1102052.0</td>\n      <td>3</td>\n      <td>119900011.0</td>\n      <td>119900175</td>\n      <td>119900226</td>\n      <td>100100029.0</td>\n      <td>119000011</td>\n      <td>101000033</td>\n      <td>119900226</td>\n      <td>20942</td>\n      <td>노량진한국법학교육원</td>\n      <td>동작구</td>\n      <td>노량진1동</td>\n      <td>126.944304</td>\n      <td>37.512354</td>\n    </tr>\n    <tr>\n      <th>4028</th>\n      <td>20230127</td>\n      <td>100000036</td>\n      <td>113000415.0</td>\n      <td>1101054.0</td>\n      <td>1114066.0</td>\n      <td>5</td>\n      <td>100100048.0</td>\n      <td>100000036</td>\n      <td>112000036</td>\n      <td>100100363.0</td>\n      <td>112000017</td>\n      <td>113000415</td>\n      <td>112000036</td>\n      <td>13119</td>\n      <td>이대부중</td>\n      <td>서대문구</td>\n      <td>신촌동</td>\n      <td>126.944262</td>\n      <td>37.563564</td>\n    </tr>\n    <tr>\n      <th>4029</th>\n      <td>20230127</td>\n      <td>100000107</td>\n      <td>100000394.0</td>\n      <td>1101061.0</td>\n      <td>1101061.0</td>\n      <td>6</td>\n      <td>100100034.0</td>\n      <td>100000107</td>\n      <td>101000042</td>\n      <td>100100044.0</td>\n      <td>101000043</td>\n      <td>100000394</td>\n      <td>101000042</td>\n      <td>2141</td>\n      <td>해운센터.롯데영프라자</td>\n      <td>중구</td>\n      <td>소공동</td>\n      <td>126.981665</td>\n      <td>37.562859</td>\n    </tr>\n  </tbody>\n</table>\n<p>4030 rows × 19 columns</p>\n</div>"
     },
     "execution_count": 136,
     "metadata": {},
     "output_type": "execute_result"
    }
   ],
   "source": [
    "merge.groupby(by='')"
   ],
   "metadata": {
    "collapsed": false
   }
  },
  {
   "cell_type": "code",
   "execution_count": 145,
   "outputs": [
    {
     "data": {
      "text/plain": "행정동\n한남동       367\n상도1동      334\n연희동       250\n구로2동      210\n휘경1동      203\n         ... \n암사3동        3\n송파2동        3\n성수1가2동      3\n거여2동        3\n우이동         3\nName: TOT_CNT, Length: 389, dtype: int64"
     },
     "execution_count": 145,
     "metadata": {},
     "output_type": "execute_result"
    }
   ],
   "source": [
    "merge.groupby(by='행정동')['TOT_CNT'].sum().sort_values(ascending=False)"
   ],
   "metadata": {
    "collapsed": false
   }
  }
 ],
 "metadata": {
  "kernelspec": {
   "display_name": "Python 3",
   "language": "python",
   "name": "python3"
  },
  "language_info": {
   "codemirror_mode": {
    "name": "ipython",
    "version": 2
   },
   "file_extension": ".py",
   "mimetype": "text/x-python",
   "name": "python",
   "nbconvert_exporter": "python",
   "pygments_lexer": "ipython2",
   "version": "2.7.6"
  }
 },
 "nbformat": 4,
 "nbformat_minor": 0
}
