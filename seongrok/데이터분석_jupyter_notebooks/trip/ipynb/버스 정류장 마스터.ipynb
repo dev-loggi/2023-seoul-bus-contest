{
 "cells": [
  {
   "cell_type": "code",
   "execution_count": 1,
   "metadata": {
    "collapsed": true
   },
   "outputs": [],
   "source": [
    "import numpy as np\n",
    "import pandas as pd"
   ]
  },
  {
   "cell_type": "code",
   "execution_count": 149,
   "outputs": [],
   "source": [
    "def read_csv(date, table_name):\n",
    "    year, month, day = date\n",
    "    path = f'{year}{month:02d}{day:02d}/{table_name}.csv'\n",
    "    return pd.read_csv(path, nrows=None, sep=',', on_bad_lines='skip', encoding='utf-8')"
   ],
   "metadata": {
    "collapsed": false
   }
  },
  {
   "cell_type": "code",
   "execution_count": 58,
   "outputs": [],
   "source": [
    "# date = (2023, 2, 1)\n",
    "# chain = read_csv(date, 'KSCC_DX_TRIP_CHAIN_SUM')\n",
    "# station = read_csv(date, 'TBIS_MS_STTN')\n",
    "# district = read_csv(date, 'DISTRICT_EMD')"
   ],
   "metadata": {
    "collapsed": false
   }
  },
  {
   "cell_type": "code",
   "execution_count": 161,
   "outputs": [],
   "source": [
    "station1 = pd.read_excel('6월 기준 행정권역 정류장정보.xlsx')\n",
    "station1 = station1.dropna()\n",
    "station1 = station1.loc[~station1['정류장번호'].str.contains('-')]\n",
    "station1 = station1.astype({'정류장번호':'int'})\n",
    "station1 = station1.loc[station1['정류장번호'] != 0]\n",
    "\n",
    "station2 = pd.read_excel('20220429기준_서울시정류소리스트.xlsx')"
   ],
   "metadata": {
    "collapsed": false
   }
  },
  {
   "cell_type": "code",
   "execution_count": 180,
   "outputs": [],
   "source": [
    "station = pd.merge(station1, station2, left_on='정류장번호', right_on='ARS-ID')\n",
    "station = station.drop(['NO', '정류장명칭', '정류장번호'], axis=1)\n",
    "station = station.rename(columns={'NODE_ID':'STTN_ID', '시군구명':'행정구', '행정동명':'행정동', 'ARS-ID':'ARS_ID', '좌표X':'경도', '좌표Y':'위도'})\n",
    "station = station[['STTN_ID', 'ARS_ID', '정류소명', '행정구', '행정동', '경도', '위도']]\n",
    "station['ARS_ID'] = station['ARS_ID'].map(lambda x: f'{x:05d}')"
   ],
   "metadata": {
    "collapsed": false
   }
  },
  {
   "cell_type": "code",
   "execution_count": 182,
   "outputs": [],
   "source": [
    "station.to_csv('bus-station-master.csv', index=False)"
   ],
   "metadata": {
    "collapsed": false
   }
  },
  {
   "cell_type": "code",
   "execution_count": 185,
   "outputs": [
    {
     "data": {
      "text/plain": "         STTN_ID ARS_ID          정류소명  행정구          행정동          경도         위도\n0      100000379  01008  서울역사박물관.경희궁앞  종로구          사직동  126.970442  37.569336\n1      100000380  01007  서울역사박물관.경희궁앞  종로구          사직동  126.970420  37.569098\n2      100000384  01009           광화문  종로구          사직동  126.975241  37.570051\n3      100000018  01113    사직단.어린이도서관  종로구          사직동  126.968021  37.575113\n4      100000019  01114       사직동주민센터  종로구          사직동  126.971318  37.576090\n...          ...    ...           ...  ...          ...         ...        ...\n10360  117000906  18129      독산주공14단지  광명시  하안3동         126.887041  37.461346\n10361  117000907  18128      독산주공14단지  광명시  하안3동         126.886996  37.461206\n10362  117900165  18993        안양천로입구  광명시  소하1동         126.893035  37.452452\n10363  124000369  25003           초이동  하남시  초이동          127.161382  37.541971\n10364  124000370  25004           초이동  하남시  초이동          127.161148  37.541750\n\n[10365 rows x 7 columns]",
      "text/html": "<div>\n<style scoped>\n    .dataframe tbody tr th:only-of-type {\n        vertical-align: middle;\n    }\n\n    .dataframe tbody tr th {\n        vertical-align: top;\n    }\n\n    .dataframe thead th {\n        text-align: right;\n    }\n</style>\n<table border=\"1\" class=\"dataframe\">\n  <thead>\n    <tr style=\"text-align: right;\">\n      <th></th>\n      <th>STTN_ID</th>\n      <th>ARS_ID</th>\n      <th>정류소명</th>\n      <th>행정구</th>\n      <th>행정동</th>\n      <th>경도</th>\n      <th>위도</th>\n    </tr>\n  </thead>\n  <tbody>\n    <tr>\n      <th>0</th>\n      <td>100000379</td>\n      <td>01008</td>\n      <td>서울역사박물관.경희궁앞</td>\n      <td>종로구</td>\n      <td>사직동</td>\n      <td>126.970442</td>\n      <td>37.569336</td>\n    </tr>\n    <tr>\n      <th>1</th>\n      <td>100000380</td>\n      <td>01007</td>\n      <td>서울역사박물관.경희궁앞</td>\n      <td>종로구</td>\n      <td>사직동</td>\n      <td>126.970420</td>\n      <td>37.569098</td>\n    </tr>\n    <tr>\n      <th>2</th>\n      <td>100000384</td>\n      <td>01009</td>\n      <td>광화문</td>\n      <td>종로구</td>\n      <td>사직동</td>\n      <td>126.975241</td>\n      <td>37.570051</td>\n    </tr>\n    <tr>\n      <th>3</th>\n      <td>100000018</td>\n      <td>01113</td>\n      <td>사직단.어린이도서관</td>\n      <td>종로구</td>\n      <td>사직동</td>\n      <td>126.968021</td>\n      <td>37.575113</td>\n    </tr>\n    <tr>\n      <th>4</th>\n      <td>100000019</td>\n      <td>01114</td>\n      <td>사직동주민센터</td>\n      <td>종로구</td>\n      <td>사직동</td>\n      <td>126.971318</td>\n      <td>37.576090</td>\n    </tr>\n    <tr>\n      <th>...</th>\n      <td>...</td>\n      <td>...</td>\n      <td>...</td>\n      <td>...</td>\n      <td>...</td>\n      <td>...</td>\n      <td>...</td>\n    </tr>\n    <tr>\n      <th>10360</th>\n      <td>117000906</td>\n      <td>18129</td>\n      <td>독산주공14단지</td>\n      <td>광명시</td>\n      <td>하안3동</td>\n      <td>126.887041</td>\n      <td>37.461346</td>\n    </tr>\n    <tr>\n      <th>10361</th>\n      <td>117000907</td>\n      <td>18128</td>\n      <td>독산주공14단지</td>\n      <td>광명시</td>\n      <td>하안3동</td>\n      <td>126.886996</td>\n      <td>37.461206</td>\n    </tr>\n    <tr>\n      <th>10362</th>\n      <td>117900165</td>\n      <td>18993</td>\n      <td>안양천로입구</td>\n      <td>광명시</td>\n      <td>소하1동</td>\n      <td>126.893035</td>\n      <td>37.452452</td>\n    </tr>\n    <tr>\n      <th>10363</th>\n      <td>124000369</td>\n      <td>25003</td>\n      <td>초이동</td>\n      <td>하남시</td>\n      <td>초이동</td>\n      <td>127.161382</td>\n      <td>37.541971</td>\n    </tr>\n    <tr>\n      <th>10364</th>\n      <td>124000370</td>\n      <td>25004</td>\n      <td>초이동</td>\n      <td>하남시</td>\n      <td>초이동</td>\n      <td>127.161148</td>\n      <td>37.541750</td>\n    </tr>\n  </tbody>\n</table>\n<p>10365 rows × 7 columns</p>\n</div>"
     },
     "execution_count": 185,
     "metadata": {},
     "output_type": "execute_result"
    }
   ],
   "source": [
    "station"
   ],
   "metadata": {
    "collapsed": false
   }
  },
  {
   "cell_type": "code",
   "execution_count": 188,
   "outputs": [],
   "source": [
    "tibs_station = read_csv((2023, 2, 1), 'TBIS_MS_STTN')"
   ],
   "metadata": {
    "collapsed": false
   }
  },
  {
   "cell_type": "code",
   "execution_count": 189,
   "outputs": [],
   "source": [
    "tibs_station = tibs_station.loc[tibs_station['STTN_NO'].notnull()]\n",
    "tibs_station['STTN_NO'] = tibs_station['STTN_NO'].astype('int')\n",
    "tibs_station = tibs_station.loc[tibs_station['STTN_NO'] != 0]\n",
    "tibs_station['STTN_NO'] = tibs_station['STTN_NO'].map(lambda x: f'{x:05d}')"
   ],
   "metadata": {
    "collapsed": false
   }
  },
  {
   "cell_type": "code",
   "execution_count": 190,
   "outputs": [
    {
     "data": {
      "text/plain": "         STTN_ID        STTN_NM STTN_TY STTN_NO     CRDNT_X    CRDNT_Y  \\\n0      216000387         안산갈대습지    일반차로   17385  126.834835  37.279582   \n1      163000582       시립가좌테니스장    일반차로   37582  126.678192  37.471517   \n2      163000581       시립가좌테니스장    일반차로   37581  126.678401  37.471847   \n3      163000580       인천기계산업단지    일반차로   37580  126.670796  37.469205   \n4      218000350      북한산유보라아파트    일반차로   57547  126.912444  37.650976   \n...          ...            ...     ...     ...         ...        ...   \n61395  229000652        LCD산업단지    일반차로   30873  126.767169  37.812516   \n61396  212000374  오정경찰서.부천옹기박물관    일반차로   45641  126.801082  37.513832   \n61398  228000599         라이프아파트    일반차로   29458  127.213939  37.231994   \n61399  233000645      신한미지엔아파트앞    일반차로   36304  127.008633  37.199851   \n61400  124000432   강동롯데캐슬퍼스트아파트    일반차로   25373  127.144448  37.557244   \n\n      BIT_INSTL_AT  \n0              미설치  \n1              미설치  \n2              미설치  \n3              미설치  \n4              미설치  \n...            ...  \n61395          미설치  \n61396          미설치  \n61398          미설치  \n61399          미설치  \n61400          미설치  \n\n[53735 rows x 7 columns]",
      "text/html": "<div>\n<style scoped>\n    .dataframe tbody tr th:only-of-type {\n        vertical-align: middle;\n    }\n\n    .dataframe tbody tr th {\n        vertical-align: top;\n    }\n\n    .dataframe thead th {\n        text-align: right;\n    }\n</style>\n<table border=\"1\" class=\"dataframe\">\n  <thead>\n    <tr style=\"text-align: right;\">\n      <th></th>\n      <th>STTN_ID</th>\n      <th>STTN_NM</th>\n      <th>STTN_TY</th>\n      <th>STTN_NO</th>\n      <th>CRDNT_X</th>\n      <th>CRDNT_Y</th>\n      <th>BIT_INSTL_AT</th>\n    </tr>\n  </thead>\n  <tbody>\n    <tr>\n      <th>0</th>\n      <td>216000387</td>\n      <td>안산갈대습지</td>\n      <td>일반차로</td>\n      <td>17385</td>\n      <td>126.834835</td>\n      <td>37.279582</td>\n      <td>미설치</td>\n    </tr>\n    <tr>\n      <th>1</th>\n      <td>163000582</td>\n      <td>시립가좌테니스장</td>\n      <td>일반차로</td>\n      <td>37582</td>\n      <td>126.678192</td>\n      <td>37.471517</td>\n      <td>미설치</td>\n    </tr>\n    <tr>\n      <th>2</th>\n      <td>163000581</td>\n      <td>시립가좌테니스장</td>\n      <td>일반차로</td>\n      <td>37581</td>\n      <td>126.678401</td>\n      <td>37.471847</td>\n      <td>미설치</td>\n    </tr>\n    <tr>\n      <th>3</th>\n      <td>163000580</td>\n      <td>인천기계산업단지</td>\n      <td>일반차로</td>\n      <td>37580</td>\n      <td>126.670796</td>\n      <td>37.469205</td>\n      <td>미설치</td>\n    </tr>\n    <tr>\n      <th>4</th>\n      <td>218000350</td>\n      <td>북한산유보라아파트</td>\n      <td>일반차로</td>\n      <td>57547</td>\n      <td>126.912444</td>\n      <td>37.650976</td>\n      <td>미설치</td>\n    </tr>\n    <tr>\n      <th>...</th>\n      <td>...</td>\n      <td>...</td>\n      <td>...</td>\n      <td>...</td>\n      <td>...</td>\n      <td>...</td>\n      <td>...</td>\n    </tr>\n    <tr>\n      <th>61395</th>\n      <td>229000652</td>\n      <td>LCD산업단지</td>\n      <td>일반차로</td>\n      <td>30873</td>\n      <td>126.767169</td>\n      <td>37.812516</td>\n      <td>미설치</td>\n    </tr>\n    <tr>\n      <th>61396</th>\n      <td>212000374</td>\n      <td>오정경찰서.부천옹기박물관</td>\n      <td>일반차로</td>\n      <td>45641</td>\n      <td>126.801082</td>\n      <td>37.513832</td>\n      <td>미설치</td>\n    </tr>\n    <tr>\n      <th>61398</th>\n      <td>228000599</td>\n      <td>라이프아파트</td>\n      <td>일반차로</td>\n      <td>29458</td>\n      <td>127.213939</td>\n      <td>37.231994</td>\n      <td>미설치</td>\n    </tr>\n    <tr>\n      <th>61399</th>\n      <td>233000645</td>\n      <td>신한미지엔아파트앞</td>\n      <td>일반차로</td>\n      <td>36304</td>\n      <td>127.008633</td>\n      <td>37.199851</td>\n      <td>미설치</td>\n    </tr>\n    <tr>\n      <th>61400</th>\n      <td>124000432</td>\n      <td>강동롯데캐슬퍼스트아파트</td>\n      <td>일반차로</td>\n      <td>25373</td>\n      <td>127.144448</td>\n      <td>37.557244</td>\n      <td>미설치</td>\n    </tr>\n  </tbody>\n</table>\n<p>53735 rows × 7 columns</p>\n</div>"
     },
     "execution_count": 190,
     "metadata": {},
     "output_type": "execute_result"
    }
   ],
   "source": [
    "tibs_station"
   ],
   "metadata": {
    "collapsed": false
   }
  },
  {
   "cell_type": "code",
   "execution_count": 192,
   "outputs": [],
   "source": [
    "# master = pd.merge(tibs_station, df, left_on='STTN_NO', right_on='ARS_ID', how='inner')\n",
    "master = pd.merge(tibs_station, station, on='STTN_ID', how='inner')\n",
    "\n",
    "master = master.drop(['STTN_NO', 'STTN_NM'], axis=1)\n",
    "master = master.rename(columns={'STTN_TY':'버스유형', 'CRDNT_X':'경도2', 'CRDNT_Y':'위도2', 'BIT_INSTL_AT':'버스도착정보안내기'})\n",
    "master = master[['STTN_ID', 'ARS_ID', '행정구', '행정동', '정류소명', '경도', '위도', '경도2', '위도2', '버스유형', '버스도착정보안내기']]\n",
    "master = master.loc[~master['버스유형'].isin(['마을버스', '가상정류장'])]"
   ],
   "metadata": {
    "collapsed": false
   }
  },
  {
   "cell_type": "code",
   "execution_count": 194,
   "outputs": [
    {
     "data": {
      "text/plain": "         STTN_ID ARS_ID   행정구     행정동            정류소명          경도         위도  \\\n8      118000153  19238  영등포구    신길4동          우신초등학교  126.910840  37.509233   \n9      118000154  19239  영등포구    신길4동  신길힐스테이트클래시안아파트  126.910672  37.505036   \n10     118000155  19240  영등포구    신길4동         신길동홍어거리  126.911546  37.510873   \n11     118000156  19241  영등포구    신길5동   신풍역.백악관웨딩문화원앞  126.909456  37.500893   \n12     118000157  19242  영등포구    신길5동        신길5동주민센터  126.905490  37.500633   \n...          ...    ...   ...     ...             ...         ...        ...   \n10358  110000244  11345   노원구    월계1동           인덕삼거리  127.057136  37.628587   \n10359  110000245  11346   노원구    월계1동   신도브래뉴.한전노원변전소  127.059169  37.628234   \n10360  110000246  11347   노원구  중계2·3동    상명고등학교.성원아파트  127.069183  37.649747   \n10361  110000247  11348   노원구    중계1동        중계1동주민센터  127.077277  37.651968   \n10362  124000432  25373   강동구    암사3동    강동롯데캐슬퍼스트아파트  127.144571  37.556602   \n\n              경도2        위도2  버스유형 버스도착정보안내기  \n8      126.910940  37.509252  일반차로       미설치  \n9      126.910811  37.504989  일반차로        설치  \n10     126.911572  37.510794  일반차로       미설치  \n11     126.909880  37.501582  일반차로        설치  \n12     126.905541  37.500654  일반차로       미설치  \n...           ...        ...   ...       ...  \n10358  127.057162  37.628699  일반차로        설치  \n10359  127.058713  37.628526  일반차로        설치  \n10360  127.069232  37.649776  일반차로       미설치  \n10361  127.077233  37.651993  일반차로        설치  \n10362  127.144448  37.557244  일반차로       미설치  \n\n[6292 rows x 11 columns]",
      "text/html": "<div>\n<style scoped>\n    .dataframe tbody tr th:only-of-type {\n        vertical-align: middle;\n    }\n\n    .dataframe tbody tr th {\n        vertical-align: top;\n    }\n\n    .dataframe thead th {\n        text-align: right;\n    }\n</style>\n<table border=\"1\" class=\"dataframe\">\n  <thead>\n    <tr style=\"text-align: right;\">\n      <th></th>\n      <th>STTN_ID</th>\n      <th>ARS_ID</th>\n      <th>행정구</th>\n      <th>행정동</th>\n      <th>정류소명</th>\n      <th>경도</th>\n      <th>위도</th>\n      <th>경도2</th>\n      <th>위도2</th>\n      <th>버스유형</th>\n      <th>버스도착정보안내기</th>\n    </tr>\n  </thead>\n  <tbody>\n    <tr>\n      <th>8</th>\n      <td>118000153</td>\n      <td>19238</td>\n      <td>영등포구</td>\n      <td>신길4동</td>\n      <td>우신초등학교</td>\n      <td>126.910840</td>\n      <td>37.509233</td>\n      <td>126.910940</td>\n      <td>37.509252</td>\n      <td>일반차로</td>\n      <td>미설치</td>\n    </tr>\n    <tr>\n      <th>9</th>\n      <td>118000154</td>\n      <td>19239</td>\n      <td>영등포구</td>\n      <td>신길4동</td>\n      <td>신길힐스테이트클래시안아파트</td>\n      <td>126.910672</td>\n      <td>37.505036</td>\n      <td>126.910811</td>\n      <td>37.504989</td>\n      <td>일반차로</td>\n      <td>설치</td>\n    </tr>\n    <tr>\n      <th>10</th>\n      <td>118000155</td>\n      <td>19240</td>\n      <td>영등포구</td>\n      <td>신길4동</td>\n      <td>신길동홍어거리</td>\n      <td>126.911546</td>\n      <td>37.510873</td>\n      <td>126.911572</td>\n      <td>37.510794</td>\n      <td>일반차로</td>\n      <td>미설치</td>\n    </tr>\n    <tr>\n      <th>11</th>\n      <td>118000156</td>\n      <td>19241</td>\n      <td>영등포구</td>\n      <td>신길5동</td>\n      <td>신풍역.백악관웨딩문화원앞</td>\n      <td>126.909456</td>\n      <td>37.500893</td>\n      <td>126.909880</td>\n      <td>37.501582</td>\n      <td>일반차로</td>\n      <td>설치</td>\n    </tr>\n    <tr>\n      <th>12</th>\n      <td>118000157</td>\n      <td>19242</td>\n      <td>영등포구</td>\n      <td>신길5동</td>\n      <td>신길5동주민센터</td>\n      <td>126.905490</td>\n      <td>37.500633</td>\n      <td>126.905541</td>\n      <td>37.500654</td>\n      <td>일반차로</td>\n      <td>미설치</td>\n    </tr>\n    <tr>\n      <th>...</th>\n      <td>...</td>\n      <td>...</td>\n      <td>...</td>\n      <td>...</td>\n      <td>...</td>\n      <td>...</td>\n      <td>...</td>\n      <td>...</td>\n      <td>...</td>\n      <td>...</td>\n      <td>...</td>\n    </tr>\n    <tr>\n      <th>10358</th>\n      <td>110000244</td>\n      <td>11345</td>\n      <td>노원구</td>\n      <td>월계1동</td>\n      <td>인덕삼거리</td>\n      <td>127.057136</td>\n      <td>37.628587</td>\n      <td>127.057162</td>\n      <td>37.628699</td>\n      <td>일반차로</td>\n      <td>설치</td>\n    </tr>\n    <tr>\n      <th>10359</th>\n      <td>110000245</td>\n      <td>11346</td>\n      <td>노원구</td>\n      <td>월계1동</td>\n      <td>신도브래뉴.한전노원변전소</td>\n      <td>127.059169</td>\n      <td>37.628234</td>\n      <td>127.058713</td>\n      <td>37.628526</td>\n      <td>일반차로</td>\n      <td>설치</td>\n    </tr>\n    <tr>\n      <th>10360</th>\n      <td>110000246</td>\n      <td>11347</td>\n      <td>노원구</td>\n      <td>중계2·3동</td>\n      <td>상명고등학교.성원아파트</td>\n      <td>127.069183</td>\n      <td>37.649747</td>\n      <td>127.069232</td>\n      <td>37.649776</td>\n      <td>일반차로</td>\n      <td>미설치</td>\n    </tr>\n    <tr>\n      <th>10361</th>\n      <td>110000247</td>\n      <td>11348</td>\n      <td>노원구</td>\n      <td>중계1동</td>\n      <td>중계1동주민센터</td>\n      <td>127.077277</td>\n      <td>37.651968</td>\n      <td>127.077233</td>\n      <td>37.651993</td>\n      <td>일반차로</td>\n      <td>설치</td>\n    </tr>\n    <tr>\n      <th>10362</th>\n      <td>124000432</td>\n      <td>25373</td>\n      <td>강동구</td>\n      <td>암사3동</td>\n      <td>강동롯데캐슬퍼스트아파트</td>\n      <td>127.144571</td>\n      <td>37.556602</td>\n      <td>127.144448</td>\n      <td>37.557244</td>\n      <td>일반차로</td>\n      <td>미설치</td>\n    </tr>\n  </tbody>\n</table>\n<p>6292 rows × 11 columns</p>\n</div>"
     },
     "execution_count": 194,
     "metadata": {},
     "output_type": "execute_result"
    }
   ],
   "source": [
    "master"
   ],
   "metadata": {
    "collapsed": false
   }
  },
  {
   "cell_type": "code",
   "execution_count": null,
   "outputs": [],
   "source": [
    "# master['행정구'].value_counts()\n",
    "# station['행정구'].value_counts()"
   ],
   "metadata": {
    "collapsed": false,
    "pycharm": {
     "is_executing": true
    }
   }
  },
  {
   "cell_type": "code",
   "execution_count": 198,
   "outputs": [],
   "source": [
    "subway = read_csv((2023, 2, 1), 'KSCC_DV_SUBWAY_STATION_GEOM')"
   ],
   "metadata": {
    "collapsed": false
   }
  },
  {
   "cell_type": "code",
   "execution_count": 199,
   "outputs": [
    {
     "data": {
      "text/plain": "     OUT_STN_NUM STN_KR_NM  LINE_NM      CONV_X     CONV_Y\n0           2563        미사      5호선  127.193877  37.560927\n1           2564      하남풍산      5호선  127.203864  37.552034\n2           3139  송도달빛축제공원    인천1호선  126.625970  37.407143\n3           4203      홍대입구  공항철도1호선  126.926715  37.557438\n4            428       삼각지      4호선  126.972600  37.534075\n..           ...       ...      ...         ...        ...\n760         3760       굴포천  7호선(인천)  126.732340  37.506810\n761          405        진접      진접선  127.203400  37.720500\n762         3761      부평구청  7호선(인천)  126.720770  37.508480\n763          406        오남      진접선  127.192810  37.705000\n764          408     별내별가람      진접선  127.115810  37.667780\n\n[765 rows x 5 columns]",
      "text/html": "<div>\n<style scoped>\n    .dataframe tbody tr th:only-of-type {\n        vertical-align: middle;\n    }\n\n    .dataframe tbody tr th {\n        vertical-align: top;\n    }\n\n    .dataframe thead th {\n        text-align: right;\n    }\n</style>\n<table border=\"1\" class=\"dataframe\">\n  <thead>\n    <tr style=\"text-align: right;\">\n      <th></th>\n      <th>OUT_STN_NUM</th>\n      <th>STN_KR_NM</th>\n      <th>LINE_NM</th>\n      <th>CONV_X</th>\n      <th>CONV_Y</th>\n    </tr>\n  </thead>\n  <tbody>\n    <tr>\n      <th>0</th>\n      <td>2563</td>\n      <td>미사</td>\n      <td>5호선</td>\n      <td>127.193877</td>\n      <td>37.560927</td>\n    </tr>\n    <tr>\n      <th>1</th>\n      <td>2564</td>\n      <td>하남풍산</td>\n      <td>5호선</td>\n      <td>127.203864</td>\n      <td>37.552034</td>\n    </tr>\n    <tr>\n      <th>2</th>\n      <td>3139</td>\n      <td>송도달빛축제공원</td>\n      <td>인천1호선</td>\n      <td>126.625970</td>\n      <td>37.407143</td>\n    </tr>\n    <tr>\n      <th>3</th>\n      <td>4203</td>\n      <td>홍대입구</td>\n      <td>공항철도1호선</td>\n      <td>126.926715</td>\n      <td>37.557438</td>\n    </tr>\n    <tr>\n      <th>4</th>\n      <td>428</td>\n      <td>삼각지</td>\n      <td>4호선</td>\n      <td>126.972600</td>\n      <td>37.534075</td>\n    </tr>\n    <tr>\n      <th>...</th>\n      <td>...</td>\n      <td>...</td>\n      <td>...</td>\n      <td>...</td>\n      <td>...</td>\n    </tr>\n    <tr>\n      <th>760</th>\n      <td>3760</td>\n      <td>굴포천</td>\n      <td>7호선(인천)</td>\n      <td>126.732340</td>\n      <td>37.506810</td>\n    </tr>\n    <tr>\n      <th>761</th>\n      <td>405</td>\n      <td>진접</td>\n      <td>진접선</td>\n      <td>127.203400</td>\n      <td>37.720500</td>\n    </tr>\n    <tr>\n      <th>762</th>\n      <td>3761</td>\n      <td>부평구청</td>\n      <td>7호선(인천)</td>\n      <td>126.720770</td>\n      <td>37.508480</td>\n    </tr>\n    <tr>\n      <th>763</th>\n      <td>406</td>\n      <td>오남</td>\n      <td>진접선</td>\n      <td>127.192810</td>\n      <td>37.705000</td>\n    </tr>\n    <tr>\n      <th>764</th>\n      <td>408</td>\n      <td>별내별가람</td>\n      <td>진접선</td>\n      <td>127.115810</td>\n      <td>37.667780</td>\n    </tr>\n  </tbody>\n</table>\n<p>765 rows × 5 columns</p>\n</div>"
     },
     "execution_count": 199,
     "metadata": {},
     "output_type": "execute_result"
    }
   ],
   "source": [
    "subway"
   ],
   "metadata": {
    "collapsed": false
   }
  }
 ],
 "metadata": {
  "kernelspec": {
   "display_name": "Python 3",
   "language": "python",
   "name": "python3"
  },
  "language_info": {
   "codemirror_mode": {
    "name": "ipython",
    "version": 2
   },
   "file_extension": ".py",
   "mimetype": "text/x-python",
   "name": "python",
   "nbconvert_exporter": "python",
   "pygments_lexer": "ipython2",
   "version": "2.7.6"
  }
 },
 "nbformat": 4,
 "nbformat_minor": 0
}
