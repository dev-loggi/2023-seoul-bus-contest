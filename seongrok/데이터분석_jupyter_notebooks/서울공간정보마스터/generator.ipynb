{
 "cells": [
  {
   "cell_type": "code",
   "execution_count": 1,
   "metadata": {
    "collapsed": true
   },
   "outputs": [],
   "source": [
    "import numpy as np\n",
    "import pandas as pd\n",
    "import geopandas as gpd"
   ]
  },
  {
   "cell_type": "markdown",
   "source": [
    "# 1. 시군구 좌표 데이터"
   ],
   "metadata": {
    "collapsed": false
   }
  },
  {
   "cell_type": "code",
   "execution_count": 23,
   "outputs": [
    {
     "data": {
      "text/plain": "  ADM_SECT_C SGG_NM  SGG_OID COL_ADM_SE  GID  \\\n0      11740    강동구      NaN      11740  125   \n1      11710    송파구      NaN      11710  126   \n2      11680    강남구      NaN      11680  127   \n3      11650    서초구      NaN      11650  128   \n4      11620    관악구      NaN      11620  129   \n\n                                            geometry  \n0  POLYGON ((971595.075 1952405.815, 971596.036 1...  \n1  POLYGON ((965821.957 1949386.153, 965816.737 1...  \n2  POLYGON ((959331.597 1948602.068, 959342.021 1...  \n3  POLYGON ((956982.039 1947144.037, 956982.518 1...  \n4  POLYGON ((949438.997 1944127.713, 949456.647 1...  ",
      "text/html": "<div>\n<style scoped>\n    .dataframe tbody tr th:only-of-type {\n        vertical-align: middle;\n    }\n\n    .dataframe tbody tr th {\n        vertical-align: top;\n    }\n\n    .dataframe thead th {\n        text-align: right;\n    }\n</style>\n<table border=\"1\" class=\"dataframe\">\n  <thead>\n    <tr style=\"text-align: right;\">\n      <th></th>\n      <th>ADM_SECT_C</th>\n      <th>SGG_NM</th>\n      <th>SGG_OID</th>\n      <th>COL_ADM_SE</th>\n      <th>GID</th>\n      <th>geometry</th>\n    </tr>\n  </thead>\n  <tbody>\n    <tr>\n      <th>0</th>\n      <td>11740</td>\n      <td>강동구</td>\n      <td>NaN</td>\n      <td>11740</td>\n      <td>125</td>\n      <td>POLYGON ((971595.075 1952405.815, 971596.036 1...</td>\n    </tr>\n    <tr>\n      <th>1</th>\n      <td>11710</td>\n      <td>송파구</td>\n      <td>NaN</td>\n      <td>11710</td>\n      <td>126</td>\n      <td>POLYGON ((965821.957 1949386.153, 965816.737 1...</td>\n    </tr>\n    <tr>\n      <th>2</th>\n      <td>11680</td>\n      <td>강남구</td>\n      <td>NaN</td>\n      <td>11680</td>\n      <td>127</td>\n      <td>POLYGON ((959331.597 1948602.068, 959342.021 1...</td>\n    </tr>\n    <tr>\n      <th>3</th>\n      <td>11650</td>\n      <td>서초구</td>\n      <td>NaN</td>\n      <td>11650</td>\n      <td>128</td>\n      <td>POLYGON ((956982.039 1947144.037, 956982.518 1...</td>\n    </tr>\n    <tr>\n      <th>4</th>\n      <td>11620</td>\n      <td>관악구</td>\n      <td>NaN</td>\n      <td>11620</td>\n      <td>129</td>\n      <td>POLYGON ((949438.997 1944127.713, 949456.647 1...</td>\n    </tr>\n  </tbody>\n</table>\n</div>"
     },
     "execution_count": 23,
     "metadata": {},
     "output_type": "execute_result"
    }
   ],
   "source": [
    "geo_sgg = gpd.read_file('data/LARD_ADM_SECT_SGG_11.shp', encoding='cp949')\n",
    "geo_sgg.head()"
   ],
   "metadata": {
    "collapsed": false
   }
  },
  {
   "cell_type": "markdown",
   "source": [
    "# 2. 읍면동 좌표 데이터"
   ],
   "metadata": {
    "collapsed": false
   }
  },
  {
   "cell_type": "code",
   "execution_count": 24,
   "outputs": [
    {
     "data": {
      "text/plain": "   OBJECTID         adm_nm   adm_cd     adm_cd2    sgg sido sidonm     temp  \\\n0         0  서울특별시 종로구 사직동  1101053  1111053000  11110   11  서울특별시  종로구 사직동   \n1         1  서울특별시 종로구 삼청동  1101054  1111054000  11110   11  서울특별시  종로구 삼청동   \n2         2  서울특별시 종로구 부암동  1101055  1111055000  11110   11  서울특별시  종로구 부암동   \n3         3  서울특별시 종로구 평창동  1101056  1111056000  11110   11  서울특별시  종로구 평창동   \n4         4  서울특별시 종로구 무악동  1101057  1111057000  11110   11  서울특별시  종로구 무악동   \n\n  sggnm                                           geometry  \n0   종로구  MULTIPOLYGON (((126.97689 37.57565, 126.97703 ...  \n1   종로구  MULTIPOLYGON (((126.98269 37.59507, 126.98337 ...  \n2   종로구  MULTIPOLYGON (((126.97585 37.59656, 126.97359 ...  \n3   종로구  MULTIPOLYGON (((126.97507 37.63139, 126.97649 ...  \n4   종로구  MULTIPOLYGON (((126.96067 37.58080, 126.96281 ...  ",
      "text/html": "<div>\n<style scoped>\n    .dataframe tbody tr th:only-of-type {\n        vertical-align: middle;\n    }\n\n    .dataframe tbody tr th {\n        vertical-align: top;\n    }\n\n    .dataframe thead th {\n        text-align: right;\n    }\n</style>\n<table border=\"1\" class=\"dataframe\">\n  <thead>\n    <tr style=\"text-align: right;\">\n      <th></th>\n      <th>OBJECTID</th>\n      <th>adm_nm</th>\n      <th>adm_cd</th>\n      <th>adm_cd2</th>\n      <th>sgg</th>\n      <th>sido</th>\n      <th>sidonm</th>\n      <th>temp</th>\n      <th>sggnm</th>\n      <th>geometry</th>\n    </tr>\n  </thead>\n  <tbody>\n    <tr>\n      <th>0</th>\n      <td>0</td>\n      <td>서울특별시 종로구 사직동</td>\n      <td>1101053</td>\n      <td>1111053000</td>\n      <td>11110</td>\n      <td>11</td>\n      <td>서울특별시</td>\n      <td>종로구 사직동</td>\n      <td>종로구</td>\n      <td>MULTIPOLYGON (((126.97689 37.57565, 126.97703 ...</td>\n    </tr>\n    <tr>\n      <th>1</th>\n      <td>1</td>\n      <td>서울특별시 종로구 삼청동</td>\n      <td>1101054</td>\n      <td>1111054000</td>\n      <td>11110</td>\n      <td>11</td>\n      <td>서울특별시</td>\n      <td>종로구 삼청동</td>\n      <td>종로구</td>\n      <td>MULTIPOLYGON (((126.98269 37.59507, 126.98337 ...</td>\n    </tr>\n    <tr>\n      <th>2</th>\n      <td>2</td>\n      <td>서울특별시 종로구 부암동</td>\n      <td>1101055</td>\n      <td>1111055000</td>\n      <td>11110</td>\n      <td>11</td>\n      <td>서울특별시</td>\n      <td>종로구 부암동</td>\n      <td>종로구</td>\n      <td>MULTIPOLYGON (((126.97585 37.59656, 126.97359 ...</td>\n    </tr>\n    <tr>\n      <th>3</th>\n      <td>3</td>\n      <td>서울특별시 종로구 평창동</td>\n      <td>1101056</td>\n      <td>1111056000</td>\n      <td>11110</td>\n      <td>11</td>\n      <td>서울특별시</td>\n      <td>종로구 평창동</td>\n      <td>종로구</td>\n      <td>MULTIPOLYGON (((126.97507 37.63139, 126.97649 ...</td>\n    </tr>\n    <tr>\n      <th>4</th>\n      <td>4</td>\n      <td>서울특별시 종로구 무악동</td>\n      <td>1101057</td>\n      <td>1111057000</td>\n      <td>11110</td>\n      <td>11</td>\n      <td>서울특별시</td>\n      <td>종로구 무악동</td>\n      <td>종로구</td>\n      <td>MULTIPOLYGON (((126.96067 37.58080, 126.96281 ...</td>\n    </tr>\n  </tbody>\n</table>\n</div>"
     },
     "execution_count": 24,
     "metadata": {},
     "output_type": "execute_result"
    }
   ],
   "source": [
    "geo_emd = gpd.read_file('data/서울_행정동.shp')\n",
    "geo_emd.head()"
   ],
   "metadata": {
    "collapsed": false
   }
  },
  {
   "cell_type": "markdown",
   "source": [
    "# 3. sgg-geo-master.shp 생성"
   ],
   "metadata": {
    "collapsed": false
   }
  },
  {
   "cell_type": "code",
   "execution_count": 40,
   "outputs": [
    {
     "data": {
      "text/plain": "  sgg_cd  sgg                                           geometry\n0  11740  강동구  POLYGON ((971595.075 1952405.815, 971596.036 1...\n1  11710  송파구  POLYGON ((965821.957 1949386.153, 965816.737 1...\n2  11680  강남구  POLYGON ((959331.597 1948602.068, 959342.021 1...\n3  11650  서초구  POLYGON ((956982.039 1947144.037, 956982.518 1...\n4  11620  관악구  POLYGON ((949438.997 1944127.713, 949456.647 1...",
      "text/html": "<div>\n<style scoped>\n    .dataframe tbody tr th:only-of-type {\n        vertical-align: middle;\n    }\n\n    .dataframe tbody tr th {\n        vertical-align: top;\n    }\n\n    .dataframe thead th {\n        text-align: right;\n    }\n</style>\n<table border=\"1\" class=\"dataframe\">\n  <thead>\n    <tr style=\"text-align: right;\">\n      <th></th>\n      <th>sgg_cd</th>\n      <th>sgg</th>\n      <th>geometry</th>\n    </tr>\n  </thead>\n  <tbody>\n    <tr>\n      <th>0</th>\n      <td>11740</td>\n      <td>강동구</td>\n      <td>POLYGON ((971595.075 1952405.815, 971596.036 1...</td>\n    </tr>\n    <tr>\n      <th>1</th>\n      <td>11710</td>\n      <td>송파구</td>\n      <td>POLYGON ((965821.957 1949386.153, 965816.737 1...</td>\n    </tr>\n    <tr>\n      <th>2</th>\n      <td>11680</td>\n      <td>강남구</td>\n      <td>POLYGON ((959331.597 1948602.068, 959342.021 1...</td>\n    </tr>\n    <tr>\n      <th>3</th>\n      <td>11650</td>\n      <td>서초구</td>\n      <td>POLYGON ((956982.039 1947144.037, 956982.518 1...</td>\n    </tr>\n    <tr>\n      <th>4</th>\n      <td>11620</td>\n      <td>관악구</td>\n      <td>POLYGON ((949438.997 1944127.713, 949456.647 1...</td>\n    </tr>\n  </tbody>\n</table>\n</div>"
     },
     "execution_count": 40,
     "metadata": {},
     "output_type": "execute_result"
    }
   ],
   "source": [
    "sgg = geo_sgg.loc[:, ['ADM_SECT_C', 'SGG_NM', 'geometry']]\n",
    "sgg.rename(columns={'ADM_SECT_C':'sgg_cd', 'SGG_NM':'sgg'}, inplace=True)\n",
    "sgg.head()"
   ],
   "metadata": {
    "collapsed": false
   }
  },
  {
   "cell_type": "code",
   "execution_count": 41,
   "outputs": [],
   "source": [
    "sgg.to_file('master/sgg-geo-master.shp', index=False)"
   ],
   "metadata": {
    "collapsed": false
   }
  },
  {
   "cell_type": "markdown",
   "source": [
    "# 4. emd-geo-master.shp 생성"
   ],
   "metadata": {
    "collapsed": false
   }
  },
  {
   "cell_type": "code",
   "execution_count": 43,
   "outputs": [
    {
     "data": {
      "text/plain": "  sgg_cd  sgg   emd_cd  emd                                           geometry\n0  11110  종로구  1101053  사직동  MULTIPOLYGON (((126.97689 37.57565, 126.97703 ...\n1  11110  종로구  1101054  삼청동  MULTIPOLYGON (((126.98269 37.59507, 126.98337 ...\n2  11110  종로구  1101055  부암동  MULTIPOLYGON (((126.97585 37.59656, 126.97359 ...\n3  11110  종로구  1101056  평창동  MULTIPOLYGON (((126.97507 37.63139, 126.97649 ...\n4  11110  종로구  1101057  무악동  MULTIPOLYGON (((126.96067 37.58080, 126.96281 ...",
      "text/html": "<div>\n<style scoped>\n    .dataframe tbody tr th:only-of-type {\n        vertical-align: middle;\n    }\n\n    .dataframe tbody tr th {\n        vertical-align: top;\n    }\n\n    .dataframe thead th {\n        text-align: right;\n    }\n</style>\n<table border=\"1\" class=\"dataframe\">\n  <thead>\n    <tr style=\"text-align: right;\">\n      <th></th>\n      <th>sgg_cd</th>\n      <th>sgg</th>\n      <th>emd_cd</th>\n      <th>emd</th>\n      <th>geometry</th>\n    </tr>\n  </thead>\n  <tbody>\n    <tr>\n      <th>0</th>\n      <td>11110</td>\n      <td>종로구</td>\n      <td>1101053</td>\n      <td>사직동</td>\n      <td>MULTIPOLYGON (((126.97689 37.57565, 126.97703 ...</td>\n    </tr>\n    <tr>\n      <th>1</th>\n      <td>11110</td>\n      <td>종로구</td>\n      <td>1101054</td>\n      <td>삼청동</td>\n      <td>MULTIPOLYGON (((126.98269 37.59507, 126.98337 ...</td>\n    </tr>\n    <tr>\n      <th>2</th>\n      <td>11110</td>\n      <td>종로구</td>\n      <td>1101055</td>\n      <td>부암동</td>\n      <td>MULTIPOLYGON (((126.97585 37.59656, 126.97359 ...</td>\n    </tr>\n    <tr>\n      <th>3</th>\n      <td>11110</td>\n      <td>종로구</td>\n      <td>1101056</td>\n      <td>평창동</td>\n      <td>MULTIPOLYGON (((126.97507 37.63139, 126.97649 ...</td>\n    </tr>\n    <tr>\n      <th>4</th>\n      <td>11110</td>\n      <td>종로구</td>\n      <td>1101057</td>\n      <td>무악동</td>\n      <td>MULTIPOLYGON (((126.96067 37.58080, 126.96281 ...</td>\n    </tr>\n  </tbody>\n</table>\n</div>"
     },
     "execution_count": 43,
     "metadata": {},
     "output_type": "execute_result"
    }
   ],
   "source": [
    "emd = geo_emd.copy()\n",
    "emd.rename(columns={'adm_cd':'emd_cd', 'sgg':'sgg_cd', 'sggnm':'sgg'}, inplace=True)\n",
    "emd['emd'] = emd['adm_nm'].str.split().str[2]\n",
    "emd = emd.loc[:, ['sgg_cd', 'sgg', 'emd_cd', 'emd', 'geometry']]\n",
    "emd.head()"
   ],
   "metadata": {
    "collapsed": false
   }
  },
  {
   "cell_type": "code",
   "execution_count": 44,
   "outputs": [],
   "source": [
    "emd.to_file('master/emd-geo-master.shp', index=False)"
   ],
   "metadata": {
    "collapsed": false
   }
  }
 ],
 "metadata": {
  "kernelspec": {
   "display_name": "Python 3",
   "language": "python",
   "name": "python3"
  },
  "language_info": {
   "codemirror_mode": {
    "name": "ipython",
    "version": 2
   },
   "file_extension": ".py",
   "mimetype": "text/x-python",
   "name": "python",
   "nbconvert_exporter": "python",
   "pygments_lexer": "ipython2",
   "version": "2.7.6"
  }
 },
 "nbformat": 4,
 "nbformat_minor": 0
}
