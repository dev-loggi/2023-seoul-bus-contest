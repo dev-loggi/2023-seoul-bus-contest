{
 "cells": [
  {
   "cell_type": "markdown",
   "source": [
    "# GIS 공간 정보 데이터\n",
    "\n",
    "- 좌표계: GRS80 UTM-K / EPSG:5179\n",
    "- 출처: <http://www.gisdeveloper.co.kr/?p=2332>\n",
    "\n",
    "---"
   ],
   "metadata": {
    "collapsed": false
   }
  },
  {
   "cell_type": "code",
   "execution_count": 1,
   "outputs": [],
   "source": [
    "import pandas as pd\n",
    "import geopandas as gpd"
   ],
   "metadata": {
    "collapsed": false
   }
  },
  {
   "cell_type": "markdown",
   "source": [
    "---"
   ],
   "metadata": {
    "collapsed": false
   }
  },
  {
   "cell_type": "markdown",
   "source": [
    "# 1. 시도 좌표계"
   ],
   "metadata": {
    "collapsed": false
   }
  },
  {
   "cell_type": "code",
   "execution_count": 2,
   "outputs": [
    {
     "data": {
      "text/plain": "  CTPRVN_CD CTP_ENG_NM CTP_KOR_NM  \\\n0        11      Seoul      서울특별시   \n1        26      Busan      부산광역시   \n2        27      Daegu      대구광역시   \n3        28    Incheon      인천광역시   \n4        29    Gwangju      광주광역시   \n\n                                            geometry  \n0  POLYGON ((966987.226 1941110.946, 966987.119 1...  \n1  MULTIPOLYGON (((1148194.981 1685460.055, 11481...  \n2  POLYGON ((1087859.999 1760097.461, 1087859.951...  \n3  MULTIPOLYGON (((847834.755 1881816.658, 847840...  \n4  POLYGON ((932712.687 1696168.692, 932781.680 1...  ",
      "text/html": "<div>\n<style scoped>\n    .dataframe tbody tr th:only-of-type {\n        vertical-align: middle;\n    }\n\n    .dataframe tbody tr th {\n        vertical-align: top;\n    }\n\n    .dataframe thead th {\n        text-align: right;\n    }\n</style>\n<table border=\"1\" class=\"dataframe\">\n  <thead>\n    <tr style=\"text-align: right;\">\n      <th></th>\n      <th>CTPRVN_CD</th>\n      <th>CTP_ENG_NM</th>\n      <th>CTP_KOR_NM</th>\n      <th>geometry</th>\n    </tr>\n  </thead>\n  <tbody>\n    <tr>\n      <th>0</th>\n      <td>11</td>\n      <td>Seoul</td>\n      <td>서울특별시</td>\n      <td>POLYGON ((966987.226 1941110.946, 966987.119 1...</td>\n    </tr>\n    <tr>\n      <th>1</th>\n      <td>26</td>\n      <td>Busan</td>\n      <td>부산광역시</td>\n      <td>MULTIPOLYGON (((1148194.981 1685460.055, 11481...</td>\n    </tr>\n    <tr>\n      <th>2</th>\n      <td>27</td>\n      <td>Daegu</td>\n      <td>대구광역시</td>\n      <td>POLYGON ((1087859.999 1760097.461, 1087859.951...</td>\n    </tr>\n    <tr>\n      <th>3</th>\n      <td>28</td>\n      <td>Incheon</td>\n      <td>인천광역시</td>\n      <td>MULTIPOLYGON (((847834.755 1881816.658, 847840...</td>\n    </tr>\n    <tr>\n      <th>4</th>\n      <td>29</td>\n      <td>Gwangju</td>\n      <td>광주광역시</td>\n      <td>POLYGON ((932712.687 1696168.692, 932781.680 1...</td>\n    </tr>\n  </tbody>\n</table>\n</div>"
     },
     "execution_count": 2,
     "metadata": {},
     "output_type": "execute_result"
    }
   ],
   "source": [
    "ctp = gpd.read_file('GIS/CTPRVN_202302/ctp_rvn.shp', encoding='cp949')\n",
    "ctp.head()"
   ],
   "metadata": {
    "collapsed": false
   }
  },
  {
   "cell_type": "markdown",
   "source": [
    "---"
   ],
   "metadata": {
    "collapsed": false
   }
  },
  {
   "cell_type": "markdown",
   "source": [
    "# 2. 시군구 좌표계"
   ],
   "metadata": {
    "collapsed": false
   }
  },
  {
   "cell_type": "code",
   "execution_count": 3,
   "outputs": [
    {
     "data": {
      "text/plain": "  SIG_CD    SIG_ENG_NM SIG_KOR_NM  \\\n0  11110     Jongno-gu        종로구   \n1  11140       Jung-gu         중구   \n2  11170    Yongsan-gu        용산구   \n3  11200  Seongdong-gu        성동구   \n4  11215   Gwangjin-gu        광진구   \n\n                                            geometry  \n0  POLYGON ((956615.453 1953567.199, 956621.579 1...  \n1  POLYGON ((957890.386 1952616.746, 957909.908 1...  \n2  POLYGON ((953115.761 1950834.084, 953114.206 1...  \n3  POLYGON ((959681.109 1952649.605, 959842.412 1...  \n4  POLYGON ((964825.058 1952633.250, 964875.565 1...  ",
      "text/html": "<div>\n<style scoped>\n    .dataframe tbody tr th:only-of-type {\n        vertical-align: middle;\n    }\n\n    .dataframe tbody tr th {\n        vertical-align: top;\n    }\n\n    .dataframe thead th {\n        text-align: right;\n    }\n</style>\n<table border=\"1\" class=\"dataframe\">\n  <thead>\n    <tr style=\"text-align: right;\">\n      <th></th>\n      <th>SIG_CD</th>\n      <th>SIG_ENG_NM</th>\n      <th>SIG_KOR_NM</th>\n      <th>geometry</th>\n    </tr>\n  </thead>\n  <tbody>\n    <tr>\n      <th>0</th>\n      <td>11110</td>\n      <td>Jongno-gu</td>\n      <td>종로구</td>\n      <td>POLYGON ((956615.453 1953567.199, 956621.579 1...</td>\n    </tr>\n    <tr>\n      <th>1</th>\n      <td>11140</td>\n      <td>Jung-gu</td>\n      <td>중구</td>\n      <td>POLYGON ((957890.386 1952616.746, 957909.908 1...</td>\n    </tr>\n    <tr>\n      <th>2</th>\n      <td>11170</td>\n      <td>Yongsan-gu</td>\n      <td>용산구</td>\n      <td>POLYGON ((953115.761 1950834.084, 953114.206 1...</td>\n    </tr>\n    <tr>\n      <th>3</th>\n      <td>11200</td>\n      <td>Seongdong-gu</td>\n      <td>성동구</td>\n      <td>POLYGON ((959681.109 1952649.605, 959842.412 1...</td>\n    </tr>\n    <tr>\n      <th>4</th>\n      <td>11215</td>\n      <td>Gwangjin-gu</td>\n      <td>광진구</td>\n      <td>POLYGON ((964825.058 1952633.250, 964875.565 1...</td>\n    </tr>\n  </tbody>\n</table>\n</div>"
     },
     "execution_count": 3,
     "metadata": {},
     "output_type": "execute_result"
    }
   ],
   "source": [
    "sig = gpd.read_file('GIS/SIG_202302/sig.shp', encoding='cp949')\n",
    "sig.head()"
   ],
   "metadata": {
    "collapsed": false
   }
  },
  {
   "cell_type": "markdown",
   "source": [
    "---"
   ],
   "metadata": {
    "collapsed": false
   }
  },
  {
   "cell_type": "markdown",
   "source": [
    "# 3. 읍면동 좌표계"
   ],
   "metadata": {
    "collapsed": false
   }
  },
  {
   "cell_type": "code",
   "execution_count": 4,
   "outputs": [
    {
     "data": {
      "text/plain": "     EMD_CD       EMD_ENG_NM EMD_KOR_NM  \\\n0  11110101    Cheongun-dong        청운동   \n1  11110102      Singyo-dong        신교동   \n2  11110103   Gungjeong-dong        궁정동   \n3  11110104       Hyoja-dong        효자동   \n4  11110105  Changseong-dong        창성동   \n\n                                            geometry  \n0  POLYGON ((953700.022 1954605.065, 953693.871 1...  \n1  POLYGON ((953233.465 1953996.984, 953235.183 1...  \n2  POLYGON ((953560.228 1954257.466, 953561.190 1...  \n3  POLYGON ((953519.843 1953890.785, 953518.489 1...  \n4  POLYGON ((953516.123 1953734.362, 953516.526 1...  ",
      "text/html": "<div>\n<style scoped>\n    .dataframe tbody tr th:only-of-type {\n        vertical-align: middle;\n    }\n\n    .dataframe tbody tr th {\n        vertical-align: top;\n    }\n\n    .dataframe thead th {\n        text-align: right;\n    }\n</style>\n<table border=\"1\" class=\"dataframe\">\n  <thead>\n    <tr style=\"text-align: right;\">\n      <th></th>\n      <th>EMD_CD</th>\n      <th>EMD_ENG_NM</th>\n      <th>EMD_KOR_NM</th>\n      <th>geometry</th>\n    </tr>\n  </thead>\n  <tbody>\n    <tr>\n      <th>0</th>\n      <td>11110101</td>\n      <td>Cheongun-dong</td>\n      <td>청운동</td>\n      <td>POLYGON ((953700.022 1954605.065, 953693.871 1...</td>\n    </tr>\n    <tr>\n      <th>1</th>\n      <td>11110102</td>\n      <td>Singyo-dong</td>\n      <td>신교동</td>\n      <td>POLYGON ((953233.465 1953996.984, 953235.183 1...</td>\n    </tr>\n    <tr>\n      <th>2</th>\n      <td>11110103</td>\n      <td>Gungjeong-dong</td>\n      <td>궁정동</td>\n      <td>POLYGON ((953560.228 1954257.466, 953561.190 1...</td>\n    </tr>\n    <tr>\n      <th>3</th>\n      <td>11110104</td>\n      <td>Hyoja-dong</td>\n      <td>효자동</td>\n      <td>POLYGON ((953519.843 1953890.785, 953518.489 1...</td>\n    </tr>\n    <tr>\n      <th>4</th>\n      <td>11110105</td>\n      <td>Changseong-dong</td>\n      <td>창성동</td>\n      <td>POLYGON ((953516.123 1953734.362, 953516.526 1...</td>\n    </tr>\n  </tbody>\n</table>\n</div>"
     },
     "execution_count": 4,
     "metadata": {},
     "output_type": "execute_result"
    }
   ],
   "source": [
    "emd = gpd.read_file('GIS/EMD_202302/emd.shp', encoding='cp949')\n",
    "emd.head()"
   ],
   "metadata": {
    "collapsed": false
   }
  },
  {
   "cell_type": "markdown",
   "source": [
    "---"
   ],
   "metadata": {
    "collapsed": false
   }
  },
  {
   "cell_type": "markdown",
   "source": [
    "# 4. 시군구 master 생성"
   ],
   "metadata": {
    "collapsed": false
   }
  },
  {
   "cell_type": "markdown",
   "source": [
    "## 1) sig-master.csv"
   ],
   "metadata": {
    "collapsed": false
   }
  },
  {
   "cell_type": "code",
   "execution_count": 5,
   "outputs": [
    {
     "data": {
      "text/plain": "  sig_cd sig_nm\n0  11110    종로구\n1  11140     중구\n2  11170    용산구\n3  11200    성동구\n4  11215    광진구",
      "text/html": "<div>\n<style scoped>\n    .dataframe tbody tr th:only-of-type {\n        vertical-align: middle;\n    }\n\n    .dataframe tbody tr th {\n        vertical-align: top;\n    }\n\n    .dataframe thead th {\n        text-align: right;\n    }\n</style>\n<table border=\"1\" class=\"dataframe\">\n  <thead>\n    <tr style=\"text-align: right;\">\n      <th></th>\n      <th>sig_cd</th>\n      <th>sig_nm</th>\n    </tr>\n  </thead>\n  <tbody>\n    <tr>\n      <th>0</th>\n      <td>11110</td>\n      <td>종로구</td>\n    </tr>\n    <tr>\n      <th>1</th>\n      <td>11140</td>\n      <td>중구</td>\n    </tr>\n    <tr>\n      <th>2</th>\n      <td>11170</td>\n      <td>용산구</td>\n    </tr>\n    <tr>\n      <th>3</th>\n      <td>11200</td>\n      <td>성동구</td>\n    </tr>\n    <tr>\n      <th>4</th>\n      <td>11215</td>\n      <td>광진구</td>\n    </tr>\n  </tbody>\n</table>\n</div>"
     },
     "execution_count": 5,
     "metadata": {},
     "output_type": "execute_result"
    }
   ],
   "source": [
    "# 서울만 추출\n",
    "sig_master = sig.loc[sig['SIG_CD'].str[:2] == '11']\n",
    "sig_master = sig_master.loc[:, ['SIG_CD', 'SIG_KOR_NM']]\n",
    "sig_master.columns = ['sig_cd', 'sig_nm']\n",
    "sig_master.head()"
   ],
   "metadata": {
    "collapsed": false
   }
  },
  {
   "cell_type": "code",
   "execution_count": 6,
   "outputs": [],
   "source": [
    "sig_master.to_csv('master/sig-master.csv', index=False)"
   ],
   "metadata": {
    "collapsed": false
   }
  },
  {
   "cell_type": "markdown",
   "source": [
    "## 2) sig-geo-master.shp"
   ],
   "metadata": {
    "collapsed": false
   }
  },
  {
   "cell_type": "code",
   "execution_count": 7,
   "outputs": [
    {
     "data": {
      "text/plain": "  sig_cd sig_nm                                           geometry\n0  11110    종로구  POLYGON ((956615.453 1953567.199, 956621.579 1...\n1  11140     중구  POLYGON ((957890.386 1952616.746, 957909.908 1...\n2  11170    용산구  POLYGON ((953115.761 1950834.084, 953114.206 1...\n3  11200    성동구  POLYGON ((959681.109 1952649.605, 959842.412 1...\n4  11215    광진구  POLYGON ((964825.058 1952633.250, 964875.565 1...",
      "text/html": "<div>\n<style scoped>\n    .dataframe tbody tr th:only-of-type {\n        vertical-align: middle;\n    }\n\n    .dataframe tbody tr th {\n        vertical-align: top;\n    }\n\n    .dataframe thead th {\n        text-align: right;\n    }\n</style>\n<table border=\"1\" class=\"dataframe\">\n  <thead>\n    <tr style=\"text-align: right;\">\n      <th></th>\n      <th>sig_cd</th>\n      <th>sig_nm</th>\n      <th>geometry</th>\n    </tr>\n  </thead>\n  <tbody>\n    <tr>\n      <th>0</th>\n      <td>11110</td>\n      <td>종로구</td>\n      <td>POLYGON ((956615.453 1953567.199, 956621.579 1...</td>\n    </tr>\n    <tr>\n      <th>1</th>\n      <td>11140</td>\n      <td>중구</td>\n      <td>POLYGON ((957890.386 1952616.746, 957909.908 1...</td>\n    </tr>\n    <tr>\n      <th>2</th>\n      <td>11170</td>\n      <td>용산구</td>\n      <td>POLYGON ((953115.761 1950834.084, 953114.206 1...</td>\n    </tr>\n    <tr>\n      <th>3</th>\n      <td>11200</td>\n      <td>성동구</td>\n      <td>POLYGON ((959681.109 1952649.605, 959842.412 1...</td>\n    </tr>\n    <tr>\n      <th>4</th>\n      <td>11215</td>\n      <td>광진구</td>\n      <td>POLYGON ((964825.058 1952633.250, 964875.565 1...</td>\n    </tr>\n  </tbody>\n</table>\n</div>"
     },
     "execution_count": 7,
     "metadata": {},
     "output_type": "execute_result"
    }
   ],
   "source": [
    "# 서울만 추출\n",
    "sig_geo_master = sig.loc[sig['SIG_CD'].str[:2] == '11']\n",
    "sig_geo_master = sig_geo_master.loc[:, ['SIG_CD', 'SIG_KOR_NM', 'geometry']]\n",
    "sig_geo_master.columns = ['sig_cd', 'sig_nm', 'geometry']\n",
    "sig_geo_master.head()"
   ],
   "metadata": {
    "collapsed": false
   }
  },
  {
   "cell_type": "code",
   "execution_count": 8,
   "outputs": [],
   "source": [
    "sig_geo_master.to_file('master/sig-geo-master.shp', index=False, encoding='cp949')"
   ],
   "metadata": {
    "collapsed": false
   }
  },
  {
   "cell_type": "markdown",
   "source": [
    "## 3) emd-master.csv"
   ],
   "metadata": {
    "collapsed": false
   }
  },
  {
   "cell_type": "code",
   "execution_count": 9,
   "outputs": [
    {
     "name": "stderr",
     "output_type": "stream",
     "text": [
      "C:\\Users\\User\\anaconda3\\lib\\site-packages\\geopandas\\geodataframe.py:1443: SettingWithCopyWarning: \n",
      "A value is trying to be set on a copy of a slice from a DataFrame.\n",
      "Try using .loc[row_indexer,col_indexer] = value instead\n",
      "\n",
      "See the caveats in the documentation: https://pandas.pydata.org/pandas-docs/stable/user_guide/indexing.html#returning-a-view-versus-a-copy\n",
      "  super().__setitem__(key, value)\n"
     ]
    },
    {
     "data": {
      "text/plain": "  sig_cd sig_nm    emd_cd emd_nm\n0  11110    종로구  11110101    청운동\n1  11110    종로구  11110102    신교동\n2  11110    종로구  11110103    궁정동\n3  11110    종로구  11110104    효자동\n4  11110    종로구  11110105    창성동",
      "text/html": "<div>\n<style scoped>\n    .dataframe tbody tr th:only-of-type {\n        vertical-align: middle;\n    }\n\n    .dataframe tbody tr th {\n        vertical-align: top;\n    }\n\n    .dataframe thead th {\n        text-align: right;\n    }\n</style>\n<table border=\"1\" class=\"dataframe\">\n  <thead>\n    <tr style=\"text-align: right;\">\n      <th></th>\n      <th>sig_cd</th>\n      <th>sig_nm</th>\n      <th>emd_cd</th>\n      <th>emd_nm</th>\n    </tr>\n  </thead>\n  <tbody>\n    <tr>\n      <th>0</th>\n      <td>11110</td>\n      <td>종로구</td>\n      <td>11110101</td>\n      <td>청운동</td>\n    </tr>\n    <tr>\n      <th>1</th>\n      <td>11110</td>\n      <td>종로구</td>\n      <td>11110102</td>\n      <td>신교동</td>\n    </tr>\n    <tr>\n      <th>2</th>\n      <td>11110</td>\n      <td>종로구</td>\n      <td>11110103</td>\n      <td>궁정동</td>\n    </tr>\n    <tr>\n      <th>3</th>\n      <td>11110</td>\n      <td>종로구</td>\n      <td>11110104</td>\n      <td>효자동</td>\n    </tr>\n    <tr>\n      <th>4</th>\n      <td>11110</td>\n      <td>종로구</td>\n      <td>11110105</td>\n      <td>창성동</td>\n    </tr>\n  </tbody>\n</table>\n</div>"
     },
     "execution_count": 9,
     "metadata": {},
     "output_type": "execute_result"
    }
   ],
   "source": [
    "# 서울만 추출\n",
    "emd_master = emd.loc[emd['EMD_CD'].str[:2] == '11']\n",
    "\n",
    "# 자치구 컬럼 생성\n",
    "emd_master['sig_cd'] = emd_master['EMD_CD'].str[:5]\n",
    "emd_master = pd.merge(emd_master, sig_master, on='sig_cd')\n",
    "\n",
    "# 컬럼명 정리\n",
    "emd_master.rename(columns={'EMD_CD':'emd_cd', 'EMD_KOR_NM':'emd_nm'}, inplace=True)\n",
    "emd_master = emd_master.loc[:, ['sig_cd', 'sig_nm', 'emd_cd', 'emd_nm']]\n",
    "emd_master.head()"
   ],
   "metadata": {
    "collapsed": false
   }
  },
  {
   "cell_type": "code",
   "execution_count": 10,
   "outputs": [],
   "source": [
    "emd_master.to_csv('master/emd-master.csv', index=False)"
   ],
   "metadata": {
    "collapsed": false
   }
  },
  {
   "cell_type": "markdown",
   "source": [
    "## 4) emd-geo-master.shp"
   ],
   "metadata": {
    "collapsed": false
   }
  },
  {
   "cell_type": "code",
   "execution_count": 11,
   "outputs": [
    {
     "name": "stderr",
     "output_type": "stream",
     "text": [
      "C:\\Users\\User\\anaconda3\\lib\\site-packages\\geopandas\\geodataframe.py:1443: SettingWithCopyWarning: \n",
      "A value is trying to be set on a copy of a slice from a DataFrame.\n",
      "Try using .loc[row_indexer,col_indexer] = value instead\n",
      "\n",
      "See the caveats in the documentation: https://pandas.pydata.org/pandas-docs/stable/user_guide/indexing.html#returning-a-view-versus-a-copy\n",
      "  super().__setitem__(key, value)\n"
     ]
    },
    {
     "data": {
      "text/plain": "  sig_cd sig_nm    emd_cd emd_nm  \\\n0  11110    종로구  11110101    청운동   \n1  11110    종로구  11110102    신교동   \n2  11110    종로구  11110103    궁정동   \n3  11110    종로구  11110104    효자동   \n4  11110    종로구  11110105    창성동   \n\n                                            geometry  \n0  POLYGON ((953700.022 1954605.065, 953693.871 1...  \n1  POLYGON ((953233.465 1953996.984, 953235.183 1...  \n2  POLYGON ((953560.228 1954257.466, 953561.190 1...  \n3  POLYGON ((953519.843 1953890.785, 953518.489 1...  \n4  POLYGON ((953516.123 1953734.362, 953516.526 1...  ",
      "text/html": "<div>\n<style scoped>\n    .dataframe tbody tr th:only-of-type {\n        vertical-align: middle;\n    }\n\n    .dataframe tbody tr th {\n        vertical-align: top;\n    }\n\n    .dataframe thead th {\n        text-align: right;\n    }\n</style>\n<table border=\"1\" class=\"dataframe\">\n  <thead>\n    <tr style=\"text-align: right;\">\n      <th></th>\n      <th>sig_cd</th>\n      <th>sig_nm</th>\n      <th>emd_cd</th>\n      <th>emd_nm</th>\n      <th>geometry</th>\n    </tr>\n  </thead>\n  <tbody>\n    <tr>\n      <th>0</th>\n      <td>11110</td>\n      <td>종로구</td>\n      <td>11110101</td>\n      <td>청운동</td>\n      <td>POLYGON ((953700.022 1954605.065, 953693.871 1...</td>\n    </tr>\n    <tr>\n      <th>1</th>\n      <td>11110</td>\n      <td>종로구</td>\n      <td>11110102</td>\n      <td>신교동</td>\n      <td>POLYGON ((953233.465 1953996.984, 953235.183 1...</td>\n    </tr>\n    <tr>\n      <th>2</th>\n      <td>11110</td>\n      <td>종로구</td>\n      <td>11110103</td>\n      <td>궁정동</td>\n      <td>POLYGON ((953560.228 1954257.466, 953561.190 1...</td>\n    </tr>\n    <tr>\n      <th>3</th>\n      <td>11110</td>\n      <td>종로구</td>\n      <td>11110104</td>\n      <td>효자동</td>\n      <td>POLYGON ((953519.843 1953890.785, 953518.489 1...</td>\n    </tr>\n    <tr>\n      <th>4</th>\n      <td>11110</td>\n      <td>종로구</td>\n      <td>11110105</td>\n      <td>창성동</td>\n      <td>POLYGON ((953516.123 1953734.362, 953516.526 1...</td>\n    </tr>\n  </tbody>\n</table>\n</div>"
     },
     "execution_count": 11,
     "metadata": {},
     "output_type": "execute_result"
    }
   ],
   "source": [
    "# 서울만 추출\n",
    "emd_geo_master = emd.loc[emd['EMD_CD'].str[:2] == '11']\n",
    "\n",
    "# 자치구 컬럼 생성\n",
    "emd_geo_master['sig_cd'] = emd_geo_master['EMD_CD'].str[:5]\n",
    "emd_geo_master = pd.merge(emd_geo_master, sig_master, on='sig_cd')\n",
    "\n",
    "# 컬럼명 정리\n",
    "emd_geo_master.rename(columns={'EMD_CD':'emd_cd', 'EMD_KOR_NM':'emd_nm'}, inplace=True)\n",
    "emd_geo_master = emd_geo_master.loc[:, ['sig_cd', 'sig_nm', 'emd_cd', 'emd_nm', 'geometry']]\n",
    "emd_geo_master.head()"
   ],
   "metadata": {
    "collapsed": false
   }
  },
  {
   "cell_type": "code",
   "execution_count": 13,
   "outputs": [],
   "source": [
    "emd_geo_master.to_file('master/emd-geo-master.shp', index=False, encoding='cp949')"
   ],
   "metadata": {
    "collapsed": false
   }
  }
 ],
 "metadata": {
  "kernelspec": {
   "display_name": "Python 3",
   "language": "python",
   "name": "python3"
  },
  "language_info": {
   "codemirror_mode": {
    "name": "ipython",
    "version": 2
   },
   "file_extension": ".py",
   "mimetype": "text/x-python",
   "name": "python",
   "nbconvert_exporter": "python",
   "pygments_lexer": "ipython2",
   "version": "2.7.6"
  }
 },
 "nbformat": 4,
 "nbformat_minor": 0
}
