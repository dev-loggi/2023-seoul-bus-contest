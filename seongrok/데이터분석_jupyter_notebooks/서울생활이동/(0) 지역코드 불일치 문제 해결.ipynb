{
 "cells": [
  {
   "cell_type": "markdown",
   "source": [
    "# 서울 열린데이터 광장 - 서울 생활이동 데이터의 지역코드 문제 해결하기"
   ],
   "metadata": {
    "collapsed": false
   }
  },
  {
   "cell_type": "code",
   "execution_count": 29,
   "metadata": {
    "collapsed": true
   },
   "outputs": [],
   "source": [
    "import numpy as np\n",
    "import pandas as pd\n",
    "import geopandas as gpd"
   ]
  },
  {
   "cell_type": "code",
   "execution_count": 36,
   "outputs": [
    {
     "data": {
      "text/plain": "   OBJECTID         adm_nm   adm_cd     adm_cd2    sgg sido sidonm     temp  \\\n0         0  서울특별시 종로구 사직동  1101053  1111053000  11110   11  서울특별시  종로구 사직동   \n1         1  서울특별시 종로구 삼청동  1101054  1111054000  11110   11  서울특별시  종로구 삼청동   \n2         2  서울특별시 종로구 부암동  1101055  1111055000  11110   11  서울특별시  종로구 부암동   \n3         3  서울특별시 종로구 평창동  1101056  1111056000  11110   11  서울특별시  종로구 평창동   \n4         4  서울특별시 종로구 무악동  1101057  1111057000  11110   11  서울특별시  종로구 무악동   \n\n  sggnm                                           geometry  \n0   종로구  MULTIPOLYGON (((126.97689 37.57565, 126.97703 ...  \n1   종로구  MULTIPOLYGON (((126.98269 37.59507, 126.98337 ...  \n2   종로구  MULTIPOLYGON (((126.97585 37.59656, 126.97359 ...  \n3   종로구  MULTIPOLYGON (((126.97507 37.63139, 126.97649 ...  \n4   종로구  MULTIPOLYGON (((126.96067 37.58080, 126.96281 ...  ",
      "text/html": "<div>\n<style scoped>\n    .dataframe tbody tr th:only-of-type {\n        vertical-align: middle;\n    }\n\n    .dataframe tbody tr th {\n        vertical-align: top;\n    }\n\n    .dataframe thead th {\n        text-align: right;\n    }\n</style>\n<table border=\"1\" class=\"dataframe\">\n  <thead>\n    <tr style=\"text-align: right;\">\n      <th></th>\n      <th>OBJECTID</th>\n      <th>adm_nm</th>\n      <th>adm_cd</th>\n      <th>adm_cd2</th>\n      <th>sgg</th>\n      <th>sido</th>\n      <th>sidonm</th>\n      <th>temp</th>\n      <th>sggnm</th>\n      <th>geometry</th>\n    </tr>\n  </thead>\n  <tbody>\n    <tr>\n      <th>0</th>\n      <td>0</td>\n      <td>서울특별시 종로구 사직동</td>\n      <td>1101053</td>\n      <td>1111053000</td>\n      <td>11110</td>\n      <td>11</td>\n      <td>서울특별시</td>\n      <td>종로구 사직동</td>\n      <td>종로구</td>\n      <td>MULTIPOLYGON (((126.97689 37.57565, 126.97703 ...</td>\n    </tr>\n    <tr>\n      <th>1</th>\n      <td>1</td>\n      <td>서울특별시 종로구 삼청동</td>\n      <td>1101054</td>\n      <td>1111054000</td>\n      <td>11110</td>\n      <td>11</td>\n      <td>서울특별시</td>\n      <td>종로구 삼청동</td>\n      <td>종로구</td>\n      <td>MULTIPOLYGON (((126.98269 37.59507, 126.98337 ...</td>\n    </tr>\n    <tr>\n      <th>2</th>\n      <td>2</td>\n      <td>서울특별시 종로구 부암동</td>\n      <td>1101055</td>\n      <td>1111055000</td>\n      <td>11110</td>\n      <td>11</td>\n      <td>서울특별시</td>\n      <td>종로구 부암동</td>\n      <td>종로구</td>\n      <td>MULTIPOLYGON (((126.97585 37.59656, 126.97359 ...</td>\n    </tr>\n    <tr>\n      <th>3</th>\n      <td>3</td>\n      <td>서울특별시 종로구 평창동</td>\n      <td>1101056</td>\n      <td>1111056000</td>\n      <td>11110</td>\n      <td>11</td>\n      <td>서울특별시</td>\n      <td>종로구 평창동</td>\n      <td>종로구</td>\n      <td>MULTIPOLYGON (((126.97507 37.63139, 126.97649 ...</td>\n    </tr>\n    <tr>\n      <th>4</th>\n      <td>4</td>\n      <td>서울특별시 종로구 무악동</td>\n      <td>1101057</td>\n      <td>1111057000</td>\n      <td>11110</td>\n      <td>11</td>\n      <td>서울특별시</td>\n      <td>종로구 무악동</td>\n      <td>종로구</td>\n      <td>MULTIPOLYGON (((126.96067 37.58080, 126.96281 ...</td>\n    </tr>\n  </tbody>\n</table>\n</div>"
     },
     "metadata": {},
     "output_type": "display_data"
    },
    {
     "data": {
      "text/plain": "(425, 10)"
     },
     "metadata": {},
     "output_type": "display_data"
    }
   ],
   "source": [
    "emd_geo = gpd.read_file('../../data/서울생활이동/gis-master/서울_행정동.shp', encoding='cp949')\n",
    "display(emd_geo.head())\n",
    "display(emd_geo.shape)"
   ],
   "metadata": {
    "collapsed": false
   }
  },
  {
   "cell_type": "code",
   "execution_count": 35,
   "outputs": [
    {
     "data": {
      "text/plain": "      시도    시군구 name  full name\n0  11000  11010  종로구  서울특별시 종로구\n1  11000  11020   중구   서울특별시 중구\n2  11000  11030  용산구  서울특별시 용산구\n3  11000  11040  성동구  서울특별시 성동구\n4  11000  11050  광진구  서울특별시 광진구",
      "text/html": "<div>\n<style scoped>\n    .dataframe tbody tr th:only-of-type {\n        vertical-align: middle;\n    }\n\n    .dataframe tbody tr th {\n        vertical-align: top;\n    }\n\n    .dataframe thead th {\n        text-align: right;\n    }\n</style>\n<table border=\"1\" class=\"dataframe\">\n  <thead>\n    <tr style=\"text-align: right;\">\n      <th></th>\n      <th>시도</th>\n      <th>시군구</th>\n      <th>name</th>\n      <th>full name</th>\n    </tr>\n  </thead>\n  <tbody>\n    <tr>\n      <th>0</th>\n      <td>11000</td>\n      <td>11010</td>\n      <td>종로구</td>\n      <td>서울특별시 종로구</td>\n    </tr>\n    <tr>\n      <th>1</th>\n      <td>11000</td>\n      <td>11020</td>\n      <td>중구</td>\n      <td>서울특별시 중구</td>\n    </tr>\n    <tr>\n      <th>2</th>\n      <td>11000</td>\n      <td>11030</td>\n      <td>용산구</td>\n      <td>서울특별시 용산구</td>\n    </tr>\n    <tr>\n      <th>3</th>\n      <td>11000</td>\n      <td>11040</td>\n      <td>성동구</td>\n      <td>서울특별시 성동구</td>\n    </tr>\n    <tr>\n      <th>4</th>\n      <td>11000</td>\n      <td>11050</td>\n      <td>광진구</td>\n      <td>서울특별시 광진구</td>\n    </tr>\n  </tbody>\n</table>\n</div>"
     },
     "metadata": {},
     "output_type": "display_data"
    },
    {
     "data": {
      "text/plain": "(25, 4)"
     },
     "metadata": {},
     "output_type": "display_data"
    }
   ],
   "source": [
    "sig_move = pd.read_excel('../../data/서울생활이동/gis-master/서울생활이동데이터_자치구코드_20210907.xlsx')\n",
    "sig_move = sig_move.loc[sig_move['시도'] == 11000]\n",
    "display(sig_move.head())\n",
    "display(sig_move.shape)"
   ],
   "metadata": {
    "collapsed": false
   }
  },
  {
   "cell_type": "code",
   "execution_count": 32,
   "outputs": [
    {
     "data": {
      "text/plain": "      시도    시군구      읍면동 name      full_name\n0  11000  11010  1101053  사직동  서울특별시 종로구 사직동\n1  11000  11010  1101054  삼청동  서울특별시 종로구 삼청동\n2  11000  11010  1101055  부암동  서울특별시 종로구 부암동\n3  11000  11010  1101056  평창동  서울특별시 종로구 평창동\n4  11000  11010  1101057  무악동  서울특별시 종로구 무악동",
      "text/html": "<div>\n<style scoped>\n    .dataframe tbody tr th:only-of-type {\n        vertical-align: middle;\n    }\n\n    .dataframe tbody tr th {\n        vertical-align: top;\n    }\n\n    .dataframe thead th {\n        text-align: right;\n    }\n</style>\n<table border=\"1\" class=\"dataframe\">\n  <thead>\n    <tr style=\"text-align: right;\">\n      <th></th>\n      <th>시도</th>\n      <th>시군구</th>\n      <th>읍면동</th>\n      <th>name</th>\n      <th>full_name</th>\n    </tr>\n  </thead>\n  <tbody>\n    <tr>\n      <th>0</th>\n      <td>11000</td>\n      <td>11010</td>\n      <td>1101053</td>\n      <td>사직동</td>\n      <td>서울특별시 종로구 사직동</td>\n    </tr>\n    <tr>\n      <th>1</th>\n      <td>11000</td>\n      <td>11010</td>\n      <td>1101054</td>\n      <td>삼청동</td>\n      <td>서울특별시 종로구 삼청동</td>\n    </tr>\n    <tr>\n      <th>2</th>\n      <td>11000</td>\n      <td>11010</td>\n      <td>1101055</td>\n      <td>부암동</td>\n      <td>서울특별시 종로구 부암동</td>\n    </tr>\n    <tr>\n      <th>3</th>\n      <td>11000</td>\n      <td>11010</td>\n      <td>1101056</td>\n      <td>평창동</td>\n      <td>서울특별시 종로구 평창동</td>\n    </tr>\n    <tr>\n      <th>4</th>\n      <td>11000</td>\n      <td>11010</td>\n      <td>1101057</td>\n      <td>무악동</td>\n      <td>서울특별시 종로구 무악동</td>\n    </tr>\n  </tbody>\n</table>\n</div>"
     },
     "metadata": {},
     "output_type": "display_data"
    },
    {
     "data": {
      "text/plain": "(424, 5)"
     },
     "metadata": {},
     "output_type": "display_data"
    }
   ],
   "source": [
    "emd_move = pd.read_excel('../../data/서울생활이동/gis-master/서울생활이동데이터_행정동코드_20210907.xlsx')\n",
    "emd_move = emd_move.loc[emd_move['시도'] == 11000]\n",
    "display(emd_move.head())\n",
    "display(emd_move.shape)"
   ],
   "metadata": {
    "collapsed": false
   }
  },
  {
   "cell_type": "code",
   "execution_count": 40,
   "outputs": [
    {
     "data": {
      "text/plain": "  sig_cd sig_nm                                           geometry\n0  11110    종로구  POLYGON ((956615.453 1953567.199, 956621.579 1...\n1  11140     중구  POLYGON ((957890.386 1952616.746, 957909.908 1...\n2  11170    용산구  POLYGON ((953115.761 1950834.084, 953114.206 1...\n3  11200    성동구  POLYGON ((959681.109 1952649.605, 959842.412 1...\n4  11215    광진구  POLYGON ((964825.058 1952633.250, 964875.565 1...",
      "text/html": "<div>\n<style scoped>\n    .dataframe tbody tr th:only-of-type {\n        vertical-align: middle;\n    }\n\n    .dataframe tbody tr th {\n        vertical-align: top;\n    }\n\n    .dataframe thead th {\n        text-align: right;\n    }\n</style>\n<table border=\"1\" class=\"dataframe\">\n  <thead>\n    <tr style=\"text-align: right;\">\n      <th></th>\n      <th>sig_cd</th>\n      <th>sig_nm</th>\n      <th>geometry</th>\n    </tr>\n  </thead>\n  <tbody>\n    <tr>\n      <th>0</th>\n      <td>11110</td>\n      <td>종로구</td>\n      <td>POLYGON ((956615.453 1953567.199, 956621.579 1...</td>\n    </tr>\n    <tr>\n      <th>1</th>\n      <td>11140</td>\n      <td>중구</td>\n      <td>POLYGON ((957890.386 1952616.746, 957909.908 1...</td>\n    </tr>\n    <tr>\n      <th>2</th>\n      <td>11170</td>\n      <td>용산구</td>\n      <td>POLYGON ((953115.761 1950834.084, 953114.206 1...</td>\n    </tr>\n    <tr>\n      <th>3</th>\n      <td>11200</td>\n      <td>성동구</td>\n      <td>POLYGON ((959681.109 1952649.605, 959842.412 1...</td>\n    </tr>\n    <tr>\n      <th>4</th>\n      <td>11215</td>\n      <td>광진구</td>\n      <td>POLYGON ((964825.058 1952633.250, 964875.565 1...</td>\n    </tr>\n  </tbody>\n</table>\n</div>"
     },
     "metadata": {},
     "output_type": "display_data"
    },
    {
     "data": {
      "text/plain": "(25, 3)"
     },
     "metadata": {},
     "output_type": "display_data"
    }
   ],
   "source": [
    "sig_geo_master = gpd.read_file('../../data/gis-master/sig-geo-master.shp')\n",
    "display(sig_geo_master.head())\n",
    "display(sig_geo_master.shape)"
   ],
   "metadata": {
    "collapsed": false
   }
  },
  {
   "cell_type": "code",
   "execution_count": 41,
   "outputs": [
    {
     "data": {
      "text/plain": "  sig_cd sig_nm    emd_cd emd_nm  \\\n0  11110    종로구  11110101    청운동   \n1  11110    종로구  11110102    신교동   \n2  11110    종로구  11110103    궁정동   \n3  11110    종로구  11110104    효자동   \n4  11110    종로구  11110105    창성동   \n\n                                            geometry  \n0  POLYGON ((953700.022 1954605.065, 953693.871 1...  \n1  POLYGON ((953233.465 1953996.984, 953235.183 1...  \n2  POLYGON ((953560.228 1954257.466, 953561.190 1...  \n3  POLYGON ((953519.843 1953890.785, 953518.489 1...  \n4  POLYGON ((953516.123 1953734.362, 953516.526 1...  ",
      "text/html": "<div>\n<style scoped>\n    .dataframe tbody tr th:only-of-type {\n        vertical-align: middle;\n    }\n\n    .dataframe tbody tr th {\n        vertical-align: top;\n    }\n\n    .dataframe thead th {\n        text-align: right;\n    }\n</style>\n<table border=\"1\" class=\"dataframe\">\n  <thead>\n    <tr style=\"text-align: right;\">\n      <th></th>\n      <th>sig_cd</th>\n      <th>sig_nm</th>\n      <th>emd_cd</th>\n      <th>emd_nm</th>\n      <th>geometry</th>\n    </tr>\n  </thead>\n  <tbody>\n    <tr>\n      <th>0</th>\n      <td>11110</td>\n      <td>종로구</td>\n      <td>11110101</td>\n      <td>청운동</td>\n      <td>POLYGON ((953700.022 1954605.065, 953693.871 1...</td>\n    </tr>\n    <tr>\n      <th>1</th>\n      <td>11110</td>\n      <td>종로구</td>\n      <td>11110102</td>\n      <td>신교동</td>\n      <td>POLYGON ((953233.465 1953996.984, 953235.183 1...</td>\n    </tr>\n    <tr>\n      <th>2</th>\n      <td>11110</td>\n      <td>종로구</td>\n      <td>11110103</td>\n      <td>궁정동</td>\n      <td>POLYGON ((953560.228 1954257.466, 953561.190 1...</td>\n    </tr>\n    <tr>\n      <th>3</th>\n      <td>11110</td>\n      <td>종로구</td>\n      <td>11110104</td>\n      <td>효자동</td>\n      <td>POLYGON ((953519.843 1953890.785, 953518.489 1...</td>\n    </tr>\n    <tr>\n      <th>4</th>\n      <td>11110</td>\n      <td>종로구</td>\n      <td>11110105</td>\n      <td>창성동</td>\n      <td>POLYGON ((953516.123 1953734.362, 953516.526 1...</td>\n    </tr>\n  </tbody>\n</table>\n</div>"
     },
     "metadata": {},
     "output_type": "display_data"
    },
    {
     "data": {
      "text/plain": "(467, 5)"
     },
     "metadata": {},
     "output_type": "display_data"
    }
   ],
   "source": [
    "emd_geo_master = gpd.read_file('../../data/gis-master/emd-geo-master.shp')\n",
    "display(emd_geo_master.head())\n",
    "display(emd_geo_master.shape)"
   ],
   "metadata": {
    "collapsed": false
   }
  },
  {
   "cell_type": "markdown",
   "source": [
    "# 서울 열린데이터 광장 전용 마스터 파일 만들기\n",
    "\n",
    "- 서울 열린데이터 광장의 행정구역 코드명 해석 불가\n",
    "- 어찌저찌 해결하여 아래 4개 파일 생성\n",
    "- `move-sig-master.csv`\n",
    "- `move-sig-geo-master.shp`\n",
    "- `move-emd-master.csv`\n",
    "- `move-emd-geo-master.shp`"
   ],
   "metadata": {
    "collapsed": false
   }
  },
  {
   "cell_type": "markdown",
   "source": [
    "## 1) move-sig-master.csv & move-sig-geo-master.shp"
   ],
   "metadata": {
    "collapsed": false
   }
  },
  {
   "cell_type": "code",
   "execution_count": 44,
   "outputs": [
    {
     "data": {
      "text/plain": "      시도    시군구 name  full name\n0  11000  11010  종로구  서울특별시 종로구\n1  11000  11020   중구   서울특별시 중구\n2  11000  11030  용산구  서울특별시 용산구\n3  11000  11040  성동구  서울특별시 성동구\n4  11000  11050  광진구  서울특별시 광진구",
      "text/html": "<div>\n<style scoped>\n    .dataframe tbody tr th:only-of-type {\n        vertical-align: middle;\n    }\n\n    .dataframe tbody tr th {\n        vertical-align: top;\n    }\n\n    .dataframe thead th {\n        text-align: right;\n    }\n</style>\n<table border=\"1\" class=\"dataframe\">\n  <thead>\n    <tr style=\"text-align: right;\">\n      <th></th>\n      <th>시도</th>\n      <th>시군구</th>\n      <th>name</th>\n      <th>full name</th>\n    </tr>\n  </thead>\n  <tbody>\n    <tr>\n      <th>0</th>\n      <td>11000</td>\n      <td>11010</td>\n      <td>종로구</td>\n      <td>서울특별시 종로구</td>\n    </tr>\n    <tr>\n      <th>1</th>\n      <td>11000</td>\n      <td>11020</td>\n      <td>중구</td>\n      <td>서울특별시 중구</td>\n    </tr>\n    <tr>\n      <th>2</th>\n      <td>11000</td>\n      <td>11030</td>\n      <td>용산구</td>\n      <td>서울특별시 용산구</td>\n    </tr>\n    <tr>\n      <th>3</th>\n      <td>11000</td>\n      <td>11040</td>\n      <td>성동구</td>\n      <td>서울특별시 성동구</td>\n    </tr>\n    <tr>\n      <th>4</th>\n      <td>11000</td>\n      <td>11050</td>\n      <td>광진구</td>\n      <td>서울특별시 광진구</td>\n    </tr>\n  </tbody>\n</table>\n</div>"
     },
     "execution_count": 44,
     "metadata": {},
     "output_type": "execute_result"
    }
   ],
   "source": [
    "sig_move.head()"
   ],
   "metadata": {
    "collapsed": false
   }
  },
  {
   "cell_type": "code",
   "execution_count": 51,
   "outputs": [
    {
     "data": {
      "text/plain": "   sig_cd sig_nm                                           geometry\n0   11010    종로구  POLYGON ((956615.453 1953567.199, 956621.579 1...\n1   11020     중구  POLYGON ((957890.386 1952616.746, 957909.908 1...\n2   11030    용산구  POLYGON ((953115.761 1950834.084, 953114.206 1...\n3   11040    성동구  POLYGON ((959681.109 1952649.605, 959842.412 1...\n4   11050    광진구  POLYGON ((964825.058 1952633.250, 964875.565 1...",
      "text/html": "<div>\n<style scoped>\n    .dataframe tbody tr th:only-of-type {\n        vertical-align: middle;\n    }\n\n    .dataframe tbody tr th {\n        vertical-align: top;\n    }\n\n    .dataframe thead th {\n        text-align: right;\n    }\n</style>\n<table border=\"1\" class=\"dataframe\">\n  <thead>\n    <tr style=\"text-align: right;\">\n      <th></th>\n      <th>sig_cd</th>\n      <th>sig_nm</th>\n      <th>geometry</th>\n    </tr>\n  </thead>\n  <tbody>\n    <tr>\n      <th>0</th>\n      <td>11010</td>\n      <td>종로구</td>\n      <td>POLYGON ((956615.453 1953567.199, 956621.579 1...</td>\n    </tr>\n    <tr>\n      <th>1</th>\n      <td>11020</td>\n      <td>중구</td>\n      <td>POLYGON ((957890.386 1952616.746, 957909.908 1...</td>\n    </tr>\n    <tr>\n      <th>2</th>\n      <td>11030</td>\n      <td>용산구</td>\n      <td>POLYGON ((953115.761 1950834.084, 953114.206 1...</td>\n    </tr>\n    <tr>\n      <th>3</th>\n      <td>11040</td>\n      <td>성동구</td>\n      <td>POLYGON ((959681.109 1952649.605, 959842.412 1...</td>\n    </tr>\n    <tr>\n      <th>4</th>\n      <td>11050</td>\n      <td>광진구</td>\n      <td>POLYGON ((964825.058 1952633.250, 964875.565 1...</td>\n    </tr>\n  </tbody>\n</table>\n</div>"
     },
     "execution_count": 51,
     "metadata": {},
     "output_type": "execute_result"
    }
   ],
   "source": [
    "sig = pd.merge(sig_move, sig_geo_master, left_on='name', right_on='sig_nm')\n",
    "sig = sig.loc[:, ['시군구', 'name', 'geometry']]\n",
    "sig.columns = ['sig_cd', 'sig_nm', 'geometry']\n",
    "sig.head()"
   ],
   "metadata": {
    "collapsed": false
   }
  },
  {
   "cell_type": "code",
   "execution_count": 52,
   "outputs": [],
   "source": [
    "# move-sig-master.csv\n",
    "sig.loc[:, ['sig_cd', 'sig_nm']].to_csv('move-sig-master.csv', index=False)\n",
    "\n",
    "# move-sig-geo-master.shp\n",
    "gpd.GeoDataFrame(sig, geometry='geometry').to_file('move-sig-geo-master.shp', index=False, encoding='cp949')"
   ],
   "metadata": {
    "collapsed": false
   }
  },
  {
   "cell_type": "markdown",
   "source": [
    "## 2) move-emd-master.csv & move-emd-geo-master.shp"
   ],
   "metadata": {
    "collapsed": false
   }
  },
  {
   "cell_type": "code",
   "execution_count": 55,
   "outputs": [
    {
     "data": {
      "text/plain": "   sig_cd sig_nm   emd_cd emd_nm  \\\n0   11010    종로구  1101053    사직동   \n1   11010    종로구  1101054    삼청동   \n2   11010    종로구  1101055    부암동   \n3   11010    종로구  1101056    평창동   \n4   11010    종로구  1101057    무악동   \n\n                                            geometry  \n0  MULTIPOLYGON (((126.97689 37.57565, 126.97703 ...  \n1  MULTIPOLYGON (((126.98269 37.59507, 126.98337 ...  \n2  MULTIPOLYGON (((126.97585 37.59656, 126.97359 ...  \n3  MULTIPOLYGON (((126.97507 37.63139, 126.97649 ...  \n4  MULTIPOLYGON (((126.96067 37.58080, 126.96281 ...  ",
      "text/html": "<div>\n<style scoped>\n    .dataframe tbody tr th:only-of-type {\n        vertical-align: middle;\n    }\n\n    .dataframe tbody tr th {\n        vertical-align: top;\n    }\n\n    .dataframe thead th {\n        text-align: right;\n    }\n</style>\n<table border=\"1\" class=\"dataframe\">\n  <thead>\n    <tr style=\"text-align: right;\">\n      <th></th>\n      <th>sig_cd</th>\n      <th>sig_nm</th>\n      <th>emd_cd</th>\n      <th>emd_nm</th>\n      <th>geometry</th>\n    </tr>\n  </thead>\n  <tbody>\n    <tr>\n      <th>0</th>\n      <td>11010</td>\n      <td>종로구</td>\n      <td>1101053</td>\n      <td>사직동</td>\n      <td>MULTIPOLYGON (((126.97689 37.57565, 126.97703 ...</td>\n    </tr>\n    <tr>\n      <th>1</th>\n      <td>11010</td>\n      <td>종로구</td>\n      <td>1101054</td>\n      <td>삼청동</td>\n      <td>MULTIPOLYGON (((126.98269 37.59507, 126.98337 ...</td>\n    </tr>\n    <tr>\n      <th>2</th>\n      <td>11010</td>\n      <td>종로구</td>\n      <td>1101055</td>\n      <td>부암동</td>\n      <td>MULTIPOLYGON (((126.97585 37.59656, 126.97359 ...</td>\n    </tr>\n    <tr>\n      <th>3</th>\n      <td>11010</td>\n      <td>종로구</td>\n      <td>1101056</td>\n      <td>평창동</td>\n      <td>MULTIPOLYGON (((126.97507 37.63139, 126.97649 ...</td>\n    </tr>\n    <tr>\n      <th>4</th>\n      <td>11010</td>\n      <td>종로구</td>\n      <td>1101057</td>\n      <td>무악동</td>\n      <td>MULTIPOLYGON (((126.96067 37.58080, 126.96281 ...</td>\n    </tr>\n  </tbody>\n</table>\n</div>"
     },
     "execution_count": 55,
     "metadata": {},
     "output_type": "execute_result"
    }
   ],
   "source": [
    "sig_temp = sig.loc[:, ['sig_cd', 'sig_nm']]\n",
    "emd = emd_geo.copy()\n",
    "\n",
    "emd['emd_nm'] = emd['temp'].str.split().str[1]\n",
    "emd = pd.merge(emd, sig_temp, left_on='sggnm', right_on='sig_nm', how='left')\n",
    "emd.rename(columns={'adm_cd':'emd_cd'}, inplace=True)\n",
    "emd = emd.loc[:, ['sig_cd', 'sig_nm', 'emd_cd', 'emd_nm', 'geometry']]\n",
    "emd.head()"
   ],
   "metadata": {
    "collapsed": false
   }
  },
  {
   "cell_type": "code",
   "execution_count": 61,
   "outputs": [],
   "source": [
    "# move-emd-master.csv\n",
    "emd.drop('geometry', axis=1).to_csv('move-emd-master.csv', index=False)\n",
    "\n",
    "# move-emd-geo-master.shp\n",
    "emd_geo = gpd.GeoDataFrame(emd, geometry='geometry')\n",
    "emd_geo = emd_geo.to_crs(epsg=5179)\n",
    "emd_geo.to_file('move-emd-geo-master.shp', index=False, encoding='cp949')"
   ],
   "metadata": {
    "collapsed": false
   }
  }
 ],
 "metadata": {
  "kernelspec": {
   "display_name": "Python 3",
   "language": "python",
   "name": "python3"
  },
  "language_info": {
   "codemirror_mode": {
    "name": "ipython",
    "version": 2
   },
   "file_extension": ".py",
   "mimetype": "text/x-python",
   "name": "python",
   "nbconvert_exporter": "python",
   "pygments_lexer": "ipython2",
   "version": "2.7.6"
  }
 },
 "nbformat": 4,
 "nbformat_minor": 0
}
